{
 "cells": [
  {
   "cell_type": "code",
   "execution_count": 1,
   "metadata": {
    "collapsed": false
   },
   "outputs": [
    {
     "data": {
      "text/html": [
       "<div id=\"interact-js-shim\">\n",
       "    <script charset=\"utf-8\">\n",
       "(function (IPython, $, _, MathJax) {\n",
       "    $.event.special.destroyed = {\n",
       "\tremove: function(o) {\n",
       "\t    if (o.handler) {\n",
       "\t\to.handler.apply(this, arguments)\n",
       "\t    }\n",
       "\t}\n",
       "    }\n",
       "\n",
       "    var OutputArea = IPython.version >= \"4.0.0\" ? require(\"notebook/js/outputarea\").OutputArea : IPython.OutputArea;\n",
       "\n",
       "    var redrawValue = function (container, type, val) {\n",
       "\tvar selector = $(\"<div/>\");\n",
       "\tvar oa = new OutputArea(_.extend(selector, {\n",
       "\t    selector: selector,\n",
       "\t    prompt_area: true,\n",
       "\t    events: IPython.events,\n",
       "\t    keyboard_manager: IPython.keyboard_manager\n",
       "\t})); // Hack to work with IPython 2.1.0\n",
       "\n",
       "\tswitch (type) {\n",
       "\tcase \"image/png\":\n",
       "            var _src = 'data:' + type + ';base64,' + val;\n",
       "\t    $(container).find(\"img\").attr('src', _src);\n",
       "\t    break;\n",
       "\tdefault:\n",
       "\t    var toinsert = OutputArea.append_map[type].apply(\n",
       "\t\toa, [val, {}, selector]\n",
       "\t    );\n",
       "\t    $(container).empty().append(toinsert.contents());\n",
       "\t    selector.remove();\n",
       "\t}\n",
       "\tif (type === \"text/latex\" && MathJax) {\n",
       "\t    MathJax.Hub.Queue([\"Typeset\", MathJax.Hub, toinsert.get(0)]);\n",
       "\t}\n",
       "    }\n",
       "\n",
       "\n",
       "    $(document).ready(function() {\n",
       "\tfunction initComm(evt, data) {\n",
       "\t    var comm_manager = data.kernel.comm_manager;\n",
       "        //_.extend(comm_manager.targets, require(\"widgets/js/widget\"))\n",
       "\t    comm_manager.register_target(\"Signal\", function (comm) {\n",
       "            comm.on_msg(function (msg) {\n",
       "                //Widgets.log(\"message received\", msg);\n",
       "                var val = msg.content.data.value;\n",
       "                $(\".signal-\" + comm.comm_id).each(function() {\n",
       "                var type = $(this).data(\"type\");\n",
       "                if (val[type]) {\n",
       "                    redrawValue(this, type, val[type], type);\n",
       "                }\n",
       "                });\n",
       "                delete val;\n",
       "                delete msg.content.data.value;\n",
       "            });\n",
       "\t    });\n",
       "\n",
       "\t    // coordingate with Comm and redraw Signals\n",
       "\t    // XXX: Test using Reactive here to improve performance\n",
       "\t    $([IPython.events]).on(\n",
       "\t\t'output_appended.OutputArea', function (event, type, value, md, toinsert) {\n",
       "\t\t    if (md && md.reactive) {\n",
       "                // console.log(md.comm_id);\n",
       "                toinsert.addClass(\"signal-\" + md.comm_id);\n",
       "                toinsert.data(\"type\", type);\n",
       "                // Signal back indicating the mimetype required\n",
       "                var comm_manager = IPython.notebook.kernel.comm_manager;\n",
       "                var comm = comm_manager.comms[md.comm_id];\n",
       "                comm.then(function (c) {\n",
       "                    c.send({action: \"subscribe_mime\",\n",
       "                       mime: type});\n",
       "                    toinsert.bind(\"destroyed\", function() {\n",
       "                        c.send({action: \"unsubscribe_mime\",\n",
       "                               mime: type});\n",
       "                    });\n",
       "                })\n",
       "\t\t    }\n",
       "\t    });\n",
       "\t}\n",
       "\n",
       "\ttry {\n",
       "\t    // try to initialize right away. otherwise, wait on the status_started event.\n",
       "\t    initComm(undefined, IPython.notebook);\n",
       "\t} catch (e) {\n",
       "\t    $([IPython.events]).on('kernel_created.Kernel kernel_created.Session', initComm);\n",
       "\t}\n",
       "    });\n",
       "})(IPython, jQuery, _, MathJax);\n",
       "</script>\n",
       "    <script>\n",
       "        window.interactLoadedFlag = true\n",
       "       $(\"#interact-js-shim\").bind(\"destroyed\", function () {\n",
       "           if (window.interactLoadedFlag) {\n",
       "               console.warn(\"JavaScript required by Interact will be removed if you remove this cell or run using Interact more than once.\")\n",
       "           }\n",
       "       })\n",
       "       $([IPython.events]).on(\"kernel_starting.Kernel kernel_restarting.Kernel\", function () { window.interactLoadedFlag = false })\n",
       "   </script>\n",
       "</div>"
      ]
     },
     "metadata": {},
     "output_type": "display_data"
    },
    {
     "name": "stdout",
     "output_type": "stream",
     "text": [
      "adding: /Users/rdeits/locomotion/explorations/point-cloud-signed-distance/packages/v0.5/DrakeVisualizer/src/lcmtypes to the python path\n"
     ]
    },
    {
     "name": "stderr",
     "output_type": "stream",
     "text": [
      "INFO: Recompiling stale cache file /Users/rdeits/locomotion/explorations/point-cloud-signed-distance/packages/lib/v0.5/EnhancedGJK.ji for module EnhancedGJK.\n"
     ]
    }
   ],
   "source": [
    "using RigidBodyTreeInspector\n",
    "using RigidBodyDynamics\n",
    "import RigidBodyDynamics: edge_to_parent_data\n",
    "using PyLCM\n",
    "using BotCoreLCMTypes\n",
    "import StaticArrays: SVector\n",
    "import SimpleGradientDescent: NaiveSolver\n",
    "import DataStructures: OrderedDict\n",
    "import Flash"
   ]
  },
  {
   "cell_type": "code",
   "execution_count": 23,
   "metadata": {
    "collapsed": false
   },
   "outputs": [
    {
     "name": "stderr",
     "output_type": "stream",
     "text": [
      "WARNING: replacing module Flash\n",
      "WARNING: Method definition value(CoordinateTransformations.AbstractAffineMap) in module Flash at /Users/rdeits/locomotion/explorations/point-cloud-signed-distance/packages/v0.5/Flash/src/Flash.jl:23 overwritten in module Flash at /Users/rdeits/locomotion/explorations/point-cloud-signed-distance/packages/v0.5/Flash/src/Flash.jl:23.\n",
      "WARNING: Method definition normalize!(RigidBodyDynamics.MechanismState, Any, RigidBodyDynamics.JointType) in module GradientDescent at /Users/rdeits/locomotion/explorations/point-cloud-signed-distance/packages/v0.5/Flash/src/gradientdescent.jl:19 overwritten in module GradientDescent at /Users/rdeits/locomotion/explorations/point-cloud-signed-distance/packages/v0.5/Flash/src/gradientdescent.jl:19.\n",
      "WARNING: Method definition normalize!(RigidBodyDynamics.MechanismState, Any, RigidBodyDynamics.QuaternionFloating) in module GradientDescent at /Users/rdeits/locomotion/explorations/point-cloud-signed-distance/packages/v0.5/Flash/src/gradientdescent.jl:21 overwritten in module GradientDescent at /Users/rdeits/locomotion/explorations/point-cloud-signed-distance/packages/v0.5/Flash/src/gradientdescent.jl:21.\n",
      "WARNING: Method definition normalize!(RigidBodyDynamics.MechanismState, Any) in module GradientDescent at /Users/rdeits/locomotion/explorations/point-cloud-signed-distance/packages/v0.5/Flash/src/gradientdescent.jl:25 overwritten in module GradientDescent at /Users/rdeits/locomotion/explorations/point-cloud-signed-distance/packages/v0.5/Flash/src/gradientdescent.jl:25.\n",
      "WARNING: Method definition normalize!(RigidBodyDynamics.MechanismState) in module GradientDescent at /Users/rdeits/locomotion/explorations/point-cloud-signed-distance/packages/v0.5/Flash/src/gradientdescent.jl:26 overwritten in module GradientDescent at /Users/rdeits/locomotion/explorations/point-cloud-signed-distance/packages/v0.5/Flash/src/gradientdescent.jl:26.\n"
     ]
    }
   ],
   "source": [
    "reload(\"Flash\")"
   ]
  },
  {
   "cell_type": "code",
   "execution_count": 24,
   "metadata": {
    "collapsed": false
   },
   "outputs": [
    {
     "data": {
      "text/plain": [
       "Manipulator with 8 links and 7 surfaces"
      ]
     },
     "execution_count": 24,
     "metadata": {},
     "output_type": "execute_result"
    }
   ],
   "source": [
    "urdf = \"$(ENV[\"HOME\"])/locomotion/explorations/point-cloud-signed-distance/examples/data/IRB140/urdf/irb_140_convhull.urdf\"\n",
    "package_path = [\"$(ENV[\"HOME\"])/locomotion/drake-distro/drake/examples\"]\n",
    "model = Flash.Models.load_urdf(urdf; package_path=package_path)"
   ]
  },
  {
   "cell_type": "code",
   "execution_count": 25,
   "metadata": {
    "collapsed": false
   },
   "outputs": [
    {
     "name": "stderr",
     "output_type": "stream",
     "text": [
      "WARNING: Method definition table() in module Main at In[9]:3 overwritten at In[25]:3.\n"
     ]
    },
    {
     "data": {
      "text/plain": [
       "table (generic function with 1 method)"
      ]
     },
     "execution_count": 25,
     "metadata": {},
     "output_type": "execute_result"
    }
   ],
   "source": [
    "function table()\n",
    "\n",
    "    mechanism = Mechanism(RigidBody{Float64}(\"world\"))\n",
    "    parent = root_body(mechanism)\n",
    "    joint = Joint(\"joint1\", QuaternionFloating{Float64}())\n",
    "    joint_to_parent = Transform3D(Float64, joint.frameBefore, parent.frame)\n",
    "    body = RigidBody(rand(SpatialInertia{Float64}, CartesianFrame3D(\"table_body\")))\n",
    "    body_to_joint = Transform3D(Float64, body.frame, joint.frameAfter)\n",
    "    attach!(mechanism, parent, joint, joint_to_parent, body, body_to_joint)\n",
    "    \n",
    "    width = 0.25\n",
    "    thickness = 0.05\n",
    "    surface_points = Vector{SVector{3, Float64}}()\n",
    "    for z in [-thickness, thickness]\n",
    "        for x in [-width, width]\n",
    "            for y in [-width, width]\n",
    "                push!(surface_points, SVector(x, y, z))\n",
    "#                 push!(surface_points, Point3D(body.frame, SVector(x, y, z)))\n",
    "            end\n",
    "        end\n",
    "    end\n",
    "    geometry = SVector{length(surface_points)}(surface_points)\n",
    "    surfaces = Flash.BodyGeometry[Flash.ConvexGeometry(geometry, body.frame)]\n",
    "    Flash.Manipulator(mechanism, surfaces)\n",
    "end\n",
    "    "
   ]
  },
  {
   "cell_type": "code",
   "execution_count": 26,
   "metadata": {
    "collapsed": false
   },
   "outputs": [
    {
     "data": {
      "text/plain": [
       "Manipulator with 10 links and 9 surfaces"
      ]
     },
     "execution_count": 26,
     "metadata": {},
     "output_type": "execute_result"
    }
   ],
   "source": [
    "model = Flash.Models.load_urdf(urdf; package_path=package_path)\n",
    "change_joint_type!(model.mechanism, \n",
    "    edge_to_parent_data(model.mechanism.toposortedTree[2]), QuaternionFloating{Float64}())\n",
    "\n",
    "Flash.Models.merge!(model, Flash.Models.squishable())\n",
    "Flash.Models.merge!(model, table())"
   ]
  },
  {
   "cell_type": "code",
   "execution_count": 27,
   "metadata": {
    "collapsed": false
   },
   "outputs": [
    {
     "data": {
      "text/plain": [
       "Joint \"joint1\": Quaternion floating joint"
      ]
     },
     "execution_count": 27,
     "metadata": {},
     "output_type": "execute_result"
    }
   ],
   "source": [
    "irb_floating_base = edge_to_parent_data(model.mechanism.toposortedTree[findfirst(\n",
    "    v -> name(v.vertexData.frame) == \"base_link\", \n",
    "    model.mechanism.toposortedTree)])\n",
    "\n",
    "squishable_floating_base = edge_to_parent_data(model.mechanism.toposortedTree[findfirst(\n",
    "    v -> name(v.vertexData.frame) == \"squishable_body\", \n",
    "    model.mechanism.toposortedTree)])\n",
    "\n",
    "table_floating_base = edge_to_parent_data(model.mechanism.toposortedTree[findfirst(\n",
    "    v -> name(v.vertexData.frame) == \"table_body\", \n",
    "    model.mechanism.toposortedTree)])"
   ]
  },
  {
   "cell_type": "code",
   "execution_count": 28,
   "metadata": {
    "collapsed": false
   },
   "outputs": [
    {
     "data": {
      "text/plain": [
       "DrakeVisualizer.Visualizer{Int64}(DataStructures.OrderedDict(1=>DrakeVisualizer.GeometryData[DrakeVisualizer.GeometryData{CoordinateTransformations.IdentityTransformation,GeometryTypes.HomogenousMesh{FixedSizeArrays.Point{3,Float64},GeometryTypes.Face{3,Int64,0},Void,Void,Void,Void,Void}}(HomogenousMesh(\n",
       "    vertices: 4494xFixedSizeArrays.Point{3,Float64},     faces: 8912xGeometryTypes.Face{3,Int64,0}, )\n",
       ",CoordinateTransformations.IdentityTransformation(),RGBA{Float64}(1.0,0.0,0.0,0.5))]),1,PyLCM.LCM(PyObject <LCM object at 0x323009e70>))"
      ]
     },
     "execution_count": 28,
     "metadata": {},
     "output_type": "execute_result"
    }
   ],
   "source": [
    "state = Flash.ManipulatorState(model);\n",
    "configuration(state.mechanism_state, squishable_floating_base)[5:7] .= [0.55, 0.45, 0.8]\n",
    "configuration(state.mechanism_state, irb_floating_base)[5:7] .= [0., 0, .75]\n",
    "configuration(state.mechanism_state, table_floating_base)[5:7] .= [0.4, 0, 0.6]\n",
    "\n",
    "# state.mechanism_state.q[end-2:end] = [0.5, 0, 0.25]\n",
    "setdirty!(state.mechanism_state)\n",
    "skin = Flash.skin(state);\n",
    "Visualizer(DrakeVisualizer.contour_mesh(skin, [-.5, -.5, 0.5], [1., .5, 2], 0.01, 0.05))"
   ]
  },
  {
   "cell_type": "code",
   "execution_count": 29,
   "metadata": {
    "collapsed": false
   },
   "outputs": [],
   "source": [
    "Flash.draw(state);"
   ]
  },
  {
   "cell_type": "code",
   "execution_count": 30,
   "metadata": {
    "collapsed": false
   },
   "outputs": [
    {
     "data": {
      "text/plain": [
       "PyLCM.LCM(PyObject <LCM object at 0x323009f90>)"
      ]
     },
     "execution_count": 30,
     "metadata": {},
     "output_type": "execute_result"
    }
   ],
   "source": [
    "lc = LCM()"
   ]
  },
  {
   "cell_type": "code",
   "execution_count": 31,
   "metadata": {
    "collapsed": false
   },
   "outputs": [],
   "source": [
    "# log = PyLCM.pylcm[:EventLog](\"/home/rdeits/Desktop/squishable/squishable_squish_out.lcm\");\n",
    "log = PyLCM.pylcm[:EventLog](\"../squishable/squishable_squish_out.lcm\");"
   ]
  },
  {
   "cell_type": "code",
   "execution_count": 47,
   "metadata": {
    "collapsed": false
   },
   "outputs": [
    {
     "name": "stderr",
     "output_type": "stream",
     "text": [
      "WARNING: Method definition extract_points(Any) in module Main at In[44]:1 overwritten at In[47]:1.\n"
     ]
    },
    {
     "data": {
      "text/plain": [
       "extract_points (generic function with 1 method)"
      ]
     },
     "execution_count": 47,
     "metadata": {},
     "output_type": "execute_result"
    }
   ],
   "source": [
    "extract_points(msg) = map(SVector{3, Float64}, msg[:points])"
   ]
  },
  {
   "cell_type": "code",
   "execution_count": 66,
   "metadata": {
    "collapsed": false
   },
   "outputs": [
    {
     "name": "stderr",
     "output_type": "stream",
     "text": [
      "WARNING: Method definition gradient_descent!(Any, Any, Any) in module Main at In[61]:2 overwritten at In[66]:2.\n"
     ]
    },
    {
     "data": {
      "text/plain": [
       "gradient_descent! (generic function with 1 method)"
      ]
     },
     "execution_count": 66,
     "metadata": {},
     "output_type": "execute_result"
    }
   ],
   "source": [
    "function gradient_descent!(state, model, sensed_points)\n",
    "    solver = NaiveSolver(Flash.num_states(model); rate=0.5, max_step=0.1, iteration_limit=1)\n",
    "        \n",
    "    function callback{T}(x::AbstractVector{T}, c)\n",
    "        x_value = Flash.value.(x)\n",
    "        current_state = Flash.ManipulatorState(model)\n",
    "        Flash.GradientDescent.unflatten!(current_state, x_value)\n",
    "        Flash.draw(current_state, false)\n",
    "#             skin = Flash.skin(state);\n",
    "#             Visualizer(DrakeVisualizer.contour_mesh(skin, [-.5, -.5, 0.5], [1., .5, 2], 0.01, 0.05))\n",
    "    end\n",
    "\n",
    "    Flash.draw(state, false)\n",
    "    x_estimated = Flash.flatten(state)\n",
    "    x_star = Flash.Tracking.estimate_state(model, sensed_points, x_estimated; callback=callback, solver=solver)\n",
    "\n",
    "    Flash.GradientDescent.unflatten!(state, x_star)\n",
    "#         skin = Flash.skin(state);\n",
    "#         Visualizer(DrakeVisualizer.contour_mesh(skin, [-0.5, -.5, 0.4], [1., .5, 2], 0.05, 0.05))\n",
    "end"
   ]
  },
  {
   "cell_type": "code",
   "execution_count": 68,
   "metadata": {
    "collapsed": false
   },
   "outputs": [
    {
     "ename": "LoadError",
     "evalue": "LoadError: InterruptException:\nwhile loading In[68], in expression starting on line 2",
     "output_type": "error",
     "traceback": [
      "LoadError: InterruptException:\nwhile loading In[68], in expression starting on line 2",
      "",
      " in macro expansion at ./reduce.jl:104 [inlined]",
      " in macro expansion at ./simdloop.jl:73 [inlined]",
      " in mapreduce_impl(::Flash.GradientDescent.##3#4{Flash.##19#21{Array{Function,1}}}, ::Base.#+, ::Array{StaticArrays.SVector{3,Float64},1}, ::Int64, ::Int64, ::Int64) at ./reduce.jl:102",
      " in _mapreduce(::Flash.GradientDescent.##3#4{Flash.##19#21{Array{Function,1}}}, ::Base.#+, ::Base.LinearFast, ::Array{StaticArrays.SVector{3,Float64},1}) at ./reduce.jl:162",
      " in cost(::Flash.ManipulatorState{Float64,ForwardDiff.Dual{9,Float64},ForwardDiff.Dual{9,Float64}}, ::Array{StaticArrays.SVector{3,Float64},1}, ::Int64) at /Users/rdeits/locomotion/explorations/point-cloud-signed-distance/packages/v0.5/Flash/src/gradientdescent.jl:32",
      " in (::Flash.GradientDescent.CostFunctor{Float64,StaticArrays.SVector{3,Float64}})(::StaticArrays.MVector{63,ForwardDiff.Dual{9,Float64}}) at /Users/rdeits/locomotion/explorations/point-cloud-signed-distance/packages/v0.5/Flash/src/gradientdescent.jl:56",
      " in wrapped_cost at /Users/rdeits/locomotion/explorations/point-cloud-signed-distance/packages/v0.5/Flash/src/tracking.jl:18 [inlined]",
      " in chunk_mode_gradient!(::StaticArrays.MVector{63,Float64}, ::Flash.Tracking.#wrapped_cost#5{#callback#43{Flash.Manipulator{Float64}},Array{StaticArrays.SVector{3,Float64},1},Flash.GradientDescent.CostFunctor{Float64,StaticArrays.SVector{3,Float64}}}, ::StaticArrays.MVector{63,Float64}, ::ForwardDiff.GradientConfig{9,Float64,StaticArrays.MVector{63,ForwardDiff.Dual{9,Float64}}}) at /Users/rdeits/locomotion/explorations/point-cloud-signed-distance/packages/v0.5/ForwardDiff/src/gradient.jl:96",
      " in gradient!(::StaticArrays.MVector{63,Float64}, ::Flash.Tracking.#wrapped_cost#5{#callback#43{Flash.Manipulator{Float64}},Array{StaticArrays.SVector{3,Float64},1},Flash.GradientDescent.CostFunctor{Float64,StaticArrays.SVector{3,Float64}}}, ::StaticArrays.MVector{63,Float64}, ::ForwardDiff.GradientConfig{9,Float64,StaticArrays.MVector{63,ForwardDiff.Dual{9,Float64}}}) at /Users/rdeits/locomotion/explorations/point-cloud-signed-distance/packages/v0.5/ForwardDiff/src/gradient.jl:17",
      " in eval_grad_f(::SimpleGradientDescent.DifferentiableFunction{Flash.Tracking.#wrapped_cost#5{#callback#43{Flash.Manipulator{Float64}},Array{StaticArrays.SVector{3,Float64},1},Flash.GradientDescent.CostFunctor{Float64,StaticArrays.SVector{3,Float64}}},SimpleGradientDescent.##1#2{Flash.Tracking.#wrapped_cost#5{#callback#43{Flash.Manipulator{Float64}},Array{StaticArrays.SVector{3,Float64},1},Flash.GradientDescent.CostFunctor{Float64,StaticArrays.SVector{3,Float64}}}}}, ::StaticArrays.MVector{63,Float64}, ::StaticArrays.MVector{63,Float64}) at /Users/rdeits/locomotion/explorations/point-cloud-signed-distance/packages/v0.5/SimpleGradientDescent/src/differentiablefunction.jl:15",
      " in optimize!(::SimpleGradientDescent.NaiveModel{63,Float64}) at /Users/rdeits/locomotion/explorations/point-cloud-signed-distance/packages/v0.5/SimpleGradientDescent/src/solver.jl:64",
      " in #estimate_state#1(::#callback#43{Flash.Manipulator{Float64}}, ::SimpleGradientDescent.NaiveSolver{63,Float64}, ::Function, ::Flash.Manipulator{Float64}, ::Array{StaticArrays.SVector{3,Float64},1}, ::Array{Float64,1}) at /Users/rdeits/locomotion/explorations/point-cloud-signed-distance/packages/v0.5/Flash/src/tracking.jl:25",
      " in (::Flash.Tracking.#kw##estimate_state)(::Array{Any,1}, ::Flash.Tracking.#estimate_state, ::Flash.Manipulator{Float64}, ::Array{StaticArrays.SVector{3,Float64},1}, ::Array{Float64,1}) at ./<missing>:0",
      " in gradient_descent!(::Flash.ManipulatorState{Float64,Float64,Float64}, ::Flash.Manipulator{Float64}, ::Array{StaticArrays.SVector{3,Float64},1}) at ./In[66]:15",
      " in macro expansion; at ./In[68]:9 [inlined]",
      " in anonymous at ./<missing>:?"
     ]
    }
   ],
   "source": [
    "msg = PyNULL()\n",
    "for event in log\n",
    "    if event[:channel] == \"KINECT_POINTS_REDUCED\"\n",
    "        msg = bot_core[:pointcloud_t][:decode](event[\"data\"])\n",
    "        publish(lc, \"DRAKE_POINTCLOUD_kinect\", msg)\n",
    "        sensed_points = map(SVector{3, Float64}, msg[:points][1:200:end])\n",
    "#         sensed_points = extract_points(msg)[1:200:end]\n",
    "#         Flash.DepthSensors.draw_points(sensed_points)\n",
    "        gradient_descent!(state, model, sensed_points)\n",
    "    end\n",
    "end\n",
    "# Profile.clear()\n",
    "# @profile test_gradient_descent(model, state, sensed_points, 1)\n",
    "# ProfileView.view()"
   ]
  },
  {
   "cell_type": "code",
   "execution_count": null,
   "metadata": {
    "collapsed": true
   },
   "outputs": [],
   "source": []
  }
 ],
 "metadata": {
  "kernelspec": {
   "display_name": "Julia 0.5.0",
   "language": "julia",
   "name": "julia-0.5"
  },
  "language_info": {
   "file_extension": ".jl",
   "mimetype": "application/julia",
   "name": "julia",
   "version": "0.5.0"
  }
 },
 "nbformat": 4,
 "nbformat_minor": 1
}
