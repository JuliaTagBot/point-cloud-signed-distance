{
 "cells": [
  {
   "cell_type": "code",
   "execution_count": 39,
   "metadata": {
    "collapsed": false
   },
   "outputs": [],
   "source": [
    "using RigidBodyTreeInspector\n",
    "using RigidBodyDynamics\n",
    "using PyLCM\n",
    "using BotCoreLCMTypes"
   ]
  },
  {
   "cell_type": "code",
   "execution_count": 40,
   "metadata": {
    "collapsed": false
   },
   "outputs": [],
   "source": [
    "import Flash"
   ]
  },
  {
   "cell_type": "code",
   "execution_count": 41,
   "metadata": {
    "collapsed": false
   },
   "outputs": [
    {
     "data": {
      "text/plain": [
       "Manipulator with 8 links and 7 surfaces"
      ]
     },
     "execution_count": 41,
     "metadata": {},
     "output_type": "execute_result"
    }
   ],
   "source": [
    "urdf = \"$(ENV[\"HOME\"])/locomotion/explorations/point-cloud-signed-distance/examples/data/IRB140/urdf/irb_140_convhull.urdf\"\n",
    "package_path = [\"$(ENV[\"HOME\"])/locomotion/drake-distro/drake/examples\"]\n",
    "model = Flash.Models.load_urdf(urdf; package_path=package_path)"
   ]
  },
  {
   "cell_type": "code",
   "execution_count": 42,
   "metadata": {
    "collapsed": false
   },
   "outputs": [
    {
     "data": {
      "text/plain": [
       "Manipulator with 2 links and 1 surfaces"
      ]
     },
     "execution_count": 42,
     "metadata": {},
     "output_type": "execute_result"
    }
   ],
   "source": [
    "squishable = Flash.Models.squishable()"
   ]
  },
  {
   "cell_type": "code",
   "execution_count": 43,
   "metadata": {
    "collapsed": false
   },
   "outputs": [
    {
     "data": {
      "text/plain": [
       "Manipulator with 9 links and 8 surfaces"
      ]
     },
     "execution_count": 43,
     "metadata": {},
     "output_type": "execute_result"
    }
   ],
   "source": [
    "Flash.Models.merge!(model, squishable)"
   ]
  },
  {
   "cell_type": "code",
   "execution_count": 47,
   "metadata": {
    "collapsed": false
   },
   "outputs": [
    {
     "data": {
      "text/plain": [
       "DrakeVisualizer.Visualizer(DrakeVisualizer.Robot(DrakeVisualizer.Link[DrakeVisualizer.Link(DrakeVisualizer.GeometryData[DrakeVisualizer.GeometryData{CoordinateTransformations.IdentityTransformation,GeometryTypes.HomogenousMesh{FixedSizeArrays.Point{3,Float64},GeometryTypes.Face{3,Int64,0},Void,Void,Void,Void,Void}}(HomogenousMesh(\n",
       "    vertices: 3544xFixedSizeArrays.Point{3,Float64},     faces: 7080xGeometryTypes.Face{3,Int64,0}, )\n",
       ",CoordinateTransformations.IdentityTransformation(),RGBA{Float64}(1.0,0.0,0.0,0.5))],\"link\")]),1,PyLCM.LCM(PyObject <LCM object at 0x320c6b780>))"
      ]
     },
     "execution_count": 47,
     "metadata": {},
     "output_type": "execute_result"
    }
   ],
   "source": [
    "state = Flash.ManipulatorState(model);\n",
    "state.mechanism_state.q[end-2:end] = [0.5, 0, 0.25]\n",
    "setdirty!(state.mechanism_state)\n",
    "skin = Flash.skin(state);\n",
    "Visualizer(DrakeVisualizer.contour_mesh(skin, [-.5, -.5, -.25], [1., .5, 1], 0.01, 0.05))"
   ]
  },
  {
   "cell_type": "code",
   "execution_count": 29,
   "metadata": {
    "collapsed": false
   },
   "outputs": [
    {
     "data": {
      "text/plain": [
       "Vertex: world (root)\n",
       "  Vertex: base_link, Edge: base_link_to_world\n",
       "    Vertex: link_1, Edge: joint1\n",
       "      Vertex: link_2, Edge: joint2\n",
       "        Vertex: link_3, Edge: joint3\n",
       "          Vertex: link_4, Edge: joint4\n",
       "            Vertex: link_5, Edge: joint5\n",
       "              Vertex: link_6, Edge: joint6"
      ]
     },
     "execution_count": 29,
     "metadata": {},
     "output_type": "execute_result"
    }
   ],
   "source": [
    "mechanism = RigidBodyDynamics.parse_urdf(Float64, urdf)"
   ]
  },
  {
   "cell_type": "code",
   "execution_count": 30,
   "metadata": {
    "collapsed": false
   },
   "outputs": [
    {
     "data": {
      "text/plain": [
       "Vertex: world (root)\n",
       "  Vertex: base_link, Edge: base_link_to_world\n",
       "    Vertex: link_1, Edge: joint1\n",
       "      Vertex: link_2, Edge: joint2\n",
       "        Vertex: link_3, Edge: joint3\n",
       "          Vertex: link_4, Edge: joint4\n",
       "            Vertex: link_5, Edge: joint5\n",
       "              Vertex: link_6, Edge: joint6"
      ]
     },
     "execution_count": 30,
     "metadata": {},
     "output_type": "execute_result"
    }
   ],
   "source": [
    "change_joint_type!(mechanism, mechanism.toposortedTree[2].edgeToParentData, QuaternionFloating{Float64}())"
   ]
  },
  {
   "cell_type": "code",
   "execution_count": null,
   "metadata": {
    "collapsed": true
   },
   "outputs": [],
   "source": [
    "function table()\n",
    "    geometries = OrderedDict{RigidBody{Float64}, BodyGeometry{Float64}}()\n",
    "\n",
    "    mechanism = Mechanism(RigidBody{Float64}(\"world\"))\n",
    "    parent = root_body(mechanism)\n",
    "    joint = Joint(\"joint1\", QuaternionFloating{Float64}())\n",
    "    joint_to_parent = Transform3D(Float64, joint.frameBefore, parent.frame)\n",
    "    body = RigidBody(rand(SpatialInertia{Float64}, CartesianFrame3D(\"body1\")))\n",
    "    body_to_joint = Transform3D(Float64, body.frame, joint.frameAfter)\n",
    "    attach!(mechanism, parent, joint, joint_to_parent, body, body_to_joint)\n",
    "    \n",
    "    width = 0.5\n",
    "    thickness = 0.05\n",
    "    surface_points = Vector{Point3D{SVector{3, Float64}}}()\n",
    "    for z in [-thickness, thickness]\n",
    "        for x in [-width, width]\n",
    "            for y in [-width, width]\n",
    "                push!(surface_points, )"
   ]
  },
  {
   "cell_type": "code",
   "execution_count": 12,
   "metadata": {
    "collapsed": false
   },
   "outputs": [
    {
     "data": {
      "text/plain": [
       "PyLCM.LCM(PyObject <LCM object at 0x320d777b0>)"
      ]
     },
     "execution_count": 12,
     "metadata": {},
     "output_type": "execute_result"
    }
   ],
   "source": [
    "lc = LCM()"
   ]
  },
  {
   "cell_type": "code",
   "execution_count": null,
   "metadata": {
    "collapsed": false
   },
   "outputs": [],
   "source": [
    "log = PyLCM.pylcm[:EventLog](\"../squishable/squishable_squish_out.lcm\");"
   ]
  },
  {
   "cell_type": "code",
   "execution_count": 38,
   "metadata": {
    "collapsed": false
   },
   "outputs": [
    {
     "name": "stdout",
     "output_type": "stream",
     "text": [
      "event = PyObject <lcm.Event object at 0x3240ab5d0>\n"
     ]
    }
   ],
   "source": [
    "for event in log\n",
    "    if event[:channel] == \"KINECT_POINTS_REDUCED\"\n",
    "        @show event\n",
    "        msg = bot_core[:pointcloud_t][:decode](event[\"data\"])\n",
    "        publish(lc, \"DRAKE_POINTCLOUD_kinect\", msg)\n",
    "        break\n",
    "    end\n",
    "end\n",
    "\n"
   ]
  },
  {
   "cell_type": "code",
   "execution_count": null,
   "metadata": {
    "collapsed": true
   },
   "outputs": [],
   "source": []
  }
 ],
 "metadata": {
  "kernelspec": {
   "display_name": "Julia 0.5.0",
   "language": "julia",
   "name": "julia-0.5"
  },
  "language_info": {
   "file_extension": ".jl",
   "mimetype": "application/julia",
   "name": "julia",
   "version": "0.5.0"
  },
  "widgets": {
   "state": {
    "0af0eb71-2d48-4a6d-8f19-07e95d03e8c7": {
     "views": [
      {
       "cell_index": 6
      }
     ]
    },
    "1ed9b978-2ec6-4392-b010-2c36d60f6659": {
     "views": [
      {
       "cell_index": 6
      }
     ]
    },
    "34eacfb4-4420-42d4-9a67-ae775f8de642": {
     "views": [
      {
       "cell_index": 6
      }
     ]
    },
    "394e0694-52c0-4304-b1fd-2f64a9dea5bf": {
     "views": [
      {
       "cell_index": 6
      }
     ]
    },
    "41ebb053-7ae1-493c-a12b-bd7b67c0f762": {
     "views": [
      {
       "cell_index": 6
      }
     ]
    },
    "4651d8c9-7c08-4f8f-ac3b-f040b10b2249": {
     "views": [
      {
       "cell_index": 6
      }
     ]
    },
    "46e9ac13-fd8e-464f-ae32-5e37519b46e6": {
     "views": [
      {
       "cell_index": 6
      }
     ]
    },
    "535c0de4-0cf7-465a-969c-b35a62273474": {
     "views": [
      {
       "cell_index": 6
      }
     ]
    },
    "69a52875-ac02-4ffd-9bba-a8eca08e4042": {
     "views": [
      {
       "cell_index": 6
      }
     ]
    },
    "90792106-49f1-416b-bfa8-9a9c34ed1a59": {
     "views": [
      {
       "cell_index": 6
      }
     ]
    },
    "9a593ebe-4d4a-4072-af03-fbd761270b68": {
     "views": [
      {
       "cell_index": 6
      }
     ]
    },
    "acbe972e-b8fc-4280-9b31-4f2194b64322": {
     "views": [
      {
       "cell_index": 6
      }
     ]
    },
    "b4d76630-2fac-454b-ac6c-8bbbfe92b06a": {
     "views": [
      {
       "cell_index": 6
      }
     ]
    },
    "bce638d0-2076-4d07-8b2c-a887a3d2a708": {
     "views": [
      {
       "cell_index": 6
      }
     ]
    },
    "bce7cee1-a504-4a22-bace-8bb69019a072": {
     "views": [
      {
       "cell_index": 6
      }
     ]
    },
    "f295f07a-65c1-41bf-aa70-94379822dc8d": {
     "views": [
      {
       "cell_index": 6
      }
     ]
    },
    "f3a9fe99-4f44-400b-a570-4cf47ef257f4": {
     "views": [
      {
       "cell_index": 6
      }
     ]
    },
    "f5534173-f4ed-4a03-9fca-cc0d660195bc": {
     "views": [
      {
       "cell_index": 6
      }
     ]
    }
   },
   "version": "1.2.0"
  }
 },
 "nbformat": 4,
 "nbformat_minor": 1
}
