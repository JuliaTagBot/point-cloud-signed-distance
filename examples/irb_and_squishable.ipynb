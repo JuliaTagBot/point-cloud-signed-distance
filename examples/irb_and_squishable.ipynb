{
 "cells": [
  {
   "cell_type": "code",
   "execution_count": 1,
   "metadata": {
    "collapsed": false
   },
   "outputs": [
    {
     "data": {
      "text/html": [
       "<div id=\"interact-js-shim\">\n",
       "    <script charset=\"utf-8\">\n",
       "(function (IPython, $, _, MathJax) {\n",
       "    $.event.special.destroyed = {\n",
       "\tremove: function(o) {\n",
       "\t    if (o.handler) {\n",
       "\t\to.handler.apply(this, arguments)\n",
       "\t    }\n",
       "\t}\n",
       "    }\n",
       "\n",
       "    var OutputArea = IPython.version >= \"4.0.0\" ? require(\"notebook/js/outputarea\").OutputArea : IPython.OutputArea;\n",
       "\n",
       "    var redrawValue = function (container, type, val) {\n",
       "\tvar selector = $(\"<div/>\");\n",
       "\tvar oa = new OutputArea(_.extend(selector, {\n",
       "\t    selector: selector,\n",
       "\t    prompt_area: true,\n",
       "\t    events: IPython.events,\n",
       "\t    keyboard_manager: IPython.keyboard_manager\n",
       "\t})); // Hack to work with IPython 2.1.0\n",
       "\n",
       "\tswitch (type) {\n",
       "\tcase \"image/png\":\n",
       "            var _src = 'data:' + type + ';base64,' + val;\n",
       "\t    $(container).find(\"img\").attr('src', _src);\n",
       "\t    break;\n",
       "\tdefault:\n",
       "\t    var toinsert = OutputArea.append_map[type].apply(\n",
       "\t\toa, [val, {}, selector]\n",
       "\t    );\n",
       "\t    $(container).empty().append(toinsert.contents());\n",
       "\t    selector.remove();\n",
       "\t}\n",
       "\tif (type === \"text/latex\" && MathJax) {\n",
       "\t    MathJax.Hub.Queue([\"Typeset\", MathJax.Hub, toinsert.get(0)]);\n",
       "\t}\n",
       "    }\n",
       "\n",
       "\n",
       "    $(document).ready(function() {\n",
       "\tfunction initComm(evt, data) {\n",
       "\t    var comm_manager = data.kernel.comm_manager;\n",
       "        //_.extend(comm_manager.targets, require(\"widgets/js/widget\"))\n",
       "\t    comm_manager.register_target(\"Signal\", function (comm) {\n",
       "            comm.on_msg(function (msg) {\n",
       "                //Widgets.log(\"message received\", msg);\n",
       "                var val = msg.content.data.value;\n",
       "                $(\".signal-\" + comm.comm_id).each(function() {\n",
       "                var type = $(this).data(\"type\");\n",
       "                if (val[type]) {\n",
       "                    redrawValue(this, type, val[type], type);\n",
       "                }\n",
       "                });\n",
       "                delete val;\n",
       "                delete msg.content.data.value;\n",
       "            });\n",
       "\t    });\n",
       "\n",
       "\t    // coordingate with Comm and redraw Signals\n",
       "\t    // XXX: Test using Reactive here to improve performance\n",
       "\t    $([IPython.events]).on(\n",
       "\t\t'output_appended.OutputArea', function (event, type, value, md, toinsert) {\n",
       "\t\t    if (md && md.reactive) {\n",
       "                // console.log(md.comm_id);\n",
       "                toinsert.addClass(\"signal-\" + md.comm_id);\n",
       "                toinsert.data(\"type\", type);\n",
       "                // Signal back indicating the mimetype required\n",
       "                var comm_manager = IPython.notebook.kernel.comm_manager;\n",
       "                var comm = comm_manager.comms[md.comm_id];\n",
       "                comm.then(function (c) {\n",
       "                    c.send({action: \"subscribe_mime\",\n",
       "                       mime: type});\n",
       "                    toinsert.bind(\"destroyed\", function() {\n",
       "                        c.send({action: \"unsubscribe_mime\",\n",
       "                               mime: type});\n",
       "                    });\n",
       "                })\n",
       "\t\t    }\n",
       "\t    });\n",
       "\t}\n",
       "\n",
       "\ttry {\n",
       "\t    // try to initialize right away. otherwise, wait on the status_started event.\n",
       "\t    initComm(undefined, IPython.notebook);\n",
       "\t} catch (e) {\n",
       "\t    $([IPython.events]).on('kernel_created.Kernel kernel_created.Session', initComm);\n",
       "\t}\n",
       "    });\n",
       "})(IPython, jQuery, _, MathJax);\n",
       "</script>\n",
       "    <script>\n",
       "        window.interactLoadedFlag = true\n",
       "       $(\"#interact-js-shim\").bind(\"destroyed\", function () {\n",
       "           if (window.interactLoadedFlag) {\n",
       "               console.warn(\"JavaScript required by Interact will be removed if you remove this cell or run using Interact more than once.\")\n",
       "           }\n",
       "       })\n",
       "       $([IPython.events]).on(\"kernel_starting.Kernel kernel_restarting.Kernel\", function () { window.interactLoadedFlag = false })\n",
       "   </script>\n",
       "</div>"
      ]
     },
     "metadata": {},
     "output_type": "display_data"
    },
    {
     "name": "stdout",
     "output_type": "stream",
     "text": [
      "adding: /home/rdeits/locomotion/explorations/point-cloud-signed-distance/packages/v0.5/DrakeVisualizer/src/lcmtypes to the python path\n"
     ]
    }
   ],
   "source": [
    "using RigidBodyTreeInspector\n",
    "using RigidBodyDynamics"
   ]
  },
  {
   "cell_type": "code",
   "execution_count": 7,
   "metadata": {
    "collapsed": false
   },
   "outputs": [],
   "source": [
    "import Flash"
   ]
  },
  {
   "cell_type": "code",
   "execution_count": 41,
   "metadata": {
    "collapsed": false
   },
   "outputs": [
    {
     "data": {
      "text/plain": [
       "Manipulator with 8 links and 7 surfaces"
      ]
     },
     "execution_count": 41,
     "metadata": {},
     "output_type": "execute_result"
    }
   ],
   "source": [
    "urdf = \"$(ENV[\"HOME\"])/locomotion/explorations/point-cloud-signed-distance/examples/data/IRB140/urdf/irb_140_convhull.urdf\"\n",
    "package_path = [\"$(ENV[\"HOME\"])/locomotion/drake-distro/drake/examples\"]\n",
    "model = Flash.Models.load_urdf(urdf; package_path=package_path)"
   ]
  },
  {
   "cell_type": "code",
   "execution_count": 42,
   "metadata": {
    "collapsed": false
   },
   "outputs": [
    {
     "data": {
      "text/plain": [
       "Manipulator with 2 links and 1 surfaces"
      ]
     },
     "execution_count": 42,
     "metadata": {},
     "output_type": "execute_result"
    }
   ],
   "source": [
    "squishable = Flash.Models.squishable()"
   ]
  },
  {
   "cell_type": "code",
   "execution_count": 43,
   "metadata": {
    "collapsed": false
   },
   "outputs": [
    {
     "data": {
      "text/plain": [
       "Manipulator with 9 links and 8 surfaces"
      ]
     },
     "execution_count": 43,
     "metadata": {},
     "output_type": "execute_result"
    }
   ],
   "source": [
    "Flash.Models.merge!(model, squishable)"
   ]
  },
  {
   "cell_type": "code",
   "execution_count": 44,
   "metadata": {
    "collapsed": false
   },
   "outputs": [
    {
     "data": {
      "text/plain": [
       "Manipulator with 9 links and 8 surfaces"
      ]
     },
     "execution_count": 44,
     "metadata": {},
     "output_type": "execute_result"
    }
   ],
   "source": [
    "model"
   ]
  },
  {
   "cell_type": "code",
   "execution_count": 52,
   "metadata": {
    "collapsed": false
   },
   "outputs": [
    {
     "data": {
      "text/plain": [
       "DrakeVisualizer.Visualizer(DrakeVisualizer.Robot(DrakeVisualizer.Link[DrakeVisualizer.Link(DrakeVisualizer.GeometryData[DrakeVisualizer.GeometryData{CoordinateTransformations.IdentityTransformation,GeometryTypes.HomogenousMesh{FixedSizeArrays.Point{3,Float64},GeometryTypes.Face{3,Int64,0},Void,Void,Void,Void,Void}}(HomogenousMesh(\n",
       "    vertices: 3312xFixedSizeArrays.Point{3,Float64},     faces: 6616xGeometryTypes.Face{3,Int64,0}, )\n",
       ",CoordinateTransformations.IdentityTransformation(),RGBA{Float64}(1.0,0.0,0.0,0.5))],\"link\")]),1,PyLCM.LCM(PyObject <LCM object at 0x7f5339200f00>))"
      ]
     },
     "execution_count": 52,
     "metadata": {},
     "output_type": "execute_result"
    }
   ],
   "source": [
    "state = Flash.ManipulatorState(model);\n",
    "state.mechanism_state.q[end-2:end] = [0.5, 0, 0.25]\n",
    "setdirty!(state.mechanism_state)\n",
    "skin = Flash.skin(state);\n",
    "Visualizer(DrakeVisualizer.contour_mesh(skin, [-.5, -.5, -.25], [1., .5, 1], 0.001, 0.05))"
   ]
  },
  {
   "cell_type": "code",
   "execution_count": 11,
   "metadata": {
    "collapsed": false
   },
   "outputs": [
    {
     "data": {
      "text/html": [],
      "text/plain": [
       "Interact.Slider{Float64}(Signal{Float64}(0.0, nactions=0),\"joint1.1\",0.0,linspace(-3.141592653589793,3.141592653589793,51),\".3f\",true)"
      ]
     },
     "metadata": {},
     "output_type": "display_data"
    },
    {
     "data": {
      "text/html": [],
      "text/plain": [
       "Interact.Slider{Float64}(Signal{Float64}(0.0, nactions=0),\"joint2.1\",0.0,linspace(-3.141592653589793,3.141592653589793,51),\".3f\",true)"
      ]
     },
     "metadata": {},
     "output_type": "display_data"
    },
    {
     "data": {
      "text/html": [],
      "text/plain": [
       "Interact.Slider{Float64}(Signal{Float64}(0.0, nactions=0),\"joint3.1\",0.0,linspace(-3.141592653589793,3.141592653589793,51),\".3f\",true)"
      ]
     },
     "metadata": {},
     "output_type": "display_data"
    },
    {
     "data": {
      "text/html": [],
      "text/plain": [
       "Interact.Slider{Float64}(Signal{Float64}(0.0, nactions=0),\"joint4.1\",0.0,linspace(-3.141592653589793,3.141592653589793,51),\".3f\",true)"
      ]
     },
     "metadata": {},
     "output_type": "display_data"
    },
    {
     "data": {
      "text/html": [],
      "text/plain": [
       "Interact.Slider{Float64}(Signal{Float64}(0.0, nactions=0),\"joint5.1\",0.0,linspace(-3.141592653589793,3.141592653589793,51),\".3f\",true)"
      ]
     },
     "metadata": {},
     "output_type": "display_data"
    },
    {
     "data": {
      "text/html": [],
      "text/plain": [
       "Interact.Slider{Float64}(Signal{Float64}(0.0, nactions=0),\"joint6.1\",0.0,linspace(-3.141592653589793,3.141592653589793,51),\".3f\",true)"
      ]
     },
     "metadata": {},
     "output_type": "display_data"
    },
    {
     "data": {
      "text/plain": [
       "nothing"
      ]
     },
     "execution_count": 11,
     "metadata": {
      "comm_id": "51bc9e3a-c8b4-465f-acd9-def31bb47a00",
      "reactive": true
     },
     "output_type": "execute_result"
    }
   ],
   "source": [
    "urdf = \"$(ENV[\"HOME\"])/locomotion/explorations/point-cloud-signed-distance/examples/data/IRB140/urdf/irb_140_convhull.urdf\"\n",
    "mechanism = parse_urdf(Float64, urdf);\n",
    "inspect(mechanism)"
   ]
  },
  {
   "cell_type": "code",
   "execution_count": 4,
   "metadata": {
    "collapsed": false
   },
   "outputs": [
    {
     "data": {
      "text/plain": [
       "Vertex: world (root)\n",
       "  Vertex: base_link, Edge: base_link_to_world\n",
       "    Vertex: link_1, Edge: joint1\n",
       "      Vertex: link_2, Edge: joint2\n",
       "        Vertex: link_3, Edge: joint3\n",
       "          Vertex: link_4, Edge: joint4\n",
       "            Vertex: link_5, Edge: joint5\n",
       "              Vertex: link_6, Edge: joint6\n",
       "  Vertex: base_link, Edge: base_link_to_world\n",
       "    Vertex: link_1, Edge: joint1\n",
       "      Vertex: link_2, Edge: joint2\n",
       "        Vertex: link_3, Edge: joint3\n",
       "          Vertex: link_4, Edge: joint4\n",
       "            Vertex: link_5, Edge: joint5\n",
       "              Vertex: link_6, Edge: joint6"
      ]
     },
     "execution_count": 4,
     "metadata": {},
     "output_type": "execute_result"
    }
   ],
   "source": [
    "mechanism2 = parse_urdf(Float64, urdf);\n",
    "parentBody = root_body(mechanism)\n",
    "attach!(mechanism, parentBody, mechanism2)"
   ]
  },
  {
   "cell_type": "code",
   "execution_count": 9,
   "metadata": {
    "collapsed": false
   },
   "outputs": [
    {
     "data": {
      "text/plain": [
       "true"
      ]
     },
     "execution_count": 9,
     "metadata": {},
     "output_type": "execute_result"
    }
   ],
   "source": [
    "bodies(mechanism)[end] === bodies(mechanism2)[end]"
   ]
  },
  {
   "cell_type": "code",
   "execution_count": 5,
   "metadata": {
    "collapsed": false
   },
   "outputs": [
    {
     "data": {
      "text/plain": [
       "15-element Array{String,1}:\n",
       " \"world\"      \n",
       " \"base_link\"  \n",
       " \"link_1\"     \n",
       " \"link_2\"     \n",
       " \"link_3\"     \n",
       " \"link_4\"     \n",
       " \"link_5\"     \n",
       " \"link_6\"     \n",
       " \"base_link_1\"\n",
       " \"link_1_1\"   \n",
       " \"link_2_1\"   \n",
       " \"link_3_1\"   \n",
       " \"link_4_1\"   \n",
       " \"link_5_1\"   \n",
       " \"link_6_1\"   "
      ]
     },
     "execution_count": 5,
     "metadata": {},
     "output_type": "execute_result"
    }
   ],
   "source": [
    "[b.name for b in Visualizer(mechanism).robot.links]"
   ]
  },
  {
   "cell_type": "code",
   "execution_count": 6,
   "metadata": {
    "collapsed": false
   },
   "outputs": [
    {
     "data": {
      "text/html": [],
      "text/plain": [
       "Interact.Slider{Float64}(Signal{Float64}(0.0, nactions=0),\"joint1.1\",0.0,linspace(-3.141592653589793,3.141592653589793,51),\".3f\",true)"
      ]
     },
     "metadata": {},
     "output_type": "display_data"
    },
    {
     "data": {
      "text/html": [],
      "text/plain": [
       "Interact.Slider{Float64}(Signal{Float64}(0.0, nactions=0),\"joint2.1\",0.0,linspace(-3.141592653589793,3.141592653589793,51),\".3f\",true)"
      ]
     },
     "metadata": {},
     "output_type": "display_data"
    },
    {
     "data": {
      "text/html": [],
      "text/plain": [
       "Interact.Slider{Float64}(Signal{Float64}(0.0, nactions=0),\"joint3.1\",0.0,linspace(-3.141592653589793,3.141592653589793,51),\".3f\",true)"
      ]
     },
     "metadata": {},
     "output_type": "display_data"
    },
    {
     "data": {
      "text/html": [],
      "text/plain": [
       "Interact.Slider{Float64}(Signal{Float64}(0.0, nactions=0),\"joint4.1\",0.0,linspace(-3.141592653589793,3.141592653589793,51),\".3f\",true)"
      ]
     },
     "metadata": {},
     "output_type": "display_data"
    },
    {
     "data": {
      "text/html": [],
      "text/plain": [
       "Interact.Slider{Float64}(Signal{Float64}(0.0, nactions=0),\"joint5.1\",0.0,linspace(-3.141592653589793,3.141592653589793,51),\".3f\",true)"
      ]
     },
     "metadata": {},
     "output_type": "display_data"
    },
    {
     "data": {
      "text/html": [],
      "text/plain": [
       "Interact.Slider{Float64}(Signal{Float64}(0.0, nactions=0),\"joint6.1\",0.0,linspace(-3.141592653589793,3.141592653589793,51),\".3f\",true)"
      ]
     },
     "metadata": {},
     "output_type": "display_data"
    },
    {
     "data": {
      "text/html": [],
      "text/plain": [
       "Interact.Slider{Float64}(Signal{Float64}(0.0, nactions=0),\"joint1.1\",0.0,linspace(-3.141592653589793,3.141592653589793,51),\".3f\",true)"
      ]
     },
     "metadata": {},
     "output_type": "display_data"
    },
    {
     "data": {
      "text/html": [],
      "text/plain": [
       "Interact.Slider{Float64}(Signal{Float64}(0.0, nactions=0),\"joint2.1\",0.0,linspace(-3.141592653589793,3.141592653589793,51),\".3f\",true)"
      ]
     },
     "metadata": {},
     "output_type": "display_data"
    },
    {
     "data": {
      "text/html": [],
      "text/plain": [
       "Interact.Slider{Float64}(Signal{Float64}(0.0, nactions=0),\"joint3.1\",0.0,linspace(-3.141592653589793,3.141592653589793,51),\".3f\",true)"
      ]
     },
     "metadata": {},
     "output_type": "display_data"
    },
    {
     "data": {
      "text/html": [],
      "text/plain": [
       "Interact.Slider{Float64}(Signal{Float64}(0.0, nactions=0),\"joint4.1\",0.0,linspace(-3.141592653589793,3.141592653589793,51),\".3f\",true)"
      ]
     },
     "metadata": {},
     "output_type": "display_data"
    },
    {
     "data": {
      "text/html": [],
      "text/plain": [
       "Interact.Slider{Float64}(Signal{Float64}(0.0, nactions=0),\"joint5.1\",0.0,linspace(-3.141592653589793,3.141592653589793,51),\".3f\",true)"
      ]
     },
     "metadata": {},
     "output_type": "display_data"
    },
    {
     "data": {
      "text/html": [],
      "text/plain": [
       "Interact.Slider{Float64}(Signal{Float64}(0.0, nactions=0),\"joint6.1\",0.0,linspace(-3.141592653589793,3.141592653589793,51),\".3f\",true)"
      ]
     },
     "metadata": {},
     "output_type": "display_data"
    },
    {
     "data": {
      "text/plain": [
       "nothing"
      ]
     },
     "execution_count": 6,
     "metadata": {
      "comm_id": "3892cdd3-6110-4ece-93c1-3f4b6f58573a",
      "reactive": true
     },
     "output_type": "execute_result"
    }
   ],
   "source": [
    "inspect(mechanism)"
   ]
  },
  {
   "cell_type": "code",
   "execution_count": null,
   "metadata": {
    "collapsed": true
   },
   "outputs": [],
   "source": []
  }
 ],
 "metadata": {
  "kernelspec": {
   "display_name": "Julia 0.5.0",
   "language": "julia",
   "name": "julia-0.5"
  },
  "language_info": {
   "file_extension": ".jl",
   "mimetype": "application/julia",
   "name": "julia",
   "version": "0.5.0"
  },
  "widgets": {
   "state": {
    "0637fa7c-9251-458c-9877-6d60a3384db0": {
     "views": [
      {
       "cell_index": 4
      }
     ]
    },
    "161e5e98-3d9c-4d42-b2cd-3a0f5d369989": {
     "views": [
      {
       "cell_index": 5
      }
     ]
    },
    "1825310c-3e09-46ae-bf68-d7d8287ef7ad": {
     "views": [
      {
       "cell_index": 4
      }
     ]
    },
    "1cefca8d-5c9c-4f88-b4e2-d44b10664989": {
     "views": [
      {
       "cell_index": 5
      }
     ]
    },
    "1e63e559-51fc-4613-b498-d7871659f5a1": {
     "views": [
      {
       "cell_index": 5
      }
     ]
    },
    "1f76e8c0-7ea1-48bd-8da0-9e12e8a4aba1": {
     "views": [
      {
       "cell_index": 5
      }
     ]
    },
    "2386868b-bccd-4f12-a46f-daebb8a3c59d": {
     "views": [
      {
       "cell_index": 5
      }
     ]
    },
    "2fdd2caa-d663-4bb3-bfcd-696296889eff": {
     "views": [
      {
       "cell_index": 2
      }
     ]
    },
    "35123eee-9803-4c64-bccd-a671633f9b2a": {
     "views": [
      {
       "cell_index": 2
      }
     ]
    },
    "3760e412-9a47-44a8-9d0f-d6aea381f936": {
     "views": [
      {
       "cell_index": 5
      }
     ]
    },
    "442443f3-1c8d-4304-b57c-2703ed6d8e7a": {
     "views": [
      {
       "cell_index": 5
      }
     ]
    },
    "46a08a81-a261-4567-aa56-4fb0561d08dd": {
     "views": [
      {
       "cell_index": 5
      }
     ]
    },
    "4982c706-0e83-47ec-99ba-b1a08661b85c": {
     "views": [
      {
       "cell_index": 4
      }
     ]
    },
    "535b2fbd-9e82-46bc-8b43-3acf902bd335": {
     "views": [
      {
       "cell_index": 2
      }
     ]
    },
    "56400feb-23c4-4fc0-856c-ae6b6abe4347": {
     "views": [
      {
       "cell_index": 4
      }
     ]
    },
    "5a60c0b2-142d-4cfe-87fa-53b6b61aac31": {
     "views": [
      {
       "cell_index": 5
      }
     ]
    },
    "64b650b0-3c03-4045-aa70-f62af2826ef6": {
     "views": [
      {
       "cell_index": 4
      }
     ]
    },
    "671dcb05-6255-4a65-92cf-3808a9c9a620": {
     "views": [
      {
       "cell_index": 5
      }
     ]
    },
    "70ff91d7-0970-4abc-8601-7844711b63b1": {
     "views": [
      {
       "cell_index": 4
      }
     ]
    },
    "7667c40c-61e2-41fd-8dc2-8e6ed679bfb9": {
     "views": [
      {
       "cell_index": 5
      }
     ]
    },
    "87f5f9b5-398d-4c41-8639-22d3b14862b1": {
     "views": [
      {
       "cell_index": 2
      }
     ]
    },
    "892f7ed7-f072-4f12-aad7-8d43d568be63": {
     "views": [
      {
       "cell_index": 5
      }
     ]
    },
    "8af38d78-d4be-4e84-88b3-1358eaf52af0": {
     "views": [
      {
       "cell_index": 5
      }
     ]
    },
    "90de1483-b5a5-4f60-8801-5ad8fffc8490": {
     "views": [
      {
       "cell_index": 4
      }
     ]
    },
    "91111e51-d55b-4d43-9e3e-1ed6b88f6c52": {
     "views": [
      {
       "cell_index": 5
      }
     ]
    },
    "92705cf8-f26e-472d-b274-63b8acccb646": {
     "views": [
      {
       "cell_index": 2
      }
     ]
    },
    "a0ccd3e0-8420-4e73-a716-85d463df98bd": {
     "views": [
      {
       "cell_index": 4
      }
     ]
    },
    "abf18edf-1286-4795-ac55-f8a658a204b9": {
     "views": [
      {
       "cell_index": 4
      }
     ]
    },
    "af023231-1235-49ba-9973-e10e4a4915c0": {
     "views": [
      {
       "cell_index": 2
      }
     ]
    },
    "b6bd9513-2e3f-44dc-9cba-25dacdc1ee1a": {
     "views": [
      {
       "cell_index": 5
      }
     ]
    },
    "c50c95b2-9c22-401c-9645-d4e79884a5d0": {
     "views": [
      {
       "cell_index": 4
      }
     ]
    },
    "d5cf6072-a770-4ebb-81ee-cefea7877afd": {
     "views": [
      {
       "cell_index": 4
      }
     ]
    },
    "dee466e5-b044-44e5-b824-8e2aa0d6c94b": {
     "views": [
      {
       "cell_index": 5
      }
     ]
    },
    "eeeff735-39a5-4e88-8cfd-6d2e42554248": {
     "views": [
      {
       "cell_index": 4
      }
     ]
    },
    "efe2428e-f9fb-4b19-8622-816a5f33b37a": {
     "views": [
      {
       "cell_index": 5
      }
     ]
    },
    "f2af974b-f2f5-431c-a9ed-dfffce60bbaf": {
     "views": [
      {
       "cell_index": 2
      }
     ]
    },
    "f47f7a08-914e-47f0-bb89-c1b5cd77d492": {
     "views": [
      {
       "cell_index": 5
      }
     ]
    },
    "f71d45bd-ad7f-4e54-907b-9898434462e0": {
     "views": [
      {
       "cell_index": 2
      }
     ]
    },
    "fc9798f8-3820-48b4-aa13-d1b10f35887b": {
     "views": [
      {
       "cell_index": 2
      }
     ]
    }
   },
   "version": "1.2.0"
  }
 },
 "nbformat": 4,
 "nbformat_minor": 1
}
