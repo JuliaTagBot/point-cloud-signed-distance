{
 "cells": [
  {
   "cell_type": "code",
   "execution_count": 1,
   "metadata": {
    "collapsed": false
   },
   "outputs": [
    {
     "name": "stderr",
     "output_type": "stream",
     "text": [
      "INFO: Recompiling stale cache file /Users/rdeits/locomotion/explorations/point-cloud-signed-distance/packages/lib/v0.5/StaticArrays.ji for module StaticArrays.\n"
     ]
    },
    {
     "data": {
      "text/plain": [
       "GeometryTypes"
      ]
     },
     "execution_count": 1,
     "metadata": {},
     "output_type": "execute_result"
    }
   ],
   "source": [
    "using BenchmarkTools\n",
    "using StaticArrays\n",
    "using GeometryTypes\n",
    "const gt = GeometryTypes"
   ]
  },
  {
   "cell_type": "code",
   "execution_count": 2,
   "metadata": {
    "collapsed": false
   },
   "outputs": [
    {
     "data": {
      "text/plain": [
       "jd"
      ]
     },
     "execution_count": 2,
     "metadata": {},
     "output_type": "execute_result"
    }
   ],
   "source": [
    "include(\"johnson_distance.jl\")"
   ]
  },
  {
   "cell_type": "code",
   "execution_count": 3,
   "metadata": {
    "collapsed": false
   },
   "outputs": [
    {
     "data": {
      "text/plain": [
       "4-element StaticArrays.SVector{4,Float64}:\n",
       " 0.0     \n",
       " 0.0     \n",
       " 0.942623\n",
       " 0.057377"
      ]
     },
     "execution_count": 3,
     "metadata": {},
     "output_type": "execute_result"
    }
   ],
   "source": [
    "simplex = SVector{4}(SVector{3, Float64}[[1., -1, 0], [1., 1, 0], [0.4, 0, -0.1], [0.5, 0, 1]])\n",
    "# deltas = SVector{15}(MVector{4, Float64}[zeros(4) for i in 1:15])\n",
    "jd.projection_weights_old(simplex)\n",
    "@assert jd.projection_weights_old(simplex) == jd.projection_weights!(simplex)\n",
    "weights = jd.projection_weights!(simplex)\n",
    "dot(weights, simplex)\n",
    "weights"
   ]
  },
  {
   "cell_type": "code",
   "execution_count": 4,
   "metadata": {
    "collapsed": false
   },
   "outputs": [
    {
     "data": {
      "text/plain": [
       "BenchmarkTools.Trial: \n",
       "  memory estimate:  1.23 kb\n",
       "  allocs estimate:  16\n",
       "  --------------\n",
       "  minimum time:     271.777 ns (0.00% GC)\n",
       "  median time:      290.835 ns (0.00% GC)\n",
       "  mean time:        375.390 ns (18.59% GC)\n",
       "  maximum time:     7.024 μs (87.26% GC)\n",
       "  --------------\n",
       "  samples:          10000\n",
       "  evals/sample:     318\n",
       "  time tolerance:   5.00%\n",
       "  memory tolerance: 1.00%"
      ]
     },
     "execution_count": 4,
     "metadata": {},
     "output_type": "execute_result"
    }
   ],
   "source": [
    "@benchmark jd.projection_weights!($simplex)"
   ]
  },
  {
   "cell_type": "code",
   "execution_count": 347,
   "metadata": {
    "collapsed": false
   },
   "outputs": [
    {
     "name": "stdout",
     "output_type": "stream",
     "text": [
      "gt.proj_sqdist(origin,simplex) = (Vec(0.4057377049180328,0.0,-0.03688524590163933),0.16598360655737707)\n"
     ]
    },
    {
     "data": {
      "text/plain": [
       "BenchmarkTools.Trial: \n",
       "  memory estimate:  0.00 bytes\n",
       "  allocs estimate:  0\n",
       "  --------------\n",
       "  minimum time:     508.518 ns (0.00% GC)\n",
       "  median time:      509.684 ns (0.00% GC)\n",
       "  mean time:        535.042 ns (0.00% GC)\n",
       "  maximum time:     2.599 μs (0.00% GC)\n",
       "  --------------\n",
       "  samples:          10000\n",
       "  evals/sample:     193\n",
       "  time tolerance:   5.00%\n",
       "  memory tolerance: 1.00%"
      ]
     },
     "execution_count": 347,
     "metadata": {},
     "output_type": "execute_result"
    }
   ],
   "source": [
    "simplex = Simplex(gt.Vec[[1., -1, 0], [1., 1, 0], [0.4, 0, -0.1], [0.5, 0, 1]])\n",
    "origin = Vec(0., 0, 0)\n",
    "@show gt.proj_sqdist(origin, simplex)\n",
    "@benchmark gt.proj_sqdist($origin, $simplex)"
   ]
  },
  {
   "cell_type": "code",
   "execution_count": 348,
   "metadata": {
    "collapsed": false
   },
   "outputs": [
    {
     "data": {
      "text/plain": [
       "3-element StaticArrays.SVector{3,Float64}:\n",
       " 0.3\n",
       " 0.3\n",
       " 0.4"
      ]
     },
     "execution_count": 348,
     "metadata": {},
     "output_type": "execute_result"
    }
   ],
   "source": [
    "simplex = SVector{3}(SVector{2, Float64}[[1., -1], [1., 1], [-1.5, 0]])\n",
    "# deltas = SVector{7}(MVector{3, Float64}[zeros(3) for i in 1:7])\n",
    "@assert jd.projection_weights_old(simplex) == jd.projection_weights!(simplex)\n",
    "jd.projection_weights!(simplex)"
   ]
  },
  {
   "cell_type": "code",
   "execution_count": 349,
   "metadata": {
    "collapsed": false
   },
   "outputs": [
    {
     "data": {
      "text/plain": [
       "BenchmarkTools.Trial: \n",
       "  memory estimate:  0.00 bytes\n",
       "  allocs estimate:  0\n",
       "  --------------\n",
       "  minimum time:     45.584 ns (0.00% GC)\n",
       "  median time:      45.596 ns (0.00% GC)\n",
       "  mean time:        52.118 ns (0.00% GC)\n",
       "  maximum time:     229.661 ns (0.00% GC)\n",
       "  --------------\n",
       "  samples:          10000\n",
       "  evals/sample:     989\n",
       "  time tolerance:   5.00%\n",
       "  memory tolerance: 1.00%"
      ]
     },
     "execution_count": 349,
     "metadata": {},
     "output_type": "execute_result"
    }
   ],
   "source": [
    "@benchmark jd.projection_weights!($simplex)"
   ]
  },
  {
   "cell_type": "code",
   "execution_count": 350,
   "metadata": {
    "collapsed": false
   },
   "outputs": [
    {
     "data": {
      "text/plain": [
       "BenchmarkTools.Trial: \n",
       "  memory estimate:  0.00 bytes\n",
       "  allocs estimate:  0\n",
       "  --------------\n",
       "  minimum time:     80.735 ns (0.00% GC)\n",
       "  median time:      83.052 ns (0.00% GC)\n",
       "  mean time:        92.503 ns (0.00% GC)\n",
       "  maximum time:     327.445 ns (0.00% GC)\n",
       "  --------------\n",
       "  samples:          10000\n",
       "  evals/sample:     967\n",
       "  time tolerance:   5.00%\n",
       "  memory tolerance: 1.00%"
      ]
     },
     "execution_count": 350,
     "metadata": {},
     "output_type": "execute_result"
    }
   ],
   "source": [
    "simplex = Simplex(Vec{2, Float64}[[1., -1], [1., 1], [-1.5, 0]])\n",
    "origin = Vec(0., 0)\n",
    "@benchmark gt.proj_sqdist($origin, $simplex)"
   ]
  },
  {
   "cell_type": "code",
   "execution_count": null,
   "metadata": {
    "collapsed": true
   },
   "outputs": [],
   "source": []
  }
 ],
 "metadata": {
  "kernelspec": {
   "display_name": "Julia 0.5.0",
   "language": "julia",
   "name": "julia-0.5"
  },
  "language_info": {
   "file_extension": ".jl",
   "mimetype": "application/julia",
   "name": "julia",
   "version": "0.5.0"
  }
 },
 "nbformat": 4,
 "nbformat_minor": 0
}
