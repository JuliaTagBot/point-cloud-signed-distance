{
 "cells": [
  {
   "cell_type": "code",
   "execution_count": 100,
   "metadata": {
    "collapsed": false
   },
   "outputs": [
    {
     "data": {
      "text/plain": [
       "GeometryTypes"
      ]
     },
     "execution_count": 100,
     "metadata": {},
     "output_type": "execute_result"
    }
   ],
   "source": [
    "using BenchmarkTools\n",
    "using StaticArrays\n",
    "using GeometryTypes\n",
    "const gt = GeometryTypes"
   ]
  },
  {
   "cell_type": "code",
   "execution_count": 213,
   "metadata": {
    "collapsed": false
   },
   "outputs": [
    {
     "name": "stderr",
     "output_type": "stream",
     "text": [
      "WARNING: replacing module jd\n"
     ]
    },
    {
     "data": {
      "text/plain": [
       "jd"
      ]
     },
     "execution_count": 213,
     "metadata": {},
     "output_type": "execute_result"
    }
   ],
   "source": [
    "include(\"johnson_distance.jl\")"
   ]
  },
  {
   "cell_type": "code",
   "execution_count": 214,
   "metadata": {
    "collapsed": false
   },
   "outputs": [
    {
     "data": {
      "text/plain": [
       "3-element StaticArrays.SVector{3,Float64}:\n",
       "  0.405738 \n",
       "  0.0      \n",
       " -0.0368852"
      ]
     },
     "execution_count": 214,
     "metadata": {},
     "output_type": "execute_result"
    }
   ],
   "source": [
    "simplex = SVector{4}(SVector{3, Float64}[[1., -1, 0], [1., 1, 0], [0.4, 0, -0.1], [0.5, 0, 1]])\n",
    "jd.projection_weights_old(simplex)\n",
    "deltas = SVector{15}(MVector{4, Float64}[zeros(4) for i in 1:15])\n",
    "viable = ones(MVector{15, Bool})\n",
    "jd.projection_weights_old(simplex)\n",
    "@assert jd.projection_weights_old(simplex) == jd.projection_weights!(simplex, deltas)\n",
    "weights = jd.projection_weights!(simplex, deltas)\n",
    "dot(weights, simplex)"
   ]
  },
  {
   "cell_type": "code",
   "execution_count": 215,
   "metadata": {
    "collapsed": false
   },
   "outputs": [
    {
     "data": {
      "text/plain": [
       "BenchmarkTools.Trial: \n",
       "  memory estimate:  48.00 bytes\n",
       "  allocs estimate:  1\n",
       "  --------------\n",
       "  minimum time:     114.255 ns (0.00% GC)\n",
       "  median time:      115.794 ns (0.00% GC)\n",
       "  mean time:        124.911 ns (2.59% GC)\n",
       "  maximum time:     2.860 μs (93.31% GC)\n",
       "  --------------\n",
       "  samples:          10000\n",
       "  evals/sample:     921\n",
       "  time tolerance:   5.00%\n",
       "  memory tolerance: 1.00%"
      ]
     },
     "execution_count": 215,
     "metadata": {},
     "output_type": "execute_result"
    }
   ],
   "source": [
    "@benchmark jd.projection_weights!($simplex, $deltas)"
   ]
  },
  {
   "cell_type": "code",
   "execution_count": 212,
   "metadata": {
    "collapsed": false
   },
   "outputs": [
    {
     "name": "stdout",
     "output_type": "stream",
     "text": [
      "gt.proj_sqdist(origin,simplex) = (Vec(0.4057377049180328,0.0,-0.03688524590163933),0.16598360655737707)\n"
     ]
    },
    {
     "data": {
      "text/plain": [
       "BenchmarkTools.Trial: \n",
       "  memory estimate:  0.00 bytes\n",
       "  allocs estimate:  0\n",
       "  --------------\n",
       "  minimum time:     492.206 ns (0.00% GC)\n",
       "  median time:      493.294 ns (0.00% GC)\n",
       "  mean time:        519.667 ns (0.00% GC)\n",
       "  maximum time:     2.281 μs (0.00% GC)\n",
       "  --------------\n",
       "  samples:          10000\n",
       "  evals/sample:     194\n",
       "  time tolerance:   5.00%\n",
       "  memory tolerance: 1.00%"
      ]
     },
     "execution_count": 212,
     "metadata": {},
     "output_type": "execute_result"
    }
   ],
   "source": [
    "simplex = Simplex(gt.Vec[[1., -1, 0], [1., 1, 0], [0.4, 0, -0.1], [0.5, 0, 1]])\n",
    "origin = Vec(0., 0, 0)\n",
    "@show gt.proj_sqdist(origin, simplex)\n",
    "@benchmark gt.proj_sqdist($origin, $simplex)"
   ]
  },
  {
   "cell_type": "code",
   "execution_count": 217,
   "metadata": {
    "collapsed": false
   },
   "outputs": [
    {
     "data": {
      "text/plain": [
       "3-element StaticArrays.MVector{3,Float64}:\n",
       " 0.3\n",
       " 0.3\n",
       " 0.4"
      ]
     },
     "execution_count": 217,
     "metadata": {},
     "output_type": "execute_result"
    }
   ],
   "source": [
    "simplex = SVector{3}(SVector{2, Float64}[[1., -1], [1., 1], [-1.5, 0]])\n",
    "deltas = SVector{7}(MVector{3, Float64}[zeros(3) for i in 1:7])\n",
    "@assert jd.projection_weights_old(simplex) == jd.projection_weights!(simplex, deltas)\n",
    "jd.projection_weights!(simplex, deltas)"
   ]
  },
  {
   "cell_type": "code",
   "execution_count": 218,
   "metadata": {
    "collapsed": false
   },
   "outputs": [
    {
     "data": {
      "text/plain": [
       "BenchmarkTools.Trial: \n",
       "  memory estimate:  32.00 bytes\n",
       "  allocs estimate:  1\n",
       "  --------------\n",
       "  minimum time:     58.651 ns (0.00% GC)\n",
       "  median time:      60.217 ns (0.00% GC)\n",
       "  mean time:        66.576 ns (4.18% GC)\n",
       "  maximum time:     2.887 μs (93.97% GC)\n",
       "  --------------\n",
       "  samples:          10000\n",
       "  evals/sample:     982\n",
       "  time tolerance:   5.00%\n",
       "  memory tolerance: 1.00%"
      ]
     },
     "execution_count": 218,
     "metadata": {},
     "output_type": "execute_result"
    }
   ],
   "source": [
    "@benchmark jd.projection_weights!($simplex, $deltas)"
   ]
  },
  {
   "cell_type": "code",
   "execution_count": 219,
   "metadata": {
    "collapsed": false
   },
   "outputs": [
    {
     "data": {
      "text/plain": [
       "BenchmarkTools.Trial: \n",
       "  memory estimate:  0.00 bytes\n",
       "  allocs estimate:  0\n",
       "  --------------\n",
       "  minimum time:     80.724 ns (0.00% GC)\n",
       "  median time:      80.732 ns (0.00% GC)\n",
       "  mean time:        83.893 ns (0.00% GC)\n",
       "  maximum time:     368.391 ns (0.00% GC)\n",
       "  --------------\n",
       "  samples:          10000\n",
       "  evals/sample:     967\n",
       "  time tolerance:   5.00%\n",
       "  memory tolerance: 1.00%"
      ]
     },
     "execution_count": 219,
     "metadata": {},
     "output_type": "execute_result"
    }
   ],
   "source": [
    "simplex = Simplex(Vec{2, Float64}[[1., -1], [1., 1], [-1.5, 0]])\n",
    "origin = Vec(0., 0)\n",
    "@benchmark gt.proj_sqdist($origin, $simplex)"
   ]
  }
 ],
 "metadata": {
  "kernelspec": {
   "display_name": "Julia 0.5.0",
   "language": "julia",
   "name": "julia-0.5"
  },
  "language_info": {
   "file_extension": ".jl",
   "mimetype": "application/julia",
   "name": "julia",
   "version": "0.5.0"
  }
 },
 "nbformat": 4,
 "nbformat_minor": 0
}
