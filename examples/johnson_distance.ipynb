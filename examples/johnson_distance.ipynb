{
 "cells": [
  {
   "cell_type": "code",
   "execution_count": 100,
   "metadata": {
    "collapsed": false
   },
   "outputs": [
    {
     "data": {
      "text/plain": [
       "GeometryTypes"
      ]
     },
     "execution_count": 100,
     "metadata": {},
     "output_type": "execute_result"
    }
   ],
   "source": [
    "using BenchmarkTools\n",
    "using StaticArrays\n",
    "using GeometryTypes\n",
    "const gt = GeometryTypes"
   ]
  },
  {
   "cell_type": "code",
   "execution_count": 202,
   "metadata": {
    "collapsed": false
   },
   "outputs": [
    {
     "name": "stderr",
     "output_type": "stream",
     "text": [
      "WARNING: replacing module jd\n"
     ]
    },
    {
     "data": {
      "text/plain": [
       "jd"
      ]
     },
     "execution_count": 202,
     "metadata": {},
     "output_type": "execute_result"
    }
   ],
   "source": [
    "include(\"johnson_distance.jl\")"
   ]
  },
  {
   "cell_type": "code",
   "execution_count": 191,
   "metadata": {
    "collapsed": false
   },
   "outputs": [
    {
     "data": {
      "text/plain": [
       "3-element StaticArrays.SVector{3,Float64}:\n",
       "  0.405738 \n",
       "  0.0      \n",
       " -0.0368852"
      ]
     },
     "execution_count": 191,
     "metadata": {},
     "output_type": "execute_result"
    }
   ],
   "source": [
    "simplex = SVector{4}(SVector{3, Float64}[[1., -1, 0], [1., 1, 0], [0.4, 0, -0.1], [0.5, 0, 1]])\n",
    "jd.projection_weights_old(simplex)\n",
    "deltas = SVector{15}(MVector{4, Float64}[zeros(4) for i in 1:15])\n",
    "viable = ones(MVector{15, Bool})\n",
    "jd.projection_weights_old(simplex)\n",
    "@assert jd.projection_weights_old(simplex) == jd.projection_weights!(simplex, deltas, viable)\n",
    "weights = jd.projection_weights!(simplex, deltas, viable)\n",
    "dot(weights, simplex)"
   ]
  },
  {
   "cell_type": "code",
   "execution_count": 192,
   "metadata": {
    "collapsed": false
   },
   "outputs": [
    {
     "data": {
      "text/plain": [
       "BenchmarkTools.Trial: \n",
       "  memory estimate:  48.00 bytes\n",
       "  allocs estimate:  1\n",
       "  --------------\n",
       "  minimum time:     257.940 ns (0.00% GC)\n",
       "  median time:      260.017 ns (0.00% GC)\n",
       "  mean time:        269.284 ns (1.13% GC)\n",
       "  maximum time:     4.769 μs (91.85% GC)\n",
       "  --------------\n",
       "  samples:          10000\n",
       "  evals/sample:     349\n",
       "  time tolerance:   5.00%\n",
       "  memory tolerance: 1.00%"
      ]
     },
     "execution_count": 192,
     "metadata": {},
     "output_type": "execute_result"
    }
   ],
   "source": [
    "@benchmark jd.projection_weights!($simplex, $deltas, $viable)"
   ]
  },
  {
   "cell_type": "code",
   "execution_count": 193,
   "metadata": {
    "collapsed": false
   },
   "outputs": [
    {
     "name": "stdout",
     "output_type": "stream",
     "text": [
      "gt.proj_sqdist(origin,simplex) = (Vec(0.4057377049180328,0.0,-0.03688524590163933),0.16598360655737707)\n"
     ]
    },
    {
     "data": {
      "text/plain": [
       "BenchmarkTools.Trial: \n",
       "  memory estimate:  0.00 bytes\n",
       "  allocs estimate:  0\n",
       "  --------------\n",
       "  minimum time:     494.845 ns (0.00% GC)\n",
       "  median time:      496.340 ns (0.00% GC)\n",
       "  mean time:        532.743 ns (0.00% GC)\n",
       "  maximum time:     2.601 μs (0.00% GC)\n",
       "  --------------\n",
       "  samples:          10000\n",
       "  evals/sample:     194\n",
       "  time tolerance:   5.00%\n",
       "  memory tolerance: 1.00%"
      ]
     },
     "execution_count": 193,
     "metadata": {},
     "output_type": "execute_result"
    }
   ],
   "source": [
    "simplex = Simplex(gt.Vec[[1., -1, 0], [1., 1, 0], [0.4, 0, -0.1], [0.5, 0, 1]])\n",
    "origin = Vec(0., 0, 0)\n",
    "@show gt.proj_sqdist(origin, simplex)\n",
    "@benchmark gt.proj_sqdist($origin, $simplex)"
   ]
  },
  {
   "cell_type": "code",
   "execution_count": 172,
   "metadata": {
    "collapsed": false
   },
   "outputs": [
    {
     "data": {
      "text/plain": [
       "3-element StaticArrays.MVector{3,Float64}:\n",
       " 0.3\n",
       " 0.3\n",
       " 0.4"
      ]
     },
     "execution_count": 172,
     "metadata": {},
     "output_type": "execute_result"
    }
   ],
   "source": [
    "simplex = SVector{3}(SVector{2, Float64}[[1., -1], [1., 1], [-1.5, 0]])\n",
    "deltas = SVector{7}(MVector{3, Float64}[zeros(3) for i in 1:7])\n",
    "viable = ones(MVector{7, Bool})\n",
    "@assert jd.projection_weights_old(simplex) == jd.projection_weights!(simplex, deltas, viable)\n",
    "jd.projection_weights!(simplex, deltas, viable)"
   ]
  },
  {
   "cell_type": "code",
   "execution_count": 173,
   "metadata": {
    "collapsed": false
   },
   "outputs": [
    {
     "data": {
      "text/plain": [
       "BenchmarkTools.Trial: \n",
       "  memory estimate:  32.00 bytes\n",
       "  allocs estimate:  1\n",
       "  --------------\n",
       "  minimum time:     92.450 ns (0.00% GC)\n",
       "  median time:      93.724 ns (0.00% GC)\n",
       "  mean time:        102.258 ns (2.86% GC)\n",
       "  maximum time:     3.940 μs (95.39% GC)\n",
       "  --------------\n",
       "  samples:          10000\n",
       "  evals/sample:     954\n",
       "  time tolerance:   5.00%\n",
       "  memory tolerance: 1.00%"
      ]
     },
     "execution_count": 173,
     "metadata": {},
     "output_type": "execute_result"
    }
   ],
   "source": [
    "@benchmark jd.projection_weights!($simplex, $deltas, $viable)"
   ]
  },
  {
   "cell_type": "code",
   "execution_count": 174,
   "metadata": {
    "collapsed": false
   },
   "outputs": [
    {
     "data": {
      "text/plain": [
       "BenchmarkTools.Trial: \n",
       "  memory estimate:  0.00 bytes\n",
       "  allocs estimate:  0\n",
       "  --------------\n",
       "  minimum time:     80.723 ns (0.00% GC)\n",
       "  median time:      80.730 ns (0.00% GC)\n",
       "  mean time:        85.157 ns (0.00% GC)\n",
       "  maximum time:     344.049 ns (0.00% GC)\n",
       "  --------------\n",
       "  samples:          10000\n",
       "  evals/sample:     967\n",
       "  time tolerance:   5.00%\n",
       "  memory tolerance: 1.00%"
      ]
     },
     "execution_count": 174,
     "metadata": {},
     "output_type": "execute_result"
    }
   ],
   "source": []
  },
  {
   "cell_type": "code",
   "execution_count": 43,
   "metadata": {
    "collapsed": false
   },
   "outputs": [
    {
     "data": {
      "text/plain": [
       "168"
      ]
     },
     "execution_count": 43,
     "metadata": {},
     "output_type": "execute_result"
    }
   ],
   "source": [
    "3 * 7 * 8"
   ]
  },
  {
   "cell_type": "code",
   "execution_count": null,
   "metadata": {
    "collapsed": true
   },
   "outputs": [],
   "source": []
  }
 ],
 "metadata": {
  "kernelspec": {
   "display_name": "Julia 0.5.0",
   "language": "julia",
   "name": "julia-0.5"
  },
  "language_info": {
   "file_extension": ".jl",
   "mimetype": "application/julia",
   "name": "julia",
   "version": "0.5.0"
  }
 },
 "nbformat": 4,
 "nbformat_minor": 0
}
