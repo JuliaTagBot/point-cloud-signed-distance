{
 "cells": [
  {
   "cell_type": "code",
   "execution_count": 100,
   "metadata": {
    "collapsed": false
   },
   "outputs": [
    {
     "data": {
      "text/plain": [
       "GeometryTypes"
      ]
     },
     "execution_count": 100,
     "metadata": {},
     "output_type": "execute_result"
    }
   ],
   "source": [
    "using BenchmarkTools\n",
    "using StaticArrays\n",
    "using GeometryTypes\n",
    "const gt = GeometryTypes"
   ]
  },
  {
   "cell_type": "code",
   "execution_count": 313,
   "metadata": {
    "collapsed": false
   },
   "outputs": [
    {
     "name": "stderr",
     "output_type": "stream",
     "text": [
      "WARNING: replacing module jd\n"
     ]
    },
    {
     "data": {
      "text/plain": [
       "jd"
      ]
     },
     "execution_count": 313,
     "metadata": {},
     "output_type": "execute_result"
    }
   ],
   "source": [
    "include(\"johnson_distance.jl\")"
   ]
  },
  {
   "cell_type": "code",
   "execution_count": 314,
   "metadata": {
    "collapsed": false
   },
   "outputs": [
    {
     "data": {
      "text/plain": [
       "3-element StaticArrays.SVector{3,Float64}:\n",
       "  0.405738 \n",
       "  0.0      \n",
       " -0.0368852"
      ]
     },
     "execution_count": 314,
     "metadata": {},
     "output_type": "execute_result"
    }
   ],
   "source": [
    "simplex = SVector{4}(SVector{3, Float64}[[1., -1, 0], [1., 1, 0], [0.4, 0, -0.1], [0.5, 0, 1]])\n",
    "# deltas = SVector{15}(MVector{4, Float64}[zeros(4) for i in 1:15])\n",
    "jd.projection_weights_old(simplex)\n",
    "@assert jd.projection_weights_old(simplex) == jd.projection_weights!(simplex)\n",
    "weights = jd.projection_weights!(simplex)\n",
    "dot(weights, simplex)"
   ]
  },
  {
   "cell_type": "code",
   "execution_count": 315,
   "metadata": {
    "collapsed": false
   },
   "outputs": [
    {
     "data": {
      "text/plain": [
       "BenchmarkTools.Trial: \n",
       "  memory estimate:  0.00 bytes\n",
       "  allocs estimate:  0\n",
       "  --------------\n",
       "  minimum time:     83.662 ns (0.00% GC)\n",
       "  median time:      84.497 ns (0.00% GC)\n",
       "  mean time:        90.801 ns (0.00% GC)\n",
       "  maximum time:     311.335 ns (0.00% GC)\n",
       "  --------------\n",
       "  samples:          10000\n",
       "  evals/sample:     964\n",
       "  time tolerance:   5.00%\n",
       "  memory tolerance: 1.00%"
      ]
     },
     "execution_count": 315,
     "metadata": {},
     "output_type": "execute_result"
    }
   ],
   "source": [
    "@benchmark jd.projection_weights!($simplex)"
   ]
  },
  {
   "cell_type": "code",
   "execution_count": 316,
   "metadata": {
    "collapsed": false
   },
   "outputs": [
    {
     "name": "stdout",
     "output_type": "stream",
     "text": [
      "gt.proj_sqdist(origin,simplex) = (Vec(0.4057377049180328,0.0,-0.03688524590163933),0.16598360655737707)\n"
     ]
    },
    {
     "data": {
      "text/plain": [
       "BenchmarkTools.Trial: \n",
       "  memory estimate:  0.00 bytes\n",
       "  allocs estimate:  0\n",
       "  --------------\n",
       "  minimum time:     492.701 ns (0.00% GC)\n",
       "  median time:      494.077 ns (0.00% GC)\n",
       "  mean time:        521.633 ns (0.00% GC)\n",
       "  maximum time:     1.946 μs (0.00% GC)\n",
       "  --------------\n",
       "  samples:          10000\n",
       "  evals/sample:     194\n",
       "  time tolerance:   5.00%\n",
       "  memory tolerance: 1.00%"
      ]
     },
     "execution_count": 316,
     "metadata": {},
     "output_type": "execute_result"
    }
   ],
   "source": [
    "simplex = Simplex(gt.Vec[[1., -1, 0], [1., 1, 0], [0.4, 0, -0.1], [0.5, 0, 1]])\n",
    "origin = Vec(0., 0, 0)\n",
    "@show gt.proj_sqdist(origin, simplex)\n",
    "@benchmark gt.proj_sqdist($origin, $simplex)"
   ]
  },
  {
   "cell_type": "code",
   "execution_count": 317,
   "metadata": {
    "collapsed": false
   },
   "outputs": [
    {
     "data": {
      "text/plain": [
       "3-element StaticArrays.SVector{3,Float64}:\n",
       " 0.3\n",
       " 0.3\n",
       " 0.4"
      ]
     },
     "execution_count": 317,
     "metadata": {},
     "output_type": "execute_result"
    }
   ],
   "source": [
    "simplex = SVector{3}(SVector{2, Float64}[[1., -1], [1., 1], [-1.5, 0]])\n",
    "# deltas = SVector{7}(MVector{3, Float64}[zeros(3) for i in 1:7])\n",
    "@assert jd.projection_weights_old(simplex) == jd.projection_weights!(simplex)\n",
    "jd.projection_weights!(simplex)"
   ]
  },
  {
   "cell_type": "code",
   "execution_count": 318,
   "metadata": {
    "collapsed": false
   },
   "outputs": [
    {
     "data": {
      "text/plain": [
       "BenchmarkTools.Trial: \n",
       "  memory estimate:  0.00 bytes\n",
       "  allocs estimate:  0\n",
       "  --------------\n",
       "  minimum time:     48.363 ns (0.00% GC)\n",
       "  median time:      49.741 ns (0.00% GC)\n",
       "  mean time:        53.795 ns (0.00% GC)\n",
       "  maximum time:     256.022 ns (0.00% GC)\n",
       "  --------------\n",
       "  samples:          10000\n",
       "  evals/sample:     988\n",
       "  time tolerance:   5.00%\n",
       "  memory tolerance: 1.00%"
      ]
     },
     "execution_count": 318,
     "metadata": {},
     "output_type": "execute_result"
    }
   ],
   "source": [
    "@benchmark jd.projection_weights!($simplex)"
   ]
  },
  {
   "cell_type": "code",
   "execution_count": 310,
   "metadata": {
    "collapsed": false
   },
   "outputs": [
    {
     "data": {
      "text/plain": [
       "BenchmarkTools.Trial: \n",
       "  memory estimate:  0.00 bytes\n",
       "  allocs estimate:  0\n",
       "  --------------\n",
       "  minimum time:     80.594 ns (0.00% GC)\n",
       "  median time:      80.601 ns (0.00% GC)\n",
       "  mean time:        91.021 ns (0.00% GC)\n",
       "  maximum time:     374.640 ns (0.00% GC)\n",
       "  --------------\n",
       "  samples:          10000\n",
       "  evals/sample:     967\n",
       "  time tolerance:   5.00%\n",
       "  memory tolerance: 1.00%"
      ]
     },
     "execution_count": 310,
     "metadata": {},
     "output_type": "execute_result"
    }
   ],
   "source": [
    "simplex = Simplex(Vec{2, Float64}[[1., -1], [1., 1], [-1.5, 0]])\n",
    "origin = Vec(0., 0)\n",
    "@benchmark gt.proj_sqdist($origin, $simplex)"
   ]
  },
  {
   "cell_type": "code",
   "execution_count": null,
   "metadata": {
    "collapsed": true
   },
   "outputs": [],
   "source": []
  }
 ],
 "metadata": {
  "kernelspec": {
   "display_name": "Julia 0.5.0",
   "language": "julia",
   "name": "julia-0.5"
  },
  "language_info": {
   "file_extension": ".jl",
   "mimetype": "application/julia",
   "name": "julia",
   "version": "0.5.0"
  }
 },
 "nbformat": 4,
 "nbformat_minor": 0
}
