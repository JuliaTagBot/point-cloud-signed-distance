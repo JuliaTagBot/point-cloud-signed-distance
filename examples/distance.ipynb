{
 "cells": [
  {
   "cell_type": "code",
   "execution_count": 90,
   "metadata": {
    "collapsed": false
   },
   "outputs": [],
   "source": [
    "using GeometryTypes\n",
    "const gt = GeometryTypes\n",
    "using LCMGL\n",
    "using Meshing\n",
    "using DrakeVisualizer\n",
    "using BenchmarkTools"
   ]
  },
  {
   "cell_type": "code",
   "execution_count": 357,
   "metadata": {
    "collapsed": false
   },
   "outputs": [
    {
     "name": "stderr",
     "output_type": "stream",
     "text": [
      "WARNING: replacing module Gjk\n"
     ]
    },
    {
     "data": {
      "text/plain": [
       "Gjk"
      ]
     },
     "execution_count": 357,
     "metadata": {},
     "output_type": "execute_result"
    }
   ],
   "source": [
    "include(\"gjk.jl\")"
   ]
  },
  {
   "cell_type": "code",
   "execution_count": 360,
   "metadata": {
    "collapsed": false,
    "scrolled": false
   },
   "outputs": [
    {
     "name": "stdout",
     "output_type": "stream",
     "text": [
      "best_pt = Vec(1.0,0.0)\n"
     ]
    },
    {
     "data": {
      "text/plain": [
       "3-element StaticArrays.MVector{3,Gjk.Tagged{FixedSizeArrays.Vec{2,Float64},FixedSizeArrays.Vec{2,Float64}}}:\n",
       " Gjk.Tagged{FixedSizeArrays.Vec{2,Float64},FixedSizeArrays.Vec{2,Float64}}(Vec(2.0,-1.0),Vec(2.0,-1.0))\n",
       " Gjk.Tagged{FixedSizeArrays.Vec{2,Float64},FixedSizeArrays.Vec{2,Float64}}(Vec(1.0,1.0),Vec(1.0,1.0))  \n",
       " Gjk.Tagged{FixedSizeArrays.Vec{2,Float64},FixedSizeArrays.Vec{2,Float64}}(Vec(1.0,-1.0),Vec(1.0,-1.0))"
      ]
     },
     "execution_count": 360,
     "metadata": {},
     "output_type": "execute_result"
    }
   ],
   "source": [
    "s = Simplex(Vec(2., -1), Vec(2.5, 0), Vec(2., 1), Vec(1., 1), Vec(1., -1))\n",
    "simplex, best_pt = Gjk.gjk(s, 10)\n",
    "@show best_pt\n",
    "simplex"
   ]
  },
  {
   "cell_type": "code",
   "execution_count": 361,
   "metadata": {
    "collapsed": false
   },
   "outputs": [
    {
     "name": "stdout",
     "output_type": "stream",
     "text": [
      "best_pt = Vec(1.2000000000000002,-0.8999999999999999,0.0)\n"
     ]
    },
    {
     "data": {
      "text/plain": [
       "4-element StaticArrays.MVector{4,Gjk.Tagged{FixedSizeArrays.Vec{3,Float64},Tuple{Int64,FixedSizeArrays.Vec{3,Float64}}}}:\n",
       " Gjk.Tagged{FixedSizeArrays.Vec{3,Float64},Tuple{Int64,FixedSizeArrays.Vec{3,Float64}}}(Vec(1.2,-1.5,-0.6),(1,Vec(0.0,0.0,0.0)))       \n",
       " Gjk.Tagged{FixedSizeArrays.Vec{3,Float64},Tuple{Int64,FixedSizeArrays.Vec{3,Float64}}}(Vec(1.41522,-0.75,0.3),(291,Vec(0.0,0.0,0.0))) \n",
       " Gjk.Tagged{FixedSizeArrays.Vec{3,Float64},Tuple{Int64,FixedSizeArrays.Vec{3,Float64}}}(Vec(1.12286,-1.05,-0.15),(45,Vec(0.0,0.0,0.0)))\n",
       " Gjk.Tagged{FixedSizeArrays.Vec{3,Float64},Tuple{Int64,FixedSizeArrays.Vec{3,Float64}}}(Vec(1.2,-0.9,0.0),(253,Vec(0.0,0.0,0.0)))      "
      ]
     },
     "execution_count": 361,
     "metadata": {},
     "output_type": "execute_result"
    }
   ],
   "source": [
    "mesh = DrakeVisualizer.contour_mesh(x -> sum((x - [2, -1.5, 0]).^2) - 1, [-1.5, -1.5, -1.5], [1.5, 1.5, 1.5])\n",
    "acc = Gjk.AcceleratedMesh(mesh)\n",
    "pt = Vec(0., 0, 0)\n",
    "md = gt.MinkowskiDifference(acc, pt)\n",
    "simplex, best_pt = Gjk.gjk(md)\n",
    "@show best_pt\n",
    "simplex"
   ]
  },
  {
   "cell_type": "code",
   "execution_count": 362,
   "metadata": {
    "collapsed": false
   },
   "outputs": [],
   "source": [
    "mesh = DrakeVisualizer.contour_mesh(x -> sum((x - [2, -1.5, 0]).^2) - 1, [-1.5, -1.5, -1.5], [1.5, 1.5, 1.5])\n",
    "simplex = Gjk.gjk(mesh)[1]\n",
    "Visualizer(mesh)\n",
    "LCMGLClient(\"simplex\") do lcmgl\n",
    "    color(lcmgl, 1, 0, 0, 0.5)\n",
    "    for tagged in simplex\n",
    "        sphere(lcmgl, [tagged.point...], 0.02, 20, 20)\n",
    "    end\n",
    "    color(lcmgl, 0, 0, 1, 0.5)\n",
    "    sphere(lcmgl, [0., 0, 0], 0.02, 20, 20)\n",
    "    switch_buffer(lcmgl)\n",
    "end"
   ]
  },
  {
   "cell_type": "code",
   "execution_count": 363,
   "metadata": {
    "collapsed": false,
    "scrolled": false
   },
   "outputs": [],
   "source": [
    "acc = Gjk.AcceleratedMesh(mesh)\n",
    "simplex, pt_best = Gjk.gjk(acc)\n",
    "Visualizer(mesh)\n",
    "LCMGLClient(\"simplex\") do lcmgl\n",
    "    color(lcmgl, 1, 0, 0, 0.5)\n",
    "    for tagged in simplex\n",
    "        sphere(lcmgl, [tagged.point...], 0.02, 20, 20)\n",
    "    end\n",
    "    color(lcmgl, 0, 0, 1, 0.5)\n",
    "    sphere(lcmgl, [0., 0, 0], 0.02, 20, 20)\n",
    "    switch_buffer(lcmgl)\n",
    "end"
   ]
  },
  {
   "cell_type": "code",
   "execution_count": 364,
   "metadata": {
    "collapsed": false
   },
   "outputs": [
    {
     "data": {
      "text/plain": [
       "BenchmarkTools.Trial: \n",
       "  samples:          10000\n",
       "  evals/sample:     1\n",
       "  time tolerance:   5.00%\n",
       "  memory tolerance: 1.00%\n",
       "  memory estimate:  6.05 kb\n",
       "  allocs estimate:  155\n",
       "  minimum time:     52.96 μs (0.00% GC)\n",
       "  median time:      55.26 μs (0.00% GC)\n",
       "  mean time:        60.83 μs (2.10% GC)\n",
       "  maximum time:     7.16 ms (98.23% GC)"
      ]
     },
     "execution_count": 364,
     "metadata": {},
     "output_type": "execute_result"
    }
   ],
   "source": [
    "@benchmark Gjk.gjk($mesh)"
   ]
  },
  {
   "cell_type": "code",
   "execution_count": 365,
   "metadata": {
    "collapsed": false
   },
   "outputs": [
    {
     "data": {
      "text/plain": [
       "BenchmarkTools.Trial: \n",
       "  samples:          10000\n",
       "  evals/sample:     1\n",
       "  time tolerance:   5.00%\n",
       "  memory tolerance: 1.00%\n",
       "  memory estimate:  7.11 kb\n",
       "  allocs estimate:  187\n",
       "  minimum time:     55.16 μs (0.00% GC)\n",
       "  median time:      58.51 μs (0.00% GC)\n",
       "  mean time:        64.10 μs (2.19% GC)\n",
       "  maximum time:     8.34 ms (98.31% GC)"
      ]
     },
     "execution_count": 365,
     "metadata": {},
     "output_type": "execute_result"
    }
   ],
   "source": [
    "@benchmark Gjk.gjk($acc)"
   ]
  },
  {
   "cell_type": "code",
   "execution_count": 366,
   "metadata": {
    "collapsed": false
   },
   "outputs": [
    {
     "data": {
      "text/plain": [
       "BenchmarkTools.Trial: \n",
       "  samples:          10000\n",
       "  evals/sample:     10\n",
       "  time tolerance:   5.00%\n",
       "  memory tolerance: 1.00%\n",
       "  memory estimate:  704.00 bytes\n",
       "  allocs estimate:  23\n",
       "  minimum time:     1.86 μs (0.00% GC)\n",
       "  median time:      1.93 μs (0.00% GC)\n",
       "  mean time:        2.34 μs (6.41% GC)\n",
       "  maximum time:     587.66 μs (98.81% GC)"
      ]
     },
     "execution_count": 366,
     "metadata": {},
     "output_type": "execute_result"
    }
   ],
   "source": [
    "simplex, pt_best = Gjk.gjk(mesh)\n",
    "@benchmark Gjk.gjk($mesh, $simplex, $pt_best)"
   ]
  },
  {
   "cell_type": "code",
   "execution_count": 367,
   "metadata": {
    "collapsed": false
   },
   "outputs": [
    {
     "data": {
      "text/plain": [
       "BenchmarkTools.Trial: \n",
       "  samples:          10000\n",
       "  evals/sample:     10\n",
       "  time tolerance:   5.00%\n",
       "  memory tolerance: 1.00%\n",
       "  memory estimate:  704.00 bytes\n",
       "  allocs estimate:  24\n",
       "  minimum time:     1.15 μs (0.00% GC)\n",
       "  median time:      1.30 μs (0.00% GC)\n",
       "  mean time:        1.78 μs (11.38% GC)\n",
       "  maximum time:     830.07 μs (99.03% GC)"
      ]
     },
     "execution_count": 367,
     "metadata": {},
     "output_type": "execute_result"
    }
   ],
   "source": [
    "simplex, pt_best = Gjk.gjk(acc)\n",
    "@benchmark Gjk.gjk($acc, $simplex, $pt_best)"
   ]
  },
  {
   "cell_type": "code",
   "execution_count": null,
   "metadata": {
    "collapsed": true
   },
   "outputs": [],
   "source": []
  }
 ],
 "metadata": {
  "kernelspec": {
   "display_name": "Julia 0.5.0",
   "language": "julia",
   "name": "julia-0.5"
  },
  "language_info": {
   "file_extension": ".jl",
   "mimetype": "application/julia",
   "name": "julia",
   "version": "0.5.0"
  }
 },
 "nbformat": 4,
 "nbformat_minor": 1
}
