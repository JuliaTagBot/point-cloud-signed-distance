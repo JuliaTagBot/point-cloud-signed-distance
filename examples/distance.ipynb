{
 "cells": [
  {
   "cell_type": "code",
   "execution_count": 1,
   "metadata": {
    "collapsed": false
   },
   "outputs": [
    {
     "name": "stderr",
     "output_type": "stream",
     "text": [
      "INFO: Recompiling stale cache file /home/rdeits/locomotion/explorations/point-cloud-signed-distance/packages/lib/v0.5/GeometryTypes.ji for module GeometryTypes.\n",
      "INFO: Recompiling stale cache file /home/rdeits/locomotion/explorations/point-cloud-signed-distance/packages/lib/v0.5/Meshing.ji for module Meshing.\n",
      "INFO: Recompiling stale cache file /home/rdeits/locomotion/explorations/point-cloud-signed-distance/packages/lib/v0.5/DrakeVisualizer.ji for module DrakeVisualizer.\n"
     ]
    },
    {
     "name": "stdout",
     "output_type": "stream",
     "text": [
      "adding: /home/rdeits/locomotion/explorations/point-cloud-signed-distance/packages/v0.5/DrakeVisualizer/src/lcmtypes to the python path\n"
     ]
    }
   ],
   "source": [
    "using GeometryTypes\n",
    "const gt = GeometryTypes\n",
    "using LCMGL\n",
    "using Meshing\n",
    "using DrakeVisualizer\n",
    "using BenchmarkTools\n",
    "# using ProfileView"
   ]
  },
  {
   "cell_type": "code",
   "execution_count": 2,
   "metadata": {
    "collapsed": false
   },
   "outputs": [
    {
     "data": {
      "text/plain": [
       "Gjk"
      ]
     },
     "execution_count": 2,
     "metadata": {},
     "output_type": "execute_result"
    }
   ],
   "source": [
    "include(\"gjk.jl\")"
   ]
  },
  {
   "cell_type": "code",
   "execution_count": 3,
   "metadata": {
    "collapsed": false,
    "scrolled": false
   },
   "outputs": [
    {
     "name": "stdout",
     "output_type": "stream",
     "text": [
      "best_pt = Vec(1.0,0.0)\n"
     ]
    },
    {
     "data": {
      "text/plain": [
       "3-element Array{Gjk.Tagged{FixedSizeArrays.Vec{2,Float64},Void},1}:\n",
       " Gjk.Tagged{FixedSizeArrays.Vec{2,Float64},Void}(Vec(2.0,-1.0),nothing)\n",
       " Gjk.Tagged{FixedSizeArrays.Vec{2,Float64},Void}(Vec(1.0,1.0),nothing) \n",
       " Gjk.Tagged{FixedSizeArrays.Vec{2,Float64},Void}(Vec(1.0,-1.0),nothing)"
      ]
     },
     "execution_count": 3,
     "metadata": {},
     "output_type": "execute_result"
    }
   ],
   "source": [
    "s = Simplex(Vec(2., -1), Vec(2.5, 0), Vec(2., 1), Vec(1., 1), Vec(1., -1))\n",
    "simplex, best_pt = Gjk.gjk(s)\n",
    "@show best_pt\n",
    "simplex._"
   ]
  },
  {
   "cell_type": "code",
   "execution_count": 4,
   "metadata": {
    "collapsed": false
   },
   "outputs": [
    {
     "name": "stdout",
     "output_type": "stream",
     "text": [
      "best_pt = Gjk.Difference{FixedSizeArrays.Vec{3,Float64},FixedSizeArrays.Vec{3,Float64},FixedSizeArrays.Vec{3,Float64}}(Vec(1.2000000000000002,-0.8999999999999999,0.0),Vec(1.2000000000000002,-0.8999999999999999,0.0),Vec(0.0,0.0,0.0))\n"
     ]
    },
    {
     "data": {
      "text/plain": [
       "4-element Array{Gjk.Difference{FixedSizeArrays.Vec{3,Float64},Gjk.Tagged{FixedSizeArrays.Vec{3,Float64},Int64},Gjk.Tagged{FixedSizeArrays.Vec{3,Float64},Void}},1}:\n",
       " Gjk.Difference{FixedSizeArrays.Vec{3,Float64},Gjk.Tagged{FixedSizeArrays.Vec{3,Float64},Int64},Gjk.Tagged{FixedSizeArrays.Vec{3,Float64},Void}}(Vec(1.2,-1.5,-0.6),Gjk.Tagged{FixedSizeArrays.Vec{3,Float64},Int64}(Vec(1.2,-1.5,-0.6),1),Gjk.Tagged{FixedSizeArrays.Vec{3,Float64},Void}(Vec(0.0,0.0,0.0),nothing))             \n",
       " Gjk.Difference{FixedSizeArrays.Vec{3,Float64},Gjk.Tagged{FixedSizeArrays.Vec{3,Float64},Int64},Gjk.Tagged{FixedSizeArrays.Vec{3,Float64},Void}}(Vec(1.41522,-0.75,0.3),Gjk.Tagged{FixedSizeArrays.Vec{3,Float64},Int64}(Vec(1.41522,-0.75,0.3),291),Gjk.Tagged{FixedSizeArrays.Vec{3,Float64},Void}(Vec(0.0,0.0,0.0),nothing))   \n",
       " Gjk.Difference{FixedSizeArrays.Vec{3,Float64},Gjk.Tagged{FixedSizeArrays.Vec{3,Float64},Int64},Gjk.Tagged{FixedSizeArrays.Vec{3,Float64},Void}}(Vec(1.12286,-1.05,-0.15),Gjk.Tagged{FixedSizeArrays.Vec{3,Float64},Int64}(Vec(1.12286,-1.05,-0.15),45),Gjk.Tagged{FixedSizeArrays.Vec{3,Float64},Void}(Vec(0.0,0.0,0.0),nothing))\n",
       " Gjk.Difference{FixedSizeArrays.Vec{3,Float64},Gjk.Tagged{FixedSizeArrays.Vec{3,Float64},Int64},Gjk.Tagged{FixedSizeArrays.Vec{3,Float64},Void}}(Vec(1.2,-0.9,0.0),Gjk.Tagged{FixedSizeArrays.Vec{3,Float64},Int64}(Vec(1.2,-0.9,0.0),253),Gjk.Tagged{FixedSizeArrays.Vec{3,Float64},Void}(Vec(0.0,0.0,0.0),nothing))             "
      ]
     },
     "execution_count": 4,
     "metadata": {},
     "output_type": "execute_result"
    }
   ],
   "source": [
    "mesh = DrakeVisualizer.contour_mesh(x -> sum((x - [2, -1.5, 0]).^2) - 1, [-1.5, -1.5, -1.5], [1.5, 1.5, 1.5])\n",
    "acc = Gjk.AcceleratedMesh(mesh)\n",
    "pt = Vec(0., 0, 0)\n",
    "md = gt.MinkowskiDifference(acc, pt)\n",
    "simplex, best_pt = Gjk.gjk(md)\n",
    "@show best_pt\n",
    "simplex._"
   ]
  },
  {
   "cell_type": "code",
   "execution_count": 5,
   "metadata": {
    "collapsed": false
   },
   "outputs": [
    {
     "data": {
      "text/plain": [
       "Gjk.Tagged{FixedSizeArrays.Vec{3,Float64},Int64}(Vec(1.2000000000000002,-1.5,-0.6000000000000001),1)"
      ]
     },
     "execution_count": 5,
     "metadata": {},
     "output_type": "execute_result"
    }
   ],
   "source": [
    "simplex._[1].p1"
   ]
  },
  {
   "cell_type": "code",
   "execution_count": 6,
   "metadata": {
    "collapsed": false
   },
   "outputs": [],
   "source": [
    "mesh = DrakeVisualizer.contour_mesh(x -> sum((x - [2, -1.5, 0]).^2) - 1, [-1.5, -1.5, -1.5], [1.5, 1.5, 1.5])\n",
    "simplex = Gjk.gjk(mesh)[1]\n",
    "Visualizer(mesh)\n",
    "LCMGLClient(\"simplex\") do lcmgl\n",
    "    color(lcmgl, 1, 0, 0, 0.5)\n",
    "    for tagged in simplex._\n",
    "        sphere(lcmgl, [tagged.point...], 0.02, 20, 20)\n",
    "    end\n",
    "    color(lcmgl, 0, 0, 1, 0.5)\n",
    "    sphere(lcmgl, [0., 0, 0], 0.02, 20, 20)\n",
    "    switch_buffer(lcmgl)\n",
    "end"
   ]
  },
  {
   "cell_type": "code",
   "execution_count": 7,
   "metadata": {
    "collapsed": false,
    "scrolled": false
   },
   "outputs": [],
   "source": [
    "acc = Gjk.AcceleratedMesh(mesh)\n",
    "simplex, pt_best = Gjk.gjk(acc)\n",
    "Visualizer(mesh)\n",
    "LCMGLClient(\"simplex\") do lcmgl\n",
    "    color(lcmgl, 1, 0, 0, 0.5)\n",
    "    for tagged in simplex._\n",
    "        sphere(lcmgl, [tagged.point...], 0.02, 20, 20)\n",
    "    end\n",
    "    color(lcmgl, 0, 0, 1, 0.5)\n",
    "    sphere(lcmgl, [0., 0, 0], 0.02, 20, 20)\n",
    "    switch_buffer(lcmgl)\n",
    "end"
   ]
  },
  {
   "cell_type": "code",
   "execution_count": 8,
   "metadata": {
    "collapsed": false
   },
   "outputs": [],
   "source": [
    "for i = 1:10\n",
    "    x0 = 4 * (rand(3) .- 0.5)\n",
    "    mesh = DrakeVisualizer.contour_mesh(x -> sum((x - x0).^2) - 1, [-3, -3, -3], [3, 3, 3])\n",
    "    Visualizer(mesh)\n",
    "    acc = Gjk.AcceleratedMesh(mesh)\n",
    "    simplex, pt_best = Gjk.gjk(acc)\n",
    "    LCMGLClient(\"simplex\") do lcmgl\n",
    "        color(lcmgl, 1, 0, 0, 0.5)\n",
    "        for tagged in simplex._\n",
    "            sphere(lcmgl, [tagged.point...], 0.02, 20, 20)\n",
    "        end\n",
    "        color(lcmgl, 0, 0, 1, 0.5)\n",
    "        sphere(lcmgl, [0., 0, 0], 0.02, 20, 20)\n",
    "        switch_buffer(lcmgl)\n",
    "    end\n",
    "end"
   ]
  },
  {
   "cell_type": "code",
   "execution_count": 9,
   "metadata": {
    "collapsed": false
   },
   "outputs": [
    {
     "data": {
      "text/plain": [
       "BenchmarkTools.Trial: \n",
       "  samples:          10000\n",
       "  evals/sample:     1\n",
       "  time tolerance:   5.00%\n",
       "  memory tolerance: 1.00%\n",
       "  memory estimate:  4.28 kb\n",
       "  allocs estimate:  140\n",
       "  minimum time:     15.43 μs (0.00% GC)\n",
       "  median time:      23.95 μs (0.00% GC)\n",
       "  mean time:        23.72 μs (1.73% GC)\n",
       "  maximum time:     4.18 ms (98.27% GC)"
      ]
     },
     "execution_count": 9,
     "metadata": {},
     "output_type": "execute_result"
    }
   ],
   "source": [
    "@benchmark Gjk.gjk($mesh)"
   ]
  },
  {
   "cell_type": "code",
   "execution_count": 10,
   "metadata": {
    "collapsed": false
   },
   "outputs": [
    {
     "data": {
      "text/plain": [
       "BenchmarkTools.Trial: \n",
       "  samples:          10000\n",
       "  evals/sample:     4\n",
       "  time tolerance:   5.00%\n",
       "  memory tolerance: 1.00%\n",
       "  memory estimate:  6.27 kb\n",
       "  allocs estimate:  167\n",
       "  minimum time:     8.21 μs (0.00% GC)\n",
       "  median time:      10.55 μs (0.00% GC)\n",
       "  mean time:        11.55 μs (7.55% GC)\n",
       "  maximum time:     910.63 μs (97.06% GC)"
      ]
     },
     "execution_count": 10,
     "metadata": {},
     "output_type": "execute_result"
    }
   ],
   "source": [
    "@benchmark Gjk.gjk($acc)"
   ]
  },
  {
   "cell_type": "code",
   "execution_count": 11,
   "metadata": {
    "collapsed": false
   },
   "outputs": [
    {
     "data": {
      "text/plain": [
       "BenchmarkTools.Trial: \n",
       "  samples:          10000\n",
       "  evals/sample:     9\n",
       "  time tolerance:   5.00%\n",
       "  memory tolerance: 1.00%\n",
       "  memory estimate:  608.00 bytes\n",
       "  allocs estimate:  23\n",
       "  minimum time:     2.32 μs (0.00% GC)\n",
       "  median time:      3.27 μs (0.00% GC)\n",
       "  mean time:        3.27 μs (2.36% GC)\n",
       "  maximum time:     424.92 μs (98.43% GC)"
      ]
     },
     "execution_count": 11,
     "metadata": {},
     "output_type": "execute_result"
    }
   ],
   "source": [
    "simplex, pt_best = Gjk.gjk(mesh)\n",
    "@benchmark Gjk.gjk($mesh, $simplex, $pt_best)"
   ]
  },
  {
   "cell_type": "code",
   "execution_count": 12,
   "metadata": {
    "collapsed": false
   },
   "outputs": [
    {
     "data": {
      "text/plain": [
       "BenchmarkTools.Trial: \n",
       "  samples:          10000\n",
       "  evals/sample:     184\n",
       "  time tolerance:   5.00%\n",
       "  memory tolerance: 1.00%\n",
       "  memory estimate:  752.00 bytes\n",
       "  allocs estimate:  25\n",
       "  minimum time:     573.00 ns (0.00% GC)\n",
       "  median time:      630.00 ns (0.00% GC)\n",
       "  mean time:        740.58 ns (12.48% GC)\n",
       "  maximum time:     18.97 μs (93.66% GC)"
      ]
     },
     "execution_count": 12,
     "metadata": {},
     "output_type": "execute_result"
    }
   ],
   "source": [
    "simplex, pt_best = Gjk.gjk(acc)\n",
    "@benchmark Gjk.gjk($acc, $simplex, $pt_best)"
   ]
  },
  {
   "cell_type": "code",
   "execution_count": null,
   "metadata": {
    "collapsed": true
   },
   "outputs": [],
   "source": []
  }
 ],
 "metadata": {
  "kernelspec": {
   "display_name": "Julia 0.5.0",
   "language": "julia",
   "name": "julia-0.5"
  },
  "language_info": {
   "file_extension": ".jl",
   "mimetype": "application/julia",
   "name": "julia",
   "version": "0.5.0"
  }
 },
 "nbformat": 4,
 "nbformat_minor": 1
}
