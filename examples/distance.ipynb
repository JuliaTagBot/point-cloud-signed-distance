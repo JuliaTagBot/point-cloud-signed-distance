{
 "cells": [
  {
   "cell_type": "code",
   "execution_count": 1,
   "metadata": {
    "collapsed": false
   },
   "outputs": [
    {
     "name": "stdout",
     "output_type": "stream",
     "text": [
      "adding: /Users/rdeits/locomotion/explorations/point-cloud-signed-distance/packages/v0.5/DrakeVisualizer/src/lcmtypes to the python path\n"
     ]
    }
   ],
   "source": [
    "using GeometryTypes\n",
    "const gt = GeometryTypes\n",
    "using LCMGL\n",
    "using Meshing\n",
    "using DrakeVisualizer\n",
    "using BenchmarkTools"
   ]
  },
  {
   "cell_type": "code",
   "execution_count": 42,
   "metadata": {
    "collapsed": false
   },
   "outputs": [
    {
     "name": "stderr",
     "output_type": "stream",
     "text": [
      "WARNING: replacing module Gjk\n"
     ]
    },
    {
     "data": {
      "text/plain": [
       "Gjk"
      ]
     },
     "execution_count": 42,
     "metadata": {},
     "output_type": "execute_result"
    }
   ],
   "source": [
    "include(\"gjk.jl\")"
   ]
  },
  {
   "cell_type": "code",
   "execution_count": 43,
   "metadata": {
    "collapsed": false,
    "scrolled": false
   },
   "outputs": [
    {
     "name": "stdout",
     "output_type": "stream",
     "text": [
      "length(simplex) = 1\n",
      "N = 2\n",
      "length(simplex) = 2\n",
      "N = 2\n",
      "best_pt = Vec(1.0,0.0)\n"
     ]
    },
    {
     "data": {
      "text/plain": [
       "3-element Array{Gjk.Tagged{FixedSizeArrays.Vec{2,Float64},FixedSizeArrays.Vec{2,Float64}},1}:\n",
       " Gjk.Tagged{FixedSizeArrays.Vec{2,Float64},FixedSizeArrays.Vec{2,Float64}}(Vec(2.0,-1.0),Vec(2.0,-1.0))\n",
       " Gjk.Tagged{FixedSizeArrays.Vec{2,Float64},FixedSizeArrays.Vec{2,Float64}}(Vec(1.0,1.0),Vec(1.0,1.0))  \n",
       " Gjk.Tagged{FixedSizeArrays.Vec{2,Float64},FixedSizeArrays.Vec{2,Float64}}(Vec(1.0,-1.0),Vec(1.0,-1.0))"
      ]
     },
     "execution_count": 43,
     "metadata": {},
     "output_type": "execute_result"
    }
   ],
   "source": [
    "s = Simplex(Vec(2., -1), Vec(2.5, 0), Vec(2., 1), Vec(1., 1), Vec(1., -1))\n",
    "simplex, best_pt = Gjk.gjk(s)\n",
    "@show best_pt\n",
    "simplex._"
   ]
  },
  {
   "cell_type": "code",
   "execution_count": 44,
   "metadata": {
    "collapsed": false
   },
   "outputs": [
    {
     "name": "stdout",
     "output_type": "stream",
     "text": [
      "length(simplex) = 1\n",
      "N = 3\n",
      "length(simplex) = 2\n",
      "N = 3\n",
      "length(simplex) = 3\n",
      "N = 3\n",
      "best_pt = Vec(1.2000000000000002,-0.8999999999999999,0.0)\n"
     ]
    },
    {
     "data": {
      "text/plain": [
       "GeometryTypes.FlexibleSimplex{Gjk.Tagged{FixedSizeArrays.Vec{3,Float64},Tuple{Int64,FixedSizeArrays.Vec{3,Float64}}}}(Gjk.Tagged{FixedSizeArrays.Vec{3,Float64},Tuple{Int64,FixedSizeArrays.Vec{3,Float64}}}[Gjk.Tagged{FixedSizeArrays.Vec{3,Float64},Tuple{Int64,FixedSizeArrays.Vec{3,Float64}}}(Vec(1.2,-1.5,-0.6),(1,Vec(0.0,0.0,0.0))),Gjk.Tagged{FixedSizeArrays.Vec{3,Float64},Tuple{Int64,FixedSizeArrays.Vec{3,Float64}}}(Vec(1.41522,-0.75,0.3),(291,Vec(0.0,0.0,0.0))),Gjk.Tagged{FixedSizeArrays.Vec{3,Float64},Tuple{Int64,FixedSizeArrays.Vec{3,Float64}}}(Vec(1.12286,-1.05,-0.15),(45,Vec(0.0,0.0,0.0))),Gjk.Tagged{FixedSizeArrays.Vec{3,Float64},Tuple{Int64,FixedSizeArrays.Vec{3,Float64}}}(Vec(1.2,-0.9,0.0),(253,Vec(0.0,0.0,0.0)))])"
      ]
     },
     "execution_count": 44,
     "metadata": {},
     "output_type": "execute_result"
    }
   ],
   "source": [
    "mesh = DrakeVisualizer.contour_mesh(x -> sum((x - [2, -1.5, 0]).^2) - 1, [-1.5, -1.5, -1.5], [1.5, 1.5, 1.5])\n",
    "acc = Gjk.AcceleratedMesh(mesh)\n",
    "pt = Vec(0., 0, 0)\n",
    "md = gt.MinkowskiDifference(acc, pt)\n",
    "simplex, best_pt = Gjk.gjk(md)\n",
    "@show best_pt\n",
    "simplex"
   ]
  },
  {
   "cell_type": "code",
   "execution_count": 45,
   "metadata": {
    "collapsed": false
   },
   "outputs": [
    {
     "name": "stdout",
     "output_type": "stream",
     "text": [
      "length(simplex) = 1\n",
      "N = 3\n",
      "length(simplex) = 2\n",
      "N = 3\n",
      "length(simplex) = 3\n",
      "N = 3\n"
     ]
    }
   ],
   "source": [
    "mesh = DrakeVisualizer.contour_mesh(x -> sum((x - [2, -1.5, 0]).^2) - 1, [-1.5, -1.5, -1.5], [1.5, 1.5, 1.5])\n",
    "simplex = Gjk.gjk(mesh)[1]\n",
    "Visualizer(mesh)\n",
    "LCMGLClient(\"simplex\") do lcmgl\n",
    "    color(lcmgl, 1, 0, 0, 0.5)\n",
    "    for tagged in simplex._\n",
    "        sphere(lcmgl, [tagged.point...], 0.02, 20, 20)\n",
    "    end\n",
    "    color(lcmgl, 0, 0, 1, 0.5)\n",
    "    sphere(lcmgl, [0., 0, 0], 0.02, 20, 20)\n",
    "    switch_buffer(lcmgl)\n",
    "end"
   ]
  },
  {
   "cell_type": "code",
   "execution_count": 28,
   "metadata": {
    "collapsed": false,
    "scrolled": false
   },
   "outputs": [],
   "source": [
    "acc = Gjk.AcceleratedMesh(mesh)\n",
    "simplex, pt_best = Gjk.gjk(acc)\n",
    "Visualizer(mesh)\n",
    "LCMGLClient(\"simplex\") do lcmgl\n",
    "    color(lcmgl, 1, 0, 0, 0.5)\n",
    "    for tagged in simplex._\n",
    "        sphere(lcmgl, [tagged.point...], 0.02, 20, 20)\n",
    "    end\n",
    "    color(lcmgl, 0, 0, 1, 0.5)\n",
    "    sphere(lcmgl, [0., 0, 0], 0.02, 20, 20)\n",
    "    switch_buffer(lcmgl)\n",
    "end"
   ]
  },
  {
   "cell_type": "code",
   "execution_count": 20,
   "metadata": {
    "collapsed": false
   },
   "outputs": [
    {
     "data": {
      "text/plain": [
       "BenchmarkTools.Trial: \n",
       "  samples:          10000\n",
       "  evals/sample:     1\n",
       "  time tolerance:   5.00%\n",
       "  memory tolerance: 1.00%\n",
       "  memory estimate:  4.84 kb\n",
       "  allocs estimate:  103\n",
       "  minimum time:     11.80 μs (0.00% GC)\n",
       "  median time:      12.92 μs (0.00% GC)\n",
       "  mean time:        22.38 μs (33.45% GC)\n",
       "  maximum time:     74.95 ms (99.88% GC)"
      ]
     },
     "execution_count": 20,
     "metadata": {},
     "output_type": "execute_result"
    }
   ],
   "source": [
    "@benchmark Gjk.gjk($mesh)"
   ]
  },
  {
   "cell_type": "code",
   "execution_count": 21,
   "metadata": {
    "collapsed": false
   },
   "outputs": [
    {
     "data": {
      "text/plain": [
       "BenchmarkTools.Trial: \n",
       "  samples:          10000\n",
       "  evals/sample:     1\n",
       "  time tolerance:   5.00%\n",
       "  memory tolerance: 1.00%\n",
       "  memory estimate:  5.61 kb\n",
       "  allocs estimate:  135\n",
       "  minimum time:     12.09 μs (0.00% GC)\n",
       "  median time:      12.80 μs (0.00% GC)\n",
       "  mean time:        13.81 μs (5.67% GC)\n",
       "  maximum time:     4.37 ms (97.67% GC)"
      ]
     },
     "execution_count": 21,
     "metadata": {},
     "output_type": "execute_result"
    }
   ],
   "source": [
    "@benchmark Gjk.gjk($acc)"
   ]
  },
  {
   "cell_type": "code",
   "execution_count": 22,
   "metadata": {
    "collapsed": false
   },
   "outputs": [
    {
     "data": {
      "text/plain": [
       "BenchmarkTools.Trial: \n",
       "  samples:          10000\n",
       "  evals/sample:     10\n",
       "  time tolerance:   5.00%\n",
       "  memory tolerance: 1.00%\n",
       "  memory estimate:  704.00 bytes\n",
       "  allocs estimate:  23\n",
       "  minimum time:     1.86 μs (0.00% GC)\n",
       "  median time:      1.93 μs (0.00% GC)\n",
       "  mean time:        2.15 μs (3.93% GC)\n",
       "  maximum time:     322.45 μs (97.80% GC)"
      ]
     },
     "execution_count": 22,
     "metadata": {},
     "output_type": "execute_result"
    }
   ],
   "source": [
    "simplex, pt_best = Gjk.gjk(mesh)\n",
    "@benchmark Gjk.gjk($mesh, $simplex, $pt_best)"
   ]
  },
  {
   "cell_type": "code",
   "execution_count": 23,
   "metadata": {
    "collapsed": false
   },
   "outputs": [
    {
     "data": {
      "text/plain": [
       "BenchmarkTools.Trial: \n",
       "  samples:          10000\n",
       "  evals/sample:     10\n",
       "  time tolerance:   5.00%\n",
       "  memory tolerance: 1.00%\n",
       "  memory estimate:  704.00 bytes\n",
       "  allocs estimate:  24\n",
       "  minimum time:     1.11 μs (0.00% GC)\n",
       "  median time:      1.28 μs (0.00% GC)\n",
       "  mean time:        1.79 μs (7.19% GC)\n",
       "  maximum time:     568.16 μs (98.55% GC)"
      ]
     },
     "execution_count": 23,
     "metadata": {},
     "output_type": "execute_result"
    }
   ],
   "source": [
    "simplex, pt_best = Gjk.gjk(acc)\n",
    "@benchmark Gjk.gjk($acc, $simplex, $pt_best)"
   ]
  },
  {
   "cell_type": "code",
   "execution_count": null,
   "metadata": {
    "collapsed": true
   },
   "outputs": [],
   "source": []
  }
 ],
 "metadata": {
  "kernelspec": {
   "display_name": "Julia 0.5.0",
   "language": "julia",
   "name": "julia-0.5"
  },
  "language_info": {
   "file_extension": ".jl",
   "mimetype": "application/julia",
   "name": "julia",
   "version": "0.5.0"
  }
 },
 "nbformat": 4,
 "nbformat_minor": 1
}
