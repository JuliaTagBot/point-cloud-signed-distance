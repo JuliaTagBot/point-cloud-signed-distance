{
 "cells": [
  {
   "cell_type": "code",
   "execution_count": 90,
   "metadata": {
    "collapsed": false
   },
   "outputs": [],
   "source": [
    "using GeometryTypes\n",
    "const gt = GeometryTypes\n",
    "using LCMGL\n",
    "using Meshing\n",
    "using DrakeVisualizer\n",
    "using BenchmarkTools"
   ]
  },
  {
   "cell_type": "code",
   "execution_count": 218,
   "metadata": {
    "collapsed": false
   },
   "outputs": [
    {
     "name": "stderr",
     "output_type": "stream",
     "text": [
      "WARNING: replacing module Gjk\n"
     ]
    },
    {
     "data": {
      "text/plain": [
       "Gjk"
      ]
     },
     "execution_count": 218,
     "metadata": {},
     "output_type": "execute_result"
    }
   ],
   "source": [
    "include(\"gjk.jl\")"
   ]
  },
  {
   "cell_type": "code",
   "execution_count": 220,
   "metadata": {
    "collapsed": false,
    "scrolled": false
   },
   "outputs": [
    {
     "data": {
      "text/plain": [
       "(Gjk.Tagged{FixedSizeArrays.Vec{2,Float64}}[Gjk.Tagged{FixedSizeArrays.Vec{2,Float64}}(Vec(2.0,-1.0),0),Gjk.Tagged{FixedSizeArrays.Vec{2,Float64}}(Vec(1.0,1.0),0),Gjk.Tagged{FixedSizeArrays.Vec{2,Float64}}(Vec(1.0,-1.0),0)],Vec(1.0,0.0))"
      ]
     },
     "execution_count": 220,
     "metadata": {},
     "output_type": "execute_result"
    }
   ],
   "source": [
    "s = Simplex(Vec(2., -1), Vec(2.5, 0), Vec(2., 1), Vec(1., 1), Vec(1., -1))\n",
    "Gjk.gjk(s, 10)"
   ]
  },
  {
   "cell_type": "code",
   "execution_count": 222,
   "metadata": {
    "collapsed": false
   },
   "outputs": [],
   "source": [
    "mesh = DrakeVisualizer.contour_mesh(x -> sum((x - [2, -1.5, 0]).^2) - 1, [-1.5, -1.5, -1.5], [1.5, 1.5, 1.5])\n",
    "simplex = Gjk.gjk(mesh)[1]\n",
    "Visualizer(mesh)\n",
    "LCMGLClient(\"simplex\") do lcmgl\n",
    "    color(lcmgl, 1, 0, 0, 0.5)\n",
    "    for tagged in simplex\n",
    "        sphere(lcmgl, [tagged.point...], 0.02, 20, 20)\n",
    "    end\n",
    "    color(lcmgl, 0, 0, 1, 0.5)\n",
    "    sphere(lcmgl, [0., 0, 0], 0.02, 20, 20)\n",
    "    switch_buffer(lcmgl)\n",
    "end"
   ]
  },
  {
   "cell_type": "code",
   "execution_count": 227,
   "metadata": {
    "collapsed": false,
    "scrolled": false
   },
   "outputs": [],
   "source": [
    "acc = Gjk.AcceleratedMesh(mesh)\n",
    "simplex, pt_best = Gjk.gjk(acc)\n",
    "Visualizer(mesh)\n",
    "LCMGLClient(\"simplex\") do lcmgl\n",
    "    color(lcmgl, 1, 0, 0, 0.5)\n",
    "    for tagged in simplex\n",
    "        sphere(lcmgl, [tagged.point...], 0.02, 20, 20)\n",
    "    end\n",
    "    color(lcmgl, 0, 0, 1, 0.5)\n",
    "    sphere(lcmgl, [0., 0, 0], 0.02, 20, 20)\n",
    "    switch_buffer(lcmgl)\n",
    "end"
   ]
  },
  {
   "cell_type": "code",
   "execution_count": 224,
   "metadata": {
    "collapsed": false
   },
   "outputs": [
    {
     "data": {
      "text/plain": [
       "BenchmarkTools.Trial: \n",
       "  samples:          10000\n",
       "  evals/sample:     1\n",
       "  time tolerance:   5.00%\n",
       "  memory tolerance: 1.00%\n",
       "  memory estimate:  5.73 kb\n",
       "  allocs estimate:  161\n",
       "  minimum time:     51.33 μs (0.00% GC)\n",
       "  median time:      53.65 μs (0.00% GC)\n",
       "  mean time:        58.54 μs (2.46% GC)\n",
       "  maximum time:     8.41 ms (97.37% GC)"
      ]
     },
     "execution_count": 224,
     "metadata": {},
     "output_type": "execute_result"
    }
   ],
   "source": [
    "@benchmark Gjk.gjk($mesh)"
   ]
  },
  {
   "cell_type": "code",
   "execution_count": 225,
   "metadata": {
    "collapsed": false
   },
   "outputs": [
    {
     "data": {
      "text/plain": [
       "BenchmarkTools.Trial: \n",
       "  samples:          10000\n",
       "  evals/sample:     1\n",
       "  time tolerance:   5.00%\n",
       "  memory tolerance: 1.00%\n",
       "  memory estimate:  7.23 kb\n",
       "  allocs estimate:  193\n",
       "  minimum time:     55.56 μs (0.00% GC)\n",
       "  median time:      62.16 μs (0.00% GC)\n",
       "  mean time:        66.55 μs (2.53% GC)\n",
       "  maximum time:     6.25 ms (96.55% GC)"
      ]
     },
     "execution_count": 225,
     "metadata": {},
     "output_type": "execute_result"
    }
   ],
   "source": [
    "@benchmark Gjk.gjk($acc)"
   ]
  },
  {
   "cell_type": "code",
   "execution_count": 229,
   "metadata": {
    "collapsed": false
   },
   "outputs": [
    {
     "data": {
      "text/plain": [
       "BenchmarkTools.Trial: \n",
       "  samples:          10000\n",
       "  evals/sample:     9\n",
       "  time tolerance:   5.00%\n",
       "  memory tolerance: 1.00%\n",
       "  memory estimate:  736.00 bytes\n",
       "  allocs estimate:  26\n",
       "  minimum time:     2.36 μs (0.00% GC)\n",
       "  median time:      2.44 μs (0.00% GC)\n",
       "  mean time:        2.68 μs (3.91% GC)\n",
       "  maximum time:     562.17 μs (98.33% GC)"
      ]
     },
     "execution_count": 229,
     "metadata": {},
     "output_type": "execute_result"
    }
   ],
   "source": [
    "@benchmark Gjk.gjk($mesh, $simplex, $pt_best)"
   ]
  },
  {
   "cell_type": "code",
   "execution_count": 228,
   "metadata": {
    "collapsed": false
   },
   "outputs": [
    {
     "data": {
      "text/plain": [
       "BenchmarkTools.Trial: \n",
       "  samples:          10000\n",
       "  evals/sample:     10\n",
       "  time tolerance:   5.00%\n",
       "  memory tolerance: 1.00%\n",
       "  memory estimate:  784.00 bytes\n",
       "  allocs estimate:  27\n",
       "  minimum time:     1.50 μs (0.00% GC)\n",
       "  median time:      1.57 μs (0.00% GC)\n",
       "  mean time:        1.73 μs (7.62% GC)\n",
       "  maximum time:     506.83 μs (98.48% GC)"
      ]
     },
     "execution_count": 228,
     "metadata": {},
     "output_type": "execute_result"
    }
   ],
   "source": [
    "@benchmark Gjk.gjk($acc, $simplex, $pt_best)"
   ]
  }
 ],
 "metadata": {
  "kernelspec": {
   "display_name": "Julia 0.5.0",
   "language": "julia",
   "name": "julia-0.5"
  },
  "language_info": {
   "file_extension": ".jl",
   "mimetype": "application/julia",
   "name": "julia",
   "version": "0.5.0"
  }
 },
 "nbformat": 4,
 "nbformat_minor": 1
}
