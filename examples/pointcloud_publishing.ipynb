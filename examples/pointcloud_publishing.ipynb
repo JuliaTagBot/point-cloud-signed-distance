{
 "cells": [
  {
   "cell_type": "code",
   "execution_count": 89,
   "metadata": {
    "collapsed": false
   },
   "outputs": [],
   "source": [
    "using PyLCM\n",
    "using BotCoreLCMTypes"
   ]
  },
  {
   "cell_type": "code",
   "execution_count": 90,
   "metadata": {
    "collapsed": false
   },
   "outputs": [
    {
     "data": {
      "text/plain": [
       "PyLCM.LCM(PyObject <LCM object at 0x7f914a24eb10>)"
      ]
     },
     "execution_count": 90,
     "metadata": {},
     "output_type": "execute_result"
    }
   ],
   "source": [
    "lc = LCM()"
   ]
  },
  {
   "cell_type": "code",
   "execution_count": 92,
   "metadata": {
    "collapsed": false
   },
   "outputs": [
    {
     "ename": "LoadError",
     "evalue": "LoadError: InterruptException:\nwhile loading In[92], in expression starting on line 3",
     "output_type": "error",
     "traceback": [
      "LoadError: InterruptException:\nwhile loading In[92], in expression starting on line 3",
      "",
      " in macro expansion; at ./In[92]:9 [inlined]",
      " in anonymous at ./<missing>:?"
     ]
    }
   ],
   "source": [
    "num_points = 200\n",
    "\n",
    "for i in 1:100\n",
    "    for k in linspace(0, num_points, 1000)\n",
    "        msg = bot_core[:pointcloud_t]();\n",
    "\n",
    "        points = Vector{Float64}[]\n",
    "        for theta in linspace(0, 2pi, num_points)\n",
    "            push!(points, [cos(theta), sin(theta), 0.25])\n",
    "        end\n",
    "\n",
    "        msg[:n_points] = length(points)\n",
    "        msg[:points] = hcat(points...)'\n",
    "        msg[:n_channels] = 3\n",
    "        msg[:channel_names] = [\"r\", \"g\", \"b\"]\n",
    "        msg[:channels] = [((j - k) % num_points) / num_points for i in 1:3, j in 1:num_points]\n",
    "        publish(lc, \"DRAKE_POINTCLOUD_test2\", msg)\n",
    "    end\n",
    "end"
   ]
  },
  {
   "cell_type": "code",
   "execution_count": null,
   "metadata": {
    "collapsed": true
   },
   "outputs": [],
   "source": []
  }
 ],
 "metadata": {
  "kernelspec": {
   "display_name": "Julia 0.5.0",
   "language": "julia",
   "name": "julia-0.5"
  },
  "language_info": {
   "file_extension": ".jl",
   "mimetype": "application/julia",
   "name": "julia",
   "version": "0.5.0"
  }
 },
 "nbformat": 4,
 "nbformat_minor": 1
}
