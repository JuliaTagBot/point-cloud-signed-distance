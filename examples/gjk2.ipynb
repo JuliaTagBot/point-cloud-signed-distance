{
 "cells": [
  {
   "cell_type": "code",
   "execution_count": 15,
   "metadata": {
    "collapsed": false
   },
   "outputs": [],
   "source": [
    "using CoordinateTransformations\n",
    "using StaticArrays\n",
    "using GeometryTypes"
   ]
  },
  {
   "cell_type": "code",
   "execution_count": 78,
   "metadata": {
    "collapsed": false
   },
   "outputs": [
    {
     "name": "stderr",
     "output_type": "stream",
     "text": [
      "WARNING: replacing module Gjk2\n"
     ]
    },
    {
     "data": {
      "text/plain": [
       "Gjk2"
      ]
     },
     "execution_count": 78,
     "metadata": {},
     "output_type": "execute_result"
    }
   ],
   "source": [
    "include(\"gjk2.jl\")"
   ]
  },
  {
   "cell_type": "code",
   "execution_count": 79,
   "metadata": {
    "collapsed": false,
    "scrolled": false
   },
   "outputs": [
    {
     "name": "stdout",
     "output_type": "stream",
     "text": [
      "simplex = GeometryTypes.FlexibleSimplex{FixedSizeArrays.Vec{3,Float64}}(1-elementArray{FixedSizeArrays.Vec{3,Float64},1}:\n",
      " Vec(2.0,-1.0,0.0)\n",
      ")\n",
      "weights = [1.0]\n",
      "direction = Vec(-2.0,1.0,-0.0)\n",
      "best_point = Vec(2.0,-1.0,0.0)\n",
      "improved_point = Vec(1.0,1.0,0.0)\n",
      "simplex = GeometryTypes.FlexibleSimplex{FixedSizeArrays.Vec{3,Float64}}(2-elementArray{FixedSizeArrays.Vec{3,Float64},1}:\n",
      " Vec(2.0,-1.0,0.0)\n",
      " Vec(1.0,1.0,0.0)\n",
      ")\n",
      "weights = [0.2,0.8]\n",
      "direction = Vec(-1.2,-0.6000000000000001,-0.0)\n",
      "best_point = Vec(1.2,0.6000000000000001,0.0)\n",
      "improved_point = Vec(1.0,-1.0,0.0)\n",
      "simplex = GeometryTypes.FlexibleSimplex{FixedSizeArrays.Vec{3,Float64}}(3-elementArray{FixedSizeArrays.Vec{3,Float64},1}:\n",
      " Vec(2.0,-1.0,0.0)\n",
      " Vec(1.0,1.0,0.0)\n",
      " Vec(1.0,-1.0,0.0)\n",
      ")\n",
      "weights = [0.0,0.5,0.5]\n",
      "direction = Vec(-1.0,-0.0,-0.0)\n",
      "best_point = Vec(1.0,0.0,0.0)\n",
      "improved_point = Vec(1.0,1.0,0.0)\n"
     ]
    },
    {
     "data": {
      "text/plain": [
       "(Gjk2.Difference{FixedSizeArrays.Vec{3,Float64},FixedSizeArrays.Vec{3,Float64}}(Vec(1.0,0.0,0.0),Vec(0.0,0.0,0.0)),1.0)"
      ]
     },
     "execution_count": 79,
     "metadata": {},
     "output_type": "execute_result"
    }
   ],
   "source": [
    "s = Simplex(Vec(2., -1, 0), Vec(2.5, 0, 0), Vec(2., 1, 0), Vec(1., 1, 0), Vec(1., -1, 0))\n",
    "p = Vec(0., 0, 0)\n",
    "cache = Gjk2.CollisionCache(s, p)\n",
    "\n",
    "simplex, best_pt = Gjk2.gjk!(cache, IdentityTransformation(), IdentityTransformation())"
   ]
  },
  {
   "cell_type": "code",
   "execution_count": null,
   "metadata": {
    "collapsed": true
   },
   "outputs": [],
   "source": []
  }
 ],
 "metadata": {
  "kernelspec": {
   "display_name": "Julia 0.5.0",
   "language": "julia",
   "name": "julia-0.5"
  },
  "language_info": {
   "file_extension": ".jl",
   "mimetype": "application/julia",
   "name": "julia",
   "version": "0.5.0"
  }
 },
 "nbformat": 4,
 "nbformat_minor": 1
}
