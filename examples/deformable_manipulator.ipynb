{
 "cells": [
  {
   "cell_type": "code",
   "execution_count": 38,
   "metadata": {
    "collapsed": false
   },
   "outputs": [],
   "source": [
    "using Interact\n",
    "using CoordinateTransformations\n",
    "using LCMGL\n",
    "using ForwardDiff\n",
    "using RigidBodyDynamics\n",
    "using DataFrames"
   ]
  },
  {
   "cell_type": "code",
   "execution_count": 39,
   "metadata": {
    "collapsed": false
   },
   "outputs": [
    {
     "name": "stderr",
     "output_type": "stream",
     "text": [
      "WARNING: replacing module Flash\n",
      "WARNING: Method definition convert(Type{CoordinateTransformations.AffineMap}, RigidBodyDynamics.Transform3D) in module Flash at /home/rdeits/locomotion/explorations/point-cloud-signed-distance/packages/v0.5/Flash/src/Flash.jl:17 overwritten in module Flash at /home/rdeits/locomotion/explorations/point-cloud-signed-distance/packages/v0.5/Flash/src/Flash.jl:17.\n",
      "WARNING: Method definition value(AbstractArray{#T<:Any, N<:Any}) in module Flash at /home/rdeits/locomotion/explorations/point-cloud-signed-distance/packages/v0.5/Flash/src/Flash.jl:19 overwritten in module Flash at /home/rdeits/locomotion/explorations/point-cloud-signed-distance/packages/v0.5/Flash/src/Flash.jl:19.\n",
      "WARNING: Method definition value(CoordinateTransformations.AbstractAffineMap) in module Flash at /home/rdeits/locomotion/explorations/point-cloud-signed-distance/packages/v0.5/Flash/src/Flash.jl:20 overwritten in module Flash at /home/rdeits/locomotion/explorations/point-cloud-signed-distance/packages/v0.5/Flash/src/Flash.jl:20.\n"
     ]
    }
   ],
   "source": [
    "import Flash\n",
    "reload(\"Flash\")"
   ]
  },
  {
   "cell_type": "code",
   "execution_count": 40,
   "metadata": {
    "collapsed": false
   },
   "outputs": [
    {
     "data": {
      "text/plain": [
       "Flash.Manipulator{Float64}(Vertex: world (root)\n",
       "  Vertex: body1, Edge: joint1,Flash.Surface{Float64}[Flash.Surface{Float64}(DataStructures.OrderedDict(RigidBody: \"body1\"=>Flash.BodyGeometry{Float64}(RigidBodyDynamics.Point3D{Float64}[Point3D in \"body1\": [-1.0,0.0,0.0],Point3D in \"body1\": [1.0,0.0,0.0],Point3D in \"body1\": [0.0,-1.0,0.0],Point3D in \"body1\": [0.0,1.0,0.0],Point3D in \"body1\": [0.0,0.0,-1.0],Point3D in \"body1\": [0.0,0.0,1.0]],RigidBodyDynamics.Point3D{Float64}[Point3D in \"body1\": [0.0,0.0,0.0]])),Flash.DeformableSkin())])"
      ]
     },
     "execution_count": 40,
     "metadata": {},
     "output_type": "execute_result"
    }
   ],
   "source": [
    "model = Flash.Models.beanbag()"
   ]
  },
  {
   "cell_type": "code",
   "execution_count": 41,
   "metadata": {
    "collapsed": false
   },
   "outputs": [
    {
     "data": {
      "text/plain": [
       "DrakeVisualizer.Visualizer(DrakeVisualizer.Robot(DrakeVisualizer.Link[DrakeVisualizer.Link(DrakeVisualizer.GeometryData[DrakeVisualizer.GeometryData{CoordinateTransformations.IdentityTransformation,GeometryTypes.HomogenousMesh{FixedSizeArrays.Point{3,Float64},GeometryTypes.Face{3,Int64,0},Void,Void,Void,Void,Void}}(HomogenousMesh(\n",
       "    vertices: 5966xFixedSizeArrays.Point{3,Float64},     faces: 11928xGeometryTypes.Face{3,Int64,0}, )\n",
       ",CoordinateTransformations.IdentityTransformation(),RGBA{Float64}(1.0,0.0,0.0,0.5))],\"skin_1\")]),1,PyLCM.LCM(PyObject <LCM object at 0x7f43c0014bd0>))"
      ]
     },
     "execution_count": 41,
     "metadata": {},
     "output_type": "execute_result"
    }
   ],
   "source": [
    "state = Flash.ManipulatorState(model)\n",
    "Flash.draw(state)"
   ]
  },
  {
   "cell_type": "code",
   "execution_count": 42,
   "metadata": {
    "collapsed": false
   },
   "outputs": [
    {
     "data": {
      "text/html": [],
      "text/plain": [
       "Interact.Slider{Float64}(Signal{Float64}(0.0, nactions=0),\"x\",0.0,linspace(-1.0,1.0,51),true)"
      ]
     },
     "metadata": {},
     "output_type": "display_data"
    },
    {
     "data": {
      "text/plain": [
       "DrakeVisualizer.Visualizer(DrakeVisualizer.Robot(DrakeVisualizer.Link[DrakeVisualizer.Link(DrakeVisualizer.GeometryData[DrakeVisualizer.GeometryData{CoordinateTransformations.IdentityTransformation,GeometryTypes.HomogenousMesh{FixedSizeArrays.Point{3,Float64},GeometryTypes.Face{3,Int64,0},Void,Void,Void,Void,Void}}(HomogenousMesh(\n",
       "    vertices: 5966xFixedSizeArrays.Point{3,Float64},     faces: 11928xGeometryTypes.Face{3,Int64,0}, )\n",
       ",CoordinateTransformations.IdentityTransformation(),RGBA{Float64}(1.0,0.0,0.0,0.5))],\"skin_1\")]),1,PyLCM.LCM(PyObject <LCM object at 0x7f43c0014c00>))"
      ]
     },
     "execution_count": 42,
     "metadata": {
      "comm_id": "2c20a42a-2918-4aa6-b304-0d3ca3503366",
      "reactive": true
     },
     "output_type": "execute_result"
    }
   ],
   "source": [
    "geometry = collect(values(model.surfaces[1].geometries))[1]\n",
    "@manipulate for x = linspace(-1, 1, 51)\n",
    "    state.deformations[geometry][1][:] = [x, 0, 0]\n",
    "    Flash.draw(state)\n",
    "end"
   ]
  },
  {
   "cell_type": "code",
   "execution_count": 43,
   "metadata": {
    "collapsed": false
   },
   "outputs": [],
   "source": [
    "# Construct the sensor and draw its view rays for debugging\n",
    "sensor = Flash.DepthSensors.Kinect(80,80);\n",
    "camera_origin = [0., 0, 8]\n",
    "camera_tform = compose(Translation(camera_origin), LinearMap(AngleAxis(pi, 1, 0, 0)))\n",
    "Flash.DepthSensors.draw_rays(sensor, camera_tform)"
   ]
  },
  {
   "cell_type": "code",
   "execution_count": 44,
   "metadata": {
    "collapsed": false
   },
   "outputs": [
    {
     "data": {
      "text/plain": [
       "raycast (generic function with 3 methods)"
      ]
     },
     "execution_count": 44,
     "metadata": {},
     "output_type": "execute_result"
    }
   ],
   "source": [
    "function raycast(state::Flash.ManipulatorState)\n",
    "    Flash.draw(state)\n",
    "    surfaces = Flash.skin(state)\n",
    "    warn(\"only using the first surface\")\n",
    "    skin = surfaces[1]\n",
    "    \n",
    "    points = Flash.DepthSensors.raycast_points(skin, sensor, camera_tform)\n",
    "    LCMGLClient(\"raycast\") do lcmgl\n",
    "        LCMGL.color(lcmgl, 0, 1, 0)\n",
    "        point_size(lcmgl, 5)\n",
    "        begin_mode(lcmgl, LCMGL.POINTS)\n",
    "        for point in points\n",
    "            vertex(lcmgl, convert(Vector, point)...)\n",
    "        end\n",
    "        end_mode(lcmgl)\n",
    "        switch_buffer(lcmgl)\n",
    "    end\n",
    "    points\n",
    "end"
   ]
  },
  {
   "cell_type": "code",
   "execution_count": 45,
   "metadata": {
    "collapsed": false
   },
   "outputs": [
    {
     "data": {
      "text/plain": [
       "unflatten! (generic function with 3 methods)"
      ]
     },
     "execution_count": 45,
     "metadata": {},
     "output_type": "execute_result"
    }
   ],
   "source": [
    "function flatten(state::Flash.ManipulatorState)\n",
    "    vcat(state.mechanism_state.q, state.deformation_data)\n",
    "end\n",
    "\n",
    "function unflatten!{T}(state::Flash.ManipulatorState, data::AbstractVector{T})\n",
    "    nq = num_positions(state.mechanism_state)\n",
    "    set_configuration!(state.mechanism_state, data[1:nq])\n",
    "    state.deformation_data[:] = data[(nq + 1):end]\n",
    "end"
   ]
  },
  {
   "cell_type": "code",
   "execution_count": 46,
   "metadata": {
    "collapsed": false
   },
   "outputs": [
    {
     "data": {
      "text/plain": [
       "DrakeVisualizer.Visualizer(DrakeVisualizer.Robot(DrakeVisualizer.Link[DrakeVisualizer.Link(DrakeVisualizer.GeometryData[DrakeVisualizer.GeometryData{CoordinateTransformations.IdentityTransformation,GeometryTypes.HomogenousMesh{FixedSizeArrays.Point{3,Float64},GeometryTypes.Face{3,Int64,0},Void,Void,Void,Void,Void}}(HomogenousMesh(\n",
       "    vertices: 6382xFixedSizeArrays.Point{3,Float64},     faces: 12760xGeometryTypes.Face{3,Int64,0}, )\n",
       ",CoordinateTransformations.IdentityTransformation(),RGBA{Float64}(1.0,0.0,0.0,0.5))],\"skin_1\")]),1,PyLCM.LCM(PyObject <LCM object at 0x7f43c0014c30>))"
      ]
     },
     "execution_count": 46,
     "metadata": {},
     "output_type": "execute_result"
    }
   ],
   "source": [
    "true_state = Flash.ManipulatorState(model)\n",
    "true_state.mechanism_state.q[5:7] = 2 * rand(3)\n",
    "true_state.deformation_data[:] = 0.5 .* (rand(Float64, length(true_state.deformation_data)) .- 0.5)\n",
    "Flash.draw(true_state)"
   ]
  },
  {
   "cell_type": "code",
   "execution_count": 47,
   "metadata": {
    "collapsed": false
   },
   "outputs": [
    {
     "name": "stderr",
     "output_type": "stream",
     "text": [
      "WARNING: only using the first surface\n"
     ]
    },
    {
     "data": {
      "text/plain": [
       "(::#46) (generic function with 1 method)"
      ]
     },
     "execution_count": 47,
     "metadata": {},
     "output_type": "execute_result"
    }
   ],
   "source": [
    "x_true = flatten(true_state)\n",
    "\n",
    "sensed_points = raycast(true_state)\n",
    "\n",
    "cost = x -> begin\n",
    "    state = Flash.ManipulatorState(model, eltype(x), eltype(x))\n",
    "    unflatten!(state, x)\n",
    "    Flash.draw(state, false)\n",
    "    skin = Flash.skin(state)[1]\n",
    "    raycast_cost = sum(point -> skin(point)^2, sensed_points)\n",
    "    deformation_cost = zero(eltype(x))\n",
    "    for ld in values(state.deformations)\n",
    "        for d in ld\n",
    "            deformation_cost += sum(d .^2)\n",
    "        end\n",
    "    end\n",
    "    return raycast_cost + 10*deformation_cost\n",
    "end\n",
    "\n",
    "# Use autodiff to prepare a function that will evaluate the gradient\n",
    "# of that cost:\n",
    "cost_and_gradient = x -> begin\n",
    "    out = GradientResult(x)\n",
    "    ForwardDiff.gradient!(out, cost, x)\n",
    "    ForwardDiff.value(out), ForwardDiff.gradient(out)\n",
    "end"
   ]
  },
  {
   "cell_type": "code",
   "execution_count": 48,
   "metadata": {
    "collapsed": false
   },
   "outputs": [
    {
     "name": "stderr",
     "output_type": "stream",
     "text": [
      "WARNING: Method definition test_gradient_descent() in module Main at In[26]:4 overwritten at In[48]:4.\n"
     ]
    },
    {
     "data": {
      "text/plain": [
       "test_gradient_descent (generic function with 1 method)"
      ]
     },
     "execution_count": 48,
     "metadata": {},
     "output_type": "execute_result"
    }
   ],
   "source": [
    "trials = []\n",
    "\n",
    "function test_gradient_descent()\n",
    "    for i = 1:1\n",
    "        xs = []\n",
    "\n",
    "        x_estimated = flatten(Flash.ManipulatorState(model))\n",
    "\n",
    "        for i = 1:500\n",
    "            push!(xs, x_estimated)\n",
    "\n",
    "            # Evaluate the gradient of the point values w.r.t. the\n",
    "            # joint angles:\n",
    "            ci, gi = cost_and_gradient(x_estimated)\n",
    "\n",
    "            if any(isnan, gi)\n",
    "                @show x_estimated\n",
    "                error(\"NaN in gradient\")\n",
    "            end\n",
    "\n",
    "            # Descend the gradient\n",
    "            x_estimated -= 0.002 * gi\n",
    "            \n",
    "            # TODO: generalize this\n",
    "            x_estimated[1:4] = x_estimated[1:4] / norm(x_estimated[1:4])\n",
    "        end\n",
    "        push!(trials, DataFrame(x=xs))\n",
    "    end\n",
    "end"
   ]
  },
  {
   "cell_type": "code",
   "execution_count": 49,
   "metadata": {
    "collapsed": false
   },
   "outputs": [
    {
     "data": {
      "text/plain": [
       "DrakeVisualizer.Visualizer(DrakeVisualizer.Robot(DrakeVisualizer.Link[DrakeVisualizer.Link(DrakeVisualizer.GeometryData[DrakeVisualizer.GeometryData{CoordinateTransformations.IdentityTransformation,GeometryTypes.HomogenousMesh{FixedSizeArrays.Point{3,Float64},GeometryTypes.Face{3,Int64,0},Void,Void,Void,Void,Void}}(HomogenousMesh(\n",
       "    vertices: 6484xFixedSizeArrays.Point{3,Float64},     faces: 12964xGeometryTypes.Face{3,Int64,0}, )\n",
       ",CoordinateTransformations.IdentityTransformation(),RGBA{Float64}(1.0,0.0,0.0,0.5))],\"skin_1\")]),1,PyLCM.LCM(PyObject <LCM object at 0x7f43c0014c60>))"
      ]
     },
     "execution_count": 49,
     "metadata": {},
     "output_type": "execute_result"
    }
   ],
   "source": [
    "test_gradient_descent()\n",
    "state = Flash.ManipulatorState(model)\n",
    "unflatten!(state, trials[1][:x][end])\n",
    "Flash.draw(state)"
   ]
  },
  {
   "cell_type": "code",
   "execution_count": 50,
   "metadata": {
    "collapsed": true
   },
   "outputs": [],
   "source": [
    "using Ipopt\n",
    "using SimpleGradientDescent"
   ]
  },
  {
   "cell_type": "code",
   "execution_count": 51,
   "metadata": {
    "collapsed": false
   },
   "outputs": [],
   "source": [
    "x0 = flatten(Flash.ManipulatorState(model))\n",
    "num_vars = length(x0)\n",
    "solver = IpoptSolver(print_level=1)\n",
    "m = getmodel(GradientDescent(cost), num_vars, solver)\n",
    "setwarmstart!(m, x0);"
   ]
  },
  {
   "cell_type": "code",
   "execution_count": 52,
   "metadata": {
    "collapsed": false
   },
   "outputs": [
    {
     "data": {
      "text/plain": [
       "DrakeVisualizer.Visualizer(DrakeVisualizer.Robot(DrakeVisualizer.Link[DrakeVisualizer.Link(DrakeVisualizer.GeometryData[DrakeVisualizer.GeometryData{CoordinateTransformations.IdentityTransformation,GeometryTypes.HomogenousMesh{FixedSizeArrays.Point{3,Float64},GeometryTypes.Face{3,Int64,0},Void,Void,Void,Void,Void}}(HomogenousMesh(\n",
       "    vertices: 6192xFixedSizeArrays.Point{3,Float64},     faces: 12380xGeometryTypes.Face{3,Int64,0}, )\n",
       ",CoordinateTransformations.IdentityTransformation(),RGBA{Float64}(1.0,0.0,0.0,0.5))],\"skin_1\")]),1,PyLCM.LCM(PyObject <LCM object at 0x7f43c0014c90>))"
      ]
     },
     "execution_count": 52,
     "metadata": {},
     "output_type": "execute_result"
    }
   ],
   "source": [
    "optimize!(m)\n",
    "x = getsolution(m)\n",
    "state = Flash.ManipulatorState(model)\n",
    "unflatten!(state, x)\n",
    "Flash.draw(state)"
   ]
  },
  {
   "cell_type": "code",
   "execution_count": null,
   "metadata": {
    "collapsed": true
   },
   "outputs": [],
   "source": []
  }
 ],
 "metadata": {
  "kernelspec": {
   "display_name": "Julia 0.5.0",
   "language": "julia",
   "name": "julia-0.5"
  },
  "language_info": {
   "file_extension": ".jl",
   "mimetype": "application/julia",
   "name": "julia",
   "version": "0.5.0"
  }
 },
 "nbformat": 4,
 "nbformat_minor": 0
}
