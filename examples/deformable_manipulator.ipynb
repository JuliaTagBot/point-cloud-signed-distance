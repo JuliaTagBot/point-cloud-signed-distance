{
 "cells": [
  {
   "cell_type": "code",
   "execution_count": 1,
   "metadata": {
    "collapsed": false
   },
   "outputs": [
    {
     "data": {
      "text/html": [
       "<div id=\"interact-js-shim\">\n",
       "    <script charset=\"utf-8\">\n",
       "(function (IPython, $, _, MathJax) {\n",
       "    $.event.special.destroyed = {\n",
       "\tremove: function(o) {\n",
       "\t    if (o.handler) {\n",
       "\t\to.handler.apply(this, arguments)\n",
       "\t    }\n",
       "\t}\n",
       "    }\n",
       "\n",
       "    var OutputArea = IPython.version >= \"4.0.0\" ? require(\"notebook/js/outputarea\").OutputArea : IPython.OutputArea;\n",
       "\n",
       "    var redrawValue = function (container, type, val) {\n",
       "\tvar selector = $(\"<div/>\");\n",
       "\tvar oa = new OutputArea(_.extend(selector, {\n",
       "\t    selector: selector,\n",
       "\t    prompt_area: true,\n",
       "\t    events: IPython.events,\n",
       "\t    keyboard_manager: IPython.keyboard_manager\n",
       "\t})); // Hack to work with IPython 2.1.0\n",
       "\n",
       "\tswitch (type) {\n",
       "\tcase \"image/png\":\n",
       "            var _src = 'data:' + type + ';base64,' + val;\n",
       "\t    $(container).find(\"img\").attr('src', _src);\n",
       "\t    break;\n",
       "\tcase \"text/latex\":\n",
       "\t\tif (MathJax){\n",
       "\t\t\tvar math = MathJax.Hub.getAllJax(container)[0];\n",
       "\t\t\tMathJax.Hub.Queue([\"Text\", math, val.replace(/^\\${1,2}|\\${1,2}$/g, '')]);\n",
       "\t\t\tbreak;\n",
       "\t\t}\n",
       "\tdefault:\n",
       "\t    var toinsert = OutputArea.append_map[type].apply(\n",
       "\t\toa, [val, {}, selector]\n",
       "\t    );\n",
       "\t    $(container).empty().append(toinsert.contents());\n",
       "\t    selector.remove();\n",
       "\t}\n",
       "    }\n",
       "\n",
       "\n",
       "    $(document).ready(function() {\n",
       "\tfunction initComm(evt, data) {\n",
       "\t    var comm_manager = data.kernel.comm_manager;\n",
       "        //_.extend(comm_manager.targets, require(\"widgets/js/widget\"))\n",
       "\t    comm_manager.register_target(\"Signal\", function (comm) {\n",
       "            comm.on_msg(function (msg) {\n",
       "                var val = msg.content.data.value;\n",
       "                $(\".signal-\" + comm.comm_id).each(function() {\n",
       "                var type = $(this).data(\"type\");\n",
       "                if (typeof(val[type]) !== \"undefined\" && val[type] !== null) {\n",
       "                    redrawValue(this, type, val[type], type);\n",
       "                }\n",
       "                });\n",
       "                delete val;\n",
       "                delete msg.content.data.value;\n",
       "            });\n",
       "\t    });\n",
       "\n",
       "\t    // coordingate with Comm and redraw Signals\n",
       "\t    // XXX: Test using Reactive here to improve performance\n",
       "\t    $([IPython.events]).on(\n",
       "\t\t'output_appended.OutputArea', function (event, type, value, md, toinsert) {\n",
       "\t\t    if (md && md.reactive) {\n",
       "                // console.log(md.comm_id);\n",
       "                toinsert.addClass(\"signal-\" + md.comm_id);\n",
       "                toinsert.data(\"type\", type);\n",
       "                // Signal back indicating the mimetype required\n",
       "                var comm_manager = IPython.notebook.kernel.comm_manager;\n",
       "                var comm = comm_manager.comms[md.comm_id];\n",
       "                comm.then(function (c) {\n",
       "                    c.send({action: \"subscribe_mime\",\n",
       "                       mime: type});\n",
       "                    toinsert.bind(\"destroyed\", function() {\n",
       "                        c.send({action: \"unsubscribe_mime\",\n",
       "                               mime: type});\n",
       "                    });\n",
       "                })\n",
       "\t\t    }\n",
       "\t    });\n",
       "\t}\n",
       "\n",
       "\ttry {\n",
       "\t    // try to initialize right away. otherwise, wait on the status_started event.\n",
       "\t    initComm(undefined, IPython.notebook);\n",
       "\t} catch (e) {\n",
       "\t    $([IPython.events]).on('kernel_created.Kernel kernel_created.Session', initComm);\n",
       "\t}\n",
       "    });\n",
       "})(IPython, jQuery, _, MathJax);\n",
       "</script>\n",
       "    <script>\n",
       "        window.interactLoadedFlag = true\n",
       "       $(\"#interact-js-shim\").bind(\"destroyed\", function () {\n",
       "           if (window.interactLoadedFlag) {\n",
       "               console.warn(\"JavaScript required by Interact will be removed if you remove this cell or run using Interact more than once.\")\n",
       "           }\n",
       "       })\n",
       "       $([IPython.events]).on(\"kernel_starting.Kernel kernel_restarting.Kernel\", function () { window.interactLoadedFlag = false })\n",
       "   </script>\n",
       "</div>"
      ]
     },
     "metadata": {},
     "output_type": "display_data"
    }
   ],
   "source": [
    "using Interact\n",
    "using CoordinateTransformations\n",
    "using RigidBodyDynamics\n",
    "using DataFrames\n",
    "using SimpleGradientDescent\n",
    "using ProfileView\n",
    "using DrakeVisualizer\n",
    "import Flash\n",
    "using Ipopt"
   ]
  },
  {
   "cell_type": "code",
   "execution_count": 22,
   "metadata": {
    "collapsed": false
   },
   "outputs": [
    {
     "data": {
      "text/plain": [
       "Process(`/Users/rdeits/locomotion/explorations/point-cloud-signed-distance/packages/v0.5/DrakeVisualizer/src/../deps/usr/bin/drake-visualizer`, ProcessRunning)"
      ]
     },
     "execution_count": 22,
     "metadata": {},
     "output_type": "execute_result"
    }
   ],
   "source": [
    "DrakeVisualizer.any_open_windows() || DrakeVisualizer.new_window()"
   ]
  },
  {
   "cell_type": "code",
   "execution_count": 3,
   "metadata": {
    "collapsed": false
   },
   "outputs": [
    {
     "name": "stderr",
     "output_type": "stream",
     "text": [
      "WARNING: replacing module Flash\n",
      "WARNING: Method definition value(CoordinateTransformations.AbstractAffineMap) in module Flash at /Users/rdeits/locomotion/explorations/point-cloud-signed-distance/packages/v0.5/Flash/src/Flash.jl:31 overwritten in module Flash at /Users/rdeits/locomotion/explorations/point-cloud-signed-distance/packages/v0.5/Flash/src/Flash.jl:31.\n",
      "WARNING: Method definition normalize!(RigidBodyDynamics.MechanismState, Any, RigidBodyDynamics.JointType) in module GradientDescent at /Users/rdeits/locomotion/explorations/point-cloud-signed-distance/packages/v0.5/Flash/src/gradientdescent.jl:19 overwritten in module GradientDescent at /Users/rdeits/locomotion/explorations/point-cloud-signed-distance/packages/v0.5/Flash/src/gradientdescent.jl:19.\n",
      "WARNING: Method definition normalize!(RigidBodyDynamics.MechanismState, Any, RigidBodyDynamics.QuaternionFloating) in module GradientDescent at /Users/rdeits/locomotion/explorations/point-cloud-signed-distance/packages/v0.5/Flash/src/gradientdescent.jl:21 overwritten in module GradientDescent at /Users/rdeits/locomotion/explorations/point-cloud-signed-distance/packages/v0.5/Flash/src/gradientdescent.jl:21.\n",
      "WARNING: Method definition normalize!(RigidBodyDynamics.MechanismState, Any) in module GradientDescent at /Users/rdeits/locomotion/explorations/point-cloud-signed-distance/packages/v0.5/Flash/src/gradientdescent.jl:25 overwritten in module GradientDescent at /Users/rdeits/locomotion/explorations/point-cloud-signed-distance/packages/v0.5/Flash/src/gradientdescent.jl:25.\n",
      "WARNING: Method definition normalize!(RigidBodyDynamics.MechanismState) in module GradientDescent at /Users/rdeits/locomotion/explorations/point-cloud-signed-distance/packages/v0.5/Flash/src/gradientdescent.jl:26 overwritten in module GradientDescent at /Users/rdeits/locomotion/explorations/point-cloud-signed-distance/packages/v0.5/Flash/src/gradientdescent.jl:26.\n"
     ]
    }
   ],
   "source": [
    "reload(\"Flash\")"
   ]
  },
  {
   "cell_type": "code",
   "execution_count": 21,
   "metadata": {
    "collapsed": false
   },
   "outputs": [
    {
     "data": {
      "text/plain": [
       "Set{Array{Symbol,1}}()"
      ]
     },
     "execution_count": 21,
     "metadata": {},
     "output_type": "execute_result"
    }
   ],
   "source": [
    "vis = Visualizer()\n",
    "delete!(vis)"
   ]
  },
  {
   "cell_type": "code",
   "execution_count": 23,
   "metadata": {
    "collapsed": false
   },
   "outputs": [],
   "source": [
    "model = Flash.Models.beanbag()\n",
    "state = Flash.ManipulatorState(model)\n",
    "setgeometry!(vis[:robot], model)\n",
    "settransform!(vis[:robot], state)\n",
    "Flash.draw_skin!(vis[:skin], state)"
   ]
  },
  {
   "cell_type": "code",
   "execution_count": 24,
   "metadata": {
    "collapsed": false
   },
   "outputs": [
    {
     "data": {
      "text/html": [],
      "text/plain": [
       "Interact.Options{:SelectionSlider,Float64}(Signal{Float64}(-0.01, nactions=1),\"x\",-0.01,\"-0.01\",Interact.OptionDict(DataStructures.OrderedDict(\"-1.01\"=>-1.01,\"-0.97\"=>-0.97,\"-0.93\"=>-0.93,\"-0.89\"=>-0.89,\"-0.85\"=>-0.85,\"-0.81\"=>-0.81,\"-0.77\"=>-0.77,\"-0.73\"=>-0.73,\"-0.69\"=>-0.69,\"-0.65\"=>-0.65…),Dict(-0.45=>\"-0.45\",0.35=>\"0.35\",-0.29=>\"-0.29\",-0.85=>\"-0.85\",-0.17=>\"-0.17\",0.67=>\"0.67\",0.71=>\"0.71\",0.83=>\"0.83\",-0.97=>\"-0.97\",-0.61=>\"-0.61\"…)),Any[],Any[],true,\"horizontal\")"
      ]
     },
     "metadata": {},
     "output_type": "display_data"
    }
   ],
   "source": [
    "geometry = model.surfaces[1]\n",
    "@manipulate for x = linspace(-1.01, 0.99, 51)\n",
    "    state.deformations[geometry][1][:] = [x, 0, 0]\n",
    "    Flash.draw_skin!(vis[:skin], state)\n",
    "end;"
   ]
  },
  {
   "cell_type": "code",
   "execution_count": 25,
   "metadata": {
    "collapsed": false
   },
   "outputs": [
    {
     "data": {
      "text/plain": [
       "Set{Array{Symbol,1}}()"
      ]
     },
     "execution_count": 25,
     "metadata": {},
     "output_type": "execute_result"
    }
   ],
   "source": [
    "# Construct the sensor and draw its view rays for debugging\n",
    "sensor = Flash.DepthSensors.Kinect(80,80);\n",
    "camera_origin = [0., 0, 8]\n",
    "camera_tform = compose(Translation(camera_origin), LinearMap(AngleAxis(pi, 1, 0, 0)))\n",
    "Flash.DepthSensors.draw_rays(vis[:sensor], sensor, camera_tform)"
   ]
  },
  {
   "cell_type": "code",
   "execution_count": 31,
   "metadata": {
    "collapsed": false
   },
   "outputs": [],
   "source": [
    "true_state = Flash.ManipulatorState(model)\n",
    "true_state.mechanism_state.q[5:7] = 2 * rand(3)\n",
    "true_state.deformation_data[:] = 0.5 .* (rand(Float64, length(true_state.deformation_data)) .- 0.5)\n",
    "settransform!(vis[:robot], true_state)\n",
    "Flash.draw_skin!(vis[:skin], true_state)"
   ]
  },
  {
   "cell_type": "code",
   "execution_count": 32,
   "metadata": {
    "collapsed": false
   },
   "outputs": [
    {
     "data": {
      "text/plain": [
       "Visualizer with path prefix Symbol[:sensed_points] using LCM LCMCore.LCM(Ptr{Void} @0x00007fd4afb59db0,\"\",RawFD(60),LCMCore.Subscription[LCMCore.Subscription{LCMCore.SubscriptionOptions{DrakeVisualizer.Comms.CommsT,DrakeVisualizer.#handle_msg#7{DrakeVisualizer.CoreVisualizer}}}(LCMCore.SubscriptionOptions{DrakeVisualizer.Comms.CommsT,DrakeVisualizer.#handle_msg#7{DrakeVisualizer.CoreVisualizer}}(DrakeVisualizer.Comms.CommsT,DrakeVisualizer.handle_msg),Ptr{Void} @0x00007fd4adbd8970)])"
      ]
     },
     "execution_count": 32,
     "metadata": {},
     "output_type": "execute_result"
    }
   ],
   "source": [
    "# Now we can raycast that true state to get a set of sensed points:\n",
    "sensed_points = Flash.DepthSensors.raycast(true_state, sensor, camera_tform)\n",
    "setgeometry!(vis[:sensed_points], PointCloud(sensed_points))"
   ]
  },
  {
   "cell_type": "code",
   "execution_count": 33,
   "metadata": {
    "collapsed": false
   },
   "outputs": [
    {
     "name": "stderr",
     "output_type": "stream",
     "text": [
      "WARNING: Method definition test_gradient_descent(Any, Any, Any, Any) in module Main at In[28]:2 overwritten at In[33]:2.\n"
     ]
    },
    {
     "data": {
      "text/plain": [
       "test_gradient_descent (generic function with 1 method)"
      ]
     },
     "execution_count": 33,
     "metadata": {},
     "output_type": "execute_result"
    }
   ],
   "source": [
    "function test_gradient_descent(model, sensed_points, true_state, loops)\n",
    "    x_true = copy(Flash.flatten(true_state))\n",
    "    trials = Vector{DataFrame}()\n",
    "    solver = NaiveSolver(length(x_true); rate=1.0, max_step=0.1, iteration_limit=2000)\n",
    "#     solver = IpoptSolver()\n",
    "    \n",
    "    for i = 1:loops\n",
    "        xs = Vector{Float64}[]\n",
    "        costs = Float64[]\n",
    "        \n",
    "        function callback{T}(x::AbstractVector{T}, c)\n",
    "            x_value = Flash.value.(x)\n",
    "            state = Flash.ManipulatorState(model)\n",
    "            Flash.GradientDescent.unflatten!(state, x_value)\n",
    "            settransform!(vis[:robot], state)\n",
    "            push!(xs, x_value)\n",
    "            push!(costs, Flash.value(c))\n",
    "        end\n",
    "        \n",
    "        x_estimated = Flash.flatten(Flash.ManipulatorState(model))\n",
    "        Flash.Tracking.estimate_state(model, sensed_points, x_estimated; callback=callback, solver=solver)\n",
    "        push!(trials, DataFrame(x=xs, cost=costs))\n",
    "        \n",
    "        state = Flash.ManipulatorState(model)\n",
    "        Flash.GradientDescent.unflatten!(state, xs[end])\n",
    "        settransform!(vis[:robot], state)\n",
    "        Flash.draw_skin!(vis[:skin], state)\n",
    "    end\n",
    "    trials\n",
    "end\n"
   ]
  },
  {
   "cell_type": "code",
   "execution_count": 35,
   "metadata": {
    "collapsed": false,
    "scrolled": true
   },
   "outputs": [],
   "source": [
    "test_gradient_descent(model, sensed_points, true_state, 1);"
   ]
  },
  {
   "cell_type": "code",
   "execution_count": 10,
   "metadata": {
    "collapsed": true
   },
   "outputs": [],
   "source": []
  }
 ],
 "metadata": {
  "kernelspec": {
   "display_name": "Julia 0.5.0",
   "language": "julia",
   "name": "julia-0.5"
  },
  "language_info": {
   "file_extension": ".jl",
   "mimetype": "application/julia",
   "name": "julia",
   "version": "0.5.0"
  },
  "widgets": {
   "state": {
    "b4b5e931-8ffe-4f31-88a7-0d52d3679338": {
     "views": [
      {
       "cell_index": 5
      }
     ]
    }
   },
   "version": "1.2.0"
  }
 },
 "nbformat": 4,
 "nbformat_minor": 0
}
