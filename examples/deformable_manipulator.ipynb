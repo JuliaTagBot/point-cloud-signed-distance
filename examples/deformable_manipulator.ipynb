{
 "cells": [
  {
   "cell_type": "code",
   "execution_count": 1,
   "metadata": {
    "collapsed": false
   },
   "outputs": [
    {
     "data": {
      "text/html": [
       "<div id=\"interact-js-shim\">\n",
       "    <script charset=\"utf-8\">\n",
       "(function (IPython, $, _, MathJax) {\n",
       "    $.event.special.destroyed = {\n",
       "\tremove: function(o) {\n",
       "\t    if (o.handler) {\n",
       "\t\to.handler.apply(this, arguments)\n",
       "\t    }\n",
       "\t}\n",
       "    }\n",
       "\n",
       "    var OutputArea = IPython.version >= \"4.0.0\" ? require(\"notebook/js/outputarea\").OutputArea : IPython.OutputArea;\n",
       "\n",
       "    var redrawValue = function (container, type, val) {\n",
       "\tvar selector = $(\"<div/>\");\n",
       "\tvar oa = new OutputArea(_.extend(selector, {\n",
       "\t    selector: selector,\n",
       "\t    prompt_area: true,\n",
       "\t    events: IPython.events,\n",
       "\t    keyboard_manager: IPython.keyboard_manager\n",
       "\t})); // Hack to work with IPython 2.1.0\n",
       "\n",
       "\tswitch (type) {\n",
       "\tcase \"image/png\":\n",
       "            var _src = 'data:' + type + ';base64,' + val;\n",
       "\t    $(container).find(\"img\").attr('src', _src);\n",
       "\t    break;\n",
       "\tdefault:\n",
       "\t    var toinsert = OutputArea.append_map[type].apply(\n",
       "\t\toa, [val, {}, selector]\n",
       "\t    );\n",
       "\t    $(container).empty().append(toinsert.contents());\n",
       "\t    selector.remove();\n",
       "\t}\n",
       "\tif (type === \"text/latex\" && MathJax) {\n",
       "\t    MathJax.Hub.Queue([\"Typeset\", MathJax.Hub, toinsert.get(0)]);\n",
       "\t}\n",
       "    }\n",
       "\n",
       "\n",
       "    $(document).ready(function() {\n",
       "\tfunction initComm(evt, data) {\n",
       "\t    var comm_manager = data.kernel.comm_manager;\n",
       "        //_.extend(comm_manager.targets, require(\"widgets/js/widget\"))\n",
       "\t    comm_manager.register_target(\"Signal\", function (comm) {\n",
       "            comm.on_msg(function (msg) {\n",
       "                //Widgets.log(\"message received\", msg);\n",
       "                var val = msg.content.data.value;\n",
       "                $(\".signal-\" + comm.comm_id).each(function() {\n",
       "                var type = $(this).data(\"type\");\n",
       "                if (val[type]) {\n",
       "                    redrawValue(this, type, val[type], type);\n",
       "                }\n",
       "                });\n",
       "                delete val;\n",
       "                delete msg.content.data.value;\n",
       "            });\n",
       "\t    });\n",
       "\n",
       "\t    // coordingate with Comm and redraw Signals\n",
       "\t    // XXX: Test using Reactive here to improve performance\n",
       "\t    $([IPython.events]).on(\n",
       "\t\t'output_appended.OutputArea', function (event, type, value, md, toinsert) {\n",
       "\t\t    if (md && md.reactive) {\n",
       "                // console.log(md.comm_id);\n",
       "                toinsert.addClass(\"signal-\" + md.comm_id);\n",
       "                toinsert.data(\"type\", type);\n",
       "                // Signal back indicating the mimetype required\n",
       "                var comm_manager = IPython.notebook.kernel.comm_manager;\n",
       "                var comm = comm_manager.comms[md.comm_id];\n",
       "                comm.then(function (c) {\n",
       "                    c.send({action: \"subscribe_mime\",\n",
       "                       mime: type});\n",
       "                    toinsert.bind(\"destroyed\", function() {\n",
       "                        c.send({action: \"unsubscribe_mime\",\n",
       "                               mime: type});\n",
       "                    });\n",
       "                })\n",
       "\t\t    }\n",
       "\t    });\n",
       "\t}\n",
       "\n",
       "\ttry {\n",
       "\t    // try to initialize right away. otherwise, wait on the status_started event.\n",
       "\t    initComm(undefined, IPython.notebook);\n",
       "\t} catch (e) {\n",
       "\t    $([IPython.events]).on('kernel_created.Kernel kernel_created.Session', initComm);\n",
       "\t}\n",
       "    });\n",
       "})(IPython, jQuery, _, MathJax);\n",
       "</script>\n",
       "    <script>\n",
       "        window.interactLoadedFlag = true\n",
       "       $(\"#interact-js-shim\").bind(\"destroyed\", function () {\n",
       "           if (window.interactLoadedFlag) {\n",
       "               console.warn(\"JavaScript required by Interact will be removed if you remove this cell or run using Interact more than once.\")\n",
       "           }\n",
       "       })\n",
       "       $([IPython.events]).on(\"kernel_starting.Kernel kernel_restarting.Kernel\", function () { window.interactLoadedFlag = false })\n",
       "   </script>\n",
       "</div>"
      ]
     },
     "metadata": {},
     "output_type": "display_data"
    },
    {
     "name": "stdout",
     "output_type": "stream",
     "text": [
      "adding: /Users/rdeits/locomotion/explorations/point-cloud-signed-distance/packages/v0.5/DrakeVisualizer/src/lcmtypes to the python path\n"
     ]
    }
   ],
   "source": [
    "using Interact\n",
    "using CoordinateTransformations\n",
    "using RigidBodyDynamics\n",
    "using DataFrames\n",
    "using SimpleGradientDescent\n",
    "using ProfileView\n",
    "import Flash\n",
    "using Ipopt"
   ]
  },
  {
   "cell_type": "code",
   "execution_count": 2,
   "metadata": {
    "collapsed": false
   },
   "outputs": [
    {
     "name": "stderr",
     "output_type": "stream",
     "text": [
      "WARNING: replacing module Flash\n",
      "WARNING: Method definition value(CoordinateTransformations.AbstractAffineMap) in module Flash at /Users/rdeits/locomotion/explorations/point-cloud-signed-distance/packages/v0.5/Flash/src/Flash.jl:23 overwritten in module Flash at /Users/rdeits/locomotion/explorations/point-cloud-signed-distance/packages/v0.5/Flash/src/Flash.jl:23.\n",
      "WARNING: Method definition normalize!(RigidBodyDynamics.MechanismState, Any, RigidBodyDynamics.JointType) in module GradientDescent at /Users/rdeits/locomotion/explorations/point-cloud-signed-distance/packages/v0.5/Flash/src/gradientdescent.jl:19 overwritten in module GradientDescent at /Users/rdeits/locomotion/explorations/point-cloud-signed-distance/packages/v0.5/Flash/src/gradientdescent.jl:19.\n",
      "WARNING: Method definition normalize!(RigidBodyDynamics.MechanismState, Any, RigidBodyDynamics.QuaternionFloating) in module GradientDescent at /Users/rdeits/locomotion/explorations/point-cloud-signed-distance/packages/v0.5/Flash/src/gradientdescent.jl:21 overwritten in module GradientDescent at /Users/rdeits/locomotion/explorations/point-cloud-signed-distance/packages/v0.5/Flash/src/gradientdescent.jl:21.\n",
      "WARNING: Method definition normalize!(RigidBodyDynamics.MechanismState, Any) in module GradientDescent at /Users/rdeits/locomotion/explorations/point-cloud-signed-distance/packages/v0.5/Flash/src/gradientdescent.jl:25 overwritten in module GradientDescent at /Users/rdeits/locomotion/explorations/point-cloud-signed-distance/packages/v0.5/Flash/src/gradientdescent.jl:25.\n",
      "WARNING: Method definition normalize!(RigidBodyDynamics.MechanismState) in module GradientDescent at /Users/rdeits/locomotion/explorations/point-cloud-signed-distance/packages/v0.5/Flash/src/gradientdescent.jl:26 overwritten in module GradientDescent at /Users/rdeits/locomotion/explorations/point-cloud-signed-distance/packages/v0.5/Flash/src/gradientdescent.jl:26.\n"
     ]
    }
   ],
   "source": [
    "reload(\"Flash\")"
   ]
  },
  {
   "cell_type": "code",
   "execution_count": 3,
   "metadata": {
    "collapsed": false
   },
   "outputs": [],
   "source": [
    "model = Flash.Models.beanbag()\n",
    "state = Flash.ManipulatorState(model)\n",
    "Flash.draw(state, true);"
   ]
  },
  {
   "cell_type": "code",
   "execution_count": 4,
   "metadata": {
    "collapsed": false
   },
   "outputs": [
    {
     "data": {
      "text/html": [],
      "text/plain": [
       "Interact.Slider{Float64}(Signal{Float64}(0.0, nactions=0),\"x\",0.0,linspace(-1.0,1.0,51),\".3f\",true)"
      ]
     },
     "metadata": {},
     "output_type": "display_data"
    }
   ],
   "source": [
    "geometry = model.surfaces[1]\n",
    "@manipulate for x = linspace(-1, 1, 51)\n",
    "    state.deformations[geometry][1][:] = [x, 0, 0]\n",
    "    Flash.draw(state)\n",
    "end;"
   ]
  },
  {
   "cell_type": "code",
   "execution_count": 5,
   "metadata": {
    "collapsed": false
   },
   "outputs": [],
   "source": [
    "# Construct the sensor and draw its view rays for debugging\n",
    "sensor = Flash.DepthSensors.Kinect(80,80);\n",
    "camera_origin = [0., 0, 8]\n",
    "camera_tform = compose(Translation(camera_origin), LinearMap(AngleAxis(pi, 1, 0, 0)))\n",
    "Flash.DepthSensors.draw_rays(sensor, camera_tform)"
   ]
  },
  {
   "cell_type": "code",
   "execution_count": 6,
   "metadata": {
    "collapsed": false
   },
   "outputs": [],
   "source": [
    "true_state = Flash.ManipulatorState(model)\n",
    "true_state.mechanism_state.q[5:7] = 2 * rand(3)\n",
    "true_state.deformation_data[:] = 0.5 .* (rand(Float64, length(true_state.deformation_data)) .- 0.5)\n",
    "Flash.draw(true_state);"
   ]
  },
  {
   "cell_type": "code",
   "execution_count": 7,
   "metadata": {
    "collapsed": false
   },
   "outputs": [],
   "source": [
    "# Now we can raycast that true state to get a set of sensed points:\n",
    "sensed_points = Flash.DepthSensors.raycast(true_state, sensor, camera_tform)\n",
    "Flash.DepthSensors.draw_points(sensed_points)"
   ]
  },
  {
   "cell_type": "code",
   "execution_count": 8,
   "metadata": {
    "collapsed": false
   },
   "outputs": [
    {
     "data": {
      "text/plain": [
       "test_gradient_descent (generic function with 1 method)"
      ]
     },
     "execution_count": 8,
     "metadata": {},
     "output_type": "execute_result"
    }
   ],
   "source": [
    "function test_gradient_descent(model, sensed_points, true_state, loops)\n",
    "    x_true = copy(Flash.flatten(true_state))\n",
    "    trials = Vector{DataFrame}()\n",
    "    solver = NaiveSolver(length(x_true); rate=1.0, max_step=0.1, iteration_limit=2000)\n",
    "#     solver = IpoptSolver()\n",
    "    \n",
    "    for i = 1:loops\n",
    "        xs = Vector{Float64}[]\n",
    "        costs = Float64[]\n",
    "        \n",
    "        function callback{T}(x::AbstractVector{T}, c)\n",
    "            x_value = Flash.value.(x)\n",
    "            state = Flash.ManipulatorState(model)\n",
    "            Flash.GradientDescent.unflatten!(state, x_value)\n",
    "            Flash.draw(state, false)\n",
    "            push!(xs, x_value)\n",
    "            push!(costs, Flash.value(c))\n",
    "        end\n",
    "        \n",
    "        x_estimated = Flash.flatten(Flash.ManipulatorState(model))\n",
    "        Flash.Tracking.estimate_state(model, sensed_points, x_estimated; callback=callback, solver=solver)\n",
    "        push!(trials, DataFrame(x=xs, cost=costs))\n",
    "        \n",
    "        state = Flash.ManipulatorState(model)\n",
    "        Flash.GradientDescent.unflatten!(state, xs[end])\n",
    "        Flash.draw(state, true)\n",
    "    end\n",
    "    trials\n",
    "end\n"
   ]
  },
  {
   "cell_type": "code",
   "execution_count": 9,
   "metadata": {
    "collapsed": false,
    "scrolled": true
   },
   "outputs": [],
   "source": [
    "test_gradient_descent(model, sensed_points, true_state, 1);"
   ]
  },
  {
   "cell_type": "code",
   "execution_count": 10,
   "metadata": {
    "collapsed": true
   },
   "outputs": [],
   "source": []
  }
 ],
 "metadata": {
  "kernelspec": {
   "display_name": "Julia 0.5.0",
   "language": "julia",
   "name": "julia-0.5"
  },
  "language_info": {
   "file_extension": ".jl",
   "mimetype": "application/julia",
   "name": "julia",
   "version": "0.5.0"
  },
  "widgets": {
   "state": {
    "d3f3358f-e2e2-4c24-aa5f-41ab41b96358": {
     "views": [
      {
       "cell_index": 3
      }
     ]
    }
   },
   "version": "1.2.0"
  }
 },
 "nbformat": 4,
 "nbformat_minor": 0
}
