{
 "cells": [
  {
   "cell_type": "code",
   "execution_count": 2,
   "metadata": {
    "collapsed": false
   },
   "outputs": [
    {
     "name": "stderr",
     "output_type": "stream",
     "text": [
      "INFO: Precompiling module MathProgBase.\n",
      "INFO: Precompiling module Ipopt.\n"
     ]
    }
   ],
   "source": [
    "import DataStructures: OrderedDict\n",
    "using RigidBodyDynamics\n",
    "using StaticArrays\n",
    "using CoordinateTransformations\n",
    "using Interact\n",
    "using LCMGL\n",
    "using ForwardDiff\n",
    "using DataFrames, DataArrays\n",
    "using MathProgBase\n",
    "using Ipopt"
   ]
  },
  {
   "cell_type": "code",
   "execution_count": 3,
   "metadata": {
    "collapsed": false
   },
   "outputs": [
    {
     "name": "stderr",
     "output_type": "stream",
     "text": [
      "INFO: Recompiling stale cache file /home/rdeits/locomotion/explorations/point-cloud-signed-distance/packages/lib/v0.5/DrakeVisualizer.ji for module DrakeVisualizer.\n",
      "\n",
      "WARNING: deprecated syntax \"[a=>b for (a,b) in c]\".\n",
      "Use \"Dict(a=>b for (a,b) in c)\" instead.\n",
      "\n",
      "WARNING: deprecated syntax \"call(t::Type{Vector{Point{N,T}}}, ...)\".\n",
      "Use \"(t::Type{Vector{Point{N,T}}})(...)\" instead.\n",
      "INFO: Recompiling stale cache file /home/rdeits/locomotion/explorations/point-cloud-signed-distance/packages/lib/v0.5/SpatialFields.ji for module SpatialFields.\n",
      "\n",
      "WARNING: deprecated syntax \"call(::Type{MPoly{T}}, ...)\".\n",
      "Use \"(::Type{MPoly{T}})(...)\" instead.\n",
      "\n",
      "WARNING: deprecated syntax \"call(::Type{MPoly}, ...)\".\n",
      "Use \"(::Type{MPoly})(...)\" instead.\n"
     ]
    },
    {
     "data": {
      "text/plain": [
       "GradientDescent"
      ]
     },
     "execution_count": 3,
     "metadata": {},
     "output_type": "execute_result"
    }
   ],
   "source": [
    "include(\"arms.jl\")\n",
    "include(\"depth_sensors.jl\")\n",
    "include(\"gradientdescent.jl\")\n",
    "gd = GradientDescent"
   ]
  },
  {
   "cell_type": "code",
   "execution_count": 4,
   "metadata": {
    "collapsed": false
   },
   "outputs": [
    {
     "data": {
      "text/plain": [
       "beanbag (generic function with 1 method)"
      ]
     },
     "execution_count": 4,
     "metadata": {},
     "output_type": "execute_result"
    }
   ],
   "source": [
    "function beanbag()\n",
    "    limbs = OrderedDict{RigidBody, Arms.Limb}()\n",
    "    \n",
    "    mechanism = Mechanism(RigidBody{Float64}(\"world\"))\n",
    "    parent = root_body(mechanism)\n",
    "    \n",
    "    joint = Joint(\"joint1\", QuaternionFloating())\n",
    "    joint_to_parent = Transform3D(Float64, joint.frameBefore, parent.frame)\n",
    "    body = RigidBody(rand(SpatialInertia{Float64}, CartesianFrame3D(\"body1\")))\n",
    "    body_to_joint = Transform3D(Float64, body.frame, joint.frameAfter)\n",
    "    attach!(mechanism, parent, joint, joint_to_parent, body, body_to_joint)\n",
    "    \n",
    "    surface_points = Vector{Point3D}()\n",
    "    skeleton_points = [Point3D(body.frame, @SVector [0, 0, 0])]\n",
    "    for axis = 1:3\n",
    "        for s = [-1; 1]\n",
    "            x = [0., 0, 0]\n",
    "            x[axis] = s\n",
    "            push!(surface_points, Point3D(body.frame, SVector(x...)))\n",
    "        end\n",
    "    end\n",
    "    limbs[body] = Arms.Limb(surface_points, skeleton_points)\n",
    "    \n",
    "    Arms.Model(mechanism, limbs)\n",
    "end"
   ]
  },
  {
   "cell_type": "code",
   "execution_count": 17,
   "metadata": {
    "collapsed": false
   },
   "outputs": [
    {
     "data": {
      "text/plain": [
       "Arms.Model(Vertex: world (root)\n",
       "  Vertex: body1, Edge: joint1,DataStructures.OrderedDict{RigidBodyDynamics.RigidBody,Arms.Limb}(RigidBody: \"body1\"=>Arms.Limb(RigidBodyDynamics.Point3D[Point3D in \"body1\": [-1.0,0.0,0.0],Point3D in \"body1\": [1.0,0.0,0.0],Point3D in \"body1\": [0.0,-1.0,0.0],Point3D in \"body1\": [0.0,1.0,0.0],Point3D in \"body1\": [0.0,0.0,-1.0],Point3D in \"body1\": [0.0,0.0,1.0]],RigidBodyDynamics.Point3D[Point3D in \"body1\": [0,0,0]])))"
      ]
     },
     "execution_count": 17,
     "metadata": {},
     "output_type": "execute_result"
    }
   ],
   "source": [
    "model = beanbag()"
   ]
  },
  {
   "cell_type": "code",
   "execution_count": 18,
   "metadata": {
    "collapsed": false
   },
   "outputs": [
    {
     "data": {
      "text/plain": [
       "DrakeVisualizer.Visualizer(DrakeVisualizer.Robot(DrakeVisualizer.Link[DrakeVisualizer.Link(DrakeVisualizer.GeometryData[DrakeVisualizer.GeometryData{CoordinateTransformations.IdentityTransformation,GeometryTypes.HomogenousMesh{FixedSizeArrays.Point{3,Float64},GeometryTypes.Face{3,Int64,0},Void,Void,Void,Void,Void}}(HomogenousMesh(\n",
       "    vertices: 1454xFixedSizeArrays.Point{3,Float64},     faces: 2904xGeometryTypes.Face{3,Int64,0}, )\n",
       ",CoordinateTransformations.IdentityTransformation(),RGBA{Float64}(1.0,0.0,0.0,0.5))],\"skin\")]),1,PyLCM.LCM(PyObject <LCM object at 0x7f5c9e6997b0>))"
      ]
     },
     "execution_count": 18,
     "metadata": {},
     "output_type": "execute_result"
    }
   ],
   "source": [
    "state = Arms.ModelState(model)\n",
    "Arms.draw(model, state)"
   ]
  },
  {
   "cell_type": "code",
   "execution_count": 19,
   "metadata": {
    "collapsed": false
   },
   "outputs": [
    {
     "data": {
      "text/plain": [
       "CartesianFrame3D: \"body1\""
      ]
     },
     "execution_count": 19,
     "metadata": {},
     "output_type": "execute_result"
    }
   ],
   "source": [
    "state.limb_deformations[1][1].frame"
   ]
  },
  {
   "cell_type": "code",
   "execution_count": 20,
   "metadata": {
    "collapsed": false
   },
   "outputs": [
    {
     "data": {
      "text/html": [],
      "text/plain": [
       "Interact.Slider{Float64}(Signal{Float64}(0.0, nactions=0),\"x\",0.0,linspace(-1.0,1.0,51),\".3f\",true)"
      ]
     },
     "metadata": {},
     "output_type": "display_data"
    },
    {
     "data": {
      "text/plain": [
       "DrakeVisualizer.Visualizer(DrakeVisualizer.Robot(DrakeVisualizer.Link[DrakeVisualizer.Link(DrakeVisualizer.GeometryData[DrakeVisualizer.GeometryData{CoordinateTransformations.IdentityTransformation,GeometryTypes.HomogenousMesh{FixedSizeArrays.Point{3,Float64},GeometryTypes.Face{3,Int64,0},Void,Void,Void,Void,Void}}(HomogenousMesh(\n",
       "    vertices: 1454xFixedSizeArrays.Point{3,Float64},     faces: 2904xGeometryTypes.Face{3,Int64,0}, )\n",
       ",CoordinateTransformations.IdentityTransformation(),RGBA{Float64}(1.0,0.0,0.0,0.5))],\"skin\")]),1,PyLCM.LCM(PyObject <LCM object at 0x7f5c9e6999c0>))"
      ]
     },
     "execution_count": 20,
     "metadata": {
      "comm_id": "183313fa-b1ac-4411-aedc-c89e62ab5143",
      "reactive": true
     },
     "output_type": "execute_result"
    }
   ],
   "source": [
    "joint_angles, deformations = Arms.zero_configuration(model)\n",
    "state = Arms.ModelState(model, joint_angles, deformations)\n",
    "@manipulate for x = linspace(-1, 1, 51)\n",
    "    state.limb_deformations[1][1] = FreeVector3D(model.mechanism.toposortedTree[2].vertexData.frame, @SVector [x, 0, 0])\n",
    "    Arms.draw(model, state)\n",
    "end"
   ]
  },
  {
   "cell_type": "code",
   "execution_count": 21,
   "metadata": {
    "collapsed": false
   },
   "outputs": [],
   "source": [
    "# Construct the sensor and draw its view rays for debugging\n",
    "sensor = DepthSensors.Kinect(80,80);\n",
    "camera_origin = @SVector [0., 0, 8]\n",
    "camera_tform = compose(Translation(camera_origin), LinearMap(AngleAxis(pi, 1, 0, 0)))\n",
    "# camera_origin = tformtranslate([0;0;8]) * tformrotate([pi;0;0])\n",
    "LCMGLClient(\"sensor_rays\") do lcmgl\n",
    "    LCMGL.color(lcmgl, 0, 1, 0)\n",
    "    begin_mode(lcmgl, LCMGL.LINES)\n",
    "    for ray in DepthSensors.rays_in_world(sensor, camera_tform)\n",
    "        vertex(lcmgl, camera_origin...)\n",
    "        vertex(lcmgl, (camera_origin + ray)...)\n",
    "    end\n",
    "    end_mode(lcmgl)\n",
    "    switch_buffer(lcmgl)\n",
    "end"
   ]
  },
  {
   "cell_type": "code",
   "execution_count": 22,
   "metadata": {
    "collapsed": false
   },
   "outputs": [
    {
     "name": "stderr",
     "output_type": "stream",
     "text": [
      "WARNING: Method definition raycast(Arms.Model, Arms.ModelState) in module Main at In[10]:2 overwritten at In[22]:2.\n"
     ]
    },
    {
     "data": {
      "text/plain": [
       "raycast (generic function with 1 method)"
      ]
     },
     "execution_count": 22,
     "metadata": {},
     "output_type": "execute_result"
    }
   ],
   "source": [
    "function raycast(model::Arms.Model, state::Arms.ModelState)\n",
    "    Arms.draw(model, state, true)\n",
    "    skin = Arms.skin(model, state)\n",
    "    \n",
    "    points = DepthSensors.raycast_points(skin, sensor, camera_tform)\n",
    "    LCMGLClient(\"raycast\") do lcmgl\n",
    "        LCMGL.color(lcmgl, 0, 1, 0)\n",
    "        point_size(lcmgl, 5)\n",
    "        begin_mode(lcmgl, LCMGL.POINTS)\n",
    "        for point in points\n",
    "            vertex(lcmgl, convert(Vector, point)...)\n",
    "        end\n",
    "        end_mode(lcmgl)\n",
    "        switch_buffer(lcmgl)\n",
    "    end\n",
    "    points\n",
    "end"
   ]
  },
  {
   "cell_type": "code",
   "execution_count": 23,
   "metadata": {
    "collapsed": false
   },
   "outputs": [
    {
     "data": {
      "text/plain": [
       "(::InterpolatingSurface) (generic function with 1 method)"
      ]
     },
     "execution_count": 23,
     "metadata": {},
     "output_type": "execute_result"
    }
   ],
   "source": [
    "joint_angles, deformations = Arms.zero_configuration(model)\n",
    "joint_angles[5:7] = 2*rand(3)\n",
    "for (i, limb_deformations) in enumerate(deformations)\n",
    "    for (j, deformation) in enumerate(limb_deformations)\n",
    "        deformations[i][j] = rand(SVector{3, Float64}) - 0.5\n",
    "    end\n",
    "end\n",
    "state = Arms.ModelState(model, joint_angles, deformations)\n",
    "skin = Arms.skin(model, state)"
   ]
  },
  {
   "cell_type": "code",
   "execution_count": 24,
   "metadata": {
    "collapsed": false
   },
   "outputs": [
    {
     "name": "stderr",
     "output_type": "stream",
     "text": [
      "WARNING: Method definition flatten(Arms.ModelState) in module Main at In[12]:2 overwritten at In[24]:2.\n",
      "WARNING: Method definition unflatten(Arms.Model, Arms.ModelState, Any) in module Main at In[12]:14 overwritten at In[24]:14.\n"
     ]
    },
    {
     "data": {
      "text/plain": [
       "unflatten (generic function with 1 method)"
      ]
     },
     "execution_count": 24,
     "metadata": {},
     "output_type": "execute_result"
    }
   ],
   "source": [
    "function flatten(state::Arms.ModelState)\n",
    "    data = configuration_vector(state.mechanism_state)\n",
    "    for limb_deformation in state.limb_deformations\n",
    "        for d in limb_deformation\n",
    "            for x in d.v\n",
    "                push!(data, x)\n",
    "            end\n",
    "        end\n",
    "    end\n",
    "    data\n",
    "end\n",
    "\n",
    "function unflatten(model::Arms.Model, state::Arms.ModelState, data)\n",
    "    nq = num_positions(state.mechanism_state)\n",
    "    set_configuration!(state.mechanism_state, data[1:nq])\n",
    "    \n",
    "    data_index = nq + 1;\n",
    "    for (i, (body, limb)) in enumerate(model.limbs)\n",
    "        limb_deformation = state.limb_deformations[i]\n",
    "        for (j, deformation) in enumerate(limb_deformation)\n",
    "            state.limb_deformations[i][j] = RigidBodyDynamics.FreeVector3D(body.frame, @SVector [data[data_index + i] for i in 0:2])\n",
    "            data_index += 3\n",
    "        end\n",
    "    end\n",
    "    @assert data_index == length(data) + 1\n",
    "    state\n",
    "end"
   ]
  },
  {
   "cell_type": "code",
   "execution_count": 25,
   "metadata": {
    "collapsed": false
   },
   "outputs": [
    {
     "name": "stderr",
     "output_type": "stream",
     "text": [
      "WARNING: Method definition test_gradient_descent() in module Main at In[13]:47 overwritten at In[25]:47.\n"
     ]
    },
    {
     "data": {
      "text/plain": [
       "test_gradient_descent (generic function with 1 method)"
      ]
     },
     "execution_count": 25,
     "metadata": {},
     "output_type": "execute_result"
    }
   ],
   "source": [
    "joint_angles, deformations = Arms.zero_configuration(model)\n",
    "joint_angles[5:7] = rand(3)\n",
    "for (i, limb_deformations) in enumerate(deformations)\n",
    "    for (j, deformation) in enumerate(limb_deformations)\n",
    "        deformations[i][j] = 0.5*(rand(SVector{3, Float64}) - 0.5)\n",
    "    end\n",
    "end\n",
    "\n",
    "true_state = Arms.ModelState(model, joint_angles, deformations)\n",
    "x_true = flatten(true_state)\n",
    "\n",
    "\n",
    "\n",
    "sensed_points = raycast(model, true_state)\n",
    "\n",
    "x_ad = []\n",
    "state_ad = []\n",
    "\n",
    "cost = x -> begin\n",
    "    push!(x_ad, x)\n",
    "    state = Arms.ModelState(model, eltype(x), eltype(x))\n",
    "    unflatten(model, state, x)\n",
    "    push!(state_ad, state)\n",
    "    Arms.draw(model, state, false)\n",
    "    skin = Arms.skin(model, state)\n",
    "    raycast_cost = sum(point -> skin(point)^2, sensed_points)\n",
    "    deformation_cost = zero(eltype(x))\n",
    "    for ld in state.limb_deformations\n",
    "        for d in ld\n",
    "            deformation_cost += sum(d.v .^2)\n",
    "        end\n",
    "    end\n",
    "    return raycast_cost + 10*deformation_cost\n",
    "end\n",
    "\n",
    "# Use autodiff to prepare a function that will evaluate the gradient\n",
    "# of that cost:\n",
    "cost_and_gradient = x -> begin\n",
    "    out = GradientResult(x)\n",
    "    ForwardDiff.gradient!(out, cost, x)\n",
    "    ForwardDiff.value(out), ForwardDiff.gradient(out)\n",
    "end\n",
    "\n",
    "trials = []\n",
    "\n",
    "function test_gradient_descent()\n",
    "    for i = 1:1\n",
    "        xs = []\n",
    "\n",
    "        # We'll initialize our estimate with a uniformly random pair\n",
    "        # of joint angles\n",
    "        x_estimated = flatten(Arms.ModelState(model))\n",
    "\n",
    "        # Now we use gradient descent to recover the joint angles\n",
    "        for i = 1:500\n",
    "            push!(xs, x_estimated)\n",
    "\n",
    "            # Evaluate the gradient of the point values w.r.t. the\n",
    "            # joint angles:\n",
    "            ci, gi = cost_and_gradient(x_estimated)\n",
    "\n",
    "            if any(isnan, gi)\n",
    "                @show x_estimated\n",
    "                error(\"NaN in gradient\")\n",
    "            end\n",
    "\n",
    "            # Descend the gradient\n",
    "            x_estimated -= 0.002 * gi\n",
    "            \n",
    "            # TODO: generalize this\n",
    "            x_estimated[1:4] = x_estimated[1:4] / norm(x_estimated[1:4])\n",
    "        end\n",
    "        push!(trials, DataFrame(x=xs))\n",
    "    end\n",
    "end"
   ]
  },
  {
   "cell_type": "code",
   "execution_count": 28,
   "metadata": {
    "collapsed": false
   },
   "outputs": [
    {
     "data": {
      "text/plain": [
       "DrakeVisualizer.Visualizer(DrakeVisualizer.Robot(DrakeVisualizer.Link[DrakeVisualizer.Link(DrakeVisualizer.GeometryData[DrakeVisualizer.GeometryData{CoordinateTransformations.IdentityTransformation,GeometryTypes.HomogenousMesh{FixedSizeArrays.Point{3,Float64},GeometryTypes.Face{3,Int64,0},Void,Void,Void,Void,Void}}(HomogenousMesh(\n",
       "    vertices: 1398xFixedSizeArrays.Point{3,Float64},     faces: 2792xGeometryTypes.Face{3,Int64,0}, )\n",
       ",CoordinateTransformations.IdentityTransformation(),RGBA{Float64}(1.0,0.0,0.0,0.5))],\"skin\")]),1,PyLCM.LCM(PyObject <LCM object at 0x7f5c9e699990>))"
      ]
     },
     "execution_count": 28,
     "metadata": {},
     "output_type": "execute_result"
    }
   ],
   "source": [
    "test_gradient_descent()\n",
    "state = unflatten(model, Arms.ModelState(model), trials[1][:x][end])\n",
    "Arms.draw(model, state)"
   ]
  },
  {
   "cell_type": "code",
   "execution_count": 26,
   "metadata": {
    "collapsed": true
   },
   "outputs": [],
   "source": [
    "x0 = flatten(Arms.ModelState(model))\n",
    "num_vars = length(x0)\n",
    "problem = gd.UnconstrainedOptimization(cost)\n",
    "\n",
    "solver = IpoptSolver(print_level=1)\n",
    "# solver = NLoptSolver(algorithm=:LD_MMA)\n",
    "m = MathProgBase.NonlinearModel(solver)\n",
    "MathProgBase.loadproblem!(m, num_vars, 0, [-Inf for i in 1:num_vars], [Inf for i in 1:num_vars], Float64[], Float64[], :Min, problem)\n",
    "MathProgBase.setwarmstart!(m, x0);"
   ]
  },
  {
   "cell_type": "code",
   "execution_count": 29,
   "metadata": {
    "collapsed": false
   },
   "outputs": [
    {
     "data": {
      "text/plain": [
       "DrakeVisualizer.Visualizer(DrakeVisualizer.Robot(DrakeVisualizer.Link[DrakeVisualizer.Link(DrakeVisualizer.GeometryData[DrakeVisualizer.GeometryData{CoordinateTransformations.IdentityTransformation,GeometryTypes.HomogenousMesh{FixedSizeArrays.Point{3,Float64},GeometryTypes.Face{3,Int64,0},Void,Void,Void,Void,Void}}(HomogenousMesh(\n",
       "    vertices: 1388xFixedSizeArrays.Point{3,Float64},     faces: 2772xGeometryTypes.Face{3,Int64,0}, )\n",
       ",CoordinateTransformations.IdentityTransformation(),RGBA{Float64}(1.0,0.0,0.0,0.5))],\"skin\")]),1,PyLCM.LCM(PyObject <LCM object at 0x7f5c9e6999f0>))"
      ]
     },
     "execution_count": 29,
     "metadata": {},
     "output_type": "execute_result"
    }
   ],
   "source": [
    "MathProgBase.optimize!(m)\n",
    "x = MathProgBase.getsolution(m)\n",
    "state = unflatten(model, Arms.ModelState(model), x)\n",
    "Arms.draw(model, state)"
   ]
  },
  {
   "cell_type": "code",
   "execution_count": null,
   "metadata": {
    "collapsed": true
   },
   "outputs": [],
   "source": []
  }
 ],
 "metadata": {
  "kernelspec": {
   "display_name": "Julia 0.5.0",
   "language": "julia",
   "name": "julia-0.5"
  },
  "language_info": {
   "file_extension": ".jl",
   "mimetype": "application/julia",
   "name": "julia",
   "version": "0.5.0"
  },
  "widgets": {
   "state": {
    "1029e261-6236-4863-9975-bd5e737ab129": {
     "views": [
      {
       "cell_index": 6
      }
     ]
    }
   },
   "version": "1.2.0"
  }
 },
 "nbformat": 4,
 "nbformat_minor": 0
}
