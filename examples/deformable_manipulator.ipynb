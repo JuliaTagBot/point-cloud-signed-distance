{
 "cells": [
  {
   "cell_type": "code",
   "execution_count": 1,
   "metadata": {
    "collapsed": false
   },
   "outputs": [
    {
     "data": {
      "text/html": [
       "<div id=\"interact-js-shim\">\n",
       "    <script charset=\"utf-8\">\n",
       "(function (IPython, $, _, MathJax) {\n",
       "    $.event.special.destroyed = {\n",
       "\tremove: function(o) {\n",
       "\t    if (o.handler) {\n",
       "\t\to.handler.apply(this, arguments)\n",
       "\t    }\n",
       "\t}\n",
       "    }\n",
       "\n",
       "    var OutputArea = IPython.version >= \"4.0.0\" ? require(\"notebook/js/outputarea\").OutputArea : IPython.OutputArea;\n",
       "\n",
       "    var redrawValue = function (container, type, val) {\n",
       "\tvar selector = $(\"<div/>\");\n",
       "\tvar oa = new OutputArea(_.extend(selector, {\n",
       "\t    selector: selector,\n",
       "\t    prompt_area: true,\n",
       "\t    events: IPython.events,\n",
       "\t    keyboard_manager: IPython.keyboard_manager\n",
       "\t})); // Hack to work with IPython 2.1.0\n",
       "\n",
       "\tswitch (type) {\n",
       "\tcase \"image/png\":\n",
       "            var _src = 'data:' + type + ';base64,' + val;\n",
       "\t    $(container).find(\"img\").attr('src', _src);\n",
       "\t    break;\n",
       "\tdefault:\n",
       "\t    var toinsert = OutputArea.append_map[type].apply(\n",
       "\t\toa, [val, {}, selector]\n",
       "\t    );\n",
       "\t    $(container).empty().append(toinsert.contents());\n",
       "\t    selector.remove();\n",
       "\t}\n",
       "\tif (type === \"text/latex\" && MathJax) {\n",
       "\t    MathJax.Hub.Queue([\"Typeset\", MathJax.Hub, toinsert.get(0)]);\n",
       "\t}\n",
       "    }\n",
       "\n",
       "\n",
       "    $(document).ready(function() {\n",
       "\tfunction initComm(evt, data) {\n",
       "\t    var comm_manager = data.kernel.comm_manager;\n",
       "        //_.extend(comm_manager.targets, require(\"widgets/js/widget\"))\n",
       "\t    comm_manager.register_target(\"Signal\", function (comm) {\n",
       "            comm.on_msg(function (msg) {\n",
       "                //Widgets.log(\"message received\", msg);\n",
       "                var val = msg.content.data.value;\n",
       "                $(\".signal-\" + comm.comm_id).each(function() {\n",
       "                var type = $(this).data(\"type\");\n",
       "                if (val[type]) {\n",
       "                    redrawValue(this, type, val[type], type);\n",
       "                }\n",
       "                });\n",
       "                delete val;\n",
       "                delete msg.content.data.value;\n",
       "            });\n",
       "\t    });\n",
       "\n",
       "\t    // coordingate with Comm and redraw Signals\n",
       "\t    // XXX: Test using Reactive here to improve performance\n",
       "\t    $([IPython.events]).on(\n",
       "\t\t'output_appended.OutputArea', function (event, type, value, md, toinsert) {\n",
       "\t\t    if (md && md.reactive) {\n",
       "                // console.log(md.comm_id);\n",
       "                toinsert.addClass(\"signal-\" + md.comm_id);\n",
       "                toinsert.data(\"type\", type);\n",
       "                // Signal back indicating the mimetype required\n",
       "                var comm_manager = IPython.notebook.kernel.comm_manager;\n",
       "                var comm = comm_manager.comms[md.comm_id];\n",
       "                comm.then(function (c) {\n",
       "                    c.send({action: \"subscribe_mime\",\n",
       "                       mime: type});\n",
       "                    toinsert.bind(\"destroyed\", function() {\n",
       "                        c.send({action: \"unsubscribe_mime\",\n",
       "                               mime: type});\n",
       "                    });\n",
       "                })\n",
       "\t\t    }\n",
       "\t    });\n",
       "\t}\n",
       "\n",
       "\ttry {\n",
       "\t    // try to initialize right away. otherwise, wait on the status_started event.\n",
       "\t    initComm(undefined, IPython.notebook);\n",
       "\t} catch (e) {\n",
       "\t    $([IPython.events]).on('kernel_created.Kernel kernel_created.Session', initComm);\n",
       "\t}\n",
       "    });\n",
       "})(IPython, jQuery, _, MathJax);\n",
       "</script>\n",
       "    <script>\n",
       "        window.interactLoadedFlag = true\n",
       "       $(\"#interact-js-shim\").bind(\"destroyed\", function () {\n",
       "           if (window.interactLoadedFlag) {\n",
       "               console.warn(\"JavaScript required by Interact will be removed if you remove this cell or run using Interact more than once.\")\n",
       "           }\n",
       "       })\n",
       "       $([IPython.events]).on(\"kernel_starting.Kernel kernel_restarting.Kernel\", function () { window.interactLoadedFlag = false })\n",
       "   </script>\n",
       "</div>"
      ]
     },
     "metadata": {},
     "output_type": "display_data"
    }
   ],
   "source": [
    "using Interact\n",
    "using CoordinateTransformations\n",
    "using RigidBodyDynamics\n",
    "using DataFrames\n",
    "using SimpleGradientDescent\n",
    "using ProfileView"
   ]
  },
  {
   "cell_type": "code",
   "execution_count": 2,
   "metadata": {
    "collapsed": false
   },
   "outputs": [
    {
     "name": "stdout",
     "output_type": "stream",
     "text": [
      "adding: /home/rdeits/locomotion/explorations/point-cloud-signed-distance/packages/v0.5/DrakeVisualizer/src/lcmtypes to the python path\n"
     ]
    },
    {
     "name": "stderr",
     "output_type": "stream",
     "text": [
      "WARNING: Method definition convert(Type{CoordinateTransformations.AffineMap}, RigidBodyDynamics.Transform3D) in module Flash at /home/rdeits/locomotion/explorations/point-cloud-signed-distance/packages/v0.5/Flash/src/Flash.jl:19 overwritten in module RigidBodyTreeInspector at /home/rdeits/locomotion/explorations/point-cloud-signed-distance/packages/v0.5/RigidBodyTreeInspector/src/RigidBodyTreeInspector.jl:145.\n",
      "WARNING: replacing module Flash\n",
      "WARNING: Method definition convert(Type{CoordinateTransformations.AffineMap}, RigidBodyDynamics.Transform3D) in module RigidBodyTreeInspector at /home/rdeits/locomotion/explorations/point-cloud-signed-distance/packages/v0.5/RigidBodyTreeInspector/src/RigidBodyTreeInspector.jl:145 overwritten in module Flash at /home/rdeits/locomotion/explorations/point-cloud-signed-distance/packages/v0.5/Flash/src/Flash.jl:19.\n",
      "WARNING: Method definition value(AbstractArray{#T<:Any, N<:Any}) in module Flash at /home/rdeits/locomotion/explorations/point-cloud-signed-distance/packages/v0.5/Flash/src/Flash.jl:21 overwritten in module Flash at /home/rdeits/locomotion/explorations/point-cloud-signed-distance/packages/v0.5/Flash/src/Flash.jl:21.\n",
      "WARNING: Method definition value(CoordinateTransformations.AbstractAffineMap) in module Flash at /home/rdeits/locomotion/explorations/point-cloud-signed-distance/packages/v0.5/Flash/src/Flash.jl:22 overwritten in module Flash at /home/rdeits/locomotion/explorations/point-cloud-signed-distance/packages/v0.5/Flash/src/Flash.jl:22.\n",
      "WARNING: Method definition normalize!(RigidBodyDynamics.MechanismState, Any, RigidBodyDynamics.JointType) in module GradientDescent at /home/rdeits/locomotion/explorations/point-cloud-signed-distance/packages/v0.5/Flash/src/gradientdescent.jl:19 overwritten in module GradientDescent at /home/rdeits/locomotion/explorations/point-cloud-signed-distance/packages/v0.5/Flash/src/gradientdescent.jl:19.\n",
      "WARNING: Method definition normalize!(RigidBodyDynamics.MechanismState, Any, RigidBodyDynamics.QuaternionFloating) in module GradientDescent at /home/rdeits/locomotion/explorations/point-cloud-signed-distance/packages/v0.5/Flash/src/gradientdescent.jl:21 overwritten in module GradientDescent at /home/rdeits/locomotion/explorations/point-cloud-signed-distance/packages/v0.5/Flash/src/gradientdescent.jl:21.\n",
      "WARNING: Method definition normalize!(RigidBodyDynamics.MechanismState, Any) in module GradientDescent at /home/rdeits/locomotion/explorations/point-cloud-signed-distance/packages/v0.5/Flash/src/gradientdescent.jl:25 overwritten in module GradientDescent at /home/rdeits/locomotion/explorations/point-cloud-signed-distance/packages/v0.5/Flash/src/gradientdescent.jl:25.\n",
      "WARNING: Method definition normalize!(RigidBodyDynamics.MechanismState) in module GradientDescent at /home/rdeits/locomotion/explorations/point-cloud-signed-distance/packages/v0.5/Flash/src/gradientdescent.jl:26 overwritten in module GradientDescent at /home/rdeits/locomotion/explorations/point-cloud-signed-distance/packages/v0.5/Flash/src/gradientdescent.jl:26.\n"
     ]
    }
   ],
   "source": [
    "import Flash\n",
    "reload(\"Flash\")"
   ]
  },
  {
   "cell_type": "code",
   "execution_count": 3,
   "metadata": {
    "collapsed": false
   },
   "outputs": [],
   "source": [
    "model = Flash.Models.beanbag()\n",
    "state = Flash.ManipulatorState(model)\n",
    "Flash.draw(state);"
   ]
  },
  {
   "cell_type": "code",
   "execution_count": 4,
   "metadata": {
    "collapsed": false
   },
   "outputs": [
    {
     "data": {
      "text/html": [],
      "text/plain": [
       "Interact.Slider{Float64}(Signal{Float64}(0.0, nactions=0),\"x\",0.0,linspace(-1.0,1.0,51),\".3f\",true)"
      ]
     },
     "metadata": {},
     "output_type": "display_data"
    }
   ],
   "source": [
    "geometry = collect(values(model.surfaces[1].geometries))[1]\n",
    "@manipulate for x = linspace(-1, 1, 51)\n",
    "    state.deformations[geometry][1][:] = [x, 0, 0]\n",
    "    Flash.draw(state)\n",
    "end;"
   ]
  },
  {
   "cell_type": "code",
   "execution_count": 5,
   "metadata": {
    "collapsed": false
   },
   "outputs": [],
   "source": [
    "# Construct the sensor and draw its view rays for debugging\n",
    "sensor = Flash.DepthSensors.Kinect(80,80);\n",
    "camera_origin = [0., 0, 8]\n",
    "camera_tform = compose(Translation(camera_origin), LinearMap(AngleAxis(pi, 1, 0, 0)))\n",
    "Flash.DepthSensors.draw_rays(sensor, camera_tform)"
   ]
  },
  {
   "cell_type": "code",
   "execution_count": 6,
   "metadata": {
    "collapsed": false
   },
   "outputs": [],
   "source": [
    "true_state = Flash.ManipulatorState(model)\n",
    "true_state.mechanism_state.q[5:7] = 2 * rand(3)\n",
    "true_state.deformation_data[:] = 0.5 .* (rand(Float64, length(true_state.deformation_data)) .- 0.5)\n",
    "Flash.draw(true_state);"
   ]
  },
  {
   "cell_type": "code",
   "execution_count": 7,
   "metadata": {
    "collapsed": false
   },
   "outputs": [],
   "source": [
    "# Now we can raycast that true state to get a set of sensed points:\n",
    "sensed_points = Flash.DepthSensors.raycast(true_state, sensor, camera_tform)\n",
    "Flash.DepthSensors.draw_points(sensed_points)"
   ]
  },
  {
   "cell_type": "code",
   "execution_count": 8,
   "metadata": {
    "collapsed": false
   },
   "outputs": [
    {
     "data": {
      "text/plain": [
       "test_gradient_descent (generic function with 1 method)"
      ]
     },
     "execution_count": 8,
     "metadata": {},
     "output_type": "execute_result"
    }
   ],
   "source": [
    "function test_gradient_descent(model, sensed_points, true_state, loops)\n",
    "    x_true = copy(Flash.flatten(true_state))\n",
    "    trials = Vector{DataFrame}()\n",
    "    solver = NaiveSolver(length(x_true); rate=1.0, max_step=0.1, iteration_limit=2000)\n",
    "    \n",
    "    for i = 1:loops\n",
    "        xs = Vector{Float64}[]\n",
    "        costs = Float64[]\n",
    "        \n",
    "        function callback{T}(x::AbstractVector{T}, c)\n",
    "            x_value = Flash.value.(x)\n",
    "            state = Flash.ManipulatorState(model)\n",
    "            Flash.GradientDescent.unflatten!(state, x_value)\n",
    "            Flash.draw(state, false)\n",
    "            push!(xs, x_value)\n",
    "            push!(costs, Flash.value(c))\n",
    "        end\n",
    "        \n",
    "        x_estimated = Flash.flatten(Flash.ManipulatorState(model))\n",
    "        Flash.Tracking.estimate_state(model, sensed_points, x_estimated; callback=callback, solver=solver)\n",
    "        push!(trials, DataFrame(x=xs, cost=costs))\n",
    "        \n",
    "        state = Flash.ManipulatorState(model)\n",
    "        Flash.GradientDescent.unflatten!(state, xs[end])\n",
    "        Flash.draw(state, true)\n",
    "    end\n",
    "    \n",
    "    trials\n",
    "end\n"
   ]
  },
  {
   "cell_type": "code",
   "execution_count": 9,
   "metadata": {
    "collapsed": false
   },
   "outputs": [],
   "source": [
    "test_gradient_descent(model, sensed_points, true_state, 1);"
   ]
  },
  {
   "cell_type": "code",
   "execution_count": 10,
   "metadata": {
    "collapsed": false
   },
   "outputs": [
    {
     "name": "stdout",
     "output_type": "stream",
     "text": [
      "  0.262801 seconds (1.70 M allocations: 109.393 MB, 8.93% gc time)\n"
     ]
    },
    {
     "data": {
      "text/plain": [
       "1-element Array{DataFrames.DataFrame,1}:\n",
       " 276×2 DataFrames.DataFrame\n",
       "│ Row │ ├─────┼\n",
       "│ 1   │ │ 2   │ │ 3   │ │ 4   │ │ 5   │ │ 6   │ │ 7   │ │ 8   │ │ 9   │ │ 10  │ │ 11  │ \n",
       "⋮\n",
       "│ 265 │ │ 266 │ │ 267 │ │ 268 │ │ 269 │ │ 270 │ │ 271 │ │ 272 │ │ 273 │ │ 274 │ │ 275 │ │ 276 │ \n",
       "\n",
       "│ Row │ x                                                                                                                                                                                                                                                                           │\n",
       "├─────┼─────────────────────────────────────────────────────────────────────────────────────────────────────────────────────────────────────────────────────────────────────────────────────────────────────────────────────────────────────────────────────────────────────────────┤\n",
       "│ 1   │ [1.0,0.0,0.0,0.0,0.0,0.0,0.0,0.0,0.0,0.0  …  0.0,0.0,0.0,0.0,0.0,0.0,0.0,0.0,0.0,0.0]                                                                                                                                                                       │\n",
       "│ 2   │ [1.0,0.0,0.0,0.0,0.0,0.0,0.0,0.0,0.0,0.0  …  0.0,0.0,0.0,0.0,0.0,0.0,0.0,0.0,0.0,0.0]                                                                                                                                                                       │\n",
       "│ 3   │ [1.0,0.0,0.0,0.0,0.0,0.0,0.0,0.0,0.0,0.0  …  0.0,0.0,0.0,0.0,0.0,0.0,0.0,0.0,0.0,0.0]                                                                                                                                                                       │\n",
       "│ 4   │ [1.0,-0.00448179,-0.00380135,0.00495299,0.1,0.1,0.1,-0.1,0.00662446,0.0847428  …  0.0980423,-0.1,0.1,-0.1,0.0813352,0.0236046,-0.1,-0.1,-0.1,0.1]                                                                                                   │\n",
       "│ 5   │ [1.0,-0.00448179,-0.00380135,0.00495299,0.1,0.1,0.1,-0.1,0.00662446,0.0847428  …  0.0980423,-0.1,0.1,-0.1,0.0813352,0.0236046,-0.1,-0.1,-0.1,0.1]                                                                                                   │\n",
       "│ 6   │ [1.0,-0.00448179,-0.00380135,0.00495299,0.1,0.1,0.1,-0.1,0.00662446,0.0847428  …  0.0980423,-0.1,0.1,-0.1,0.0813352,0.0236046,-0.1,-0.1,-0.1,0.1]                                                                                                   │\n",
       "│ 7   │ [0.999867,-0.0258738,-0.00195939,0.0138844,0.175641,0.198051,0.173516,0.0,0.0140834,0.0629101  …  0.0775283,-0.2,0.2,-0.2,0.0600969,0.0288175,0.0,-0.194859,-0.2,0.2]                                                                          │\n",
       "│ 8   │ [0.999867,-0.0258738,-0.00195939,0.0138844,0.175641,0.198051,0.173516,0.0,0.0140834,0.0629101  …  0.0775283,-0.2,0.2,-0.2,0.0600969,0.0288175,0.0,-0.194859,-0.2,0.2]                                                                          │\n",
       "│ 9   │ [0.999867,-0.0258738,-0.00195939,0.0138844,0.175641,0.198051,0.173516,0.0,0.0140834,0.0629101  …  0.0775283,-0.2,0.2,-0.2,0.0600969,0.0288175,0.0,-0.194859,-0.2,0.2]                                                                          │\n",
       "│ 10  │ [0.99643,-0.125874,0.093878,0.0381986,0.129921,0.154978,0.0735157,-0.1,-0.0114599,0.0511391  …  0.0725854,-0.1,0.1,-0.1,0.0434415,-0.00925652,-0.1,-0.0948592,-0.1,0.1]                                                                       │\n",
       "│ 11  │ [0.99643,-0.125874,0.093878,0.0381986,0.129921,0.154978,0.0735157,-0.1,-0.0114599,0.0511391  …  0.0725854,-0.1,0.1,-0.1,0.0434415,-0.00925652,-0.1,-0.0948592,-0.1,0.1]                                                                       │\n",
       "⋮\n",
       "│ 265 │ [1.13986,-0.0371369,0.0763024,-0.0486019,0.956534,1.14094,0.339153,0.0139848,-0.00903716,0.00405012  …  0.00457622,0.00252571,0.0198735,-0.0072925,0.000692635,0.000949196,-0.000764586,-0.0111722,-0.00987845,0.0417546] │\n",
       "│ 266 │ [1.13986,-0.0371369,0.0763024,-0.0486019,0.956534,1.14094,0.339153,0.0139848,-0.00903716,0.00405012  …  0.00457622,0.00252571,0.0198735,-0.0072925,0.000692635,0.000949196,-0.000764586,-0.0111722,-0.00987845,0.0417546] │\n",
       "│ 267 │ [1.13986,-0.0371369,0.0763024,-0.0486019,0.956534,1.14094,0.339153,0.0139848,-0.00903716,0.00405012  …  0.00457622,0.00252571,0.0198735,-0.0072925,0.000692635,0.000949196,-0.000764586,-0.0111722,-0.00987845,0.0417546] │\n",
       "│ 268 │ [1.13986,-0.0373024,0.0760568,-0.0487334,0.957268,1.14199,0.340128,0.0135793,-0.00894058,0.0040667  …  0.00451824,0.00251963,0.0193657,-0.00702848,0.000691535,0.000951684,-0.000939438,-0.0109481,-0.0095324,0.0406921]  │\n",
       "│ 269 │ [1.13986,-0.0373024,0.0760568,-0.0487334,0.957268,1.14199,0.340128,0.0135793,-0.00894058,0.0040667  …  0.00451824,0.00251963,0.0193657,-0.00702848,0.000691535,0.000951684,-0.000939438,-0.0109481,-0.0095324,0.0406921]  │\n",
       "│ 270 │ [1.13986,-0.0373024,0.0760568,-0.0487334,0.957268,1.14199,0.340128,0.0135793,-0.00894058,0.0040667  …  0.00451824,0.00251963,0.0193657,-0.00702848,0.000691535,0.000951684,-0.000939438,-0.0109481,-0.0095324,0.0406921]  │\n",
       "│ 271 │ [1.13987,-0.0374626,0.0758109,-0.0488656,0.957977,1.14301,0.341074,0.0131875,-0.0088461,0.00408313  …  0.00446345,0.0025128,0.0188721,-0.0067743,0.000690527,0.000954137,-0.00111161,-0.0107344,-0.00920349,0.0396603]    │\n",
       "│ 272 │ [1.13987,-0.0374626,0.0758109,-0.0488656,0.957977,1.14301,0.341074,0.0131875,-0.0088461,0.00408313  …  0.00446345,0.0025128,0.0188721,-0.0067743,0.000690527,0.000954137,-0.00111161,-0.0107344,-0.00920349,0.0396603]    │\n",
       "│ 273 │ [1.13987,-0.0374626,0.0758109,-0.0488656,0.957977,1.14301,0.341074,0.0131875,-0.0088461,0.00408313  …  0.00446345,0.0025128,0.0188721,-0.0067743,0.000690527,0.000954137,-0.00111161,-0.0107344,-0.00920349,0.0396603]    │\n",
       "│ 274 │ [1.13987,-0.0376178,0.0755646,-0.0489985,0.958664,1.144,0.34199,0.0128091,-0.00875373,0.00409943  …  0.00441172,0.00250532,0.0183924,-0.0065296,0.000689605,0.000956566,-0.00128105,-0.0105304,-0.00889088,0.0386578]     │\n",
       "│ 275 │ [1.13987,-0.0376178,0.0755646,-0.0489985,0.958664,1.144,0.34199,0.0128091,-0.00875373,0.00409943  …  0.00441172,0.00250532,0.0183924,-0.0065296,0.000689605,0.000956566,-0.00128105,-0.0105304,-0.00889088,0.0386578]     │\n",
       "│ 276 │ [1.13987,-0.0376178,0.0755646,-0.0489985,0.958664,1.144,0.34199,0.0128091,-0.00875373,0.00409943  …  0.00441172,0.00250532,0.0183924,-0.0065296,0.000689605,0.000956566,-0.00128105,-0.0105304,-0.00889088,0.0386578]     │\n",
       "\n",
       "│ Row │ cost      │\n",
       "├─────┼───────────┤\n",
       "│ 1   │ 131.355   │\n",
       "│ 2   │ 131.355   │\n",
       "│ 3   │ 131.355   │\n",
       "│ 4   │ 36.3159   │\n",
       "│ 5   │ 36.3159   │\n",
       "│ 6   │ 36.3159   │\n",
       "│ 7   │ 38.6029   │\n",
       "│ 8   │ 38.6029   │\n",
       "│ 9   │ 38.6029   │\n",
       "│ 10  │ 38.0689   │\n",
       "│ 11  │ 38.0689   │\n",
       "⋮\n",
       "│ 265 │ 0.0633571 │\n",
       "│ 266 │ 0.0633571 │\n",
       "│ 267 │ 0.0633571 │\n",
       "│ 268 │ 0.061593  │\n",
       "│ 269 │ 0.061593  │\n",
       "│ 270 │ 0.061593  │\n",
       "│ 271 │ 0.0599366 │\n",
       "│ 272 │ 0.0599366 │\n",
       "│ 273 │ 0.0599366 │\n",
       "│ 274 │ 0.0583814 │\n",
       "│ 275 │ 0.0583814 │\n",
       "│ 276 │ 0.0583814 │"
      ]
     },
     "execution_count": 10,
     "metadata": {},
     "output_type": "execute_result"
    }
   ],
   "source": [
    "Profile.clear()\n",
    "@time @profile test_gradient_descent(model, sensed_points, true_state, 1);\n",
    "# ProfileView.view()"
   ]
  }
 ],
 "metadata": {
  "kernelspec": {
   "display_name": "Julia 0.5.0",
   "language": "julia",
   "name": "julia-0.5"
  },
  "language_info": {
   "file_extension": ".jl",
   "mimetype": "application/julia",
   "name": "julia",
   "version": "0.5.0"
  },
  "widgets": {
   "state": {
    "a5885d21-aaed-4875-b203-65e2f74516d9": {
     "views": [
      {
       "cell_index": 3
      }
     ]
    }
   },
   "version": "1.2.0"
  }
 },
 "nbformat": 4,
 "nbformat_minor": 0
}
