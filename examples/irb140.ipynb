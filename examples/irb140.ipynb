{
 "cells": [
  {
   "cell_type": "code",
   "execution_count": 2,
   "metadata": {
    "collapsed": false
   },
   "outputs": [],
   "source": [
    "using RigidBodyTreeInspector\n",
    "using RigidBodyDynamics\n",
    "using StaticArrays\n",
    "using Plots\n",
    "gr()\n",
    "using CoordinateTransformations\n",
    "using DataFrames, DataArrays\n",
    "import SimpleGradientDescent: NaiveSolver\n",
    "import Flash\n",
    "import DrakeVisualizer"
   ]
  },
  {
   "cell_type": "code",
   "execution_count": 3,
   "metadata": {
    "collapsed": false
   },
   "outputs": [
    {
     "data": {
      "text/plain": [
       "Process(`/Users/rdeits/locomotion/explorations/point-cloud-signed-distance/packages/v0.5/DrakeVisualizer/src/../deps/usr/bin/drake-visualizer`, ProcessRunning)"
      ]
     },
     "execution_count": 3,
     "metadata": {},
     "output_type": "execute_result"
    }
   ],
   "source": [
    "DrakeVisualizer.new_window()"
   ]
  },
  {
   "cell_type": "code",
   "execution_count": 32,
   "metadata": {
    "collapsed": false
   },
   "outputs": [
    {
     "name": "stderr",
     "output_type": "stream",
     "text": [
      "WARNING: replacing module Flash\n",
      "WARNING: Method definition value(CoordinateTransformations.AbstractAffineMap) in module Flash at /Users/rdeits/locomotion/explorations/point-cloud-signed-distance/packages/v0.5/Flash/src/Flash.jl:25 overwritten in module Flash at /Users/rdeits/locomotion/explorations/point-cloud-signed-distance/packages/v0.5/Flash/src/Flash.jl:25.\n",
      "WARNING: Method definition normalize!(RigidBodyDynamics.MechanismState, Any, RigidBodyDynamics.JointType) in module GradientDescent at /Users/rdeits/locomotion/explorations/point-cloud-signed-distance/packages/v0.5/Flash/src/gradientdescent.jl:19 overwritten in module GradientDescent at /Users/rdeits/locomotion/explorations/point-cloud-signed-distance/packages/v0.5/Flash/src/gradientdescent.jl:19.\n",
      "WARNING: Method definition normalize!(RigidBodyDynamics.MechanismState, Any, RigidBodyDynamics.QuaternionFloating) in module GradientDescent at /Users/rdeits/locomotion/explorations/point-cloud-signed-distance/packages/v0.5/Flash/src/gradientdescent.jl:21 overwritten in module GradientDescent at /Users/rdeits/locomotion/explorations/point-cloud-signed-distance/packages/v0.5/Flash/src/gradientdescent.jl:21.\n",
      "WARNING: Method definition normalize!(RigidBodyDynamics.MechanismState, Any) in module GradientDescent at /Users/rdeits/locomotion/explorations/point-cloud-signed-distance/packages/v0.5/Flash/src/gradientdescent.jl:25 overwritten in module GradientDescent at /Users/rdeits/locomotion/explorations/point-cloud-signed-distance/packages/v0.5/Flash/src/gradientdescent.jl:25.\n",
      "WARNING: Method definition normalize!(RigidBodyDynamics.MechanismState) in module GradientDescent at /Users/rdeits/locomotion/explorations/point-cloud-signed-distance/packages/v0.5/Flash/src/gradientdescent.jl:26 overwritten in module GradientDescent at /Users/rdeits/locomotion/explorations/point-cloud-signed-distance/packages/v0.5/Flash/src/gradientdescent.jl:26.\n"
     ]
    }
   ],
   "source": [
    "reload(\"Flash\")"
   ]
  },
  {
   "cell_type": "code",
   "execution_count": 35,
   "metadata": {
    "collapsed": false
   },
   "outputs": [
    {
     "data": {
      "text/html": [],
      "text/plain": [
       "Interact.Options{:SelectionSlider,Float64}(Signal{Float64}(0.0, nactions=1),\"joint1.1\",0.0,\"0.0\",Interact.OptionDict(DataStructures.OrderedDict(\"-3.141592653589793\"=>-3.14159,\"-3.015928947446201\"=>-3.01593,\"-2.8902652413026093\"=>-2.89027,\"-2.7646015351590183\"=>-2.7646,\"-2.6389378290154264\"=>-2.63894,\"-2.5132741228718345\"=>-2.51327,\"-2.3876104167282426\"=>-2.38761,\"-2.261946710584651\"=>-2.26195,\"-2.1362830044410597\"=>-2.13628,\"-2.0106192982974673\"=>-2.01062…),Dict(2.13628=>\"2.1362830044410597\",-3.01593=>\"-3.015928947446201\",-2.13628=>\"-2.1362830044410597\",1.88496=>\"1.8849555921538756\",1.75929=>\"1.7592918860102842\",2.63894=>\"2.6389378290154264\",-0.376991=>\"-0.3769911184307753\",0.251327=>\"0.25132741228718347\",-2.51327=>\"-2.5132741228718345\",1.25664=>\"1.2566370614359172\"…)),Any[],Any[],true,\"horizontal\")"
      ]
     },
     "metadata": {},
     "output_type": "display_data"
    },
    {
     "data": {
      "text/html": [],
      "text/plain": [
       "Interact.Options{:SelectionSlider,Float64}(Signal{Float64}(0.0, nactions=1),\"joint2.1\",0.0,\"0.0\",Interact.OptionDict(DataStructures.OrderedDict(\"-3.141592653589793\"=>-3.14159,\"-3.015928947446201\"=>-3.01593,\"-2.8902652413026093\"=>-2.89027,\"-2.7646015351590183\"=>-2.7646,\"-2.6389378290154264\"=>-2.63894,\"-2.5132741228718345\"=>-2.51327,\"-2.3876104167282426\"=>-2.38761,\"-2.261946710584651\"=>-2.26195,\"-2.1362830044410597\"=>-2.13628,\"-2.0106192982974673\"=>-2.01062…),Dict(2.13628=>\"2.1362830044410597\",-3.01593=>\"-3.015928947446201\",-2.13628=>\"-2.1362830044410597\",1.88496=>\"1.8849555921538756\",1.75929=>\"1.7592918860102842\",2.63894=>\"2.6389378290154264\",-0.376991=>\"-0.3769911184307753\",0.251327=>\"0.25132741228718347\",-2.51327=>\"-2.5132741228718345\",1.25664=>\"1.2566370614359172\"…)),Any[],Any[],true,\"horizontal\")"
      ]
     },
     "metadata": {},
     "output_type": "display_data"
    },
    {
     "data": {
      "text/html": [],
      "text/plain": [
       "Interact.Options{:SelectionSlider,Float64}(Signal{Float64}(0.0, nactions=1),\"joint3.1\",0.0,\"0.0\",Interact.OptionDict(DataStructures.OrderedDict(\"-3.141592653589793\"=>-3.14159,\"-3.015928947446201\"=>-3.01593,\"-2.8902652413026093\"=>-2.89027,\"-2.7646015351590183\"=>-2.7646,\"-2.6389378290154264\"=>-2.63894,\"-2.5132741228718345\"=>-2.51327,\"-2.3876104167282426\"=>-2.38761,\"-2.261946710584651\"=>-2.26195,\"-2.1362830044410597\"=>-2.13628,\"-2.0106192982974673\"=>-2.01062…),Dict(2.13628=>\"2.1362830044410597\",-3.01593=>\"-3.015928947446201\",-2.13628=>\"-2.1362830044410597\",1.88496=>\"1.8849555921538756\",1.75929=>\"1.7592918860102842\",2.63894=>\"2.6389378290154264\",-0.376991=>\"-0.3769911184307753\",0.251327=>\"0.25132741228718347\",-2.51327=>\"-2.5132741228718345\",1.25664=>\"1.2566370614359172\"…)),Any[],Any[],true,\"horizontal\")"
      ]
     },
     "metadata": {},
     "output_type": "display_data"
    },
    {
     "data": {
      "text/html": [],
      "text/plain": [
       "Interact.Options{:SelectionSlider,Float64}(Signal{Float64}(0.0, nactions=1),\"joint4.1\",0.0,\"0.0\",Interact.OptionDict(DataStructures.OrderedDict(\"-3.141592653589793\"=>-3.14159,\"-3.015928947446201\"=>-3.01593,\"-2.8902652413026093\"=>-2.89027,\"-2.7646015351590183\"=>-2.7646,\"-2.6389378290154264\"=>-2.63894,\"-2.5132741228718345\"=>-2.51327,\"-2.3876104167282426\"=>-2.38761,\"-2.261946710584651\"=>-2.26195,\"-2.1362830044410597\"=>-2.13628,\"-2.0106192982974673\"=>-2.01062…),Dict(2.13628=>\"2.1362830044410597\",-3.01593=>\"-3.015928947446201\",-2.13628=>\"-2.1362830044410597\",1.88496=>\"1.8849555921538756\",1.75929=>\"1.7592918860102842\",2.63894=>\"2.6389378290154264\",-0.376991=>\"-0.3769911184307753\",0.251327=>\"0.25132741228718347\",-2.51327=>\"-2.5132741228718345\",1.25664=>\"1.2566370614359172\"…)),Any[],Any[],true,\"horizontal\")"
      ]
     },
     "metadata": {},
     "output_type": "display_data"
    },
    {
     "data": {
      "text/html": [],
      "text/plain": [
       "Interact.Options{:SelectionSlider,Float64}(Signal{Float64}(0.0, nactions=1),\"joint5.1\",0.0,\"0.0\",Interact.OptionDict(DataStructures.OrderedDict(\"-3.141592653589793\"=>-3.14159,\"-3.015928947446201\"=>-3.01593,\"-2.8902652413026093\"=>-2.89027,\"-2.7646015351590183\"=>-2.7646,\"-2.6389378290154264\"=>-2.63894,\"-2.5132741228718345\"=>-2.51327,\"-2.3876104167282426\"=>-2.38761,\"-2.261946710584651\"=>-2.26195,\"-2.1362830044410597\"=>-2.13628,\"-2.0106192982974673\"=>-2.01062…),Dict(2.13628=>\"2.1362830044410597\",-3.01593=>\"-3.015928947446201\",-2.13628=>\"-2.1362830044410597\",1.88496=>\"1.8849555921538756\",1.75929=>\"1.7592918860102842\",2.63894=>\"2.6389378290154264\",-0.376991=>\"-0.3769911184307753\",0.251327=>\"0.25132741228718347\",-2.51327=>\"-2.5132741228718345\",1.25664=>\"1.2566370614359172\"…)),Any[],Any[],true,\"horizontal\")"
      ]
     },
     "metadata": {},
     "output_type": "display_data"
    },
    {
     "data": {
      "text/html": [],
      "text/plain": [
       "Interact.Options{:SelectionSlider,Float64}(Signal{Float64}(0.0, nactions=1),\"joint6.1\",0.0,\"0.0\",Interact.OptionDict(DataStructures.OrderedDict(\"-3.141592653589793\"=>-3.14159,\"-3.015928947446201\"=>-3.01593,\"-2.8902652413026093\"=>-2.89027,\"-2.7646015351590183\"=>-2.7646,\"-2.6389378290154264\"=>-2.63894,\"-2.5132741228718345\"=>-2.51327,\"-2.3876104167282426\"=>-2.38761,\"-2.261946710584651\"=>-2.26195,\"-2.1362830044410597\"=>-2.13628,\"-2.0106192982974673\"=>-2.01062…),Dict(2.13628=>\"2.1362830044410597\",-3.01593=>\"-3.015928947446201\",-2.13628=>\"-2.1362830044410597\",1.88496=>\"1.8849555921538756\",1.75929=>\"1.7592918860102842\",2.63894=>\"2.6389378290154264\",-0.376991=>\"-0.3769911184307753\",0.251327=>\"0.25132741228718347\",-2.51327=>\"-2.5132741228718345\",1.25664=>\"1.2566370614359172\"…)),Any[],Any[],true,\"horizontal\")"
      ]
     },
     "metadata": {},
     "output_type": "display_data"
    },
    {
     "data": {
      "text/html": [
       "true"
      ],
      "text/plain": [
       "true"
      ]
     },
     "execution_count": 35,
     "metadata": {
      "comm_id": "f7b068d0-168a-4da7-a955-d4f094eed382",
      "reactive": true
     },
     "output_type": "execute_result"
    }
   ],
   "source": [
    "urdf = \"$(ENV[\"HOME\"])/locomotion/explorations/point-cloud-signed-distance/examples/data/IRB140/urdf/irb_140_convhull.urdf\"\n",
    "package_path = [\"$(ENV[\"HOME\"])/locomotion/drake-distro/drake/examples\"]\n",
    "mechanism = parse_urdf(Float64, urdf);\n",
    "vis = DrakeVisualizer.Visualizer()\n",
    "DrakeVisualizer.load!(vis[:urdf], parse_urdf(urdf, mechanism; package_path=package_path))\n",
    "inspect(mechanism, vis[:urdf])"
   ]
  },
  {
   "cell_type": "code",
   "execution_count": 36,
   "metadata": {
    "collapsed": false
   },
   "outputs": [
    {
     "data": {
      "text/plain": [
       "Manipulator with 8 links and 7 surfaces"
      ]
     },
     "execution_count": 36,
     "metadata": {},
     "output_type": "execute_result"
    }
   ],
   "source": [
    "model = Flash.Models.load_urdf(urdf, package_path=package_path)"
   ]
  },
  {
   "cell_type": "code",
   "execution_count": 37,
   "metadata": {
    "collapsed": false
   },
   "outputs": [
    {
     "data": {
      "text/html": [
       "true"
      ],
      "text/plain": [
       "true"
      ]
     },
     "execution_count": 37,
     "metadata": {},
     "output_type": "execute_result"
    }
   ],
   "source": [
    "# Construct the sensor and draw its view rays for debugging\n",
    "sensor = Flash.DepthSensors.Kinect(41, 41);\n",
    "camera_origin = SVector(0., 1.5, 0.5)\n",
    "camera_tform = compose(Translation(camera_origin), LinearMap(AngleAxis(pi/2, 1, 0, 0)))\n",
    "Flash.DepthSensors.draw_rays(vis[:sensor], sensor, camera_tform)"
   ]
  },
  {
   "cell_type": "code",
   "execution_count": 38,
   "metadata": {
    "collapsed": false
   },
   "outputs": [
    {
     "data": {
      "text/plain": [
       "Visualizer with path prefix Symbol[:skin] using LCM LCMCore.LCM(Ptr{Void} @0x00007fab63098b70,RawFD(114),LCMCore.Subscription[LCMCore.Subscription{LCMCore.SubscriptionOptions{DrakeVisualizer.Comms.CommsT,DrakeVisualizer.#handle_msg#7{DrakeVisualizer.CoreVisualizer}}}(LCMCore.SubscriptionOptions{DrakeVisualizer.Comms.CommsT,DrakeVisualizer.#handle_msg#7{DrakeVisualizer.CoreVisualizer}}(DrakeVisualizer.Comms.CommsT,DrakeVisualizer.handle_msg),Ptr{Void} @0x00007fab630e0860)])"
      ]
     },
     "execution_count": 38,
     "metadata": {},
     "output_type": "execute_result"
    }
   ],
   "source": [
    "state = Flash.ManipulatorState(model);\n",
    "skin = Flash.skin(state);\n",
    "load!(vis[:skin], DrakeVisualizer.contour_mesh(skin, [-.5, -.5, -.25], [1., .5, 1], 0.0, 0.05))"
   ]
  },
  {
   "cell_type": "code",
   "execution_count": 39,
   "metadata": {
    "collapsed": false
   },
   "outputs": [
    {
     "data": {
      "text/plain": [
       "angle_diff (generic function with 1 method)"
      ]
     },
     "execution_count": 39,
     "metadata": {},
     "output_type": "execute_result"
    }
   ],
   "source": [
    "# Difference between two angles, compensating for wraparound\n",
    "# (taken from angleDiff.m in Drake)\n",
    "function angle_diff(phi1, phi2)\n",
    "    mod(phi2 - phi1 + pi, 2*pi) - pi;\n",
    "end"
   ]
  },
  {
   "cell_type": "code",
   "execution_count": 44,
   "metadata": {
    "collapsed": false
   },
   "outputs": [
    {
     "data": {
      "text/html": [
       "true"
      ],
      "text/plain": [
       "true"
      ]
     },
     "execution_count": 44,
     "metadata": {},
     "output_type": "execute_result"
    }
   ],
   "source": [
    "DrakeVisualizer.delete!(vis[:skin])\n",
    "DrakeVisualizer.delete!(vis[:urdf])"
   ]
  },
  {
   "cell_type": "code",
   "execution_count": 65,
   "metadata": {
    "collapsed": false
   },
   "outputs": [
    {
     "data": {
      "text/html": [
       "true"
      ],
      "text/plain": [
       "true"
      ]
     },
     "execution_count": 65,
     "metadata": {},
     "output_type": "execute_result"
    }
   ],
   "source": [
    "vis_data = parse_urdf(urdf, model.mechanism; package_path=package_path)\n",
    "vis_true = vis[:actual]\n",
    "vis_estimated = vis[:estimated]\n",
    "DrakeVisualizer.load!(vis[:actual], vis_data)\n",
    "DrakeVisualizer.load!(vis[:estimated], vis_data)"
   ]
  },
  {
   "cell_type": "code",
   "execution_count": 67,
   "metadata": {
    "collapsed": false
   },
   "outputs": [
    {
     "data": {
      "text/plain": [
       "Visualizer with path prefix Symbol[:raycast] using LCM LCMCore.LCM(Ptr{Void} @0x00007fab63098b70,RawFD(114),LCMCore.Subscription[LCMCore.Subscription{LCMCore.SubscriptionOptions{DrakeVisualizer.Comms.CommsT,DrakeVisualizer.#handle_msg#7{DrakeVisualizer.CoreVisualizer}}}(LCMCore.SubscriptionOptions{DrakeVisualizer.Comms.CommsT,DrakeVisualizer.#handle_msg#7{DrakeVisualizer.CoreVisualizer}}(DrakeVisualizer.Comms.CommsT,DrakeVisualizer.handle_msg),Ptr{Void} @0x00007fab630e0860)])"
      ]
     },
     "execution_count": 67,
     "metadata": {},
     "output_type": "execute_result"
    }
   ],
   "source": [
    "# Now let's try to use the raycast data to recover the joint angles.\n",
    "# We'll do that by choosing a true (hidden) robot state:\n",
    "true_state = Flash.ManipulatorState(model)\n",
    "DrakeVisualizer.draw!(vis_true, true_state.mechanism_state)\n",
    "\n",
    "# Now we can raycast that true state to get a set of sensed points:\n",
    "sensed_points = Flash.DepthSensors.raycast(true_state, sensor, camera_tform)\n",
    "load!(vis[:raycast], DrakeVisualizer.PointCloud(sensed_points))"
   ]
  },
  {
   "cell_type": "code",
   "execution_count": 70,
   "metadata": {
    "collapsed": false
   },
   "outputs": [
    {
     "name": "stderr",
     "output_type": "stream",
     "text": [
      "WARNING: Method definition test_gradient_descent(Any, Any, Any, Any) in module Main at In[68]:2 overwritten at In[70]:2.\n"
     ]
    },
    {
     "data": {
      "text/plain": [
       "test_gradient_descent (generic function with 1 method)"
      ]
     },
     "execution_count": 70,
     "metadata": {},
     "output_type": "execute_result"
    }
   ],
   "source": [
    "function test_gradient_descent(model, sensed_points, true_state, loops)\n",
    "    x_true = copy(Flash.flatten(true_state))\n",
    "    trials = Vector{DataFrame}()\n",
    "    workspace_state = Flash.ManipulatorState(model)\n",
    "    \n",
    "    for i = 1:loops\n",
    "        errors = Float64[]\n",
    "        xs = Vector{Float64}[]\n",
    "        costs = Float64[]\n",
    "        \n",
    "        function callback{T}(x::AbstractVector{T}, c)\n",
    "            # When computing errors, we'll just ignore the last three joints, since\n",
    "            # they are almost impossible to track at this scale\n",
    "            x_value = Flash.value.(x)\n",
    "            push!(errors, norm(angle_diff.(x_value[1:end-3], x_true[1:end-3])))\n",
    "            push!(xs, x_value)\n",
    "            push!(costs, Flash.value(c))\n",
    "            Flash.GradientDescent.unflatten!(workspace_state, x_value)\n",
    "            DrakeVisualizer.draw!(vis_estimated, workspace_state.mechanism_state)\n",
    "        end\n",
    "        \n",
    "        x_estimated = copy(x_true)\n",
    "        x_estimated += pi * (rand(length(x_estimated)) - 0.5)\n",
    "        Flash.Tracking.estimate_state(model, \n",
    "            sensed_points, x_estimated; callback=callback,\n",
    "        solver=NaiveSolver(length(x_estimated),\n",
    "                              rate=20.0,\n",
    "                              max_step=0.5,\n",
    "                              iteration_limit=100,\n",
    "                            gradient_convergence_tolerance=1e-4))\n",
    "        push!(trials, DataFrame(x=xs, err=errors, cost=costs))\n",
    "    end\n",
    "    \n",
    "    trials\n",
    "end\n"
   ]
  },
  {
   "cell_type": "code",
   "execution_count": 72,
   "metadata": {
    "collapsed": false
   },
   "outputs": [],
   "source": [
    "trials = test_gradient_descent(model, sensed_points, true_state, 20);"
   ]
  },
  {
   "cell_type": "code",
   "execution_count": null,
   "metadata": {
    "collapsed": true
   },
   "outputs": [],
   "source": []
  }
 ],
 "metadata": {
  "kernelspec": {
   "display_name": "Julia 0.5.0",
   "language": "julia",
   "name": "julia-0.5"
  },
  "language_info": {
   "file_extension": ".jl",
   "mimetype": "application/julia",
   "name": "julia",
   "version": "0.5.0"
  },
  "widgets": {
   "state": {
    "0d7d4a85-dc07-4022-ac4a-a3ac11af5038": {
     "views": [
      {
       "cell_index": 3
      }
     ]
    },
    "0e479d8c-7900-4f20-8db0-bc34af554b2a": {
     "views": [
      {
       "cell_index": 3
      }
     ]
    },
    "0ec062b5-3086-460a-8873-c661b8565888": {
     "views": [
      {
       "cell_index": 3
      }
     ]
    },
    "102dc404-c100-44ab-8d12-3cd49749492b": {
     "views": [
      {
       "cell_index": 3
      }
     ]
    },
    "11558d1f-a236-463e-81c5-dac8f9530090": {
     "views": [
      {
       "cell_index": 3
      }
     ]
    },
    "118c3de2-def8-4fe5-a7e2-8309bc1ff426": {
     "views": [
      {
       "cell_index": 3
      }
     ]
    },
    "1cd0bf55-a106-4d6c-8eb7-9540aab0e21d": {
     "views": [
      {
       "cell_index": 3
      }
     ]
    },
    "25bbefaf-531a-4dda-b377-2f3f13edfa64": {
     "views": [
      {
       "cell_index": 3
      }
     ]
    },
    "2b57af9f-c398-419e-a60d-0c2e6725022f": {
     "views": [
      {
       "cell_index": 3
      }
     ]
    },
    "2c21bbce-fc3f-47ac-8df0-20026bf89f54": {
     "views": [
      {
       "cell_index": 3
      }
     ]
    },
    "36a5e23d-8352-4fb7-96e1-702942d68e79": {
     "views": [
      {
       "cell_index": 3
      }
     ]
    },
    "3b67b2af-6b11-4a90-96e8-77f4e813e6ba": {
     "views": [
      {
       "cell_index": 3
      }
     ]
    },
    "411e0891-d057-4db7-a8cd-edd5143e8540": {
     "views": [
      {
       "cell_index": 3
      }
     ]
    },
    "42a26a41-f502-4f93-89b0-3fab2388ff1b": {
     "views": [
      {
       "cell_index": 3
      }
     ]
    },
    "4472df48-8f95-4683-877b-dc0792d07c30": {
     "views": [
      {
       "cell_index": 3
      }
     ]
    },
    "53d1cba5-2d26-492d-82d4-8f7980108a05": {
     "views": [
      {
       "cell_index": 3
      }
     ]
    },
    "574cf3b3-42c0-45ec-ad5c-59c7a05d6f29": {
     "views": [
      {
       "cell_index": 3
      }
     ]
    },
    "70242a80-38af-4a24-9e81-d70f5674cd6e": {
     "views": [
      {
       "cell_index": 3
      }
     ]
    },
    "744cf8ea-f623-4e72-9c6d-4ea3c936ef46": {
     "views": [
      {
       "cell_index": 3
      }
     ]
    },
    "754d316b-ebac-45ff-b19c-42794a6b9254": {
     "views": [
      {
       "cell_index": 3
      }
     ]
    },
    "78a4673e-6f8f-4625-826c-fdf4862dc791": {
     "views": [
      {
       "cell_index": 3
      }
     ]
    },
    "7b771ce1-a462-48f9-9064-65d7dd8254cd": {
     "views": [
      {
       "cell_index": 3
      }
     ]
    },
    "7f97b7d9-e171-4b71-8455-c86217126e18": {
     "views": [
      {
       "cell_index": 3
      }
     ]
    },
    "8f4e6bf4-cc5d-4dd6-99f1-69b3c1bbeace": {
     "views": [
      {
       "cell_index": 3
      }
     ]
    },
    "99aa813a-1318-4758-a066-cdefab8e1782": {
     "views": [
      {
       "cell_index": 3
      }
     ]
    },
    "a1f11c48-dab1-46f9-9f72-d4b60a81477f": {
     "views": [
      {
       "cell_index": 3
      }
     ]
    },
    "a4ca0937-2aa5-4a6e-a231-dbc4edf80247": {
     "views": [
      {
       "cell_index": 3
      }
     ]
    },
    "a58a9289-9269-4458-836f-1b3ed5b7f537": {
     "views": [
      {
       "cell_index": 3
      }
     ]
    },
    "b181c0ff-20b5-4fa1-8386-c05153e7b145": {
     "views": [
      {
       "cell_index": 3
      }
     ]
    },
    "b8fef30a-cadb-48c9-a436-7c4bc840664d": {
     "views": [
      {
       "cell_index": 3
      }
     ]
    },
    "ba06de6e-d041-428f-b8db-9d0798fcd835": {
     "views": [
      {
       "cell_index": 3
      }
     ]
    },
    "c78aff5e-1814-436c-a6c3-4b6d0a2aff74": {
     "views": [
      {
       "cell_index": 3
      }
     ]
    },
    "cac69e9a-dd13-4346-a81c-c7317a904016": {
     "views": [
      {
       "cell_index": 3
      }
     ]
    },
    "ce38b3e1-4f8a-4826-b33c-0050e8ba382a": {
     "views": [
      {
       "cell_index": 3
      }
     ]
    },
    "ce59f8ba-7d74-410a-930b-56279e00b98d": {
     "views": [
      {
       "cell_index": 3
      }
     ]
    },
    "fa4d315c-50c0-41b7-8c2d-4fa75718b225": {
     "views": [
      {
       "cell_index": 3
      }
     ]
    }
   },
   "version": "1.2.0"
  }
 },
 "nbformat": 4,
 "nbformat_minor": 1
}
