{
 "cells": [
  {
   "cell_type": "code",
   "execution_count": 1,
   "metadata": {
    "collapsed": false
   },
   "outputs": [
    {
     "name": "stderr",
     "output_type": "stream",
     "text": [
      "\u001b[1m\u001b[34mINFO: Recompiling stale cache file /Users/rdeits/locomotion/explorations/point-cloud-signed-distance/packages/lib/v0.5/RigidBodyTreeInspector.ji for module RigidBodyTreeInspector.\n",
      "\u001b[0m"
     ]
    },
    {
     "data": {
      "text/html": [
       "<div id=\"interact-js-shim\">\n",
       "    <script charset=\"utf-8\">\n",
       "(function (IPython, $, _, MathJax) {\n",
       "    $.event.special.destroyed = {\n",
       "\tremove: function(o) {\n",
       "\t    if (o.handler) {\n",
       "\t\to.handler.apply(this, arguments)\n",
       "\t    }\n",
       "\t}\n",
       "    }\n",
       "\n",
       "    var OutputArea = IPython.version >= \"4.0.0\" ? require(\"notebook/js/outputarea\").OutputArea : IPython.OutputArea;\n",
       "\n",
       "    var redrawValue = function (container, type, val) {\n",
       "\tvar selector = $(\"<div/>\");\n",
       "\tvar oa = new OutputArea(_.extend(selector, {\n",
       "\t    selector: selector,\n",
       "\t    prompt_area: true,\n",
       "\t    events: IPython.events,\n",
       "\t    keyboard_manager: IPython.keyboard_manager\n",
       "\t})); // Hack to work with IPython 2.1.0\n",
       "\n",
       "\tswitch (type) {\n",
       "\tcase \"image/png\":\n",
       "            var _src = 'data:' + type + ';base64,' + val;\n",
       "\t    $(container).find(\"img\").attr('src', _src);\n",
       "\t    break;\n",
       "\tcase \"text/latex\":\n",
       "\t\tif (MathJax){\n",
       "\t\t\tvar math = MathJax.Hub.getAllJax(container)[0];\n",
       "\t\t\tMathJax.Hub.Queue([\"Text\", math, val.replace(/^\\${1,2}|\\${1,2}$/g, '')]);\n",
       "\t\t\tbreak;\n",
       "\t\t}\n",
       "\tdefault:\n",
       "\t    var toinsert = OutputArea.append_map[type].apply(\n",
       "\t\toa, [val, {}, selector]\n",
       "\t    );\n",
       "\t    $(container).empty().append(toinsert.contents());\n",
       "\t    selector.remove();\n",
       "\t}\n",
       "    }\n",
       "\n",
       "\n",
       "    $(document).ready(function() {\n",
       "\tfunction initComm(evt, data) {\n",
       "\t    var comm_manager = data.kernel.comm_manager;\n",
       "        //_.extend(comm_manager.targets, require(\"widgets/js/widget\"))\n",
       "\t    comm_manager.register_target(\"Signal\", function (comm) {\n",
       "            comm.on_msg(function (msg) {\n",
       "                var val = msg.content.data.value;\n",
       "                $(\".signal-\" + comm.comm_id).each(function() {\n",
       "                var type = $(this).data(\"type\");\n",
       "                if (typeof(val[type]) !== \"undefined\" && val[type] !== null) {\n",
       "                    redrawValue(this, type, val[type], type);\n",
       "                }\n",
       "                });\n",
       "                delete val;\n",
       "                delete msg.content.data.value;\n",
       "            });\n",
       "\t    });\n",
       "\n",
       "\t    // coordingate with Comm and redraw Signals\n",
       "\t    // XXX: Test using Reactive here to improve performance\n",
       "\t    $([IPython.events]).on(\n",
       "\t\t'output_appended.OutputArea', function (event, type, value, md, toinsert) {\n",
       "\t\t    if (md && md.reactive) {\n",
       "                // console.log(md.comm_id);\n",
       "                toinsert.addClass(\"signal-\" + md.comm_id);\n",
       "                toinsert.data(\"type\", type);\n",
       "                // Signal back indicating the mimetype required\n",
       "                var comm_manager = IPython.notebook.kernel.comm_manager;\n",
       "                var comm = comm_manager.comms[md.comm_id];\n",
       "                comm.then(function (c) {\n",
       "                    c.send({action: \"subscribe_mime\",\n",
       "                       mime: type});\n",
       "                    toinsert.bind(\"destroyed\", function() {\n",
       "                        c.send({action: \"unsubscribe_mime\",\n",
       "                               mime: type});\n",
       "                    });\n",
       "                })\n",
       "\t\t    }\n",
       "\t    });\n",
       "\t}\n",
       "\n",
       "\ttry {\n",
       "\t    // try to initialize right away. otherwise, wait on the status_started event.\n",
       "\t    initComm(undefined, IPython.notebook);\n",
       "\t} catch (e) {\n",
       "\t    $([IPython.events]).on('kernel_created.Kernel kernel_created.Session', initComm);\n",
       "\t}\n",
       "    });\n",
       "})(IPython, jQuery, _, MathJax);\n",
       "</script>\n",
       "    <script>\n",
       "        window.interactLoadedFlag = true\n",
       "       $(\"#interact-js-shim\").bind(\"destroyed\", function () {\n",
       "           if (window.interactLoadedFlag) {\n",
       "               console.warn(\"JavaScript required by Interact will be removed if you remove this cell or run using Interact more than once.\")\n",
       "           }\n",
       "       })\n",
       "       $([IPython.events]).on(\"kernel_starting.Kernel kernel_restarting.Kernel\", function () { window.interactLoadedFlag = false })\n",
       "   </script>\n",
       "</div>"
      ]
     },
     "metadata": {},
     "output_type": "display_data"
    }
   ],
   "source": [
    "using RigidBodyTreeInspector\n",
    "using RigidBodyDynamics\n",
    "using StaticArrays\n",
    "using Plots\n",
    "gr()\n",
    "using CoordinateTransformations\n",
    "using DataFrames, DataArrays\n",
    "import SimpleGradientDescent: NaiveSolver\n",
    "import Flash\n",
    "import DrakeVisualizer"
   ]
  },
  {
   "cell_type": "code",
   "execution_count": 2,
   "metadata": {
    "collapsed": false
   },
   "outputs": [
    {
     "data": {
      "text/html": [
       "true"
      ],
      "text/plain": [
       "true"
      ]
     },
     "execution_count": 2,
     "metadata": {},
     "output_type": "execute_result"
    }
   ],
   "source": [
    "DrakeVisualizer.any_open_windows() || DrakeVisualizer.new_window()"
   ]
  },
  {
   "cell_type": "code",
   "execution_count": 3,
   "metadata": {
    "collapsed": false
   },
   "outputs": [
    {
     "name": "stderr",
     "output_type": "stream",
     "text": [
      "WARNING: replacing module Flash\n",
      "WARNING: Method definition value(CoordinateTransformations.AbstractAffineMap) in module Flash at /Users/rdeits/locomotion/explorations/point-cloud-signed-distance/packages/v0.5/Flash/src/Flash.jl:31 overwritten in module Flash at /Users/rdeits/locomotion/explorations/point-cloud-signed-distance/packages/v0.5/Flash/src/Flash.jl:31.\n",
      "WARNING: Method definition normalize!(RigidBodyDynamics.MechanismState, Any, RigidBodyDynamics.JointType) in module GradientDescent at /Users/rdeits/locomotion/explorations/point-cloud-signed-distance/packages/v0.5/Flash/src/gradientdescent.jl:19 overwritten in module GradientDescent at /Users/rdeits/locomotion/explorations/point-cloud-signed-distance/packages/v0.5/Flash/src/gradientdescent.jl:19.\n",
      "WARNING: Method definition normalize!(RigidBodyDynamics.MechanismState, Any, RigidBodyDynamics.QuaternionFloating) in module GradientDescent at /Users/rdeits/locomotion/explorations/point-cloud-signed-distance/packages/v0.5/Flash/src/gradientdescent.jl:21 overwritten in module GradientDescent at /Users/rdeits/locomotion/explorations/point-cloud-signed-distance/packages/v0.5/Flash/src/gradientdescent.jl:21.\n",
      "WARNING: Method definition normalize!(RigidBodyDynamics.MechanismState, Any) in module GradientDescent at /Users/rdeits/locomotion/explorations/point-cloud-signed-distance/packages/v0.5/Flash/src/gradientdescent.jl:25 overwritten in module GradientDescent at /Users/rdeits/locomotion/explorations/point-cloud-signed-distance/packages/v0.5/Flash/src/gradientdescent.jl:25.\n",
      "WARNING: Method definition normalize!(RigidBodyDynamics.MechanismState) in module GradientDescent at /Users/rdeits/locomotion/explorations/point-cloud-signed-distance/packages/v0.5/Flash/src/gradientdescent.jl:26 overwritten in module GradientDescent at /Users/rdeits/locomotion/explorations/point-cloud-signed-distance/packages/v0.5/Flash/src/gradientdescent.jl:26.\n"
     ]
    }
   ],
   "source": [
    "reload(\"Flash\")"
   ]
  },
  {
   "cell_type": "code",
   "execution_count": 4,
   "metadata": {
    "collapsed": false
   },
   "outputs": [
    {
     "data": {
      "text/plain": [
       "Visualizer with path prefix Symbol[] using LCM LCMCore.LCM(Ptr{Void} @0x00007fb1be206cf0,\"\",RawFD(47),LCMCore.Subscription[LCMCore.Subscription{LCMCore.SubscriptionOptions{DrakeVisualizer.Comms.CommsT,DrakeVisualizer.#handle_msg#7{DrakeVisualizer.CoreVisualizer}}}(LCMCore.SubscriptionOptions{DrakeVisualizer.Comms.CommsT,DrakeVisualizer.#handle_msg#7{DrakeVisualizer.CoreVisualizer}}(DrakeVisualizer.Comms.CommsT,DrakeVisualizer.handle_msg),Ptr{Void} @0x00007fb1be164280)])"
      ]
     },
     "execution_count": 4,
     "metadata": {},
     "output_type": "execute_result"
    }
   ],
   "source": [
    "urdf = \"$(ENV[\"HOME\"])/locomotion/explorations/point-cloud-signed-distance/examples/data/IRB140/urdf/irb_140_convhull.urdf\"\n",
    "package_path = [\"$(ENV[\"HOME\"])/locomotion/drake-distro/drake/examples\"]\n",
    "vis = DrakeVisualizer.Visualizer()"
   ]
  },
  {
   "cell_type": "code",
   "execution_count": 5,
   "metadata": {
    "collapsed": false
   },
   "outputs": [
    {
     "data": {
      "text/html": [],
      "text/plain": [
       "Interact.Options{:SelectionSlider,Float64}(Signal{Float64}(0.0, nactions=1),\"joint1.1\",0.0,\"0.0\",Interact.OptionDict(DataStructures.OrderedDict(\"-3.141592653589793\"=>-3.14159,\"-3.015928947446201\"=>-3.01593,\"-2.8902652413026093\"=>-2.89027,\"-2.7646015351590183\"=>-2.7646,\"-2.6389378290154264\"=>-2.63894,\"-2.5132741228718345\"=>-2.51327,\"-2.3876104167282426\"=>-2.38761,\"-2.261946710584651\"=>-2.26195,\"-2.1362830044410597\"=>-2.13628,\"-2.0106192982974673\"=>-2.01062…),Dict(2.13628=>\"2.1362830044410597\",-3.01593=>\"-3.015928947446201\",-2.13628=>\"-2.1362830044410597\",1.88496=>\"1.8849555921538756\",1.75929=>\"1.7592918860102842\",2.63894=>\"2.6389378290154264\",-0.376991=>\"-0.3769911184307753\",0.251327=>\"0.25132741228718347\",-2.51327=>\"-2.5132741228718345\",1.25664=>\"1.2566370614359172\"…)),Any[],Any[],true,\"horizontal\")"
      ]
     },
     "metadata": {},
     "output_type": "display_data"
    },
    {
     "data": {
      "text/html": [],
      "text/plain": [
       "Interact.Options{:SelectionSlider,Float64}(Signal{Float64}(0.0, nactions=1),\"joint2.1\",0.0,\"0.0\",Interact.OptionDict(DataStructures.OrderedDict(\"-3.141592653589793\"=>-3.14159,\"-3.015928947446201\"=>-3.01593,\"-2.8902652413026093\"=>-2.89027,\"-2.7646015351590183\"=>-2.7646,\"-2.6389378290154264\"=>-2.63894,\"-2.5132741228718345\"=>-2.51327,\"-2.3876104167282426\"=>-2.38761,\"-2.261946710584651\"=>-2.26195,\"-2.1362830044410597\"=>-2.13628,\"-2.0106192982974673\"=>-2.01062…),Dict(2.13628=>\"2.1362830044410597\",-3.01593=>\"-3.015928947446201\",-2.13628=>\"-2.1362830044410597\",1.88496=>\"1.8849555921538756\",1.75929=>\"1.7592918860102842\",2.63894=>\"2.6389378290154264\",-0.376991=>\"-0.3769911184307753\",0.251327=>\"0.25132741228718347\",-2.51327=>\"-2.5132741228718345\",1.25664=>\"1.2566370614359172\"…)),Any[],Any[],true,\"horizontal\")"
      ]
     },
     "metadata": {},
     "output_type": "display_data"
    },
    {
     "data": {
      "text/html": [],
      "text/plain": [
       "Interact.Options{:SelectionSlider,Float64}(Signal{Float64}(0.0, nactions=1),\"joint3.1\",0.0,\"0.0\",Interact.OptionDict(DataStructures.OrderedDict(\"-3.141592653589793\"=>-3.14159,\"-3.015928947446201\"=>-3.01593,\"-2.8902652413026093\"=>-2.89027,\"-2.7646015351590183\"=>-2.7646,\"-2.6389378290154264\"=>-2.63894,\"-2.5132741228718345\"=>-2.51327,\"-2.3876104167282426\"=>-2.38761,\"-2.261946710584651\"=>-2.26195,\"-2.1362830044410597\"=>-2.13628,\"-2.0106192982974673\"=>-2.01062…),Dict(2.13628=>\"2.1362830044410597\",-3.01593=>\"-3.015928947446201\",-2.13628=>\"-2.1362830044410597\",1.88496=>\"1.8849555921538756\",1.75929=>\"1.7592918860102842\",2.63894=>\"2.6389378290154264\",-0.376991=>\"-0.3769911184307753\",0.251327=>\"0.25132741228718347\",-2.51327=>\"-2.5132741228718345\",1.25664=>\"1.2566370614359172\"…)),Any[],Any[],true,\"horizontal\")"
      ]
     },
     "metadata": {},
     "output_type": "display_data"
    },
    {
     "data": {
      "text/html": [],
      "text/plain": [
       "Interact.Options{:SelectionSlider,Float64}(Signal{Float64}(0.0, nactions=1),\"joint4.1\",0.0,\"0.0\",Interact.OptionDict(DataStructures.OrderedDict(\"-3.141592653589793\"=>-3.14159,\"-3.015928947446201\"=>-3.01593,\"-2.8902652413026093\"=>-2.89027,\"-2.7646015351590183\"=>-2.7646,\"-2.6389378290154264\"=>-2.63894,\"-2.5132741228718345\"=>-2.51327,\"-2.3876104167282426\"=>-2.38761,\"-2.261946710584651\"=>-2.26195,\"-2.1362830044410597\"=>-2.13628,\"-2.0106192982974673\"=>-2.01062…),Dict(2.13628=>\"2.1362830044410597\",-3.01593=>\"-3.015928947446201\",-2.13628=>\"-2.1362830044410597\",1.88496=>\"1.8849555921538756\",1.75929=>\"1.7592918860102842\",2.63894=>\"2.6389378290154264\",-0.376991=>\"-0.3769911184307753\",0.251327=>\"0.25132741228718347\",-2.51327=>\"-2.5132741228718345\",1.25664=>\"1.2566370614359172\"…)),Any[],Any[],true,\"horizontal\")"
      ]
     },
     "metadata": {},
     "output_type": "display_data"
    },
    {
     "data": {
      "text/html": [],
      "text/plain": [
       "Interact.Options{:SelectionSlider,Float64}(Signal{Float64}(0.0, nactions=1),\"joint5.1\",0.0,\"0.0\",Interact.OptionDict(DataStructures.OrderedDict(\"-3.141592653589793\"=>-3.14159,\"-3.015928947446201\"=>-3.01593,\"-2.8902652413026093\"=>-2.89027,\"-2.7646015351590183\"=>-2.7646,\"-2.6389378290154264\"=>-2.63894,\"-2.5132741228718345\"=>-2.51327,\"-2.3876104167282426\"=>-2.38761,\"-2.261946710584651\"=>-2.26195,\"-2.1362830044410597\"=>-2.13628,\"-2.0106192982974673\"=>-2.01062…),Dict(2.13628=>\"2.1362830044410597\",-3.01593=>\"-3.015928947446201\",-2.13628=>\"-2.1362830044410597\",1.88496=>\"1.8849555921538756\",1.75929=>\"1.7592918860102842\",2.63894=>\"2.6389378290154264\",-0.376991=>\"-0.3769911184307753\",0.251327=>\"0.25132741228718347\",-2.51327=>\"-2.5132741228718345\",1.25664=>\"1.2566370614359172\"…)),Any[],Any[],true,\"horizontal\")"
      ]
     },
     "metadata": {},
     "output_type": "display_data"
    },
    {
     "data": {
      "text/html": [],
      "text/plain": [
       "Interact.Options{:SelectionSlider,Float64}(Signal{Float64}(0.0, nactions=1),\"joint6.1\",0.0,\"0.0\",Interact.OptionDict(DataStructures.OrderedDict(\"-3.141592653589793\"=>-3.14159,\"-3.015928947446201\"=>-3.01593,\"-2.8902652413026093\"=>-2.89027,\"-2.7646015351590183\"=>-2.7646,\"-2.6389378290154264\"=>-2.63894,\"-2.5132741228718345\"=>-2.51327,\"-2.3876104167282426\"=>-2.38761,\"-2.261946710584651\"=>-2.26195,\"-2.1362830044410597\"=>-2.13628,\"-2.0106192982974673\"=>-2.01062…),Dict(2.13628=>\"2.1362830044410597\",-3.01593=>\"-3.015928947446201\",-2.13628=>\"-2.1362830044410597\",1.88496=>\"1.8849555921538756\",1.75929=>\"1.7592918860102842\",2.63894=>\"2.6389378290154264\",-0.376991=>\"-0.3769911184307753\",0.251327=>\"0.25132741228718347\",-2.51327=>\"-2.5132741228718345\",1.25664=>\"1.2566370614359172\"…)),Any[],Any[],true,\"horizontal\")"
      ]
     },
     "metadata": {},
     "output_type": "display_data"
    },
    {
     "data": {
      "text/plain": [
       "Set{Array{Symbol,1}}()"
      ]
     },
     "execution_count": 5,
     "metadata": {
      "comm_id": "850cc97d-a268-4b5a-b065-c4beb1fd7364",
      "reactive": true
     },
     "output_type": "execute_result"
    }
   ],
   "source": [
    "model = Flash.Models.load_urdf(urdf, package_path=package_path)\n",
    "mechanism = model.mechanism\n",
    "state = Flash.ManipulatorState(model)\n",
    "DrakeVisualizer.setgeometry!(vis[:urdf], parse_urdf(urdf, mechanism; package_path=package_path))\n",
    "RigidBodyTreeInspector.inspect!(state.mechanism_state, vis[:urdf])"
   ]
  },
  {
   "cell_type": "code",
   "execution_count": 6,
   "metadata": {
    "collapsed": false
   },
   "outputs": [
    {
     "data": {
      "text/plain": [
       "Set{Array{Symbol,1}}()"
      ]
     },
     "execution_count": 6,
     "metadata": {},
     "output_type": "execute_result"
    }
   ],
   "source": [
    "# Construct the sensor and draw its view rays for debugging\n",
    "sensor = Flash.DepthSensors.Kinect(41, 41);\n",
    "camera_origin = SVector(0., 1.5, 0.5)\n",
    "camera_tform = compose(Translation(camera_origin), LinearMap(AngleAxis(pi/2, 1, 0, 0)))\n",
    "Flash.DepthSensors.draw_rays(vis[:sensor], sensor, camera_tform)"
   ]
  },
  {
   "cell_type": "code",
   "execution_count": 7,
   "metadata": {
    "collapsed": false
   },
   "outputs": [
    {
     "data": {
      "text/plain": [
       "Visualizer with path prefix Symbol[:skin] using LCM LCMCore.LCM(Ptr{Void} @0x00007fb1be206cf0,\"\",RawFD(47),LCMCore.Subscription[LCMCore.Subscription{LCMCore.SubscriptionOptions{DrakeVisualizer.Comms.CommsT,DrakeVisualizer.#handle_msg#7{DrakeVisualizer.CoreVisualizer}}}(LCMCore.SubscriptionOptions{DrakeVisualizer.Comms.CommsT,DrakeVisualizer.#handle_msg#7{DrakeVisualizer.CoreVisualizer}}(DrakeVisualizer.Comms.CommsT,DrakeVisualizer.handle_msg),Ptr{Void} @0x00007fb1be164280)])"
      ]
     },
     "execution_count": 7,
     "metadata": {},
     "output_type": "execute_result"
    }
   ],
   "source": [
    "skin = Flash.skin(state);\n",
    "setgeometry!(vis[:skin], DrakeVisualizer.contour_mesh(skin, [-.5, -.5, -.25], [1., .5, 1], 0.05, 0.05))"
   ]
  },
  {
   "cell_type": "code",
   "execution_count": 59,
   "metadata": {
    "collapsed": false
   },
   "outputs": [
    {
     "data": {
      "text/plain": [
       "MechanismState{Float64, Float64, Float64}(…)"
      ]
     },
     "execution_count": 59,
     "metadata": {},
     "output_type": "execute_result"
    }
   ],
   "source": [
    "state.mechanism_state"
   ]
  },
  {
   "cell_type": "code",
   "execution_count": 60,
   "metadata": {
    "collapsed": false
   },
   "outputs": [
    {
     "data": {
      "text/plain": [
       "Vertex: world (root)\n",
       "  Vertex: base_link, Edge: base_link_to_world\n",
       "    Vertex: link_1, Edge: joint1\n",
       "      Vertex: link_2, Edge: joint2\n",
       "        Vertex: link_3, Edge: joint3\n",
       "          Vertex: link_4, Edge: joint4\n",
       "            Vertex: link_5, Edge: joint5\n",
       "              Vertex: link_6, Edge: joint6"
      ]
     },
     "execution_count": 60,
     "metadata": {},
     "output_type": "execute_result"
    }
   ],
   "source": [
    "state.mechanism_state.mechanism"
   ]
  },
  {
   "cell_type": "code",
   "execution_count": 9,
   "metadata": {
    "collapsed": false
   },
   "outputs": [
    {
     "data": {
      "text/plain": [
       "angle_diff (generic function with 1 method)"
      ]
     },
     "execution_count": 9,
     "metadata": {},
     "output_type": "execute_result"
    }
   ],
   "source": [
    "# Difference between two angles, compensating for wraparound\n",
    "# (taken from angleDiff.m in Drake)\n",
    "function angle_diff(phi1, phi2)\n",
    "    mod(phi2 - phi1 + pi, 2*pi) - pi;\n",
    "end"
   ]
  },
  {
   "cell_type": "code",
   "execution_count": 10,
   "metadata": {
    "collapsed": false
   },
   "outputs": [
    {
     "data": {
      "text/plain": [
       "Set{Array{Symbol,1}}()"
      ]
     },
     "execution_count": 10,
     "metadata": {},
     "output_type": "execute_result"
    }
   ],
   "source": [
    "DrakeVisualizer.delete!(vis[:skin])\n",
    "DrakeVisualizer.delete!(vis[:urdf])"
   ]
  },
  {
   "cell_type": "code",
   "execution_count": 19,
   "metadata": {
    "collapsed": false
   },
   "outputs": [
    {
     "data": {
      "text/plain": [
       "Set{Array{Symbol,1}}()"
      ]
     },
     "execution_count": 19,
     "metadata": {},
     "output_type": "execute_result"
    }
   ],
   "source": [
    "vis_data = parse_urdf(urdf, model.mechanism; package_path=package_path)\n",
    "vis_true = vis[:actual]\n",
    "vis_estimated = vis[:estimated]\n",
    "setgeometry!(vis[:actual], vis_data)\n",
    "setgeometry!(vis[:estimated], vis_data)"
   ]
  },
  {
   "cell_type": "code",
   "execution_count": 20,
   "metadata": {
    "collapsed": false
   },
   "outputs": [
    {
     "data": {
      "text/plain": [
       "Visualizer with path prefix Symbol[:raycast] using LCM LCMCore.LCM(Ptr{Void} @0x00007f9691746340,\"\",RawFD(53),LCMCore.Subscription[LCMCore.Subscription{LCMCore.SubscriptionOptions{DrakeVisualizer.Comms.CommsT,DrakeVisualizer.#handle_msg#7{DrakeVisualizer.CoreVisualizer}}}(LCMCore.SubscriptionOptions{DrakeVisualizer.Comms.CommsT,DrakeVisualizer.#handle_msg#7{DrakeVisualizer.CoreVisualizer}}(DrakeVisualizer.Comms.CommsT,DrakeVisualizer.handle_msg),Ptr{Void} @0x00007f9693004990)])"
      ]
     },
     "execution_count": 20,
     "metadata": {},
     "output_type": "execute_result"
    }
   ],
   "source": [
    "# Now let's try to use the raycast data to recover the joint angles.\n",
    "# We'll do that by choosing a true (hidden) robot state:\n",
    "true_state = Flash.ManipulatorState(model)\n",
    "settransform!(vis_true, true_state.mechanism_state)\n",
    "\n",
    "# Now we can raycast that true state to get a set of sensed points:\n",
    "sensed_points = Flash.DepthSensors.raycast(true_state, sensor, camera_tform)\n",
    "setgeometry!(vis[:raycast], DrakeVisualizer.PointCloud(sensed_points))"
   ]
  },
  {
   "cell_type": "code",
   "execution_count": 21,
   "metadata": {
    "collapsed": false
   },
   "outputs": [
    {
     "data": {
      "text/plain": [
       "test_gradient_descent (generic function with 1 method)"
      ]
     },
     "execution_count": 21,
     "metadata": {},
     "output_type": "execute_result"
    }
   ],
   "source": [
    "function test_gradient_descent(model, sensed_points, true_state, loops)\n",
    "    x_true = copy(Flash.flatten(true_state))\n",
    "    trials = Vector{DataFrame}()\n",
    "    workspace_state = Flash.ManipulatorState(model)\n",
    "    \n",
    "    for i = 1:loops\n",
    "        errors = Float64[]\n",
    "        xs = Vector{Float64}[]\n",
    "        costs = Float64[]\n",
    "        \n",
    "        function callback{T}(x::AbstractVector{T}, c)\n",
    "            # When computing errors, we'll just ignore the last three joints, since\n",
    "            # they are almost impossible to track at this scale\n",
    "            x_value = Flash.value.(x)\n",
    "            push!(errors, norm(angle_diff.(x_value[1:end-3], x_true[1:end-3])))\n",
    "            push!(xs, x_value)\n",
    "            push!(costs, Flash.value(c))\n",
    "            Flash.GradientDescent.unflatten!(workspace_state, x_value)\n",
    "            DrakeVisualizer.draw!(vis_estimated, workspace_state.mechanism_state)\n",
    "        end\n",
    "        \n",
    "        x_estimated = copy(x_true)\n",
    "        x_estimated += pi * (rand(length(x_estimated)) - 0.5)\n",
    "        Flash.Tracking.estimate_state(model, \n",
    "            sensed_points, x_estimated; callback=callback,\n",
    "        solver=NaiveSolver(length(x_estimated),\n",
    "                              rate=20.0,\n",
    "                              max_step=0.5,\n",
    "                              iteration_limit=100,\n",
    "                            gradient_convergence_tolerance=1e-4))\n",
    "        push!(trials, DataFrame(x=xs, err=errors, cost=costs))\n",
    "    end\n",
    "    \n",
    "    trials\n",
    "end\n"
   ]
  },
  {
   "cell_type": "code",
   "execution_count": 22,
   "metadata": {
    "collapsed": false
   },
   "outputs": [],
   "source": [
    "trials = test_gradient_descent(model, sensed_points, true_state, 20);"
   ]
  },
  {
   "cell_type": "code",
   "execution_count": null,
   "metadata": {
    "collapsed": true
   },
   "outputs": [],
   "source": []
  }
 ],
 "metadata": {
  "kernelspec": {
   "display_name": "Julia 0.5.0",
   "language": "julia",
   "name": "julia-0.5"
  },
  "language_info": {
   "file_extension": ".jl",
   "mimetype": "application/julia",
   "name": "julia",
   "version": "0.5.0"
  },
  "widgets": {
   "state": {
    "03d2f2f4-6230-40b0-b1f5-eac33016caef": {
     "views": [
      {
       "cell_index": 3
      }
     ]
    },
    "1a829d29-eeab-4cd4-acab-4a0a172bddee": {
     "views": [
      {
       "cell_index": 3
      }
     ]
    },
    "1d506942-deda-4d90-ab9e-519dab996e26": {
     "views": [
      {
       "cell_index": 3
      }
     ]
    },
    "2032d5ee-037f-45e8-b7f3-b51270be05f2": {
     "views": [
      {
       "cell_index": 3
      }
     ]
    },
    "23178945-8982-4e30-85ab-7d78ef35e711": {
     "views": [
      {
       "cell_index": 3
      }
     ]
    },
    "23b44a71-925f-4129-abc1-e8e62a70759d": {
     "views": [
      {
       "cell_index": 3
      }
     ]
    },
    "29d3c1dc-fb1e-4476-ace6-29ff0ea5b66e": {
     "views": [
      {
       "cell_index": 3
      }
     ]
    },
    "2b53a402-1eff-460f-bb68-0282efffc4be": {
     "views": [
      {
       "cell_index": 3
      }
     ]
    },
    "2d4f2830-b213-4bea-a35b-c244e2c1435b": {
     "views": [
      {
       "cell_index": 3
      }
     ]
    },
    "2d75a012-2c56-4ef3-b4c1-ae3890f09dc5": {
     "views": [
      {
       "cell_index": 3
      }
     ]
    },
    "328cd32e-48f6-4cad-8df2-473e0ccf945c": {
     "views": [
      {
       "cell_index": 3
      }
     ]
    },
    "3f794efb-6ba9-4bd4-ada4-bdec7c552a09": {
     "views": [
      {
       "cell_index": 3
      }
     ]
    },
    "47d26a66-ac56-4924-a642-f9477b950b6c": {
     "views": [
      {
       "cell_index": 3
      }
     ]
    },
    "4ec668bf-8b5f-4667-a7db-cffd5246a8a6": {
     "views": [
      {
       "cell_index": 3
      }
     ]
    },
    "50608686-d357-4dd6-9ac1-48af2ebef793": {
     "views": [
      {
       "cell_index": 3
      }
     ]
    },
    "53b7568c-633a-4e26-8c90-04a5511c1963": {
     "views": [
      {
       "cell_index": 3
      }
     ]
    },
    "549eef8f-a690-47f2-88c7-d03d41da9543": {
     "views": [
      {
       "cell_index": 3
      }
     ]
    },
    "55ba8562-4471-440e-8ca3-ca76e6cba2d1": {
     "views": [
      {
       "cell_index": 3
      }
     ]
    },
    "55e64836-7959-4081-a3dd-2dea36f36b5e": {
     "views": [
      {
       "cell_index": 4
      }
     ]
    },
    "55e8230d-11cb-44c2-beee-e1112abb9206": {
     "views": [
      {
       "cell_index": 3
      }
     ]
    },
    "5bb2909f-861f-4f3f-b2c2-c9c4413e3516": {
     "views": [
      {
       "cell_index": 3
      }
     ]
    },
    "5c69eab6-6b5d-401d-8749-f5410f46a3fb": {
     "views": [
      {
       "cell_index": 3
      }
     ]
    },
    "5ed58a84-5207-4dc3-af86-8b3c2a2839b2": {
     "views": [
      {
       "cell_index": 3
      }
     ]
    },
    "67b90767-76eb-41d4-8244-da9a73a97375": {
     "views": [
      {
       "cell_index": 3
      }
     ]
    },
    "6d023916-7946-4432-a605-4f11498297f0": {
     "views": [
      {
       "cell_index": 3
      }
     ]
    },
    "74a14a30-d7db-48d4-aff6-b9db7da92613": {
     "views": [
      {
       "cell_index": 3
      }
     ]
    },
    "77b6862b-7aaf-4070-8c75-781b9b0023ed": {
     "views": [
      {
       "cell_index": 3
      }
     ]
    },
    "7e84c0f5-a975-422c-bd4b-f4c619870ea9": {
     "views": [
      {
       "cell_index": 3
      }
     ]
    },
    "8ac03a00-0edd-4515-9ab3-c28524e6151f": {
     "views": [
      {
       "cell_index": 3
      }
     ]
    },
    "8af6690f-8df0-4eec-85bf-810391dcc055": {
     "views": [
      {
       "cell_index": 3
      }
     ]
    },
    "926c069e-4fa5-4ddf-aa32-ab1fcc791fb8": {
     "views": [
      {
       "cell_index": 4
      }
     ]
    },
    "a053a076-1701-42df-8340-88a4ef5d2bc1": {
     "views": [
      {
       "cell_index": 4
      }
     ]
    },
    "a29a2511-540a-49b0-b440-9d933b0b8740": {
     "views": [
      {
       "cell_index": 3
      }
     ]
    },
    "a831b5a1-fcbb-4118-9739-ee3f28c8f7ec": {
     "views": [
      {
       "cell_index": 3
      }
     ]
    },
    "aa9e7650-f065-4755-b0de-6a125ce4e6d1": {
     "views": [
      {
       "cell_index": 3
      }
     ]
    },
    "ac0c1fff-ac0b-43d5-87e8-058bdaa65696": {
     "views": [
      {
       "cell_index": 3
      }
     ]
    },
    "b5bd5168-d501-4d21-80e4-a2bdd89124ec": {
     "views": [
      {
       "cell_index": 3
      }
     ]
    },
    "b755f560-4050-4162-bea6-9517a967321b": {
     "views": [
      {
       "cell_index": 3
      }
     ]
    },
    "b90a45d0-8b9a-4602-8187-158f35d3683c": {
     "views": [
      {
       "cell_index": 3
      }
     ]
    },
    "ba83ccae-0f64-4fce-abd8-4870952f86e3": {
     "views": [
      {
       "cell_index": 3
      }
     ]
    },
    "bc346277-d1b4-4bbb-85e2-7f8afcca83ef": {
     "views": [
      {
       "cell_index": 3
      }
     ]
    },
    "c54ac183-3907-44f3-822b-d3f42135ed3f": {
     "views": [
      {
       "cell_index": 3
      }
     ]
    },
    "c8a9042f-63e2-4a60-94a3-d3c3f2e7060c": {
     "views": [
      {
       "cell_index": 4
      }
     ]
    },
    "d6e913ec-15f2-471c-9a27-cac38d287299": {
     "views": [
      {
       "cell_index": 3
      }
     ]
    },
    "d7ea63ee-516c-4942-8a94-da5a2c87a9f6": {
     "views": [
      {
       "cell_index": 4
      }
     ]
    },
    "dbc54a59-3847-4d70-87f1-ae7259964fb2": {
     "views": [
      {
       "cell_index": 3
      }
     ]
    },
    "dc4bd700-086c-4076-9c0e-ce43bc061163": {
     "views": [
      {
       "cell_index": 3
      }
     ]
    },
    "dc4e5f10-bf91-43bb-ae63-8af1986a0bae": {
     "views": [
      {
       "cell_index": 4
      }
     ]
    },
    "deae8f2e-f554-49fe-b45b-77aaecb4c8c7": {
     "views": [
      {
       "cell_index": 3
      }
     ]
    },
    "e3b1f0a6-8303-445e-b0af-e935d6b59289": {
     "views": [
      {
       "cell_index": 3
      }
     ]
    },
    "e4f8fd05-792f-47a2-a9ce-7703bc9f2077": {
     "views": [
      {
       "cell_index": 3
      }
     ]
    },
    "e6f917ab-d53a-4b2b-a74b-e17130771b66": {
     "views": [
      {
       "cell_index": 3
      }
     ]
    },
    "ea4493b2-35d9-4d7b-8d35-0cd3aa233804": {
     "views": [
      {
       "cell_index": 3
      }
     ]
    },
    "f2e4e483-3c57-4a0e-b664-d9cb6a42e8d6": {
     "views": [
      {
       "cell_index": 3
      }
     ]
    },
    "fba505de-46bb-47dd-ab25-45f6e627ff27": {
     "views": [
      {
       "cell_index": 3
      }
     ]
    },
    "fc1fddd0-16a7-4cab-8bae-5b29520b5942": {
     "views": [
      {
       "cell_index": 3
      }
     ]
    },
    "ff704976-a989-4627-a0d8-e3a06d59668f": {
     "views": [
      {
       "cell_index": 3
      }
     ]
    }
   },
   "version": "1.2.0"
  }
 },
 "nbformat": 4,
 "nbformat_minor": 1
}
