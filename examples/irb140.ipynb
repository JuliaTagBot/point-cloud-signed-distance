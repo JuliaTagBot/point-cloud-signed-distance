{
 "cells": [
  {
   "cell_type": "code",
   "execution_count": 1,
   "metadata": {
    "collapsed": false
   },
   "outputs": [
    {
     "data": {
      "text/html": [
       "<div id=\"interact-js-shim\">\n",
       "    <script charset=\"utf-8\">\n",
       "(function (IPython, $, _, MathJax) {\n",
       "    $.event.special.destroyed = {\n",
       "\tremove: function(o) {\n",
       "\t    if (o.handler) {\n",
       "\t\to.handler.apply(this, arguments)\n",
       "\t    }\n",
       "\t}\n",
       "    }\n",
       "\n",
       "    var OutputArea = IPython.version >= \"4.0.0\" ? require(\"notebook/js/outputarea\").OutputArea : IPython.OutputArea;\n",
       "\n",
       "    var redrawValue = function (container, type, val) {\n",
       "\tvar selector = $(\"<div/>\");\n",
       "\tvar oa = new OutputArea(_.extend(selector, {\n",
       "\t    selector: selector,\n",
       "\t    prompt_area: true,\n",
       "\t    events: IPython.events,\n",
       "\t    keyboard_manager: IPython.keyboard_manager\n",
       "\t})); // Hack to work with IPython 2.1.0\n",
       "\n",
       "\tswitch (type) {\n",
       "\tcase \"image/png\":\n",
       "            var _src = 'data:' + type + ';base64,' + val;\n",
       "\t    $(container).find(\"img\").attr('src', _src);\n",
       "\t    break;\n",
       "\tdefault:\n",
       "\t    var toinsert = OutputArea.append_map[type].apply(\n",
       "\t\toa, [val, {}, selector]\n",
       "\t    );\n",
       "\t    $(container).empty().append(toinsert.contents());\n",
       "\t    selector.remove();\n",
       "\t}\n",
       "\tif (type === \"text/latex\" && MathJax) {\n",
       "\t    MathJax.Hub.Queue([\"Typeset\", MathJax.Hub, toinsert.get(0)]);\n",
       "\t}\n",
       "    }\n",
       "\n",
       "\n",
       "    $(document).ready(function() {\n",
       "\tfunction initComm(evt, data) {\n",
       "\t    var comm_manager = data.kernel.comm_manager;\n",
       "        //_.extend(comm_manager.targets, require(\"widgets/js/widget\"))\n",
       "\t    comm_manager.register_target(\"Signal\", function (comm) {\n",
       "            comm.on_msg(function (msg) {\n",
       "                //Widgets.log(\"message received\", msg);\n",
       "                var val = msg.content.data.value;\n",
       "                $(\".signal-\" + comm.comm_id).each(function() {\n",
       "                var type = $(this).data(\"type\");\n",
       "                if (val[type]) {\n",
       "                    redrawValue(this, type, val[type], type);\n",
       "                }\n",
       "                });\n",
       "                delete val;\n",
       "                delete msg.content.data.value;\n",
       "            });\n",
       "\t    });\n",
       "\n",
       "\t    // coordingate with Comm and redraw Signals\n",
       "\t    // XXX: Test using Reactive here to improve performance\n",
       "\t    $([IPython.events]).on(\n",
       "\t\t'output_appended.OutputArea', function (event, type, value, md, toinsert) {\n",
       "\t\t    if (md && md.reactive) {\n",
       "                // console.log(md.comm_id);\n",
       "                toinsert.addClass(\"signal-\" + md.comm_id);\n",
       "                toinsert.data(\"type\", type);\n",
       "                // Signal back indicating the mimetype required\n",
       "                var comm_manager = IPython.notebook.kernel.comm_manager;\n",
       "                var comm = comm_manager.comms[md.comm_id];\n",
       "                comm.then(function (c) {\n",
       "                    c.send({action: \"subscribe_mime\",\n",
       "                       mime: type});\n",
       "                    toinsert.bind(\"destroyed\", function() {\n",
       "                        c.send({action: \"unsubscribe_mime\",\n",
       "                               mime: type});\n",
       "                    });\n",
       "                })\n",
       "\t\t    }\n",
       "\t    });\n",
       "\t}\n",
       "\n",
       "\ttry {\n",
       "\t    // try to initialize right away. otherwise, wait on the status_started event.\n",
       "\t    initComm(undefined, IPython.notebook);\n",
       "\t} catch (e) {\n",
       "\t    $([IPython.events]).on('kernel_created.Kernel kernel_created.Session', initComm);\n",
       "\t}\n",
       "    });\n",
       "})(IPython, jQuery, _, MathJax);\n",
       "</script>\n",
       "    <script>\n",
       "        window.interactLoadedFlag = true\n",
       "       $(\"#interact-js-shim\").bind(\"destroyed\", function () {\n",
       "           if (window.interactLoadedFlag) {\n",
       "               console.warn(\"JavaScript required by Interact will be removed if you remove this cell or run using Interact more than once.\")\n",
       "           }\n",
       "       })\n",
       "       $([IPython.events]).on(\"kernel_starting.Kernel kernel_restarting.Kernel\", function () { window.interactLoadedFlag = false })\n",
       "   </script>\n",
       "</div>"
      ]
     },
     "metadata": {},
     "output_type": "display_data"
    },
    {
     "name": "stdout",
     "output_type": "stream",
     "text": [
      "adding: /home/rdeits/locomotion/explorations/point-cloud-signed-distance/packages/v0.5/DrakeVisualizer/src/lcmtypes to the python path\n"
     ]
    }
   ],
   "source": [
    "using RigidBodyTreeInspector\n",
    "using RigidBodyDynamics\n",
    "import DataStructures: OrderedDict\n",
    "using GeometryTypes\n",
    "using StaticArrays"
   ]
  },
  {
   "cell_type": "code",
   "execution_count": 2,
   "metadata": {
    "collapsed": false
   },
   "outputs": [
    {
     "name": "stderr",
     "output_type": "stream",
     "text": [
      "WARNING: Method definition convert(Type{CoordinateTransformations.AffineMap}, RigidBodyDynamics.Transform3D) in module RigidBodyTreeInspector at /home/rdeits/locomotion/explorations/point-cloud-signed-distance/packages/v0.5/RigidBodyTreeInspector/src/RigidBodyTreeInspector.jl:145 overwritten in module Flash at /home/rdeits/locomotion/explorations/point-cloud-signed-distance/packages/v0.5/Flash/src/Flash.jl:19.\n",
      "WARNING: replacing module Flash\n",
      "WARNING: Method definition convert(Type{CoordinateTransformations.AffineMap}, RigidBodyDynamics.Transform3D) in module Flash at /home/rdeits/locomotion/explorations/point-cloud-signed-distance/packages/v0.5/Flash/src/Flash.jl:19 overwritten in module Flash at /home/rdeits/locomotion/explorations/point-cloud-signed-distance/packages/v0.5/Flash/src/Flash.jl:19.\n",
      "WARNING: Method definition value(AbstractArray{#T<:Any, N<:Any}) in module Flash at /home/rdeits/locomotion/explorations/point-cloud-signed-distance/packages/v0.5/Flash/src/Flash.jl:21 overwritten in module Flash at /home/rdeits/locomotion/explorations/point-cloud-signed-distance/packages/v0.5/Flash/src/Flash.jl:21.\n",
      "WARNING: Method definition value(CoordinateTransformations.AbstractAffineMap) in module Flash at /home/rdeits/locomotion/explorations/point-cloud-signed-distance/packages/v0.5/Flash/src/Flash.jl:22 overwritten in module Flash at /home/rdeits/locomotion/explorations/point-cloud-signed-distance/packages/v0.5/Flash/src/Flash.jl:22.\n"
     ]
    }
   ],
   "source": [
    "import Flash\n",
    "reload(\"Flash\")"
   ]
  },
  {
   "cell_type": "code",
   "execution_count": 3,
   "metadata": {
    "collapsed": false
   },
   "outputs": [],
   "source": [
    "urdf = \"/home/rdeits/locomotion/explorations/point-cloud-signed-distance/examples/data/IRB140/urdf/irb_140_convhull.urdf\"\n",
    "mechanism = parse_urdf(Float64, urdf);"
   ]
  },
  {
   "cell_type": "code",
   "execution_count": 4,
   "metadata": {
    "collapsed": false
   },
   "outputs": [
    {
     "data": {
      "text/html": [],
      "text/plain": [
       "Interact.Slider{Float64}(Signal{Float64}(0.0, nactions=0),\"joint1.1\",0.0,linspace(-3.141592653589793,3.141592653589793,51),\".3f\",true)"
      ]
     },
     "metadata": {},
     "output_type": "display_data"
    },
    {
     "data": {
      "text/html": [],
      "text/plain": [
       "Interact.Slider{Float64}(Signal{Float64}(0.0, nactions=0),\"joint2.1\",0.0,linspace(-3.141592653589793,3.141592653589793,51),\".3f\",true)"
      ]
     },
     "metadata": {},
     "output_type": "display_data"
    },
    {
     "data": {
      "text/html": [],
      "text/plain": [
       "Interact.Slider{Float64}(Signal{Float64}(0.0, nactions=0),\"joint3.1\",0.0,linspace(-3.141592653589793,3.141592653589793,51),\".3f\",true)"
      ]
     },
     "metadata": {},
     "output_type": "display_data"
    },
    {
     "data": {
      "text/html": [],
      "text/plain": [
       "Interact.Slider{Float64}(Signal{Float64}(0.0, nactions=0),\"joint4.1\",0.0,linspace(-3.141592653589793,3.141592653589793,51),\".3f\",true)"
      ]
     },
     "metadata": {},
     "output_type": "display_data"
    },
    {
     "data": {
      "text/html": [],
      "text/plain": [
       "Interact.Slider{Float64}(Signal{Float64}(0.0, nactions=0),\"joint5.1\",0.0,linspace(-3.141592653589793,3.141592653589793,51),\".3f\",true)"
      ]
     },
     "metadata": {},
     "output_type": "display_data"
    },
    {
     "data": {
      "text/html": [],
      "text/plain": [
       "Interact.Slider{Float64}(Signal{Float64}(0.0, nactions=0),\"joint6.1\",0.0,linspace(-3.141592653589793,3.141592653589793,51),\".3f\",true)"
      ]
     },
     "metadata": {},
     "output_type": "display_data"
    },
    {
     "data": {
      "text/plain": [
       "nothing"
      ]
     },
     "execution_count": 4,
     "metadata": {
      "comm_id": "5a377934-baca-4009-92cd-fe4cf453bd27",
      "reactive": true
     },
     "output_type": "execute_result"
    }
   ],
   "source": [
    "vis = parse_urdf(urdf, mechanism);\n",
    "inspect(mechanism, vis)"
   ]
  },
  {
   "cell_type": "code",
   "execution_count": 5,
   "metadata": {
    "collapsed": false
   },
   "outputs": [],
   "source": [
    "vis_data = RigidBodyTreeInspector.parse_urdf_visuals(urdf, mechanism);"
   ]
  },
  {
   "cell_type": "code",
   "execution_count": 6,
   "metadata": {
    "collapsed": false
   },
   "outputs": [],
   "source": [
    "surfaces = Vector{Flash.Surface{Float64}}()\n",
    "for (i, node) in enumerate(mechanism.toposortedTree)\n",
    "    body = node.vertexData\n",
    "    mesh = vis_data[i].geometry_data[1].geometry\n",
    "    tform = vis_data[i].geometry_data[1].transform\n",
    "    verts = vertices(mesh)\n",
    "    surface_points = [Point3D(body.frame, tform(SVector{3, Float64}(v...))) for v in verts]\n",
    "    skeleton_points = Vector{Point3D{Float64}}()\n",
    "    geometries = OrderedDict(body => Flash.BodyGeometry(surface_points, skeleton_points))\n",
    "    push!(surfaces, Flash.Surface(geometries, Flash.RigidPolytope()))\n",
    "end\n",
    "\n",
    "model = Flash.Manipulator(mechanism, surfaces);\n",
    "state = Flash.ManipulatorState(model);\n",
    "skin = Flash.skin(state);"
   ]
  },
  {
   "cell_type": "code",
   "execution_count": 7,
   "metadata": {
    "collapsed": false
   },
   "outputs": [
    {
     "data": {
      "text/plain": [
       "DrakeVisualizer.Visualizer(DrakeVisualizer.Robot(DrakeVisualizer.Link[DrakeVisualizer.Link(DrakeVisualizer.GeometryData[DrakeVisualizer.GeometryData{CoordinateTransformations.IdentityTransformation,GeometryTypes.HomogenousMesh{FixedSizeArrays.Point{3,Float64},GeometryTypes.Face{3,Int64,0},Void,Void,Void,Void,Void}}(HomogenousMesh(\n",
       "    vertices: 2242xFixedSizeArrays.Point{3,Float64},     faces: 4480xGeometryTypes.Face{3,Int64,0}, )\n",
       ",CoordinateTransformations.IdentityTransformation(),RGBA{Float64}(1.0,0.0,0.0,0.5))],\"link\")]),1,PyLCM.LCM(PyObject <LCM object at 0x7f1f2d9e6570>))"
      ]
     },
     "execution_count": 7,
     "metadata": {},
     "output_type": "execute_result"
    }
   ],
   "source": [
    "Visualizer(DrakeVisualizer.contour_mesh(skin, Vec(-.5, -.5, -.25), Vec(1., .5, 1), 0.01, 0.05))"
   ]
  },
  {
   "cell_type": "code",
   "execution_count": null,
   "metadata": {
    "collapsed": true
   },
   "outputs": [],
   "source": []
  }
 ],
 "metadata": {
  "kernelspec": {
   "display_name": "Julia 0.5.0",
   "language": "julia",
   "name": "julia-0.5"
  },
  "language_info": {
   "file_extension": ".jl",
   "mimetype": "application/julia",
   "name": "julia",
   "version": "0.5.0"
  },
  "widgets": {
   "state": {
    "24c9148b-abc4-42b0-9ca2-27ec13d3e578": {
     "views": [
      {
       "cell_index": 3
      }
     ]
    },
    "38531fd6-545e-4e5d-b4e3-efa4d835e0d1": {
     "views": [
      {
       "cell_index": 3
      }
     ]
    },
    "48a3ebdc-84d8-4535-a885-85b63af2f639": {
     "views": [
      {
       "cell_index": 3
      }
     ]
    },
    "536b972c-bad4-478d-bf14-33aa9b85a7a7": {
     "views": [
      {
       "cell_index": 3
      }
     ]
    },
    "596c92b6-e55d-4e82-a9cf-bde3b4850abf": {
     "views": [
      {
       "cell_index": 3
      }
     ]
    },
    "5fc8d3cd-b880-4c5f-9091-a5be51a49c55": {
     "views": [
      {
       "cell_index": 3
      }
     ]
    },
    "611b2466-3336-4504-b19c-0790ae384848": {
     "views": [
      {
       "cell_index": 3
      }
     ]
    },
    "74910ac4-bbc9-4fcb-955e-1b3b4fcbe36c": {
     "views": [
      {
       "cell_index": 3
      }
     ]
    },
    "7709b2cd-ee06-430e-b6a2-9fdca433af05": {
     "views": [
      {
       "cell_index": 3
      }
     ]
    },
    "7f7d1020-4601-40dd-b4bd-0f1583c6f57f": {
     "views": [
      {
       "cell_index": 3
      }
     ]
    },
    "84ae67a6-08c6-41fe-a7b6-57ccce38b12b": {
     "views": [
      {
       "cell_index": 3
      }
     ]
    },
    "8a15577f-e047-441c-b657-cecab3a975e9": {
     "views": [
      {
       "cell_index": 3
      }
     ]
    },
    "8a6cd179-b5c9-4cc8-9526-db4fbed5201f": {
     "views": [
      {
       "cell_index": 3
      }
     ]
    },
    "94ddb1f8-ff39-416a-8d48-fecebc084c7c": {
     "views": [
      {
       "cell_index": 3
      }
     ]
    },
    "a4a7f923-8c40-4ab0-bb30-4f77aeb0f6e8": {
     "views": [
      {
       "cell_index": 3
      }
     ]
    },
    "ac108e2f-cdd3-433a-a3c7-7b477b16b5f1": {
     "views": [
      {
       "cell_index": 3
      }
     ]
    },
    "b341615a-1385-4e9d-a8a7-ec3633d724da": {
     "views": [
      {
       "cell_index": 3
      }
     ]
    },
    "b6da25bd-c0f4-479f-a121-76e33f66ecfa": {
     "views": [
      {
       "cell_index": 3
      }
     ]
    },
    "be1f47a4-88c3-48da-bda0-bd735c9172cb": {
     "views": [
      {
       "cell_index": 3
      }
     ]
    },
    "c55dc812-dc7b-4588-b7d7-72aa763c3656": {
     "views": [
      {
       "cell_index": 3
      }
     ]
    },
    "d1e60a22-1005-4225-9bdb-a6f1e37f491f": {
     "views": [
      {
       "cell_index": 3
      }
     ]
    },
    "e5a604db-b4a2-4b20-ad06-81fc3b2e541a": {
     "views": [
      {
       "cell_index": 3
      }
     ]
    },
    "ed18a660-a7dd-4de0-8771-e3e08650eaea": {
     "views": [
      {
       "cell_index": 3
      }
     ]
    },
    "f2e91fcc-7a5d-4ae1-881b-0719ef0a044b": {
     "views": [
      {
       "cell_index": 3
      }
     ]
    },
    "f5ff6eb3-b4fa-4f3a-b219-13188571ee50": {
     "views": [
      {
       "cell_index": 3
      }
     ]
    },
    "f7f5140b-1a9e-4f7b-9e8b-f3e8623bc57a": {
     "views": [
      {
       "cell_index": 3
      }
     ]
    },
    "fae220af-f497-46ef-b280-e3416927a80e": {
     "views": [
      {
       "cell_index": 3
      }
     ]
    }
   },
   "version": "1.2.0"
  }
 },
 "nbformat": 4,
 "nbformat_minor": 1
}
