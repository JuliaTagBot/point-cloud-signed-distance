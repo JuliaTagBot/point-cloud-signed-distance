{
 "cells": [
  {
   "cell_type": "code",
   "execution_count": 4,
   "metadata": {
    "collapsed": false
   },
   "outputs": [],
   "source": [
    "using RigidBodyTreeInspector\n",
    "using RigidBodyDynamics\n",
    "using StaticArrays\n",
    "using Plots\n",
    "gr()\n",
    "using CoordinateTransformations\n",
    "using DataFrames, DataArrays\n",
    "import SimpleGradientDescent: NaiveSolver\n",
    "import Flash\n",
    "import DrakeVisualizer"
   ]
  },
  {
   "cell_type": "code",
   "execution_count": 13,
   "metadata": {
    "collapsed": false
   },
   "outputs": [
    {
     "data": {
      "text/plain": [
       "Process(`/Users/rdeits/locomotion/explorations/point-cloud-signed-distance/packages/v0.5/DrakeVisualizer/src/../deps/usr/bin/drake-visualizer`, ProcessRunning)"
      ]
     },
     "execution_count": 13,
     "metadata": {},
     "output_type": "execute_result"
    }
   ],
   "source": [
    "DrakeVisualizer.new_window()"
   ]
  },
  {
   "cell_type": "code",
   "execution_count": 14,
   "metadata": {
    "collapsed": false
   },
   "outputs": [
    {
     "name": "stderr",
     "output_type": "stream",
     "text": [
      "WARNING: replacing module Flash\n",
      "WARNING: Method definition value(CoordinateTransformations.AbstractAffineMap) in module Flash at /Users/rdeits/locomotion/explorations/point-cloud-signed-distance/packages/v0.5/Flash/src/Flash.jl:25 overwritten in module Flash at /Users/rdeits/locomotion/explorations/point-cloud-signed-distance/packages/v0.5/Flash/src/Flash.jl:25.\n",
      "WARNING: Method definition normalize!(RigidBodyDynamics.MechanismState, Any, RigidBodyDynamics.JointType) in module GradientDescent at /Users/rdeits/locomotion/explorations/point-cloud-signed-distance/packages/v0.5/Flash/src/gradientdescent.jl:19 overwritten in module GradientDescent at /Users/rdeits/locomotion/explorations/point-cloud-signed-distance/packages/v0.5/Flash/src/gradientdescent.jl:19.\n",
      "WARNING: Method definition normalize!(RigidBodyDynamics.MechanismState, Any, RigidBodyDynamics.QuaternionFloating) in module GradientDescent at /Users/rdeits/locomotion/explorations/point-cloud-signed-distance/packages/v0.5/Flash/src/gradientdescent.jl:21 overwritten in module GradientDescent at /Users/rdeits/locomotion/explorations/point-cloud-signed-distance/packages/v0.5/Flash/src/gradientdescent.jl:21.\n",
      "WARNING: Method definition normalize!(RigidBodyDynamics.MechanismState, Any) in module GradientDescent at /Users/rdeits/locomotion/explorations/point-cloud-signed-distance/packages/v0.5/Flash/src/gradientdescent.jl:25 overwritten in module GradientDescent at /Users/rdeits/locomotion/explorations/point-cloud-signed-distance/packages/v0.5/Flash/src/gradientdescent.jl:25.\n",
      "WARNING: Method definition normalize!(RigidBodyDynamics.MechanismState) in module GradientDescent at /Users/rdeits/locomotion/explorations/point-cloud-signed-distance/packages/v0.5/Flash/src/gradientdescent.jl:26 overwritten in module GradientDescent at /Users/rdeits/locomotion/explorations/point-cloud-signed-distance/packages/v0.5/Flash/src/gradientdescent.jl:26.\n"
     ]
    }
   ],
   "source": [
    "reload(\"Flash\")"
   ]
  },
  {
   "cell_type": "code",
   "execution_count": 17,
   "metadata": {
    "collapsed": false
   },
   "outputs": [
    {
     "data": {
      "text/html": [],
      "text/plain": [
       "Interact.Slider{Float64}(Signal{Float64}(0.0, nactions=0),\"joint1.1\",0.0,linspace(-3.141592653589793,3.141592653589793,51),\".3f\",true)"
      ]
     },
     "metadata": {},
     "output_type": "display_data"
    },
    {
     "data": {
      "text/html": [],
      "text/plain": [
       "Interact.Slider{Float64}(Signal{Float64}(0.0, nactions=0),\"joint2.1\",0.0,linspace(-3.141592653589793,3.141592653589793,51),\".3f\",true)"
      ]
     },
     "metadata": {},
     "output_type": "display_data"
    },
    {
     "data": {
      "text/html": [],
      "text/plain": [
       "Interact.Slider{Float64}(Signal{Float64}(0.0, nactions=0),\"joint3.1\",0.0,linspace(-3.141592653589793,3.141592653589793,51),\".3f\",true)"
      ]
     },
     "metadata": {},
     "output_type": "display_data"
    },
    {
     "data": {
      "text/html": [],
      "text/plain": [
       "Interact.Slider{Float64}(Signal{Float64}(0.0, nactions=0),\"joint4.1\",0.0,linspace(-3.141592653589793,3.141592653589793,51),\".3f\",true)"
      ]
     },
     "metadata": {},
     "output_type": "display_data"
    },
    {
     "data": {
      "text/html": [],
      "text/plain": [
       "Interact.Slider{Float64}(Signal{Float64}(0.0, nactions=0),\"joint5.1\",0.0,linspace(-3.141592653589793,3.141592653589793,51),\".3f\",true)"
      ]
     },
     "metadata": {},
     "output_type": "display_data"
    },
    {
     "data": {
      "text/html": [],
      "text/plain": [
       "Interact.Slider{Float64}(Signal{Float64}(0.0, nactions=0),\"joint6.1\",0.0,linspace(-3.141592653589793,3.141592653589793,51),\".3f\",true)"
      ]
     },
     "metadata": {},
     "output_type": "display_data"
    },
    {
     "data": {
      "text/plain": [
       "nothing"
      ]
     },
     "execution_count": 17,
     "metadata": {
      "comm_id": "95174a9a-6960-46ee-9464-087d6c79ec3f",
      "reactive": true
     },
     "output_type": "execute_result"
    }
   ],
   "source": [
    "urdf = \"$(ENV[\"HOME\"])/locomotion/explorations/point-cloud-signed-distance/examples/data/IRB140/urdf/irb_140_convhull.urdf\"\n",
    "package_path = [\"$(ENV[\"HOME\"])/locomotion/drake-distro/drake/examples\"]\n",
    "mechanism = parse_urdf(Float64, urdf);\n",
    "vis = parse_urdf(urdf, mechanism; package_path=package_path);\n",
    "inspect(mechanism, vis)"
   ]
  },
  {
   "cell_type": "code",
   "execution_count": 18,
   "metadata": {
    "collapsed": false
   },
   "outputs": [
    {
     "data": {
      "text/plain": [
       "Manipulator with 8 links and 7 surfaces"
      ]
     },
     "execution_count": 18,
     "metadata": {},
     "output_type": "execute_result"
    }
   ],
   "source": [
    "model = Flash.Models.load_urdf(urdf, package_path=package_path)"
   ]
  },
  {
   "cell_type": "code",
   "execution_count": 19,
   "metadata": {
    "collapsed": false
   },
   "outputs": [],
   "source": [
    "# Construct the sensor and draw its view rays for debugging\n",
    "sensor = Flash.DepthSensors.Kinect(41, 41);\n",
    "camera_origin = SVector(0., 1.5, 0.5)\n",
    "camera_tform = compose(Translation(camera_origin), LinearMap(AngleAxis(pi/2, 1, 0, 0)))\n",
    "Flash.DepthSensors.draw_rays(sensor, camera_tform)"
   ]
  },
  {
   "cell_type": "code",
   "execution_count": 21,
   "metadata": {
    "collapsed": false
   },
   "outputs": [
    {
     "data": {
      "text/plain": [
       "Visualizer with robot_id_number: 1"
      ]
     },
     "execution_count": 21,
     "metadata": {},
     "output_type": "execute_result"
    }
   ],
   "source": [
    "state = Flash.ManipulatorState(model);\n",
    "skin = Flash.skin(state);\n",
    "Visualizer(DrakeVisualizer.contour_mesh(skin, [-.5, -.5, -.25], [1., .5, 1], 0.0, 0.05))"
   ]
  },
  {
   "cell_type": "code",
   "execution_count": 22,
   "metadata": {
    "collapsed": false
   },
   "outputs": [
    {
     "data": {
      "text/plain": [
       "angle_diff (generic function with 1 method)"
      ]
     },
     "execution_count": 22,
     "metadata": {},
     "output_type": "execute_result"
    }
   ],
   "source": [
    "# Difference between two angles, compensating for wraparound\n",
    "# (taken from angleDiff.m in Drake)\n",
    "function angle_diff(phi1, phi2)\n",
    "    mod(phi2 - phi1 + pi, 2*pi) - pi;\n",
    "end"
   ]
  },
  {
   "cell_type": "code",
   "execution_count": 24,
   "metadata": {
    "collapsed": false
   },
   "outputs": [
    {
     "data": {
      "text/plain": [
       "Visualizer with robot_id_number: 2"
      ]
     },
     "execution_count": 24,
     "metadata": {},
     "output_type": "execute_result"
    }
   ],
   "source": [
    "vis_data = RigidBodyTreeInspector.parse_urdf_visuals(urdf, model.mechanism; package_path=package_path);\n",
    "vis_true = Visualizer(vis_data, 1)\n",
    "vis_estimated = Visualizer(vis_data, 2)"
   ]
  },
  {
   "cell_type": "code",
   "execution_count": 25,
   "metadata": {
    "collapsed": false
   },
   "outputs": [],
   "source": [
    "# Now let's try to use the raycast data to recover the joint angles.\n",
    "# We'll do that by choosing a true (hidden) robot state:\n",
    "true_state = Flash.ManipulatorState(model)\n",
    "DrakeVisualizer.draw(vis_true, true_state.mechanism_state)\n",
    "\n",
    "# Now we can raycast that true state to get a set of sensed points:\n",
    "sensed_points = Flash.DepthSensors.raycast(true_state, sensor, camera_tform)\n",
    "Flash.DepthSensors.draw_points(sensed_points)"
   ]
  },
  {
   "cell_type": "code",
   "execution_count": 26,
   "metadata": {
    "collapsed": false
   },
   "outputs": [
    {
     "data": {
      "text/plain": [
       "test_gradient_descent (generic function with 1 method)"
      ]
     },
     "execution_count": 26,
     "metadata": {},
     "output_type": "execute_result"
    }
   ],
   "source": [
    "function test_gradient_descent(model, sensed_points, true_state, loops)\n",
    "    x_true = copy(Flash.flatten(true_state))\n",
    "    trials = Vector{DataFrame}()\n",
    "    workspace_state = Flash.ManipulatorState(model)\n",
    "    \n",
    "    for i = 1:loops\n",
    "        errors = Float64[]\n",
    "        xs = Vector{Float64}[]\n",
    "        costs = Float64[]\n",
    "        \n",
    "        function callback{T}(x::AbstractVector{T}, c)\n",
    "            # When computing errors, we'll just ignore the last three joints, since\n",
    "            # they are almost impossible to track at this scale\n",
    "            x_value = Flash.value.(x)\n",
    "            push!(errors, norm(angle_diff.(x_value[1:end-3], x_true[1:end-3])))\n",
    "            push!(xs, x_value)\n",
    "            push!(costs, Flash.value(c))\n",
    "            Flash.GradientDescent.unflatten!(workspace_state, x_value)\n",
    "            DrakeVisualizer.draw(vis_estimated, workspace_state.mechanism_state)\n",
    "#             origins = Flash.link_origins(model, x_value[1:num_positions(model.mechanism)])\n",
    "#             DrakeVisualizer.draw(vis_estimated, origins)\n",
    "        end\n",
    "        \n",
    "        x_estimated = copy(x_true)\n",
    "        x_estimated += pi * (rand(length(x_estimated)) - 0.5)\n",
    "        Flash.Tracking.estimate_state(model, \n",
    "            sensed_points, x_estimated; callback=callback,\n",
    "        solver=NaiveSolver(length(x_estimated),\n",
    "                              rate=20.0,\n",
    "                              max_step=0.5,\n",
    "                              iteration_limit=100,\n",
    "                            gradient_convergence_tolerance=1e-4))\n",
    "        push!(trials, DataFrame(x=xs, err=errors, cost=costs))\n",
    "    end\n",
    "    \n",
    "    trials\n",
    "end\n"
   ]
  },
  {
   "cell_type": "code",
   "execution_count": 27,
   "metadata": {
    "collapsed": false
   },
   "outputs": [],
   "source": [
    "trials = test_gradient_descent(model, sensed_points, true_state, 10);"
   ]
  },
  {
   "cell_type": "code",
   "execution_count": 33,
   "metadata": {
    "collapsed": false,
    "scrolled": true
   },
   "outputs": [
    {
     "ename": "InterruptException",
     "evalue": "InterruptException:",
     "output_type": "error",
     "traceback": [
      "InterruptException:",
      "",
      " in limitstringmime(::MIME{Symbol(\"image/svg+xml\")}, ::Compose.Context) at /Users/rdeits/locomotion/explorations/point-cloud-signed-distance/packages/v0.5/IJulia/src/execute_request.jl:31",
      " in display_dict(::Compose.Context) at /Users/rdeits/locomotion/explorations/point-cloud-signed-distance/packages/v0.5/IJulia/src/execute_request.jl:48",
      " in execute_request(::ZMQ.Socket, ::IJulia.Msg) at /Users/rdeits/locomotion/explorations/point-cloud-signed-distance/packages/v0.5/IJulia/src/execute_request.jl:200",
      " in eventloop(::ZMQ.Socket) at /Users/rdeits/locomotion/explorations/point-cloud-signed-distance/packages/v0.5/IJulia/src/eventloop.jl:8",
      " in (::IJulia.##9#15)() at ./task.jl:360"
     ]
    }
   ],
   "source": [
    "vstack(Gadfly.plot([layer(trial, y=\"err\", color=i+zeros(size(trial,1)), Geom.line) for (i, trial) in enumerate(trials)]..., \n",
    "    Guide.colorkey(\"trial\")),\n",
    "    Gadfly.plot([layer(trial, y=\"cost\", color=i+zeros(size(trial,1)), Geom.line) for (i, trial) in enumerate(trials)]..., \n",
    "    Guide.colorkey(\"trial\")))"
   ]
  },
  {
   "cell_type": "code",
   "execution_count": null,
   "metadata": {
    "collapsed": true
   },
   "outputs": [],
   "source": []
  }
 ],
 "metadata": {
  "kernelspec": {
   "display_name": "Julia 0.5.0",
   "language": "julia",
   "name": "julia-0.5"
  },
  "language_info": {
   "file_extension": ".jl",
   "mimetype": "application/julia",
   "name": "julia",
   "version": "0.5.0"
  },
  "widgets": {
   "state": {
    "00192c31-0d69-43c7-9541-acf0bbb79118": {
     "views": [
      {
       "cell_index": 3
      }
     ]
    },
    "00fb2e04-f77a-482d-a8f3-9452378da104": {
     "views": [
      {
       "cell_index": 3
      }
     ]
    },
    "050f74db-9dc3-4e57-bcdc-408482ac6c23": {
     "views": [
      {
       "cell_index": 3
      }
     ]
    },
    "0f8d6d47-2d47-4b15-90e8-b5da72936140": {
     "views": [
      {
       "cell_index": 3
      }
     ]
    },
    "130ed808-be5d-4069-ad9d-52d58a42b0ce": {
     "views": [
      {
       "cell_index": 3
      }
     ]
    },
    "1b2828a1-3d93-4d82-9c08-7a71b0e8cb6d": {
     "views": [
      {
       "cell_index": 3
      }
     ]
    },
    "23a57d14-bdda-4f7f-8af3-279ae2e7db9c": {
     "views": [
      {
       "cell_index": 3
      }
     ]
    },
    "2462d760-bdb6-4772-87e4-db49400e2cff": {
     "views": [
      {
       "cell_index": 3
      }
     ]
    },
    "42fad0f4-5ff1-40f5-af2f-7194db4b2618": {
     "views": [
      {
       "cell_index": 3
      }
     ]
    },
    "4748841a-a5a6-4e64-b8a2-5c55bf16f846": {
     "views": [
      {
       "cell_index": 3
      }
     ]
    },
    "5b51c420-b39c-4487-bc3a-1a5bc590cc2d": {
     "views": [
      {
       "cell_index": 3
      }
     ]
    },
    "5e6a7629-bbe3-4267-8610-94aa705f9d56": {
     "views": [
      {
       "cell_index": 3
      }
     ]
    },
    "6b5e2838-19a9-49bd-892a-4c79a49a7c97": {
     "views": [
      {
       "cell_index": 3
      }
     ]
    },
    "756df7ad-3ad4-46da-9783-7bfd004be50a": {
     "views": [
      {
       "cell_index": 3
      }
     ]
    },
    "907ab0c8-8f5e-4916-b4d4-e5085eb7dbab": {
     "views": [
      {
       "cell_index": 3
      }
     ]
    },
    "96e4496c-47e7-463e-aaa2-132bfbf6982a": {
     "views": [
      {
       "cell_index": 3
      }
     ]
    },
    "c42daa6d-87eb-4930-9ef3-84d6db2ff55a": {
     "views": [
      {
       "cell_index": 3
      }
     ]
    },
    "eee98069-d5bb-4a3a-bde2-6b59fc13a29f": {
     "views": [
      {
       "cell_index": 3
      }
     ]
    },
    "f69fe063-2a54-46d4-842e-1f27220b1434": {
     "views": [
      {
       "cell_index": 3
      }
     ]
    },
    "f7fbea37-126f-442a-af15-60a79f790b10": {
     "views": [
      {
       "cell_index": 3
      }
     ]
    },
    "f80d0457-dad7-449a-9779-31dda9f4861f": {
     "views": [
      {
       "cell_index": 3
      }
     ]
    }
   },
   "version": "1.2.0"
  }
 },
 "nbformat": 4,
 "nbformat_minor": 1
}
