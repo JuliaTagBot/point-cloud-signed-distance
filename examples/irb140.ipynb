{
 "cells": [
  {
   "cell_type": "code",
   "execution_count": 115,
   "metadata": {
    "collapsed": false
   },
   "outputs": [],
   "source": [
    "using RigidBodyTreeInspector\n",
    "using RigidBodyDynamics\n",
    "import DataStructures: OrderedDict"
   ]
  },
  {
   "cell_type": "code",
   "execution_count": 2,
   "metadata": {
    "collapsed": false
   },
   "outputs": [
    {
     "name": "stderr",
     "output_type": "stream",
     "text": [
      "WARNING: Method definition convert(Type{CoordinateTransformations.AffineMap}, RigidBodyDynamics.Transform3D) in module RigidBodyTreeInspector at /home/rdeits/locomotion/explorations/point-cloud-signed-distance/packages/v0.5/RigidBodyTreeInspector/src/RigidBodyTreeInspector.jl:145 overwritten in module Arms at /home/rdeits/locomotion/explorations/point-cloud-signed-distance/src/arms.jl:17.\n",
      "WARNING: Method definition (::Type{Arms.Manipulator})(RigidBodyDynamics.Mechanism{#T<:Any}, DataStructures.OrderedDict{RigidBodyDynamics.RigidBody{#T<:Any}, Arms.BodyGeometry{#T<:Any}}, Array{Array{RigidBodyDynamics.RigidBody{#T<:Any}, 1}, 1}) in module Arms at /home/rdeits/locomotion/explorations/point-cloud-signed-distance/src/arms.jl:40 overwritten at /home/rdeits/locomotion/explorations/point-cloud-signed-distance/src/arms.jl:45.\n"
     ]
    },
    {
     "data": {
      "text/plain": [
       "Arms"
      ]
     },
     "execution_count": 2,
     "metadata": {},
     "output_type": "execute_result"
    }
   ],
   "source": [
    "include(\"../src/arms.jl\")"
   ]
  },
  {
   "cell_type": "code",
   "execution_count": 3,
   "metadata": {
    "collapsed": false
   },
   "outputs": [],
   "source": [
    "urdf = \"/home/rdeits/locomotion/explorations/point-cloud-signed-distance/examples/data/IRB140/urdf/irb_140_convhull.urdf\"\n",
    "mechanism = parse_urdf(Float64, urdf)\n",
    "vis = parse_urdf(urdf, mechanism);"
   ]
  },
  {
   "cell_type": "code",
   "execution_count": 4,
   "metadata": {
    "collapsed": false
   },
   "outputs": [
    {
     "data": {
      "text/html": [],
      "text/plain": [
       "Interact.Slider{Float64}(Signal{Float64}(0.0, nactions=0),\"joint1.1\",0.0,linspace(-3.141592653589793,3.141592653589793,51),true)"
      ]
     },
     "metadata": {},
     "output_type": "display_data"
    },
    {
     "data": {
      "text/html": [],
      "text/plain": [
       "Interact.Slider{Float64}(Signal{Float64}(0.0, nactions=0),\"joint2.1\",0.0,linspace(-3.141592653589793,3.141592653589793,51),true)"
      ]
     },
     "metadata": {},
     "output_type": "display_data"
    },
    {
     "data": {
      "text/html": [],
      "text/plain": [
       "Interact.Slider{Float64}(Signal{Float64}(0.0, nactions=0),\"joint3.1\",0.0,linspace(-3.141592653589793,3.141592653589793,51),true)"
      ]
     },
     "metadata": {},
     "output_type": "display_data"
    },
    {
     "data": {
      "text/html": [],
      "text/plain": [
       "Interact.Slider{Float64}(Signal{Float64}(0.0, nactions=0),\"joint4.1\",0.0,linspace(-3.141592653589793,3.141592653589793,51),true)"
      ]
     },
     "metadata": {},
     "output_type": "display_data"
    },
    {
     "data": {
      "text/html": [],
      "text/plain": [
       "Interact.Slider{Float64}(Signal{Float64}(0.0, nactions=0),\"joint5.1\",0.0,linspace(-3.141592653589793,3.141592653589793,51),true)"
      ]
     },
     "metadata": {},
     "output_type": "display_data"
    },
    {
     "data": {
      "text/html": [],
      "text/plain": [
       "Interact.Slider{Float64}(Signal{Float64}(0.0, nactions=0),\"joint6.1\",0.0,linspace(-3.141592653589793,3.141592653589793,51),true)"
      ]
     },
     "metadata": {},
     "output_type": "display_data"
    },
    {
     "data": {
      "text/plain": [
       "nothing"
      ]
     },
     "execution_count": 4,
     "metadata": {
      "comm_id": "bbedc97a-8072-4af3-9d0a-7cf965f245d0",
      "reactive": true
     },
     "output_type": "execute_result"
    }
   ],
   "source": [
    "inspect(mechanism, vis)"
   ]
  },
  {
   "cell_type": "code",
   "execution_count": 5,
   "metadata": {
    "collapsed": false
   },
   "outputs": [],
   "source": [
    "vis_data = RigidBodyTreeInspector.parse_urdf_visuals(urdf, mechanism);"
   ]
  },
  {
   "cell_type": "code",
   "execution_count": 6,
   "metadata": {
    "collapsed": false
   },
   "outputs": [
    {
     "data": {
      "text/plain": [
       "DataStructures.OrderedDict{RigidBodyDynamics.RigidBody{Float64},Arms.BodyGeometry{Float64}} with 0 entries"
      ]
     },
     "execution_count": 6,
     "metadata": {},
     "output_type": "execute_result"
    }
   ],
   "source": [
    "geometries = OrderedDict{RigidBody{Float64}, Arms.BodyGeometry{Float64}}()\n",
    "\n"
   ]
  },
  {
   "cell_type": "code",
   "execution_count": 7,
   "metadata": {
    "collapsed": true
   },
   "outputs": [],
   "source": [
    "using GeometryTypes"
   ]
  },
  {
   "cell_type": "code",
   "execution_count": 8,
   "metadata": {
    "collapsed": false
   },
   "outputs": [
    {
     "data": {
      "text/plain": [
       "Simplex(Vec(1.0,0.5,0.5),Vec(1.0,2.0,3.0))"
      ]
     },
     "execution_count": 8,
     "metadata": {},
     "output_type": "execute_result"
    }
   ],
   "source": [
    "s = Simplex(Vec(1, 0.5, 0.5), Vec(1,2,3.))"
   ]
  },
  {
   "cell_type": "code",
   "execution_count": 9,
   "metadata": {
    "collapsed": false
   },
   "outputs": [
    {
     "data": {
      "text/plain": [
       "Simplex(Vec(1.0,0.0,1.0),Vec(0.0,1.0,1.0),Vec(-1.0,0.0,1.0),Vec(0.0,-1.0,1.0),Vec(0.0,0.0,2.0))"
      ]
     },
     "execution_count": 9,
     "metadata": {},
     "output_type": "execute_result"
    }
   ],
   "source": [
    "s = Simplex(Vec(1.0, 0, 1), Vec(0.0, 1, 1), Vec(-1.0, 0, 1), Vec(0.0, -1, 1), Vec(0.0, 0, 2))"
   ]
  },
  {
   "cell_type": "code",
   "execution_count": 24,
   "metadata": {
    "collapsed": false
   },
   "outputs": [
    {
     "data": {
      "text/plain": [
       "(::#34) (generic function with 1 method)"
      ]
     },
     "execution_count": 24,
     "metadata": {},
     "output_type": "execute_result"
    }
   ],
   "source": [
    "distance = (simplex, pt) -> begin\n",
    "    gjk(simplex, pt)\n",
    "end"
   ]
  },
  {
   "cell_type": "code",
   "execution_count": 25,
   "metadata": {
    "collapsed": false
   },
   "outputs": [
    {
     "data": {
      "text/plain": [
       "1.0"
      ]
     },
     "execution_count": 25,
     "metadata": {},
     "output_type": "execute_result"
    }
   ],
   "source": [
    "distance(Vec(0, 0, 0))"
   ]
  },
  {
   "cell_type": "code",
   "execution_count": 26,
   "metadata": {
    "collapsed": true
   },
   "outputs": [],
   "source": [
    "using ForwardDiff"
   ]
  },
  {
   "cell_type": "code",
   "execution_count": 64,
   "metadata": {
    "collapsed": false
   },
   "outputs": [
    {
     "data": {
      "text/plain": [
       "(::#68) (generic function with 1 method)"
      ]
     },
     "execution_count": 64,
     "metadata": {},
     "output_type": "execute_result"
    }
   ],
   "source": [
    "f = x -> gjk(s, Vec(x...))"
   ]
  },
  {
   "cell_type": "code",
   "execution_count": 72,
   "metadata": {
    "collapsed": false
   },
   "outputs": [
    {
     "name": "stdout",
     "output_type": "stream",
     "text": [
      "  0.000091 seconds (21 allocations: 1008 bytes)\n"
     ]
    },
    {
     "data": {
      "text/plain": [
       "3-element Array{Float64,1}:\n",
       " 1.0\n",
       " 0.0\n",
       " 0.0"
      ]
     },
     "execution_count": 72,
     "metadata": {},
     "output_type": "execute_result"
    }
   ],
   "source": [
    "@time ForwardDiff.gradient(f, [2.0, 0, 1])"
   ]
  },
  {
   "cell_type": "code",
   "execution_count": 75,
   "metadata": {
    "collapsed": false
   },
   "outputs": [
    {
     "data": {
      "text/plain": [
       "Val{true}"
      ]
     },
     "execution_count": 75,
     "metadata": {},
     "output_type": "execute_result"
    }
   ],
   "source": [
    "typeof(Val{true}())"
   ]
  },
  {
   "cell_type": "code",
   "execution_count": 76,
   "metadata": {
    "collapsed": false
   },
   "outputs": [],
   "source": [
    "simplex = FlexibleSimplex(map(p -> convert(Vec{3, Float64}, p), vertices(vis_data[1].geometry_data[1].geometry)));"
   ]
  },
  {
   "cell_type": "code",
   "execution_count": 79,
   "metadata": {
    "collapsed": false
   },
   "outputs": [
    {
     "data": {
      "text/plain": [
       "Vec(-0.29677799344062805,-0.10170900076627731,0.08071699738502502)"
      ]
     },
     "execution_count": 79,
     "metadata": {},
     "output_type": "execute_result"
    }
   ],
   "source": [
    "pt_best = GeometryTypes.any_inside(simplex)"
   ]
  },
  {
   "cell_type": "code",
   "execution_count": 81,
   "metadata": {
    "collapsed": false
   },
   "outputs": [
    {
     "data": {
      "text/html": [
       "support_vector_max(ch::<b>Union{GeometryTypes.FlexibleConvexHull,GeometryTypes.FlexibleSimplex,GeometryTypes.HyperCube,GeometryTypes.HyperRectangle,GeometryTypes.Simplex}</b>, v) at <a href=\"https://github.com/JuliaGeometry/GeometryTypes.jl/tree/705e5a646dd2177bbb4b9f8c26b52bc832b38d65/src/gjk.jl#L64\" target=\"_blank\">/home/rdeits/locomotion/explorations/point-cloud-signed-distance/packages/v0.5/GeometryTypes/src/gjk.jl:64</a>"
      ],
      "text/plain": [
       "support_vector_max(ch::Union{GeometryTypes.FlexibleConvexHull,GeometryTypes.FlexibleSimplex,GeometryTypes.HyperCube,GeometryTypes.HyperRectangle,GeometryTypes.Simplex}, v) at /home/rdeits/locomotion/explorations/point-cloud-signed-distance/packages/v0.5/GeometryTypes/src/gjk.jl:64"
      ]
     },
     "execution_count": 81,
     "metadata": {},
     "output_type": "execute_result"
    }
   ],
   "source": [
    "@which GeometryTypes.support_vector_max(simplex, pt_best)"
   ]
  },
  {
   "cell_type": "code",
   "execution_count": 55,
   "metadata": {
    "collapsed": false
   },
   "outputs": [
    {
     "data": {
      "text/plain": [
       "1.0"
      ]
     },
     "execution_count": 55,
     "metadata": {},
     "output_type": "execute_result"
    }
   ],
   "source": [
    "gjk(s, Vec(0.0, 0, 0))"
   ]
  },
  {
   "cell_type": "code",
   "execution_count": 83,
   "metadata": {
    "collapsed": false
   },
   "outputs": [
    {
     "data": {
      "text/plain": [
       "Vec(1.0,0.0,1.0)"
      ]
     },
     "execution_count": 83,
     "metadata": {},
     "output_type": "execute_result"
    }
   ],
   "source": [
    "GeometryTypes.translation(s)"
   ]
  },
  {
   "cell_type": "code",
   "execution_count": 51,
   "metadata": {
    "collapsed": false
   },
   "outputs": [
    {
     "ename": "LoadError",
     "evalue": "LoadError: MethodError: no method matching size(::GeometryTypes.FlexibleSimplex{FixedSizeArrays.Vec{3,Float64}})\nClosest candidates are:\n  size{N}(::Any, !Matched::Integer, !Matched::Integer, !Matched::Integer...) at abstractarray.jl:48\n  size(!Matched::BitArray{1}) at bitarray.jl:39\n  size(!Matched::BitArray{1}, !Matched::Any) at bitarray.jl:43\n  ...\nwhile loading In[51], in expression starting on line 1",
     "output_type": "error",
     "traceback": [
      "LoadError: MethodError: no method matching size(::GeometryTypes.FlexibleSimplex{FixedSizeArrays.Vec{3,Float64}})\nClosest candidates are:\n  size{N}(::Any, !Matched::Integer, !Matched::Integer, !Matched::Integer...) at abstractarray.jl:48\n  size(!Matched::BitArray{1}) at bitarray.jl:39\n  size(!Matched::BitArray{1}, !Matched::Any) at bitarray.jl:43\n  ...\nwhile loading In[51], in expression starting on line 1",
      "",
      " in broadcast_shape(::GeometryTypes.FlexibleSimplex{FixedSizeArrays.Vec{3,Float64}}, ::FixedSizeArrays.Vec{3,Float64}) at ./broadcast.jl:31",
      " in broadcast_t(::Function, ::Type{T}, ::GeometryTypes.FlexibleSimplex{FixedSizeArrays.Vec{3,Float64}}, ::Vararg{Any,N}) at ./broadcast.jl:228",
      " in broadcast(::Function, ::GeometryTypes.FlexibleSimplex{FixedSizeArrays.Vec{3,Float64}}, ::FixedSizeArrays.Vec{3,Float64}) at ./broadcast.jl:230"
     ]
    }
   ],
   "source": [
    "broadcast(-, simplex, Vec(0.0, 0, 0))"
   ]
  },
  {
   "cell_type": "code",
   "execution_count": 40,
   "metadata": {
    "collapsed": false
   },
   "outputs": [
    {
     "ename": "LoadError",
     "evalue": "LoadError: MethodError: no method matching proj_sqdist(::FixedSizeArrays.Point{3,Float32}, ::FixedSizeArrays.Point{3,Float32}, ::Float32)\nClosest candidates are:\n  proj_sqdist{T}(::T, !Matched::GeometryTypes.Simplex{2,T}, ::Any) at /home/rdeits/locomotion/explorations/point-cloud-signed-distance/packages/v0.5/GeometryTypes/src/simplices.jl:71\n  proj_sqdist{T}(::T, !Matched::GeometryTypes.Simplex{1,T}, ::Any) at /home/rdeits/locomotion/explorations/point-cloud-signed-distance/packages/v0.5/GeometryTypes/src/simplices.jl:134\n  proj_sqdist{nv,T}(::T, !Matched::GeometryTypes.Simplex{nv,T}, ::Any) at /home/rdeits/locomotion/explorations/point-cloud-signed-distance/packages/v0.5/GeometryTypes/src/simplices.jl:99\n  ...\nwhile loading In[40], in expression starting on line 1",
     "output_type": "error",
     "traceback": [
      "LoadError: MethodError: no method matching proj_sqdist(::FixedSizeArrays.Point{3,Float32}, ::FixedSizeArrays.Point{3,Float32}, ::Float32)\nClosest candidates are:\n  proj_sqdist{T}(::T, !Matched::GeometryTypes.Simplex{2,T}, ::Any) at /home/rdeits/locomotion/explorations/point-cloud-signed-distance/packages/v0.5/GeometryTypes/src/simplices.jl:71\n  proj_sqdist{T}(::T, !Matched::GeometryTypes.Simplex{1,T}, ::Any) at /home/rdeits/locomotion/explorations/point-cloud-signed-distance/packages/v0.5/GeometryTypes/src/simplices.jl:134\n  proj_sqdist{nv,T}(::T, !Matched::GeometryTypes.Simplex{nv,T}, ::Any) at /home/rdeits/locomotion/explorations/point-cloud-signed-distance/packages/v0.5/GeometryTypes/src/simplices.jl:99\n  ...\nwhile loading In[40], in expression starting on line 1",
      "",
      " in macro expansion at /home/rdeits/locomotion/explorations/point-cloud-signed-distance/packages/v0.5/GeometryTypes/src/gjk.jl:18 [inlined]",
      " in with_immutable(::GeometryTypes.##53#54{FixedSizeArrays.Point{3,Float32}}, ::GeometryTypes.FlexibleSimplex{FixedSizeArrays.Point{3,Float32}}, ::Type{Val{10}}) at /home/rdeits/locomotion/explorations/point-cloud-signed-distance/packages/v0.5/GeometryTypes/src/gjk.jl:16",
      " in proj_sqdist at /home/rdeits/locomotion/explorations/point-cloud-signed-distance/packages/v0.5/GeometryTypes/src/gjk.jl:23 [inlined]",
      " in gjk0(::GeometryTypes.FlexibleSimplex{FixedSizeArrays.Point{3,Float32}}, ::Float64, ::Int64, ::FixedSizeArrays.Point{3,Float32}) at /home/rdeits/locomotion/explorations/point-cloud-signed-distance/packages/v0.5/GeometryTypes/src/gjk.jl:134",
      " in gjk0(::GeometryTypes.FlexibleSimplex{FixedSizeArrays.Point{3,Float32}}) at /home/rdeits/locomotion/explorations/point-cloud-signed-distance/packages/v0.5/GeometryTypes/src/gjk.jl:121"
     ]
    }
   ],
   "source": [
    "GeometryTypes.gjk0(FlexibleSimplex(vertices(vis_data[1].geometry_data[1].geometry)))"
   ]
  },
  {
   "cell_type": "code",
   "execution_count": 84,
   "metadata": {
    "collapsed": true
   },
   "outputs": [],
   "source": [
    "import GeometryTypes: any_inside, support_vector_max"
   ]
  },
  {
   "cell_type": "code",
   "execution_count": 106,
   "metadata": {
    "collapsed": false
   },
   "outputs": [
    {
     "data": {
      "text/plain": [
       "any_inside (generic function with 7 methods)"
      ]
     },
     "execution_count": 106,
     "metadata": {},
     "output_type": "execute_result"
    }
   ],
   "source": [
    "any_inside{T}(points::Vector{Vec{3, T}}) = points[1]"
   ]
  },
  {
   "cell_type": "code",
   "execution_count": 107,
   "metadata": {
    "collapsed": false
   },
   "outputs": [
    {
     "data": {
      "text/plain": [
       "support_vector_max (generic function with 8 methods)"
      ]
     },
     "execution_count": 107,
     "metadata": {},
     "output_type": "execute_result"
    }
   ],
   "source": [
    "support_vector_max{T}(points::Vector{Vec{3, T}}, v) = GeometryTypes.argmax(x -> dot(x, v), points)"
   ]
  },
  {
   "cell_type": "code",
   "execution_count": 113,
   "metadata": {
    "collapsed": false
   },
   "outputs": [
    {
     "data": {
      "text/plain": [
       "5-element Array{FixedSizeArrays.Vec{3,Float64},1}:\n",
       " Vec(0.458283,0.513547,0.142447) \n",
       " Vec(0.305951,0.596788,0.805368) \n",
       " Vec(0.207497,0.0176585,0.506231)\n",
       " Vec(0.407312,0.53814,0.83421)   \n",
       " Vec(0.736616,0.749395,0.236087) "
      ]
     },
     "execution_count": 113,
     "metadata": {},
     "output_type": "execute_result"
    }
   ],
   "source": [
    "pts = [rand(Vec{3, Float64}) for i in 1:5]"
   ]
  },
  {
   "cell_type": "code",
   "execution_count": 114,
   "metadata": {
    "collapsed": false
   },
   "outputs": [
    {
     "data": {
      "text/plain": [
       "(Vec(0.27762934408180345,0.1563340327281817,0.4044983268865937),0.514914826877613)"
      ]
     },
     "execution_count": 114,
     "metadata": {},
     "output_type": "execute_result"
    }
   ],
   "source": [
    "GeometryTypes.gjk0(pts)"
   ]
  },
  {
   "cell_type": "code",
   "execution_count": null,
   "metadata": {
    "collapsed": true
   },
   "outputs": [],
   "source": []
  }
 ],
 "metadata": {
  "kernelspec": {
   "display_name": "Julia 0.5.0",
   "language": "julia",
   "name": "julia-0.5"
  },
  "language_info": {
   "file_extension": ".jl",
   "mimetype": "application/julia",
   "name": "julia",
   "version": "0.5.0"
  },
  "widgets": {
   "state": {
    "169a6544-4dc6-4ee0-b069-3a33371b9c65": {
     "views": [
      {
       "cell_index": 3
      }
     ]
    },
    "20085961-a944-4869-ac7f-36c90a7081fd": {
     "views": [
      {
       "cell_index": 2
      }
     ]
    },
    "3ae17de2-ab05-4a19-b50e-3417bf33af72": {
     "views": [
      {
       "cell_index": 3
      }
     ]
    },
    "3de4d809-c54a-451c-931b-4638e2acd7f6": {
     "views": [
      {
       "cell_index": 3
      }
     ]
    },
    "4060b0c6-11f4-4792-96f2-b5119c00a73e": {
     "views": [
      {
       "cell_index": 2
      }
     ]
    },
    "4757865f-9d28-43ed-9daa-29367385dab5": {
     "views": [
      {
       "cell_index": 2
      }
     ]
    },
    "621a1309-f1cc-4729-ae61-e27d14259f3e": {
     "views": [
      {
       "cell_index": 2
      }
     ]
    },
    "713b3af4-3869-4724-bc12-21dc0a10ca71": {
     "views": [
      {
       "cell_index": 2
      }
     ]
    },
    "73575e9e-2341-4f39-aa37-fe65c61a6d74": {
     "views": [
      {
       "cell_index": 2
      }
     ]
    },
    "789d3f44-0970-46c7-8f1a-7f99dbef2797": {
     "views": [
      {
       "cell_index": 3
      }
     ]
    },
    "7a2a15cb-eab6-4682-8758-62931464ad8f": {
     "views": [
      {
       "cell_index": 3
      }
     ]
    },
    "8be76c88-fd7e-438f-8edf-ed1eed3ec863": {
     "views": [
      {
       "cell_index": 2
      }
     ]
    },
    "927ac1f9-8adf-4fa9-b5cf-3cd72bf75316": {
     "views": [
      {
       "cell_index": 2
      }
     ]
    },
    "92dcdead-5128-472a-8763-a8ab702f9d35": {
     "views": [
      {
       "cell_index": 3
      }
     ]
    },
    "b4489120-73dc-4204-b4eb-0fdbb2836ebb": {
     "views": [
      {
       "cell_index": 2
      }
     ]
    },
    "c047918f-5c12-4edc-8ad7-9f1a73568cdf": {
     "views": [
      {
       "cell_index": 3
      }
     ]
    },
    "d0a5dd8d-f55b-46ee-bc22-cd0ea83096f5": {
     "views": [
      {
       "cell_index": 2
      }
     ]
    },
    "d883eb74-f06a-43f6-ae52-b029e6743335": {
     "views": [
      {
       "cell_index": 2
      }
     ]
    },
    "e3987bc9-0a08-48dd-a21b-526aeb1d750f": {
     "views": [
      {
       "cell_index": 2
      }
     ]
    },
    "efba8be8-a42b-49dc-beeb-cc13ff733415": {
     "views": [
      {
       "cell_index": 3
      }
     ]
    },
    "f47053f5-b7cb-4536-8841-d649fff34191": {
     "views": [
      {
       "cell_index": 3
      }
     ]
    }
   },
   "version": "1.2.0"
  }
 },
 "nbformat": 4,
 "nbformat_minor": 1
}
