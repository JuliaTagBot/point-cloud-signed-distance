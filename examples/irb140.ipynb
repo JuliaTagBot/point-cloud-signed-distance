{
 "cells": [
  {
   "cell_type": "code",
   "execution_count": 1,
   "metadata": {
    "collapsed": false
   },
   "outputs": [
    {
     "data": {
      "text/html": [
       "<div id=\"interact-js-shim\">\n",
       "    <script charset=\"utf-8\">\n",
       "(function (IPython, $, _, MathJax) {\n",
       "    $.event.special.destroyed = {\n",
       "\tremove: function(o) {\n",
       "\t    if (o.handler) {\n",
       "\t\to.handler.apply(this, arguments)\n",
       "\t    }\n",
       "\t}\n",
       "    }\n",
       "\n",
       "    var OutputArea = IPython.version >= \"4.0.0\" ? require(\"notebook/js/outputarea\").OutputArea : IPython.OutputArea;\n",
       "\n",
       "    var redrawValue = function (container, type, val) {\n",
       "\tvar selector = $(\"<div/>\");\n",
       "\tvar oa = new OutputArea(_.extend(selector, {\n",
       "\t    selector: selector,\n",
       "\t    prompt_area: true,\n",
       "\t    events: IPython.events,\n",
       "\t    keyboard_manager: IPython.keyboard_manager\n",
       "\t})); // Hack to work with IPython 2.1.0\n",
       "\n",
       "\tswitch (type) {\n",
       "\tcase \"image/png\":\n",
       "            var _src = 'data:' + type + ';base64,' + val;\n",
       "\t    $(container).find(\"img\").attr('src', _src);\n",
       "\t    break;\n",
       "\tdefault:\n",
       "\t    var toinsert = OutputArea.append_map[type].apply(\n",
       "\t\toa, [val, {}, selector]\n",
       "\t    );\n",
       "\t    $(container).empty().append(toinsert.contents());\n",
       "\t    selector.remove();\n",
       "\t}\n",
       "\tif (type === \"text/latex\" && MathJax) {\n",
       "\t    MathJax.Hub.Queue([\"Typeset\", MathJax.Hub, toinsert.get(0)]);\n",
       "\t}\n",
       "    }\n",
       "\n",
       "\n",
       "    $(document).ready(function() {\n",
       "\tfunction initComm(evt, data) {\n",
       "\t    var comm_manager = data.kernel.comm_manager;\n",
       "        //_.extend(comm_manager.targets, require(\"widgets/js/widget\"))\n",
       "\t    comm_manager.register_target(\"Signal\", function (comm) {\n",
       "            comm.on_msg(function (msg) {\n",
       "                //Widgets.log(\"message received\", msg);\n",
       "                var val = msg.content.data.value;\n",
       "                $(\".signal-\" + comm.comm_id).each(function() {\n",
       "                var type = $(this).data(\"type\");\n",
       "                if (val[type]) {\n",
       "                    redrawValue(this, type, val[type], type);\n",
       "                }\n",
       "                });\n",
       "                delete val;\n",
       "                delete msg.content.data.value;\n",
       "            });\n",
       "\t    });\n",
       "\n",
       "\t    // coordingate with Comm and redraw Signals\n",
       "\t    // XXX: Test using Reactive here to improve performance\n",
       "\t    $([IPython.events]).on(\n",
       "\t\t'output_appended.OutputArea', function (event, type, value, md, toinsert) {\n",
       "\t\t    if (md && md.reactive) {\n",
       "                // console.log(md.comm_id);\n",
       "                toinsert.addClass(\"signal-\" + md.comm_id);\n",
       "                toinsert.data(\"type\", type);\n",
       "                // Signal back indicating the mimetype required\n",
       "                var comm_manager = IPython.notebook.kernel.comm_manager;\n",
       "                var comm = comm_manager.comms[md.comm_id];\n",
       "                comm.then(function (c) {\n",
       "                    c.send({action: \"subscribe_mime\",\n",
       "                       mime: type});\n",
       "                    toinsert.bind(\"destroyed\", function() {\n",
       "                        c.send({action: \"unsubscribe_mime\",\n",
       "                               mime: type});\n",
       "                    });\n",
       "                })\n",
       "\t\t    }\n",
       "\t    });\n",
       "\t}\n",
       "\n",
       "\ttry {\n",
       "\t    // try to initialize right away. otherwise, wait on the status_started event.\n",
       "\t    initComm(undefined, IPython.notebook);\n",
       "\t} catch (e) {\n",
       "\t    $([IPython.events]).on('kernel_created.Kernel kernel_created.Session', initComm);\n",
       "\t}\n",
       "    });\n",
       "})(IPython, jQuery, _, MathJax);\n",
       "</script>\n",
       "    <script>\n",
       "        window.interactLoadedFlag = true\n",
       "       $(\"#interact-js-shim\").bind(\"destroyed\", function () {\n",
       "           if (window.interactLoadedFlag) {\n",
       "               console.warn(\"JavaScript required by Interact will be removed if you remove this cell or run using Interact more than once.\")\n",
       "           }\n",
       "       })\n",
       "       $([IPython.events]).on(\"kernel_starting.Kernel kernel_restarting.Kernel\", function () { window.interactLoadedFlag = false })\n",
       "   </script>\n",
       "</div>"
      ]
     },
     "metadata": {},
     "output_type": "display_data"
    },
    {
     "name": "stdout",
     "output_type": "stream",
     "text": [
      "adding: /home/rdeits/locomotion/explorations/point-cloud-signed-distance/packages/v0.5/DrakeVisualizer/src/lcmtypes to the python path\n"
     ]
    }
   ],
   "source": [
    "using RigidBodyTreeInspector\n",
    "using RigidBodyDynamics\n",
    "import DataStructures: OrderedDict\n",
    "using GeometryTypes\n",
    "using StaticArrays\n",
    "using CoordinateTransformations\n",
    "using DataFrames, DataArrays"
   ]
  },
  {
   "cell_type": "code",
   "execution_count": 79,
   "metadata": {
    "collapsed": false
   },
   "outputs": [
    {
     "name": "stderr",
     "output_type": "stream",
     "text": [
      "WARNING: replacing module Flash\n",
      "WARNING: Method definition convert(Type{CoordinateTransformations.AffineMap}, RigidBodyDynamics.Transform3D) in module Flash at /home/rdeits/locomotion/explorations/point-cloud-signed-distance/packages/v0.5/Flash/src/Flash.jl:19 overwritten in module Flash at /home/rdeits/locomotion/explorations/point-cloud-signed-distance/packages/v0.5/Flash/src/Flash.jl:19.\n",
      "WARNING: Method definition value(AbstractArray{#T<:Any, N<:Any}) in module Flash at /home/rdeits/locomotion/explorations/point-cloud-signed-distance/packages/v0.5/Flash/src/Flash.jl:21 overwritten in module Flash at /home/rdeits/locomotion/explorations/point-cloud-signed-distance/packages/v0.5/Flash/src/Flash.jl:21.\n",
      "WARNING: Method definition value(CoordinateTransformations.AbstractAffineMap) in module Flash at /home/rdeits/locomotion/explorations/point-cloud-signed-distance/packages/v0.5/Flash/src/Flash.jl:22 overwritten in module Flash at /home/rdeits/locomotion/explorations/point-cloud-signed-distance/packages/v0.5/Flash/src/Flash.jl:22.\n"
     ]
    }
   ],
   "source": [
    "import Flash\n",
    "reload(\"Flash\")"
   ]
  },
  {
   "cell_type": "code",
   "execution_count": 80,
   "metadata": {
    "collapsed": false
   },
   "outputs": [],
   "source": [
    "urdf = \"/home/rdeits/locomotion/explorations/point-cloud-signed-distance/examples/data/IRB140/urdf/irb_140_convhull.urdf\"\n",
    "mechanism = parse_urdf(Float64, urdf);"
   ]
  },
  {
   "cell_type": "code",
   "execution_count": 81,
   "metadata": {
    "collapsed": false
   },
   "outputs": [
    {
     "data": {
      "text/html": [],
      "text/plain": [
       "Interact.Slider{Float64}(Signal{Float64}(0.0, nactions=0),\"joint1.1\",0.0,linspace(-3.141592653589793,3.141592653589793,51),\".3f\",true)"
      ]
     },
     "metadata": {},
     "output_type": "display_data"
    },
    {
     "data": {
      "text/html": [],
      "text/plain": [
       "Interact.Slider{Float64}(Signal{Float64}(0.0, nactions=0),\"joint2.1\",0.0,linspace(-3.141592653589793,3.141592653589793,51),\".3f\",true)"
      ]
     },
     "metadata": {},
     "output_type": "display_data"
    },
    {
     "data": {
      "text/html": [],
      "text/plain": [
       "Interact.Slider{Float64}(Signal{Float64}(0.0, nactions=0),\"joint3.1\",0.0,linspace(-3.141592653589793,3.141592653589793,51),\".3f\",true)"
      ]
     },
     "metadata": {},
     "output_type": "display_data"
    },
    {
     "data": {
      "text/html": [],
      "text/plain": [
       "Interact.Slider{Float64}(Signal{Float64}(0.0, nactions=0),\"joint4.1\",0.0,linspace(-3.141592653589793,3.141592653589793,51),\".3f\",true)"
      ]
     },
     "metadata": {},
     "output_type": "display_data"
    },
    {
     "data": {
      "text/html": [],
      "text/plain": [
       "Interact.Slider{Float64}(Signal{Float64}(0.0, nactions=0),\"joint5.1\",0.0,linspace(-3.141592653589793,3.141592653589793,51),\".3f\",true)"
      ]
     },
     "metadata": {},
     "output_type": "display_data"
    },
    {
     "data": {
      "text/html": [],
      "text/plain": [
       "Interact.Slider{Float64}(Signal{Float64}(0.0, nactions=0),\"joint6.1\",0.0,linspace(-3.141592653589793,3.141592653589793,51),\".3f\",true)"
      ]
     },
     "metadata": {},
     "output_type": "display_data"
    },
    {
     "data": {
      "text/plain": [
       "nothing"
      ]
     },
     "execution_count": 81,
     "metadata": {
      "comm_id": "12cf58b3-cc36-46f2-855b-f1d17c44e2a8",
      "reactive": true
     },
     "output_type": "execute_result"
    }
   ],
   "source": [
    "vis = parse_urdf(urdf, mechanism);\n",
    "inspect(mechanism, vis)"
   ]
  },
  {
   "cell_type": "code",
   "execution_count": 82,
   "metadata": {
    "collapsed": false
   },
   "outputs": [],
   "source": [
    "# Construct the sensor and draw its view rays for debugging\n",
    "sensor = Flash.DepthSensors.Kinect(41, 41);\n",
    "camera_origin = SVector(0., 1.5, 0.5)\n",
    "camera_tform = compose(Translation(camera_origin), LinearMap(AngleAxis(pi/2, 1, 0, 0)))\n",
    "Flash.DepthSensors.draw_rays(sensor, camera_tform)"
   ]
  },
  {
   "cell_type": "code",
   "execution_count": 83,
   "metadata": {
    "collapsed": false
   },
   "outputs": [],
   "source": [
    "vis_data = RigidBodyTreeInspector.parse_urdf_visuals(urdf, mechanism);"
   ]
  },
  {
   "cell_type": "code",
   "execution_count": 84,
   "metadata": {
    "collapsed": false
   },
   "outputs": [],
   "source": [
    "surfaces = Vector{Flash.Surface{Float64}}()\n",
    "for (i, node) in enumerate(mechanism.toposortedTree)\n",
    "    body = node.vertexData\n",
    "    mesh = vis_data[i].geometry_data[1].geometry\n",
    "    tform = vis_data[i].geometry_data[1].transform\n",
    "    verts = vertices(mesh)\n",
    "    surface_points = [Point3D(body.frame, tform(SVector{3, Float64}(v...))) for v in verts]\n",
    "    skeleton_points = Vector{Point3D{Float64}}()\n",
    "    geometries = OrderedDict(body => Flash.BodyGeometry(surface_points, skeleton_points))\n",
    "    push!(surfaces, Flash.Surface(geometries, Flash.RigidPolytope()))\n",
    "end\n",
    "\n",
    "model = Flash.Manipulator(mechanism, surfaces);\n",
    "state = Flash.ManipulatorState(model);\n",
    "skin = Flash.skin(state);"
   ]
  },
  {
   "cell_type": "code",
   "execution_count": 85,
   "metadata": {
    "collapsed": false
   },
   "outputs": [
    {
     "data": {
      "text/plain": [
       "DrakeVisualizer.Visualizer(DrakeVisualizer.Robot(DrakeVisualizer.Link[DrakeVisualizer.Link(DrakeVisualizer.GeometryData[DrakeVisualizer.GeometryData{CoordinateTransformations.IdentityTransformation,GeometryTypes.HomogenousMesh{FixedSizeArrays.Point{3,Float64},GeometryTypes.Face{3,Int64,0},Void,Void,Void,Void,Void}}(HomogenousMesh(\n",
       "    vertices: 2242xFixedSizeArrays.Point{3,Float64},     faces: 4480xGeometryTypes.Face{3,Int64,0}, )\n",
       ",CoordinateTransformations.IdentityTransformation(),RGBA{Float64}(1.0,0.0,0.0,0.5))],\"link\")]),1,PyLCM.LCM(PyObject <LCM object at 0x7f5298008db0>))"
      ]
     },
     "execution_count": 85,
     "metadata": {},
     "output_type": "execute_result"
    }
   ],
   "source": [
    "Visualizer(DrakeVisualizer.contour_mesh(skin, Vec(-.5, -.5, -.25), Vec(1., .5, 1), 0.01, 0.05))"
   ]
  },
  {
   "cell_type": "code",
   "execution_count": 86,
   "metadata": {
    "collapsed": false
   },
   "outputs": [
    {
     "name": "stderr",
     "output_type": "stream",
     "text": [
      "WARNING: Method definition angle_diff(Any, Any) in module Main at In[66]:4 overwritten at In[86]:4.\n"
     ]
    },
    {
     "data": {
      "text/plain": [
       "angle_diff (generic function with 1 method)"
      ]
     },
     "execution_count": 86,
     "metadata": {},
     "output_type": "execute_result"
    }
   ],
   "source": [
    "# Difference between two angles, compensating for wraparound\n",
    "# (taken from angleDiff.m in Drake)\n",
    "function angle_diff(phi1, phi2)\n",
    "    mod(phi2 - phi1 + pi, 2*pi) - pi;\n",
    "end"
   ]
  },
  {
   "cell_type": "code",
   "execution_count": 93,
   "metadata": {
    "collapsed": false
   },
   "outputs": [
    {
     "data": {
      "text/plain": [
       "(::#54) (generic function with 1 method)"
      ]
     },
     "execution_count": 93,
     "metadata": {},
     "output_type": "execute_result"
    }
   ],
   "source": [
    "# Now let's try to use the raycast data to recover the joint angles.\n",
    "# We'll do that by choosing a true (hidden) robot state:\n",
    "true_state = Flash.ManipulatorState(model)\n",
    "# true_origins = Flash.link_origins(true_state)\n",
    "Flash.draw(true_state, false)\n",
    "\n",
    "# Now we can raycast that true state to get a set of sensed points:\n",
    "sensed_points = Flash.DepthSensors.raycast(true_state, sensor, camera_tform)\n",
    "Flash.DepthSensors.draw_points(sensed_points)\n",
    "\n",
    "# Our cost function takes the two joint angles and returns the \n",
    "# squared sum of the value of the implicit surface at those sensed\n",
    "# points. If we've recovered the true joint state, then that sum\n",
    "# should be nearly zero. \n",
    "cost = Flash.CostFunctor(model, sensed_points)\n",
    "\n",
    "wrapped_cost = x -> begin\n",
    "    c = cost(x)\n",
    "#     origins = Flash.link_origins(get(cost.state))\n",
    "#     draw(vis, vcat(true_origins, origins))\n",
    "    Flash.draw(get(cost.state), false)\n",
    "    c\n",
    "end"
   ]
  },
  {
   "cell_type": "code",
   "execution_count": 94,
   "metadata": {
    "collapsed": false
   },
   "outputs": [
    {
     "data": {
      "text/plain": [
       "(::#29) (generic function with 1 method)"
      ]
     },
     "execution_count": 94,
     "metadata": {},
     "output_type": "execute_result"
    }
   ],
   "source": [
    "cost_and_gradient! = Flash.CostAndGradientFunctor(wrapped_cost)"
   ]
  },
  {
   "cell_type": "code",
   "execution_count": 95,
   "metadata": {
    "collapsed": false
   },
   "outputs": [
    {
     "name": "stderr",
     "output_type": "stream",
     "text": [
      "WARNING: Method definition test_gradient_descent() in module Main at In[71]:4 overwritten at In[95]:4.\n"
     ]
    },
    {
     "data": {
      "text/plain": [
       "test_gradient_descent (generic function with 1 method)"
      ]
     },
     "execution_count": 95,
     "metadata": {},
     "output_type": "execute_result"
    }
   ],
   "source": [
    "trials = []\n",
    "\n",
    "function test_gradient_descent()\n",
    "    for i = 1:100\n",
    "        errors = []\n",
    "        xs = []\n",
    "        costs = []\n",
    "\n",
    "        # We'll initialize our estimate with a uniformly random pair\n",
    "        # of joint angles\n",
    "        est_state = Flash.ManipulatorState(model)\n",
    "        set_configuration!(est_state.mechanism_state, rand(num_positions(est_state.mechanism_state)) * 2*pi)\n",
    "#         rand_configuration!(est_state.mechanism_state)\n",
    "        x_estimated = Flash.flatten(est_state)\n",
    "        g = zeros(x_estimated)\n",
    "\n",
    "        # Now we use gradient descent to recover the joint angles\n",
    "        for i = 1:50\n",
    "            push!(xs, x_estimated)\n",
    "            push!(errors, norm(angle_diff(x_estimated, true_state.mechanism_state.q)))\n",
    "\n",
    "            # Evaluate the gradient of the point values w.r.t. the\n",
    "            # joint angles:\n",
    "            ci = cost_and_gradient!(g, x_estimated)\n",
    "            push!(costs, ci)\n",
    "\n",
    "            if any(isnan, g)\n",
    "                @show x_estimated\n",
    "                error(\"NaN in gradient\")\n",
    "            end\n",
    "\n",
    "            # Descend the gradient\n",
    "            step = -ci ./ g\n",
    "            step = sign(step) .* min.(0.05, abs.(g))\n",
    "            x_estimated += step\n",
    "        end\n",
    "        push!(trials, DataFrame(x=xs, err=errors, cost=costs))\n",
    "    end\n",
    "end"
   ]
  },
  {
   "cell_type": "code",
   "execution_count": 96,
   "metadata": {
    "collapsed": false
   },
   "outputs": [
    {
     "name": "stdout",
     "output_type": "stream",
     "text": [
      "Constructing a new state with T: ForwardDiff.Dual{6,Float64}\n"
     ]
    },
    {
     "ename": "LoadError",
     "evalue": "LoadError: InterruptException:\nwhile loading In[96], in expression starting on line 1",
     "output_type": "error",
     "traceback": [
      "LoadError: InterruptException:\nwhile loading In[96], in expression starting on line 1",
      "",
      " in push! at ./array.jl:480 [inlined]",
      " in push!(::GeometryTypes.FlexibleSimplex{FixedSizeArrays.Vec{3,ForwardDiff.Dual{6,Float64}}}, ::FixedSizeArrays.Vec{3,ForwardDiff.Dual{6,Float64}}) at /home/rdeits/locomotion/explorations/point-cloud-signed-distance/packages/v0.5/GeometryTypes/src/convexhulls.jl:14",
      " in gjk0(::GeometryTypes.MinkowskiDifference{GeometryTypes.FlexibleSimplex{FixedSizeArrays.Vec{3,ForwardDiff.Dual{6,Float64}}},FixedSizeArrays.Vec{3,ForwardDiff.Dual{6,Float64}}}, ::Float64, ::Int64, ::FixedSizeArrays.Vec{3,ForwardDiff.Dual{6,Float64}}) at /home/rdeits/locomotion/explorations/point-cloud-signed-distance/packages/v0.5/GeometryTypes/src/gjk.jl:133",
      " in gjk(::GeometryTypes.FlexibleSimplex{FixedSizeArrays.Vec{3,ForwardDiff.Dual{6,Float64}}}, ::FixedSizeArrays.Vec{3,ForwardDiff.Dual{6,Float64}}) at /home/rdeits/locomotion/explorations/point-cloud-signed-distance/packages/v0.5/GeometryTypes/src/gjk.jl:152",
      " in mapfoldl_impl(::Base.#identity, ::Base.#scalarmin, ::ForwardDiff.Dual{6,Float64}, ::Base.Generator{Array{Flash.SimplexSurface{ForwardDiff.Dual{6,Float64}},1},Flash.##14#16{StaticArrays.SVector{3,Float64}}}, ::Int64) at ./reduce.jl:48",
      " in mapfoldl(::Base.#identity, ::Function, ::Base.Generator{Array{Flash.SimplexSurface{ForwardDiff.Dual{6,Float64}},1},Flash.##14#16{StaticArrays.SVector{3,Float64}}}) at ./reduce.jl:64",
      " in (::Flash.##27#28{Flash.##13#15{Array{Flash.SimplexSurface{ForwardDiff.Dual{6,Float64}},1}}})(::StaticArrays.SVector{3,Float64}) at /home/rdeits/locomotion/explorations/point-cloud-signed-distance/packages/v0.5/Flash/src/gradientdescent.jl:15",
      " in macro expansion at ./reduce.jl:104 [inlined]",
      " in macro expansion at ./simdloop.jl:73 [inlined]",
      " in mapreduce_impl(::Flash.##27#28{Flash.##13#15{Array{Flash.SimplexSurface{ForwardDiff.Dual{6,Float64}},1}}}, ::Base.#+, ::Array{StaticArrays.SVector{3,Float64},1}, ::Int64, ::Int64, ::Int64) at ./reduce.jl:102",
      " in _mapreduce(::Flash.##27#28{Flash.##13#15{Array{Flash.SimplexSurface{ForwardDiff.Dual{6,Float64}},1}}}, ::Base.#+, ::Base.LinearFast, ::Array{StaticArrays.SVector{3,Float64},1}) at ./reduce.jl:162",
      " in cost(::Flash.ManipulatorState{Float64,ForwardDiff.Dual{6,Float64},ForwardDiff.Dual{6,Float64}}, ::Array{StaticArrays.SVector{3,Float64},1}) at /home/rdeits/locomotion/explorations/point-cloud-signed-distance/packages/v0.5/Flash/src/gradientdescent.jl:15",
      " in (::Flash.CostFunctor{Float64,StaticArrays.SVector{3,Float64}})(::Array{ForwardDiff.Dual{6,Float64},1}) at /home/rdeits/locomotion/explorations/point-cloud-signed-distance/packages/v0.5/Flash/src/gradientdescent.jl:40",
      " in #54 at ./In[93]:18 [inlined]",
      " in compute_vector_mode_gradient(::##54#55, ::Array{Float64,1}, ::ForwardDiff.Chunk{6}, ::Bool) at /home/rdeits/locomotion/explorations/point-cloud-signed-distance/packages/v0.5/ForwardDiff/src/gradient.jl:90",
      " in vector_mode_gradient!(::ForwardDiff.GradientResult{Float64,Array{Float64,1}}, ::Function, ::Array{Float64,1}, ::ForwardDiff.Chunk{6}, ::Bool) at /home/rdeits/locomotion/explorations/point-cloud-signed-distance/packages/v0.5/ForwardDiff/src/gradient.jl:100",
      " in #gradient!#34(::Bool, ::Bool, ::Function, ::ForwardDiff.GradientResult{Float64,Array{Float64,1}}, ::Function, ::Array{Float64,1}, ::ForwardDiff.Chunk{6}) at /home/rdeits/locomotion/explorations/point-cloud-signed-distance/packages/v0.5/ForwardDiff/src/gradient.jl:35",
      " in gradient!(::ForwardDiff.GradientResult{Float64,Array{Float64,1}}, ::Function, ::Array{Float64,1}, ::ForwardDiff.Chunk{6}) at /home/rdeits/locomotion/explorations/point-cloud-signed-distance/packages/v0.5/ForwardDiff/src/gradient.jl:34",
      " in (::Flash.##29#30{##54#55})(::Array{Float64,1}, ::Array{Float64,1}) at /home/rdeits/locomotion/explorations/point-cloud-signed-distance/packages/v0.5/Flash/src/gradientdescent.jl:51",
      " in test_gradient_descent() at ./In[95]:24"
     ]
    }
   ],
   "source": [
    "test_gradient_descent()"
   ]
  },
  {
   "cell_type": "code",
   "execution_count": null,
   "metadata": {
    "collapsed": true
   },
   "outputs": [],
   "source": []
  }
 ],
 "metadata": {
  "kernelspec": {
   "display_name": "Julia 0.5.0",
   "language": "julia",
   "name": "julia-0.5"
  },
  "language_info": {
   "file_extension": ".jl",
   "mimetype": "application/julia",
   "name": "julia",
   "version": "0.5.0"
  },
  "widgets": {
   "state": {
    "0e5496bb-6221-4bd8-b169-b4c4537744a0": {
     "views": [
      {
       "cell_index": 3
      }
     ]
    },
    "132dcf1f-57f9-4b5a-af91-13d00497846b": {
     "views": [
      {
       "cell_index": 3
      }
     ]
    },
    "1438bcda-1f93-4496-9018-7e92239c9117": {
     "views": [
      {
       "cell_index": 3
      }
     ]
    },
    "18d1f3e2-29c2-43fd-bbe4-796f125adaf0": {
     "views": [
      {
       "cell_index": 3
      }
     ]
    },
    "25ed068f-52e9-48d6-a8c0-4b73f291064e": {
     "views": [
      {
       "cell_index": 3
      }
     ]
    },
    "25f5ca53-50bc-4854-bd16-50c16cd9e056": {
     "views": [
      {
       "cell_index": 3
      }
     ]
    },
    "373ca5f3-cda2-48f2-b44a-9662f95ed336": {
     "views": [
      {
       "cell_index": 3
      }
     ]
    },
    "37a9dc9c-5828-4d63-8601-d624e1c479be": {
     "views": [
      {
       "cell_index": 3
      }
     ]
    },
    "3e4a845f-cd2c-4e54-9404-438eb43b4540": {
     "views": [
      {
       "cell_index": 3
      }
     ]
    },
    "3edbc41f-ad89-4f6e-90c7-a6af3334be02": {
     "views": [
      {
       "cell_index": 3
      }
     ]
    },
    "4240a717-9856-4a18-95d1-14bbdd06e1cf": {
     "views": [
      {
       "cell_index": 3
      }
     ]
    },
    "48ebc934-0ca1-4b5a-9299-d74d40321b07": {
     "views": [
      {
       "cell_index": 3
      }
     ]
    },
    "4c7dbf92-e665-45a2-b3c1-d1a2440b999c": {
     "views": [
      {
       "cell_index": 3
      }
     ]
    },
    "50dd6694-5fbf-4b0e-a75a-cf53d3193251": {
     "views": [
      {
       "cell_index": 3
      }
     ]
    },
    "58e2ba2e-f8bb-4d9c-86be-64acfb61e362": {
     "views": [
      {
       "cell_index": 3
      }
     ]
    },
    "59c64c4f-b036-419d-b8dc-ba8ca6d6e11b": {
     "views": [
      {
       "cell_index": 3
      }
     ]
    },
    "612face2-58bc-4bd0-a0f6-9e6e35e0100b": {
     "views": [
      {
       "cell_index": 3
      }
     ]
    },
    "62a90886-2e25-4b69-9363-7dc3bfd5a8d0": {
     "views": [
      {
       "cell_index": 3
      }
     ]
    },
    "672cd267-9047-4e9c-8cbb-1660f9d0423d": {
     "views": [
      {
       "cell_index": 3
      }
     ]
    },
    "6e195c8e-6f91-49d3-8df0-c14820370e78": {
     "views": [
      {
       "cell_index": 3
      }
     ]
    },
    "6f91eb43-d7b6-41e1-8673-3bf417e69d89": {
     "views": [
      {
       "cell_index": 3
      }
     ]
    },
    "784efd25-3d51-4741-ae37-8ab0b9cd5985": {
     "views": [
      {
       "cell_index": 3
      }
     ]
    },
    "7a019c4b-6239-44c1-8200-4e019247e2e2": {
     "views": [
      {
       "cell_index": 3
      }
     ]
    },
    "7c56747e-d63d-49c7-97c9-fe07b7211da6": {
     "views": [
      {
       "cell_index": 3
      }
     ]
    },
    "7d9a4c1e-7a8f-45eb-8cfb-ff537969a1f8": {
     "views": [
      {
       "cell_index": 3
      }
     ]
    },
    "83d60cfa-5387-45ab-a2d4-677a32a360be": {
     "views": [
      {
       "cell_index": 3
      }
     ]
    },
    "8af86a97-fb6e-464b-a730-e74ac7e26ba1": {
     "views": [
      {
       "cell_index": 3
      }
     ]
    },
    "8b1919ec-0f7d-45c4-a026-23d6b3f4335c": {
     "views": [
      {
       "cell_index": 3
      }
     ]
    },
    "8baaddb4-51b5-41ef-8a89-90ad4c6497da": {
     "views": [
      {
       "cell_index": 3
      }
     ]
    },
    "92fba4a1-4fa0-4edf-89fa-85b68b4da1ee": {
     "views": [
      {
       "cell_index": 3
      }
     ]
    },
    "97dbf1f4-470d-43c5-a68d-8738e6af4f5e": {
     "views": [
      {
       "cell_index": 3
      }
     ]
    },
    "9b8c747f-6ad4-47b5-9306-d652605192c7": {
     "views": [
      {
       "cell_index": 3
      }
     ]
    },
    "9cecfaa6-e3c8-48d3-ad9d-98ab098a7760": {
     "views": [
      {
       "cell_index": 3
      }
     ]
    },
    "9f2e7021-b885-400b-bef6-c372a84aefa8": {
     "views": [
      {
       "cell_index": 3
      }
     ]
    },
    "a118d23e-1075-45f9-b6fd-7daee83bb585": {
     "views": [
      {
       "cell_index": 3
      }
     ]
    },
    "b050333e-8b12-4e45-8ef1-c3e2e80cc886": {
     "views": [
      {
       "cell_index": 3
      }
     ]
    },
    "c0b4f1dc-0c14-4616-9b39-479ccd1cf65c": {
     "views": [
      {
       "cell_index": 3
      }
     ]
    },
    "c16b5fe1-5612-4839-81c2-4143a08f617a": {
     "views": [
      {
       "cell_index": 3
      }
     ]
    },
    "c299caa0-41c0-447d-93c9-49dba05ecb33": {
     "views": [
      {
       "cell_index": 3
      }
     ]
    },
    "c49f39db-5063-4638-89a8-855abc590143": {
     "views": [
      {
       "cell_index": 3
      }
     ]
    },
    "c5a74548-cd94-4177-bb6a-a985985e5b8e": {
     "views": [
      {
       "cell_index": 3
      }
     ]
    },
    "c772d100-7da5-44cd-9951-9bb4153cd315": {
     "views": [
      {
       "cell_index": 3
      }
     ]
    },
    "c92d9f9b-eb55-4569-a509-3523870ed05b": {
     "views": [
      {
       "cell_index": 3
      }
     ]
    },
    "c96b14bd-62a4-477d-83c5-1ffa3af5c6f9": {
     "views": [
      {
       "cell_index": 3
      }
     ]
    },
    "d3fe36a2-11a4-4d1c-bc70-e4c3594ca887": {
     "views": [
      {
       "cell_index": 3
      }
     ]
    },
    "d9c78ef1-5c52-4b59-bc2b-12b68ce8ab57": {
     "views": [
      {
       "cell_index": 3
      }
     ]
    },
    "dc3a81bb-52c4-452d-bd90-4f6ba8e6aeb9": {
     "views": [
      {
       "cell_index": 3
      }
     ]
    },
    "e41379e9-5f4e-4a4c-a0b3-4451004c8faa": {
     "views": [
      {
       "cell_index": 3
      }
     ]
    },
    "e72d05e4-14c6-49d1-bf1e-72ea5996438d": {
     "views": [
      {
       "cell_index": 3
      }
     ]
    },
    "e873d583-ba21-4f5e-a332-936b04b26158": {
     "views": [
      {
       "cell_index": 3
      }
     ]
    },
    "ebb3dc10-b6c0-4d8e-8094-209cde106a0b": {
     "views": [
      {
       "cell_index": 3
      }
     ]
    }
   },
   "version": "1.2.0"
  }
 },
 "nbformat": 4,
 "nbformat_minor": 1
}
