{
 "cells": [
  {
   "cell_type": "code",
   "execution_count": 1,
   "metadata": {
    "collapsed": false
   },
   "outputs": [
    {
     "data": {
      "text/html": [
       "<div id=\"interact-js-shim\">\n",
       "    <script charset=\"utf-8\">\n",
       "(function (IPython, $, _, MathJax) {\n",
       "    $.event.special.destroyed = {\n",
       "\tremove: function(o) {\n",
       "\t    if (o.handler) {\n",
       "\t\to.handler.apply(this, arguments)\n",
       "\t    }\n",
       "\t}\n",
       "    }\n",
       "\n",
       "    var OutputArea = IPython.version >= \"4.0.0\" ? require(\"notebook/js/outputarea\").OutputArea : IPython.OutputArea;\n",
       "\n",
       "    var redrawValue = function (container, type, val) {\n",
       "\tvar selector = $(\"<div/>\");\n",
       "\tvar oa = new OutputArea(_.extend(selector, {\n",
       "\t    selector: selector,\n",
       "\t    prompt_area: true,\n",
       "\t    events: IPython.events,\n",
       "\t    keyboard_manager: IPython.keyboard_manager\n",
       "\t})); // Hack to work with IPython 2.1.0\n",
       "\n",
       "\tswitch (type) {\n",
       "\tcase \"image/png\":\n",
       "            var _src = 'data:' + type + ';base64,' + val;\n",
       "\t    $(container).find(\"img\").attr('src', _src);\n",
       "\t    break;\n",
       "\tdefault:\n",
       "\t    var toinsert = OutputArea.append_map[type].apply(\n",
       "\t\toa, [val, {}, selector]\n",
       "\t    );\n",
       "\t    $(container).empty().append(toinsert.contents());\n",
       "\t    selector.remove();\n",
       "\t}\n",
       "\tif (type === \"text/latex\" && MathJax) {\n",
       "\t    MathJax.Hub.Queue([\"Typeset\", MathJax.Hub, toinsert.get(0)]);\n",
       "\t}\n",
       "    }\n",
       "\n",
       "\n",
       "    $(document).ready(function() {\n",
       "\tfunction initComm(evt, data) {\n",
       "\t    var comm_manager = data.kernel.comm_manager;\n",
       "        //_.extend(comm_manager.targets, require(\"widgets/js/widget\"))\n",
       "\t    comm_manager.register_target(\"Signal\", function (comm) {\n",
       "            comm.on_msg(function (msg) {\n",
       "                //Widgets.log(\"message received\", msg);\n",
       "                var val = msg.content.data.value;\n",
       "                $(\".signal-\" + comm.comm_id).each(function() {\n",
       "                var type = $(this).data(\"type\");\n",
       "                if (val[type]) {\n",
       "                    redrawValue(this, type, val[type], type);\n",
       "                }\n",
       "                });\n",
       "                delete val;\n",
       "                delete msg.content.data.value;\n",
       "            });\n",
       "\t    });\n",
       "\n",
       "\t    // coordingate with Comm and redraw Signals\n",
       "\t    // XXX: Test using Reactive here to improve performance\n",
       "\t    $([IPython.events]).on(\n",
       "\t\t'output_appended.OutputArea', function (event, type, value, md, toinsert) {\n",
       "\t\t    if (md && md.reactive) {\n",
       "                // console.log(md.comm_id);\n",
       "                toinsert.addClass(\"signal-\" + md.comm_id);\n",
       "                toinsert.data(\"type\", type);\n",
       "                // Signal back indicating the mimetype required\n",
       "                var comm_manager = IPython.notebook.kernel.comm_manager;\n",
       "                var comm = comm_manager.comms[md.comm_id];\n",
       "                comm.then(function (c) {\n",
       "                    c.send({action: \"subscribe_mime\",\n",
       "                       mime: type});\n",
       "                    toinsert.bind(\"destroyed\", function() {\n",
       "                        c.send({action: \"unsubscribe_mime\",\n",
       "                               mime: type});\n",
       "                    });\n",
       "                })\n",
       "\t\t    }\n",
       "\t    });\n",
       "\t}\n",
       "\n",
       "\ttry {\n",
       "\t    // try to initialize right away. otherwise, wait on the status_started event.\n",
       "\t    initComm(undefined, IPython.notebook);\n",
       "\t} catch (e) {\n",
       "\t    $([IPython.events]).on('kernel_created.Kernel kernel_created.Session', initComm);\n",
       "\t}\n",
       "    });\n",
       "})(IPython, jQuery, _, MathJax);\n",
       "</script>\n",
       "    <script>\n",
       "        window.interactLoadedFlag = true\n",
       "       $(\"#interact-js-shim\").bind(\"destroyed\", function () {\n",
       "           if (window.interactLoadedFlag) {\n",
       "               console.warn(\"JavaScript required by Interact will be removed if you remove this cell or run using Interact more than once.\")\n",
       "           }\n",
       "       })\n",
       "       $([IPython.events]).on(\"kernel_starting.Kernel kernel_restarting.Kernel\", function () { window.interactLoadedFlag = false })\n",
       "   </script>\n",
       "</div>"
      ]
     },
     "metadata": {},
     "output_type": "display_data"
    }
   ],
   "source": [
    "using Interact\n",
    "using RigidBodyDynamics\n",
    "using DataFrames\n",
    "using SimpleGradientDescent\n",
    "using Ipopt"
   ]
  },
  {
   "cell_type": "code",
   "execution_count": 2,
   "metadata": {
    "collapsed": false
   },
   "outputs": [
    {
     "name": "stdout",
     "output_type": "stream",
     "text": [
      "adding: /home/rdeits/locomotion/explorations/point-cloud-signed-distance/packages/v0.5/DrakeVisualizer/src/lcmtypes to the python path\n"
     ]
    },
    {
     "name": "stderr",
     "output_type": "stream",
     "text": [
      "WARNING: Method definition convert(Type{CoordinateTransformations.AffineMap}, RigidBodyDynamics.Transform3D) in module Flash at /home/rdeits/locomotion/explorations/point-cloud-signed-distance/packages/v0.5/Flash/src/Flash.jl:19 overwritten in module RigidBodyTreeInspector at /home/rdeits/locomotion/explorations/point-cloud-signed-distance/packages/v0.5/RigidBodyTreeInspector/src/RigidBodyTreeInspector.jl:157.\n",
      "WARNING: replacing module Flash\n",
      "WARNING: Method definition convert(Type{CoordinateTransformations.AffineMap}, RigidBodyDynamics.Transform3D) in module RigidBodyTreeInspector at /home/rdeits/locomotion/explorations/point-cloud-signed-distance/packages/v0.5/RigidBodyTreeInspector/src/RigidBodyTreeInspector.jl:157 overwritten in module Flash at /home/rdeits/locomotion/explorations/point-cloud-signed-distance/packages/v0.5/Flash/src/Flash.jl:19.\n",
      "WARNING: Method definition value(AbstractArray{#T<:Any, N<:Any}) in module Flash at /home/rdeits/locomotion/explorations/point-cloud-signed-distance/packages/v0.5/Flash/src/Flash.jl:21 overwritten in module Flash at /home/rdeits/locomotion/explorations/point-cloud-signed-distance/packages/v0.5/Flash/src/Flash.jl:21.\n",
      "WARNING: Method definition value(CoordinateTransformations.AbstractAffineMap) in module Flash at /home/rdeits/locomotion/explorations/point-cloud-signed-distance/packages/v0.5/Flash/src/Flash.jl:22 overwritten in module Flash at /home/rdeits/locomotion/explorations/point-cloud-signed-distance/packages/v0.5/Flash/src/Flash.jl:22.\n",
      "WARNING: Method definition normalize!(RigidBodyDynamics.MechanismState, Any, RigidBodyDynamics.JointType) in module GradientDescent at /home/rdeits/locomotion/explorations/point-cloud-signed-distance/packages/v0.5/Flash/src/gradientdescent.jl:19 overwritten in module GradientDescent at /home/rdeits/locomotion/explorations/point-cloud-signed-distance/packages/v0.5/Flash/src/gradientdescent.jl:19.\n",
      "WARNING: Method definition normalize!(RigidBodyDynamics.MechanismState, Any, RigidBodyDynamics.QuaternionFloating) in module GradientDescent at /home/rdeits/locomotion/explorations/point-cloud-signed-distance/packages/v0.5/Flash/src/gradientdescent.jl:21 overwritten in module GradientDescent at /home/rdeits/locomotion/explorations/point-cloud-signed-distance/packages/v0.5/Flash/src/gradientdescent.jl:21.\n",
      "WARNING: Method definition normalize!(RigidBodyDynamics.MechanismState, Any) in module GradientDescent at /home/rdeits/locomotion/explorations/point-cloud-signed-distance/packages/v0.5/Flash/src/gradientdescent.jl:25 overwritten in module GradientDescent at /home/rdeits/locomotion/explorations/point-cloud-signed-distance/packages/v0.5/Flash/src/gradientdescent.jl:25.\n",
      "WARNING: Method definition normalize!(RigidBodyDynamics.MechanismState) in module GradientDescent at /home/rdeits/locomotion/explorations/point-cloud-signed-distance/packages/v0.5/Flash/src/gradientdescent.jl:26 overwritten in module GradientDescent at /home/rdeits/locomotion/explorations/point-cloud-signed-distance/packages/v0.5/Flash/src/gradientdescent.jl:26.\n"
     ]
    }
   ],
   "source": [
    "import Flash\n",
    "reload(\"Flash\")"
   ]
  },
  {
   "cell_type": "code",
   "execution_count": 3,
   "metadata": {
    "collapsed": false
   },
   "outputs": [
    {
     "data": {
      "text/plain": [
       "PointCloud with origin: [1.37689,0.775602,1.4848] containing 25164 points"
      ]
     },
     "execution_count": 3,
     "metadata": {},
     "output_type": "execute_result"
    }
   ],
   "source": [
    "squished = Flash.DepthData.read_point_cloud(open(\"data/squishable_squished_xyzrgb.txt\"))"
   ]
  },
  {
   "cell_type": "code",
   "execution_count": 4,
   "metadata": {
    "collapsed": true
   },
   "outputs": [],
   "source": [
    "Flash.DepthData.render_lcmgl(squished)"
   ]
  },
  {
   "cell_type": "code",
   "execution_count": 5,
   "metadata": {
    "collapsed": false
   },
   "outputs": [
    {
     "data": {
      "text/plain": [
       "PointCloud with origin: [1.38246,0.768824,1.48581] containing 25571 points"
      ]
     },
     "execution_count": 5,
     "metadata": {},
     "output_type": "execute_result"
    }
   ],
   "source": [
    "unsquished = Flash.DepthData.read_point_cloud(open(\"data/squishable_unsquished_xyzrgb.txt\"))"
   ]
  },
  {
   "cell_type": "code",
   "execution_count": 6,
   "metadata": {
    "collapsed": false
   },
   "outputs": [],
   "source": [
    "Flash.DepthData.render_lcmgl(unsquished)"
   ]
  },
  {
   "cell_type": "code",
   "execution_count": 7,
   "metadata": {
    "collapsed": false
   },
   "outputs": [
    {
     "data": {
      "text/plain": [
       "DrakeVisualizer.Visualizer(DrakeVisualizer.Robot(DrakeVisualizer.Link[DrakeVisualizer.Link(DrakeVisualizer.GeometryData[DrakeVisualizer.GeometryData{CoordinateTransformations.IdentityTransformation,GeometryTypes.HomogenousMesh{FixedSizeArrays.Point{3,Float64},GeometryTypes.Face{3,Int64,0},Void,Void,Void,Void,Void}}(HomogenousMesh(\n",
       "    vertices: 294xFixedSizeArrays.Point{3,Float64},     faces: 584xGeometryTypes.Face{3,Int64,0}, )\n",
       ",CoordinateTransformations.IdentityTransformation(),RGBA{Float64}(1.0,0.0,0.0,0.5))],\"skin_1\")]),1,PyLCM.LCM(PyObject <LCM object at 0x7f6444227510>))"
      ]
     },
     "execution_count": 7,
     "metadata": {},
     "output_type": "execute_result"
    }
   ],
   "source": [
    "model = Flash.Models.squishable()\n",
    "state = Flash.ManipulatorState(model)\n",
    "Flash.draw(state)"
   ]
  },
  {
   "cell_type": "code",
   "execution_count": 8,
   "metadata": {
    "collapsed": false
   },
   "outputs": [],
   "source": [
    "point_cloud = unsquished\n",
    "Flash.DepthData.render_lcmgl(point_cloud)\n",
    "sensed_points = [p.position for p in point_cloud.points];"
   ]
  },
  {
   "cell_type": "code",
   "execution_count": 9,
   "metadata": {
    "collapsed": false
   },
   "outputs": [
    {
     "data": {
      "text/plain": [
       "test_gradient_descent (generic function with 1 method)"
      ]
     },
     "execution_count": 9,
     "metadata": {},
     "output_type": "execute_result"
    }
   ],
   "source": [
    "function test_gradient_descent(model, sensed_points, loops, solver)\n",
    "    for i = 1:loops\n",
    "        \n",
    "        function callback{T}(x::AbstractVector{T}, c)\n",
    "            x_value = Flash.value.(x)\n",
    "            state = Flash.ManipulatorState(model)\n",
    "            Flash.GradientDescent.unflatten!(state, x_value)\n",
    "            Flash.draw(state, false)\n",
    "        end\n",
    "        \n",
    "        x_estimated = Flash.flatten(Flash.ManipulatorState(model))\n",
    "        xstar = Flash.Tracking.estimate_state(model, sensed_points, x_estimated; callback=callback, solver=solver)\n",
    "        state = Flash.ManipulatorState(model)\n",
    "        Flash.GradientDescent.unflatten!(state, xstar)\n",
    "        Flash.draw(state, true)\n",
    "    end\n",
    "end\n"
   ]
  },
  {
   "cell_type": "code",
   "execution_count": 10,
   "metadata": {
    "collapsed": false
   },
   "outputs": [],
   "source": [
    "num_vars = Flash.num_states(model)\n",
    "solver = NaiveSolver(num_vars; rate=0.01, max_step=0.1, iteration_limit=50, \n",
    "        precondition_divisors=vcat([1 for i in 1:7], [1e-3 for i in 8:num_vars]))\n",
    "test_gradient_descent(model, sensed_points, 1, solver);"
   ]
  },
  {
   "cell_type": "code",
   "execution_count": 11,
   "metadata": {
    "collapsed": false
   },
   "outputs": [
    {
     "name": "stdout",
     "output_type": "stream",
     "text": [
      "  5.354626 seconds (45.01 M allocations: 3.756 GB, 7.51% gc time)\n"
     ]
    }
   ],
   "source": [
    "@time test_gradient_descent(model, sensed_points, 1, solver);"
   ]
  },
  {
   "cell_type": "code",
   "execution_count": 12,
   "metadata": {
    "collapsed": false
   },
   "outputs": [
    {
     "name": "stdout",
     "output_type": "stream",
     "text": [
      "\n",
      "******************************************************************************\n",
      "This program contains Ipopt, a library for large-scale nonlinear optimization.\n",
      " Ipopt is released as open source code under the Eclipse Public License (EPL).\n",
      "         For more information visit http://projects.coin-or.org/Ipopt\n",
      "******************************************************************************\n",
      "\n"
     ]
    }
   ],
   "source": [
    "ipopt_solver = IpoptSolver(print_level=1, max_iter=50)\n",
    "test_gradient_descent(model, sensed_points, 1, ipopt_solver);"
   ]
  }
 ],
 "metadata": {
  "kernelspec": {
   "display_name": "Julia 0.5.0",
   "language": "julia",
   "name": "julia-0.5"
  },
  "language_info": {
   "file_extension": ".jl",
   "mimetype": "application/julia",
   "name": "julia",
   "version": "0.5.0"
  }
 },
 "nbformat": 4,
 "nbformat_minor": 1
}
