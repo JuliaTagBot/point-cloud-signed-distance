{
 "cells": [
  {
   "cell_type": "code",
   "execution_count": 1,
   "metadata": {
    "collapsed": false
   },
   "outputs": [
    {
     "name": "stderr",
     "output_type": "stream",
     "text": [
      "WARNING: readall is deprecated, use readstring instead.\n",
      " in depwarn(::String, ::Symbol) at ./deprecated.jl:64\n",
      " in readall(::String, ::Vararg{String,N"
     ]
    },
    {
     "data": {
      "text/html": [
       "<div id=\"interact-js-shim\">\n",
       "    <script charset=\"utf-8\">\n",
       "(function (IPython, $, _, MathJax) {\n",
       "    $.event.special.destroyed = {\n",
       "\tremove: function(o) {\n",
       "\t    if (o.handler) {\n",
       "\t\to.handler.apply(this, arguments)\n",
       "\t    }\n",
       "\t}\n",
       "    }\n",
       "\n",
       "    var OutputArea = IPython.version >= \"4.0.0\" ? require(\"notebook/js/outputarea\").OutputArea : IPython.OutputArea;\n",
       "\n",
       "    var redrawValue = function (container, type, val) {\n",
       "\tvar selector = $(\"<div/>\");\n",
       "\tvar oa = new OutputArea(_.extend(selector, {\n",
       "\t    selector: selector,\n",
       "\t    prompt_area: true,\n",
       "\t    events: IPython.events,\n",
       "\t    keyboard_manager: IPython.keyboard_manager\n",
       "\t})); // Hack to work with IPython 2.1.0\n",
       "\n",
       "\tswitch (type) {\n",
       "\tcase \"image/png\":\n",
       "            var _src = 'data:' + type + ';base64,' + val;\n",
       "\t    $(container).find(\"img\").attr('src', _src);\n",
       "\t    break;\n",
       "\tdefault:\n",
       "\t    var toinsert = OutputArea.append_map[type].apply(\n",
       "\t\toa, [val, {}, selector]\n",
       "\t    );\n",
       "\t    $(container).empty().append(toinsert.contents());\n",
       "\t    selector.remove();\n",
       "\t}\n",
       "\tif (type === \"text/latex\" && MathJax) {\n",
       "\t    MathJax.Hub.Queue([\"Typeset\", MathJax.Hub, toinsert.get(0)]);\n",
       "\t}\n",
       "    }\n",
       "\n",
       "\n",
       "    $(document).ready(function() {\n",
       "\tfunction initComm(evt, data) {\n",
       "\t    var comm_manager = data.kernel.comm_manager;\n",
       "        //_.extend(comm_manager.targets, require(\"widgets/js/widget\"))\n",
       "\t    comm_manager.register_target(\"Signal\", function (comm) {\n",
       "            comm.on_msg(function (msg) {\n",
       "                //Widgets.log(\"message received\", msg);\n",
       "                var val = msg.content.data.value;\n",
       "                $(\".signal-\" + comm.comm_id).each(function() {\n",
       "                var type = $(this).data(\"type\");\n",
       "                if (val[type]) {\n",
       "                    redrawValue(this, type, val[type], type);\n",
       "                }\n",
       "                });\n",
       "                delete val;\n",
       "                delete msg.content.data.value;\n",
       "            });\n",
       "\t    });\n",
       "\n",
       "\t    // coordingate with Comm and redraw Signals\n",
       "\t    // XXX: Test using Reactive here to improve performance\n",
       "\t    $([IPython.events]).on(\n",
       "\t\t'output_appended.OutputArea', function (event, type, value, md, toinsert) {\n",
       "\t\t    if (md && md.reactive) {\n",
       "                // console.log(md.comm_id);\n",
       "                toinsert.addClass(\"signal-\" + md.comm_id);\n",
       "                toinsert.data(\"type\", type);\n",
       "                // Signal back indicating the mimetype required\n",
       "                var comm_manager = IPython.notebook.kernel.comm_manager;\n",
       "                var comm = comm_manager.comms[md.comm_id];\n",
       "                comm.then(function (c) {\n",
       "                    c.send({action: \"subscribe_mime\",\n",
       "                       mime: type});\n",
       "                    toinsert.bind(\"destroyed\", function() {\n",
       "                        c.send({action: \"unsubscribe_mime\",\n",
       "                               mime: type});\n",
       "                    });\n",
       "                })\n",
       "\t\t    }\n",
       "\t    });\n",
       "\t}\n",
       "\n",
       "\ttry {\n",
       "\t    // try to initialize right away. otherwise, wait on the status_started event.\n",
       "\t    initComm(undefined, IPython.notebook);\n",
       "\t} catch (e) {\n",
       "\t    $([IPython.events]).on('kernel_created.Kernel kernel_created.Session', initComm);\n",
       "\t}\n",
       "    });\n",
       "})(IPython, jQuery, _, MathJax);\n",
       "</script>\n",
       "    <script>\n",
       "        window.interactLoadedFlag = true\n",
       "       $(\"#interact-js-shim\").bind(\"destroyed\", function () {\n",
       "           if (window.interactLoadedFlag) {\n",
       "               console.warn(\"JavaScript required by Interact will be removed if you remove this cell or run using Interact more than once.\")\n",
       "           }\n",
       "       })\n",
       "       $([IPython.events]).on(\"kernel_starting.Kernel kernel_restarting.Kernel\", function () { window.interactLoadedFlag = false })\n",
       "   </script>\n",
       "</div>"
      ]
     },
     "metadata": {},
     "output_type": "display_data"
    },
    {
     "name": "stderr",
     "output_type": "stream",
     "text": [
      "}) at ./deprecated.jl:30\n",
      " in include_from_node1(::String) at ./loading.jl:488\n",
      " in __init__() at /home/rdeits/locomotion/explorations/point-cloud-signed-distance/packages/v0.5/Interact/src/Interact.jl:81\n",
      " in _include_from_serialized(::String) at ./loading.jl:150\n",
      " in _require_from_serialized(::Int64, ::Symbol, ::String, ::Bool) at ./loading.jl:187\n",
      " in _require_search_from_serialized(::Int64, ::Symbol, ::String, ::Bool) at ./loading.jl:217\n",
      " in require(::Symbol) at ./loading.jl:371\n",
      " in include_string(::String, ::String) at ./loading.jl:441\n",
      " in execute_request(::ZMQ.Socket, ::IJulia.Msg) at /home/rdeits/locomotion/explorations/point-cloud-signed-distance/packages/v0.5/IJulia/src/execute_request.jl:169\n",
      " in eventloop(::ZMQ.Socket) at /home/rdeits/locomotion/explorations/point-cloud-signed-distance/packages/v0.5/IJulia/src/eventloop.jl:8\n",
      " in (::IJulia.##9#15)() at ./task.jl:360\n",
      "while loading /home/rdeits/locomotion/explorations/point-cloud-signed-distance/packages/v0.5/Interact/src/IJulia/setup.jl, in expression starting on line 13\n",
      "WARNING: Base.writemime is deprecated.\n",
      "  likely near /home/rdeits/locomotion/explorations/point-cloud-signed-distance/packages/v0.5/Interact/src/IJulia/setup.jl:101\n",
      "WARNING: Base.writemime is deprecated.\n",
      "  likely near /home/rdeits/locomotion/explorations/point-cloud-signed-distance/packages/v0.5/Interact/src/IJulia/setup.jl:101\n",
      "WARNING: Base.writemime is deprecated.\n",
      "  likely near /home/rdeits/locomotion/explorations/point-cloud-signed-distance/packages/v0.5/Interact/src/IJulia/setup.jl:105\n",
      "WARNING: Base.writemime is deprecated.\n",
      "  likely near /home/rdeits/locomotion/explorations/point-cloud-signed-distance/packages/v0.5/Interact/src/IJulia/setup.jl:105\n",
      "WARNING: Base.writemime is deprecated.\n",
      "  likely near /home/rdeits/locomotion/explorations/point-cloud-signed-distance/packages/v0.5/Interact/src/IJulia/setup.jl:109\n",
      "WARNING: Base.writemime is deprecated.\n",
      "  likely near /home/rdeits/locomotion/explorations/point-cloud-signed-distance/packages/v0.5/Interact/src/IJulia/setup.jl:109\n",
      "WARNING: Base.writemime is deprecated.\n",
      "  likely near /home/rdeits/locomotion/explorations/point-cloud-signed-distance/packages/v0.5/Interact/src/IJulia/setup.jl:114\n",
      "WARNING: Base.writemime is deprecated.\n",
      "  likely near /home/rdeits/locomotion/explorations/point-cloud-signed-distance/packages/v0.5/Interact/src/IJulia/setup.jl:114\n",
      "WARNING: Base.writemime is deprecated.\n",
      "  likely near /home/rdeits/locomotion/explorations/point-cloud-signed-distance/packages/v0.5/Interact/src/IJulia/setup.jl:119\n",
      "WARNING: Base.writemime is deprecated.\n",
      "  likely near /home/rdeits/locomotion/explorations/point-cloud-signed-distance/packages/v0.5/Interact/src/IJulia/setup.jl:119\n"
     ]
    }
   ],
   "source": [
    "using Interact\n",
    "using LCMGL\n",
    "using ForwardDiff\n",
    "using RigidBodyDynamics\n",
    "using DataFrames\n",
    "using SimpleGradientDescent\n",
    "using Ipopt"
   ]
  },
  {
   "cell_type": "code",
   "execution_count": 2,
   "metadata": {
    "collapsed": false
   },
   "outputs": [
    {
     "name": "stderr",
     "output_type": "stream",
     "text": [
      "WARNING: replacing module Flash\n",
      "WARNING: Method definition convert(Type{CoordinateTransformations.AffineMap}, RigidBodyDynamics.Transform3D) in module Flash at /home/rdeits/locomotion/explorations/point-cloud-signed-distance/packages/v0.5/Flash/src/Flash.jl:17 overwritten in module Flash at /home/rdeits/locomotion/explorations/point-cloud-signed-distance/packages/v0.5/Flash/src/Flash.jl:17.\n",
      "WARNING: Method definition value(AbstractArray{#T<:Any, N<:Any}) in module Flash at /home/rdeits/locomotion/explorations/point-cloud-signed-distance/packages/v0.5/Flash/src/Flash.jl:19 overwritten in module Flash at /home/rdeits/locomotion/explorations/point-cloud-signed-distance/packages/v0.5/Flash/src/Flash.jl:19.\n",
      "WARNING: Method definition value(CoordinateTransformations.AbstractAffineMap) in module Flash at /home/rdeits/locomotion/explorations/point-cloud-signed-distance/packages/v0.5/Flash/src/Flash.jl:20 overwritten in module Flash at /home/rdeits/locomotion/explorations/point-cloud-signed-distance/packages/v0.5/Flash/src/Flash.jl:20.\n"
     ]
    }
   ],
   "source": [
    "import Flash\n",
    "reload(\"Flash\")"
   ]
  },
  {
   "cell_type": "code",
   "execution_count": 3,
   "metadata": {
    "collapsed": false
   },
   "outputs": [
    {
     "data": {
      "text/plain": [
       "PointCloud with origin: [1.37689,0.775602,1.4848] containing 25164 points"
      ]
     },
     "execution_count": 3,
     "metadata": {},
     "output_type": "execute_result"
    }
   ],
   "source": [
    "squished = Flash.DepthData.read_point_cloud(open(\"data/squishable_squished_xyzrgb.txt\"))"
   ]
  },
  {
   "cell_type": "code",
   "execution_count": 4,
   "metadata": {
    "collapsed": true
   },
   "outputs": [],
   "source": [
    "Flash.DepthData.render_lcmgl(squished)"
   ]
  },
  {
   "cell_type": "code",
   "execution_count": 5,
   "metadata": {
    "collapsed": false
   },
   "outputs": [
    {
     "data": {
      "text/plain": [
       "PointCloud with origin: [1.38246,0.768824,1.48581] containing 25571 points"
      ]
     },
     "execution_count": 5,
     "metadata": {},
     "output_type": "execute_result"
    }
   ],
   "source": [
    "unsquished = Flash.DepthData.read_point_cloud(open(\"data/squishable_unsquished_xyzrgb.txt\"))"
   ]
  },
  {
   "cell_type": "code",
   "execution_count": 6,
   "metadata": {
    "collapsed": false
   },
   "outputs": [],
   "source": [
    "Flash.DepthData.render_lcmgl(unsquished)"
   ]
  },
  {
   "cell_type": "code",
   "execution_count": 7,
   "metadata": {
    "collapsed": false
   },
   "outputs": [
    {
     "data": {
      "text/plain": [
       "DrakeVisualizer.Visualizer(DrakeVisualizer.Robot(DrakeVisualizer.Link[DrakeVisualizer.Link(DrakeVisualizer.GeometryData[DrakeVisualizer.GeometryData{CoordinateTransformations.IdentityTransformation,GeometryTypes.HomogenousMesh{FixedSizeArrays.Point{3,Float64},GeometryTypes.Face{3,Int64,0},Void,Void,Void,Void,Void}}(HomogenousMesh(\n",
       "    vertices: 302xFixedSizeArrays.Point{3,Float64},     faces: 600xGeometryTypes.Face{3,Int64,0}, )\n",
       ",CoordinateTransformations.IdentityTransformation(),RGBA{Float64}(1.0,0.0,0.0,0.5))],\"skin_1\")]),1,PyLCM.LCM(PyObject <LCM object at 0x7f66981b62d0>))"
      ]
     },
     "execution_count": 7,
     "metadata": {},
     "output_type": "execute_result"
    }
   ],
   "source": [
    "model = Flash.Models.squishable()\n",
    "state = Flash.ManipulatorState(model)\n",
    "Flash.draw(state)"
   ]
  },
  {
   "cell_type": "code",
   "execution_count": 8,
   "metadata": {
    "collapsed": false
   },
   "outputs": [
    {
     "data": {
      "text/plain": [
       "unflatten! (generic function with 1 method)"
      ]
     },
     "execution_count": 8,
     "metadata": {},
     "output_type": "execute_result"
    }
   ],
   "source": [
    "function flatten(state::Flash.ManipulatorState)\n",
    "    vcat(state.mechanism_state.q, state.deformation_data)\n",
    "end\n",
    "\n",
    "function unflatten!{T}(state::Flash.ManipulatorState, data::AbstractVector{T})\n",
    "    nq = num_positions(state.mechanism_state)\n",
    "    set_configuration!(state.mechanism_state, data[1:nq])\n",
    "    state.deformation_data[:] = data[(nq + 1):end]\n",
    "end"
   ]
  },
  {
   "cell_type": "code",
   "execution_count": 9,
   "metadata": {
    "collapsed": false
   },
   "outputs": [
    {
     "data": {
      "text/plain": [
       "test_gradient_descent (generic function with 1 method)"
      ]
     },
     "execution_count": 9,
     "metadata": {},
     "output_type": "execute_result"
    }
   ],
   "source": [
    "point_cloud = unsquished\n",
    "Flash.DepthData.render_lcmgl(point_cloud)\n",
    "sensed_points = [p.position for p in point_cloud.points]\n",
    "\n",
    "cost = x -> begin\n",
    "    typealias T eltype(x)\n",
    "    state = Flash.ManipulatorState(model, T, T)\n",
    "    unflatten!(state, x)\n",
    "    Flash.draw(state, false)\n",
    "    skin = Flash.skin(state)[1]\n",
    "    raycast_cost = zero(T)\n",
    "    for point in sensed_points\n",
    "        raycast_cost += skin(point)^2\n",
    "    end\n",
    "#     raycast_cost = sum(point -> skin(point)^2, sensed_points)\n",
    "    deformation_cost = zero(T)\n",
    "    for ld in values(state.deformations)\n",
    "        for d in ld\n",
    "            deformation_cost += sum(d .^2)\n",
    "        end\n",
    "    end\n",
    "    return raycast_cost / length(sensed_points) + 100*deformation_cost\n",
    "end\n",
    "\n",
    "# Use autodiff to prepare a function that will evaluate the gradient\n",
    "# of that cost:\n",
    "cost_and_gradient = x -> begin\n",
    "    out = GradientResult(x)\n",
    "    ForwardDiff.gradient!(out, cost, x)\n",
    "    ForwardDiff.value(out), ForwardDiff.gradient(out)\n",
    "end\n",
    "\n",
    "trials = []\n",
    "\n",
    "\n",
    "function test_gradient_descent()\n",
    "    for i = 1:1\n",
    "        xs = []\n",
    "\n",
    "        # We'll initialize our estimate with a uniformly random pair\n",
    "        # of joint angles\n",
    "        x_estimated = flatten(Flash.ManipulatorState(model))\n",
    "        x_estimated[5:7] = [.5, 0, .5]\n",
    "\n",
    "        # Now we use gradient descent to recover the joint angles\n",
    "        for i = 1:50\n",
    "            push!(xs, x_estimated)\n",
    "\n",
    "            # Evaluate the gradient of the point values w.r.t. the\n",
    "            # joint angles:\n",
    "            ci, gi = cost_and_gradient(x_estimated)\n",
    "\n",
    "            if any(isnan, gi)\n",
    "                @show x_estimated\n",
    "                error(\"NaN in gradient\")\n",
    "            end\n",
    "            \n",
    "            # Descend the gradient\n",
    "            step = -ci ./ gi\n",
    "            step[1:7] = sign(step[1:7]) .* min.(0.01, abs.(gi[1:7]))\n",
    "            step[8:end] = sign(step[8:end]) .* min.(1e-5, abs.(gi[8:end]))\n",
    "            x_estimated += step\n",
    "\n",
    "            # Descend the gradient\n",
    "#             x_estimated -= 0.0000002 * gi\n",
    "            \n",
    "            # TODO: generalize this\n",
    "            x_estimated[1:4] = x_estimated[1:4] / norm(x_estimated[1:4])\n",
    "        end\n",
    "        push!(trials, DataFrame(x=xs))\n",
    "    end\n",
    "end"
   ]
  },
  {
   "cell_type": "code",
   "execution_count": 10,
   "metadata": {
    "collapsed": false
   },
   "outputs": [
    {
     "name": "stdout",
     "output_type": "stream",
     "text": [
      "  8.305141 seconds (64.10 M allocations: 4.641 GB, 6.69% gc time)\n"
     ]
    },
    {
     "data": {
      "text/plain": [
       "DrakeVisualizer.Visualizer(DrakeVisualizer.Robot(DrakeVisualizer.Link[DrakeVisualizer.Link(DrakeVisualizer.GeometryData[DrakeVisualizer.GeometryData{CoordinateTransformations.IdentityTransformation,GeometryTypes.HomogenousMesh{FixedSizeArrays.Point{3,Float64},GeometryTypes.Face{3,Int64,0},Void,Void,Void,Void,Void}}(HomogenousMesh(\n",
       "    vertices: 316xFixedSizeArrays.Point{3,Float64},     faces: 628xGeometryTypes.Face{3,Int64,0}, )\n",
       ",CoordinateTransformations.IdentityTransformation(),RGBA{Float64}(1.0,0.0,0.0,0.5))],\"skin_1\")]),1,PyLCM.LCM(PyObject <LCM object at 0x7f66981b6300>))"
      ]
     },
     "execution_count": 10,
     "metadata": {},
     "output_type": "execute_result"
    }
   ],
   "source": [
    "test_gradient_descent()\n",
    "@time test_gradient_descent()\n",
    "state = Flash.ManipulatorState(model)\n",
    "unflatten!(state, trials[1][:x][end])\n",
    "Flash.draw(state)"
   ]
  },
  {
   "cell_type": "code",
   "execution_count": 11,
   "metadata": {
    "collapsed": false
   },
   "outputs": [],
   "source": [
    "x0 = flatten(Flash.ManipulatorState(model))\n",
    "num_vars = length(x0)\n",
    "solver = IpoptSolver(print_level=1, max_iter=20)\n",
    "m = getmodel(GradientDescent(cost), num_vars, solver)\n",
    "setwarmstart!(m, x0);"
   ]
  },
  {
   "cell_type": "code",
   "execution_count": 12,
   "metadata": {
    "collapsed": false
   },
   "outputs": [
    {
     "name": "stdout",
     "output_type": "stream",
     "text": [
      "\n",
      "******************************************************************************\n",
      "This program contains Ipopt, a library for large-scale nonlinear optimization.\n",
      " Ipopt is released as open source code under the Eclipse Public License (EPL).\n",
      "         For more information visit http://projects.coin-or.org/Ipopt\n",
      "******************************************************************************\n",
      "\n"
     ]
    },
    {
     "data": {
      "text/plain": [
       "DrakeVisualizer.Visualizer(DrakeVisualizer.Robot(DrakeVisualizer.Link[DrakeVisualizer.Link(DrakeVisualizer.GeometryData[DrakeVisualizer.GeometryData{CoordinateTransformations.IdentityTransformation,GeometryTypes.HomogenousMesh{FixedSizeArrays.Point{3,Float64},GeometryTypes.Face{3,Int64,0},Void,Void,Void,Void,Void}}(HomogenousMesh(\n",
       "    vertices: 280xFixedSizeArrays.Point{3,Float64},     faces: 556xGeometryTypes.Face{3,Int64,0}, )\n",
       ",CoordinateTransformations.IdentityTransformation(),RGBA{Float64}(1.0,0.0,0.0,0.5))],\"skin_1\")]),1,PyLCM.LCM(PyObject <LCM object at 0x7f66981b6450>))"
      ]
     },
     "execution_count": 12,
     "metadata": {},
     "output_type": "execute_result"
    }
   ],
   "source": [
    "optimize!(m)\n",
    "x = getsolution(m)\n",
    "state = Flash.ManipulatorState(model)\n",
    "unflatten!(state, x)\n",
    "Flash.draw(state)"
   ]
  },
  {
   "cell_type": "code",
   "execution_count": 13,
   "metadata": {
    "collapsed": true
   },
   "outputs": [],
   "source": []
  }
 ],
 "metadata": {
  "kernelspec": {
   "display_name": "Julia 0.5.0",
   "language": "julia",
   "name": "julia-0.5"
  },
  "language_info": {
   "file_extension": ".jl",
   "mimetype": "application/julia",
   "name": "julia",
   "version": "0.5.0"
  }
 },
 "nbformat": 4,
 "nbformat_minor": 1
}
