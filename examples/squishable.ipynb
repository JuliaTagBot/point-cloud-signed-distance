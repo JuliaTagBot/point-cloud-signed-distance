{
 "cells": [
  {
   "cell_type": "code",
   "execution_count": 133,
   "metadata": {
    "collapsed": false
   },
   "outputs": [],
   "source": [
    "using Interact\n",
    "using LCMGL\n",
    "using ForwardDiff\n",
    "using RigidBodyDynamics\n",
    "using DataFrames\n",
    "using SimpleGradientDescent\n",
    "using Ipopt"
   ]
  },
  {
   "cell_type": "code",
   "execution_count": 113,
   "metadata": {
    "collapsed": false
   },
   "outputs": [
    {
     "name": "stderr",
     "output_type": "stream",
     "text": [
      "INFO: Recompiling stale cache file /home/rdeits/locomotion/explorations/point-cloud-signed-distance/packages/lib/v0.5/SpatialFields.ji for module SpatialFields.\n",
      "WARNING: replacing module SpatialFields.\n"
     ]
    }
   ],
   "source": [
    "reload(\"SpatialFields\")"
   ]
  },
  {
   "cell_type": "code",
   "execution_count": 114,
   "metadata": {
    "collapsed": false
   },
   "outputs": [
    {
     "name": "stderr",
     "output_type": "stream",
     "text": [
      "WARNING: replacing module Arms\n",
      "WARNING: Method definition convert(Type{CoordinateTransformations.AffineMap}, RigidBodyDynamics.Transform3D) in module Arms at /home/rdeits/locomotion/explorations/point-cloud-signed-distance/src/arms.jl:17 overwritten in module Arms at /home/rdeits/locomotion/explorations/point-cloud-signed-distance/src/arms.jl:17.\n",
      "WARNING: Method definition value(AbstractArray{#T<:Any, N<:Any}) in module Arms at /home/rdeits/locomotion/explorations/point-cloud-signed-distance/src/arms.jl:19 overwritten in module Arms at /home/rdeits/locomotion/explorations/point-cloud-signed-distance/src/arms.jl:19.\n",
      "WARNING: Method definition value(CoordinateTransformations.AbstractAffineMap) in module Arms at /home/rdeits/locomotion/explorations/point-cloud-signed-distance/src/arms.jl:20 overwritten in module Arms at /home/rdeits/locomotion/explorations/point-cloud-signed-distance/src/arms.jl:20.\n",
      "WARNING: Method definition (::Type{Arms.Manipulator})(RigidBodyDynamics.Mechanism{#T<:Any}, DataStructures.OrderedDict{RigidBodyDynamics.RigidBody{#T<:Any}, Arms.BodyGeometry{#T<:Any}}, Array{Array{RigidBodyDynamics.RigidBody{#T<:Any}, 1}, 1}) in module Arms at /home/rdeits/locomotion/explorations/point-cloud-signed-distance/src/arms.jl:40 overwritten at /home/rdeits/locomotion/explorations/point-cloud-signed-distance/src/arms.jl:45.\n",
      "WARNING: replacing module DepthSensors\n",
      "WARNING: replacing module DepthData\n"
     ]
    },
    {
     "data": {
      "text/plain": [
       "DepthData"
      ]
     },
     "execution_count": 114,
     "metadata": {},
     "output_type": "execute_result"
    }
   ],
   "source": [
    "include(\"../src/arms.jl\")\n",
    "include(\"../src/depth_sensors.jl\")\n",
    "include(\"../src/depthdata.jl\")"
   ]
  },
  {
   "cell_type": "code",
   "execution_count": 115,
   "metadata": {
    "collapsed": false
   },
   "outputs": [
    {
     "data": {
      "text/plain": [
       "PointCloud with origin: [1.37689,0.775602,1.4848] containing 25164 points"
      ]
     },
     "execution_count": 115,
     "metadata": {},
     "output_type": "execute_result"
    }
   ],
   "source": [
    "squished = DepthData.read_point_cloud(open(\"data/squishable_squished_xyzrgb.txt\"))"
   ]
  },
  {
   "cell_type": "code",
   "execution_count": 116,
   "metadata": {
    "collapsed": true
   },
   "outputs": [],
   "source": [
    "DepthData.render_lcmgl(squished)"
   ]
  },
  {
   "cell_type": "code",
   "execution_count": 117,
   "metadata": {
    "collapsed": false
   },
   "outputs": [
    {
     "data": {
      "text/plain": [
       "PointCloud with origin: [1.38246,0.768824,1.48581] containing 25571 points"
      ]
     },
     "execution_count": 117,
     "metadata": {},
     "output_type": "execute_result"
    }
   ],
   "source": [
    "unsquished = DepthData.read_point_cloud(open(\"data/squishable_unsquished_xyzrgb.txt\"))"
   ]
  },
  {
   "cell_type": "code",
   "execution_count": 118,
   "metadata": {
    "collapsed": false
   },
   "outputs": [],
   "source": [
    "DepthData.render_lcmgl(unsquished)"
   ]
  },
  {
   "cell_type": "code",
   "execution_count": 119,
   "metadata": {
    "collapsed": false
   },
   "outputs": [
    {
     "data": {
      "text/plain": [
       "DrakeVisualizer.Visualizer(DrakeVisualizer.Robot(DrakeVisualizer.Link[DrakeVisualizer.Link(DrakeVisualizer.GeometryData[DrakeVisualizer.GeometryData{CoordinateTransformations.IdentityTransformation,GeometryTypes.HomogenousMesh{FixedSizeArrays.Point{3,Float64},GeometryTypes.Face{3,Int64,0},Void,Void,Void,Void,Void}}(HomogenousMesh(\n",
       "    vertices: 294xFixedSizeArrays.Point{3,Float64},     faces: 584xGeometryTypes.Face{3,Int64,0}, )\n",
       ",CoordinateTransformations.IdentityTransformation(),RGBA{Float64}(1.0,0.0,0.0,0.5))],\"skin_1\")]),1,PyLCM.LCM(PyObject <LCM object at 0x7f65f4012b40>))"
      ]
     },
     "execution_count": 119,
     "metadata": {},
     "output_type": "execute_result"
    }
   ],
   "source": [
    "model = Arms.squishable()\n",
    "state = Arms.ManipulatorState(model)\n",
    "Arms.draw(state)"
   ]
  },
  {
   "cell_type": "code",
   "execution_count": 120,
   "metadata": {
    "collapsed": false
   },
   "outputs": [
    {
     "data": {
      "text/plain": [
       "unflatten! (generic function with 7 methods)"
      ]
     },
     "execution_count": 120,
     "metadata": {},
     "output_type": "execute_result"
    }
   ],
   "source": [
    "function flatten(state::Arms.ManipulatorState)\n",
    "    vcat(state.mechanism_state.q, state.deformation_data)\n",
    "end\n",
    "\n",
    "function unflatten!{T}(state::Arms.ManipulatorState, data::AbstractVector{T})\n",
    "    nq = num_positions(state.mechanism_state)\n",
    "    set_configuration!(state.mechanism_state, data[1:nq])\n",
    "    state.deformation_data[:] = data[(nq + 1):end]\n",
    "end"
   ]
  },
  {
   "cell_type": "code",
   "execution_count": 128,
   "metadata": {
    "collapsed": false
   },
   "outputs": [
    {
     "name": "stderr",
     "output_type": "stream",
     "text": [
      "WARNING: Method definition test_gradient_descent() in module Main at In[121]:37 overwritten at In[128]:37.\n"
     ]
    },
    {
     "data": {
      "text/plain": [
       "test_gradient_descent (generic function with 1 method)"
      ]
     },
     "execution_count": 128,
     "metadata": {},
     "output_type": "execute_result"
    }
   ],
   "source": [
    "point_cloud = unsquished\n",
    "DepthData.render_lcmgl(point_cloud)\n",
    "sensed_points = [p.position for p in point_cloud.points]\n",
    "\n",
    "cost = x -> begin\n",
    "    typealias T eltype(x)\n",
    "    state = Arms.ManipulatorState(model, T, T)\n",
    "    unflatten!(state, x)\n",
    "    Arms.draw(state, false)\n",
    "    skin = Arms.skin(state)[1]\n",
    "    raycast_cost = zero(T)\n",
    "    for point in sensed_points\n",
    "        raycast_cost += skin(point)^2\n",
    "    end\n",
    "#     raycast_cost = sum(point -> skin(point)^2, sensed_points)\n",
    "    deformation_cost = zero(T)\n",
    "    for ld in values(state.deformations)\n",
    "        for d in ld\n",
    "            deformation_cost += sum(d .^2)\n",
    "        end\n",
    "    end\n",
    "    return raycast_cost / length(sensed_points) + 100*deformation_cost\n",
    "end\n",
    "\n",
    "# Use autodiff to prepare a function that will evaluate the gradient\n",
    "# of that cost:\n",
    "cost_and_gradient = x -> begin\n",
    "    out = GradientResult(x)\n",
    "    ForwardDiff.gradient!(out, cost, x)\n",
    "    ForwardDiff.value(out), ForwardDiff.gradient(out)\n",
    "end\n",
    "\n",
    "trials = []\n",
    "\n",
    "\n",
    "function test_gradient_descent()\n",
    "    for i = 1:1\n",
    "        xs = []\n",
    "\n",
    "        # We'll initialize our estimate with a uniformly random pair\n",
    "        # of joint angles\n",
    "        x_estimated = flatten(Arms.ManipulatorState(model))\n",
    "        x_estimated[5:7] = [.5, 0, .5]\n",
    "\n",
    "        # Now we use gradient descent to recover the joint angles\n",
    "        for i = 1:50\n",
    "            push!(xs, x_estimated)\n",
    "\n",
    "            # Evaluate the gradient of the point values w.r.t. the\n",
    "            # joint angles:\n",
    "            ci, gi = cost_and_gradient(x_estimated)\n",
    "\n",
    "            if any(isnan, gi)\n",
    "                @show x_estimated\n",
    "                error(\"NaN in gradient\")\n",
    "            end\n",
    "            \n",
    "            # Descend the gradient\n",
    "            step = -ci ./ gi\n",
    "            step[1:7] = sign(step[1:7]) .* min.(0.01, abs.(gi[1:7]))\n",
    "            step[8:end] = sign(step[8:end]) .* min.(1e-5, abs.(gi[8:end]))\n",
    "            x_estimated += step\n",
    "\n",
    "            # Descend the gradient\n",
    "#             x_estimated -= 0.0000002 * gi\n",
    "            \n",
    "            # TODO: generalize this\n",
    "            x_estimated[1:4] = x_estimated[1:4] / norm(x_estimated[1:4])\n",
    "        end\n",
    "        push!(trials, DataFrame(x=xs))\n",
    "    end\n",
    "end"
   ]
  },
  {
   "cell_type": "code",
   "execution_count": 129,
   "metadata": {
    "collapsed": false
   },
   "outputs": [
    {
     "name": "stdout",
     "output_type": "stream",
     "text": [
      "  5.270178 seconds (64.10 M allocations: 4.641 GB, 14.09% gc time)\n"
     ]
    },
    {
     "data": {
      "text/plain": [
       "DrakeVisualizer.Visualizer(DrakeVisualizer.Robot(DrakeVisualizer.Link[DrakeVisualizer.Link(DrakeVisualizer.GeometryData[DrakeVisualizer.GeometryData{CoordinateTransformations.IdentityTransformation,GeometryTypes.HomogenousMesh{FixedSizeArrays.Point{3,Float64},GeometryTypes.Face{3,Int64,0},Void,Void,Void,Void,Void}}(HomogenousMesh(\n",
       "    vertices: 310xFixedSizeArrays.Point{3,Float64},     faces: 616xGeometryTypes.Face{3,Int64,0}, )\n",
       ",CoordinateTransformations.IdentityTransformation(),RGBA{Float64}(1.0,0.0,0.0,0.5))],\"skin_1\")]),1,PyLCM.LCM(PyObject <LCM object at 0x7f65f4012bd0>))"
      ]
     },
     "execution_count": 129,
     "metadata": {},
     "output_type": "execute_result"
    }
   ],
   "source": [
    "test_gradient_descent()\n",
    "@time test_gradient_descent()\n",
    "state = Arms.ManipulatorState(model)\n",
    "unflatten!(state, trials[1][:x][end])\n",
    "Arms.draw(state)"
   ]
  },
  {
   "cell_type": "code",
   "execution_count": 136,
   "metadata": {
    "collapsed": false
   },
   "outputs": [],
   "source": [
    "x0 = flatten(Arms.ManipulatorState(model))\n",
    "num_vars = length(x0)\n",
    "solver = IpoptSolver(print_level=1, max_iter=100)\n",
    "m = getmodel(GradientDescent(cost), num_vars, solver)\n",
    "setwarmstart!(m, x0);"
   ]
  },
  {
   "cell_type": "code",
   "execution_count": 137,
   "metadata": {
    "collapsed": false
   },
   "outputs": [
    {
     "data": {
      "text/plain": [
       "DrakeVisualizer.Visualizer(DrakeVisualizer.Robot(DrakeVisualizer.Link[DrakeVisualizer.Link(DrakeVisualizer.GeometryData[DrakeVisualizer.GeometryData{CoordinateTransformations.IdentityTransformation,GeometryTypes.HomogenousMesh{FixedSizeArrays.Point{3,Float64},GeometryTypes.Face{3,Int64,0},Void,Void,Void,Void,Void}}(HomogenousMesh(\n",
       "    vertices: 306xFixedSizeArrays.Point{3,Float64},     faces: 608xGeometryTypes.Face{3,Int64,0}, )\n",
       ",CoordinateTransformations.IdentityTransformation(),RGBA{Float64}(1.0,0.0,0.0,0.5))],\"skin_1\")]),1,PyLCM.LCM(PyObject <LCM object at 0x7f65f4012c30>))"
      ]
     },
     "execution_count": 137,
     "metadata": {},
     "output_type": "execute_result"
    }
   ],
   "source": [
    "optimize!(m)\n",
    "x = getsolution(m)\n",
    "state = Arms.ManipulatorState(model)\n",
    "unflatten!(state, x)\n",
    "Arms.draw(state)"
   ]
  },
  {
   "cell_type": "code",
   "execution_count": null,
   "metadata": {
    "collapsed": true
   },
   "outputs": [],
   "source": []
  }
 ],
 "metadata": {
  "kernelspec": {
   "display_name": "Julia 0.5.0",
   "language": "julia",
   "name": "julia-0.5"
  },
  "language_info": {
   "file_extension": ".jl",
   "mimetype": "application/julia",
   "name": "julia",
   "version": "0.5.0"
  }
 },
 "nbformat": 4,
 "nbformat_minor": 1
}
