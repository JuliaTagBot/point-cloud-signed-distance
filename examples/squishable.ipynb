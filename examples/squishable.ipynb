{
 "cells": [
  {
   "cell_type": "code",
   "execution_count": 1,
   "metadata": {
    "collapsed": false
   },
   "outputs": [
    {
     "data": {
      "text/html": [
       "<div id=\"interact-js-shim\">\n",
       "    <script charset=\"utf-8\">\n",
       "(function (IPython, $, _, MathJax) {\n",
       "    $.event.special.destroyed = {\n",
       "\tremove: function(o) {\n",
       "\t    if (o.handler) {\n",
       "\t\to.handler.apply(this, arguments)\n",
       "\t    }\n",
       "\t}\n",
       "    }\n",
       "\n",
       "    var OutputArea = IPython.version >= \"4.0.0\" ? require(\"notebook/js/outputarea\").OutputArea : IPython.OutputArea;\n",
       "\n",
       "    var redrawValue = function (container, type, val) {\n",
       "\tvar selector = $(\"<div/>\");\n",
       "\tvar oa = new OutputArea(_.extend(selector, {\n",
       "\t    selector: selector,\n",
       "\t    prompt_area: true,\n",
       "\t    events: IPython.events,\n",
       "\t    keyboard_manager: IPython.keyboard_manager\n",
       "\t})); // Hack to work with IPython 2.1.0\n",
       "\n",
       "\tswitch (type) {\n",
       "\tcase \"image/png\":\n",
       "            var _src = 'data:' + type + ';base64,' + val;\n",
       "\t    $(container).find(\"img\").attr('src', _src);\n",
       "\t    break;\n",
       "\tdefault:\n",
       "\t    var toinsert = OutputArea.append_map[type].apply(\n",
       "\t\toa, [val, {}, selector]\n",
       "\t    );\n",
       "\t    $(container).empty().append(toinsert.contents());\n",
       "\t    selector.remove();\n",
       "\t}\n",
       "\tif (type === \"text/latex\" && MathJax) {\n",
       "\t    MathJax.Hub.Queue([\"Typeset\", MathJax.Hub, toinsert.get(0)]);\n",
       "\t}\n",
       "    }\n",
       "\n",
       "\n",
       "    $(document).ready(function() {\n",
       "\tfunction initComm(evt, data) {\n",
       "\t    var comm_manager = data.kernel.comm_manager;\n",
       "        //_.extend(comm_manager.targets, require(\"widgets/js/widget\"))\n",
       "\t    comm_manager.register_target(\"Signal\", function (comm) {\n",
       "            comm.on_msg(function (msg) {\n",
       "                //Widgets.log(\"message received\", msg);\n",
       "                var val = msg.content.data.value;\n",
       "                $(\".signal-\" + comm.comm_id).each(function() {\n",
       "                var type = $(this).data(\"type\");\n",
       "                if (val[type]) {\n",
       "                    redrawValue(this, type, val[type], type);\n",
       "                }\n",
       "                });\n",
       "                delete val;\n",
       "                delete msg.content.data.value;\n",
       "            });\n",
       "\t    });\n",
       "\n",
       "\t    // coordingate with Comm and redraw Signals\n",
       "\t    // XXX: Test using Reactive here to improve performance\n",
       "\t    $([IPython.events]).on(\n",
       "\t\t'output_appended.OutputArea', function (event, type, value, md, toinsert) {\n",
       "\t\t    if (md && md.reactive) {\n",
       "                // console.log(md.comm_id);\n",
       "                toinsert.addClass(\"signal-\" + md.comm_id);\n",
       "                toinsert.data(\"type\", type);\n",
       "                // Signal back indicating the mimetype required\n",
       "                var comm_manager = IPython.notebook.kernel.comm_manager;\n",
       "                var comm = comm_manager.comms[md.comm_id];\n",
       "                comm.then(function (c) {\n",
       "                    c.send({action: \"subscribe_mime\",\n",
       "                       mime: type});\n",
       "                    toinsert.bind(\"destroyed\", function() {\n",
       "                        c.send({action: \"unsubscribe_mime\",\n",
       "                               mime: type});\n",
       "                    });\n",
       "                })\n",
       "\t\t    }\n",
       "\t    });\n",
       "\t}\n",
       "\n",
       "\ttry {\n",
       "\t    // try to initialize right away. otherwise, wait on the status_started event.\n",
       "\t    initComm(undefined, IPython.notebook);\n",
       "\t} catch (e) {\n",
       "\t    $([IPython.events]).on('kernel_created.Kernel kernel_created.Session', initComm);\n",
       "\t}\n",
       "    });\n",
       "})(IPython, jQuery, _, MathJax);\n",
       "</script>\n",
       "    <script>\n",
       "        window.interactLoadedFlag = true\n",
       "       $(\"#interact-js-shim\").bind(\"destroyed\", function () {\n",
       "           if (window.interactLoadedFlag) {\n",
       "               console.warn(\"JavaScript required by Interact will be removed if you remove this cell or run using Interact more than once.\")\n",
       "           }\n",
       "       })\n",
       "       $([IPython.events]).on(\"kernel_starting.Kernel kernel_restarting.Kernel\", function () { window.interactLoadedFlag = false })\n",
       "   </script>\n",
       "</div>"
      ]
     },
     "metadata": {},
     "output_type": "display_data"
    }
   ],
   "source": [
    "using Interact\n",
    "using LCMGL\n",
    "using ForwardDiff\n",
    "using RigidBodyDynamics\n",
    "using DataFrames\n",
    "using SimpleGradientDescent\n",
    "using Ipopt"
   ]
  },
  {
   "cell_type": "code",
   "execution_count": 2,
   "metadata": {
    "collapsed": false
   },
   "outputs": [
    {
     "name": "stdout",
     "output_type": "stream",
     "text": [
      "adding: /home/rdeits/locomotion/explorations/point-cloud-signed-distance/packages/v0.5/DrakeVisualizer/src/lcmtypes to the python path\n"
     ]
    },
    {
     "name": "stderr",
     "output_type": "stream",
     "text": [
      "WARNING: replacing module Flash\n",
      "WARNING: Method definition convert(Type{CoordinateTransformations.AffineMap}, RigidBodyDynamics.Transform3D) in module Flash at /home/rdeits/locomotion/explorations/point-cloud-signed-distance/packages/v0.5/Flash/src/Flash.jl:19 overwritten in module Flash at /home/rdeits/locomotion/explorations/point-cloud-signed-distance/packages/v0.5/Flash/src/Flash.jl:19.\n",
      "WARNING: Method definition value(AbstractArray{#T<:Any, N<:Any}) in module Flash at /home/rdeits/locomotion/explorations/point-cloud-signed-distance/packages/v0.5/Flash/src/Flash.jl:21 overwritten in module Flash at /home/rdeits/locomotion/explorations/point-cloud-signed-distance/packages/v0.5/Flash/src/Flash.jl:21.\n",
      "WARNING: Method definition value(CoordinateTransformations.AbstractAffineMap) in module Flash at /home/rdeits/locomotion/explorations/point-cloud-signed-distance/packages/v0.5/Flash/src/Flash.jl:22 overwritten in module Flash at /home/rdeits/locomotion/explorations/point-cloud-signed-distance/packages/v0.5/Flash/src/Flash.jl:22.\n"
     ]
    }
   ],
   "source": [
    "import Flash\n",
    "reload(\"Flash\")"
   ]
  },
  {
   "cell_type": "code",
   "execution_count": 3,
   "metadata": {
    "collapsed": false
   },
   "outputs": [
    {
     "data": {
      "text/plain": [
       "PointCloud with origin: [1.37689,0.775602,1.4848] containing 25164 points"
      ]
     },
     "execution_count": 3,
     "metadata": {},
     "output_type": "execute_result"
    }
   ],
   "source": [
    "squished = Flash.DepthData.read_point_cloud(open(\"data/squishable_squished_xyzrgb.txt\"))"
   ]
  },
  {
   "cell_type": "code",
   "execution_count": 4,
   "metadata": {
    "collapsed": true
   },
   "outputs": [],
   "source": [
    "Flash.DepthData.render_lcmgl(squished)"
   ]
  },
  {
   "cell_type": "code",
   "execution_count": 5,
   "metadata": {
    "collapsed": false
   },
   "outputs": [
    {
     "data": {
      "text/plain": [
       "PointCloud with origin: [1.38246,0.768824,1.48581] containing 25571 points"
      ]
     },
     "execution_count": 5,
     "metadata": {},
     "output_type": "execute_result"
    }
   ],
   "source": [
    "unsquished = Flash.DepthData.read_point_cloud(open(\"data/squishable_unsquished_xyzrgb.txt\"))"
   ]
  },
  {
   "cell_type": "code",
   "execution_count": 6,
   "metadata": {
    "collapsed": false
   },
   "outputs": [],
   "source": [
    "Flash.DepthData.render_lcmgl(unsquished)"
   ]
  },
  {
   "cell_type": "code",
   "execution_count": 7,
   "metadata": {
    "collapsed": false
   },
   "outputs": [
    {
     "data": {
      "text/plain": [
       "DrakeVisualizer.Visualizer(DrakeVisualizer.Robot(DrakeVisualizer.Link[DrakeVisualizer.Link(DrakeVisualizer.GeometryData[DrakeVisualizer.GeometryData{CoordinateTransformations.IdentityTransformation,GeometryTypes.HomogenousMesh{FixedSizeArrays.Point{3,Float64},GeometryTypes.Face{3,Int64,0},Void,Void,Void,Void,Void}}(HomogenousMesh(\n",
       "    vertices: 302xFixedSizeArrays.Point{3,Float64},     faces: 600xGeometryTypes.Face{3,Int64,0}, )\n",
       ",CoordinateTransformations.IdentityTransformation(),RGBA{Float64}(1.0,0.0,0.0,0.5))],\"skin_1\")]),1,PyLCM.LCM(PyObject <LCM object at 0x7f016ff7b510>))"
      ]
     },
     "execution_count": 7,
     "metadata": {},
     "output_type": "execute_result"
    }
   ],
   "source": [
    "model = Flash.Models.squishable()\n",
    "state = Flash.ManipulatorState(model)\n",
    "Flash.draw(state)"
   ]
  },
  {
   "cell_type": "code",
   "execution_count": 8,
   "metadata": {
    "collapsed": false
   },
   "outputs": [
    {
     "data": {
      "text/plain": [
       "(::#16) (generic function with 1 method)"
      ]
     },
     "execution_count": 8,
     "metadata": {},
     "output_type": "execute_result"
    }
   ],
   "source": [
    "point_cloud = unsquished\n",
    "Flash.DepthData.render_lcmgl(point_cloud)\n",
    "sensed_points = [p.position for p in point_cloud.points]\n",
    "\n",
    "cost = Flash.CostFunctor(model, sensed_points)\n",
    "\n",
    "wrapped_cost = x -> begin\n",
    "    x[1:4] = x[1:4] ./ norm(x[1:4])\n",
    "    c = cost(x)\n",
    "    Flash.draw(get(cost.state), false)\n",
    "    c\n",
    "end"
   ]
  },
  {
   "cell_type": "code",
   "execution_count": 9,
   "metadata": {
    "collapsed": false
   },
   "outputs": [
    {
     "data": {
      "text/plain": [
       "(::#29) (generic function with 1 method)"
      ]
     },
     "execution_count": 9,
     "metadata": {},
     "output_type": "execute_result"
    }
   ],
   "source": [
    "cost_and_gradient! = Flash.CostAndGradientFunctor(wrapped_cost)"
   ]
  },
  {
   "cell_type": "code",
   "execution_count": 10,
   "metadata": {
    "collapsed": false
   },
   "outputs": [
    {
     "data": {
      "text/plain": [
       "test_gradient_descent (generic function with 1 method)"
      ]
     },
     "execution_count": 10,
     "metadata": {},
     "output_type": "execute_result"
    }
   ],
   "source": [
    "trials = []\n",
    "\n",
    "\n",
    "function test_gradient_descent()\n",
    "    for i = 1:1\n",
    "        xs = []\n",
    "\n",
    "        # We'll initialize our estimate with a uniformly random pair\n",
    "        # of joint angles\n",
    "        x_estimated = Flash.flatten(Flash.ManipulatorState(model))\n",
    "        x_estimated[5:7] = [.5, 0, .5]\n",
    "        g = zeros(x_estimated)\n",
    "\n",
    "        # Now we use gradient descent to recover the joint angles\n",
    "        for i = 1:50\n",
    "            push!(xs, x_estimated)\n",
    "\n",
    "            # Evaluate the gradient of the point values w.r.t. the\n",
    "            # joint angles:\n",
    "            ci = cost_and_gradient!(g, x_estimated)\n",
    "\n",
    "            if any(isnan, g)\n",
    "                @show x_estimated\n",
    "                error(\"NaN in gradient\")\n",
    "            end\n",
    "            \n",
    "            # Descend the gradient\n",
    "            step = -ci ./ g\n",
    "            step[1:7] = sign(step[1:7]) .* min.(0.01, abs.(g[1:7]))\n",
    "            step[8:end] = sign(step[8:end]) .* min.(1e-5, abs.(g[8:end]))\n",
    "            x_estimated += step\n",
    "\n",
    "            # Descend the gradient\n",
    "#             x_estimated -= 0.0000002 * gi\n",
    "            \n",
    "            # TODO: generalize this\n",
    "            x_estimated[1:4] = x_estimated[1:4] / norm(x_estimated[1:4])\n",
    "        end\n",
    "        push!(trials, DataFrame(x=xs))\n",
    "    end\n",
    "end"
   ]
  },
  {
   "cell_type": "code",
   "execution_count": 11,
   "metadata": {
    "collapsed": false
   },
   "outputs": [
    {
     "name": "stdout",
     "output_type": "stream",
     "text": [
      "  7.016855 seconds (44.94 M allocations: 3.768 GB, 6.62% gc time)\n"
     ]
    },
    {
     "data": {
      "text/plain": [
       "DrakeVisualizer.Visualizer(DrakeVisualizer.Robot(DrakeVisualizer.Link[DrakeVisualizer.Link(DrakeVisualizer.GeometryData[DrakeVisualizer.GeometryData{CoordinateTransformations.IdentityTransformation,GeometryTypes.HomogenousMesh{FixedSizeArrays.Point{3,Float64},GeometryTypes.Face{3,Int64,0},Void,Void,Void,Void,Void}}(HomogenousMesh(\n",
       "    vertices: 298xFixedSizeArrays.Point{3,Float64},     faces: 592xGeometryTypes.Face{3,Int64,0}, )\n",
       ",CoordinateTransformations.IdentityTransformation(),RGBA{Float64}(1.0,0.0,0.0,0.5))],\"skin_1\")]),1,PyLCM.LCM(PyObject <LCM object at 0x7f016ff7b570>))"
      ]
     },
     "execution_count": 11,
     "metadata": {},
     "output_type": "execute_result"
    }
   ],
   "source": [
    "test_gradient_descent()\n",
    "@time test_gradient_descent()\n",
    "state = Flash.ManipulatorState(model)\n",
    "Flash.unflatten!(state, trials[1][:x][end])\n",
    "Flash.draw(state)"
   ]
  },
  {
   "cell_type": "code",
   "execution_count": 12,
   "metadata": {
    "collapsed": false
   },
   "outputs": [],
   "source": [
    "x0 = Flash.flatten(Flash.ManipulatorState(model))\n",
    "num_vars = length(x0)\n",
    "solver = IpoptSolver(print_level=1, max_iter=20)\n",
    "cost_functor = wrapped_cost\n",
    "gradient_functor = Flash.CostAndGradientFunctor(Flash.CostFunctor(model, sensed_points))\n",
    "m = getmodel(GradientDescent(cost_functor, gradient_functor), num_vars, solver)\n",
    "setwarmstart!(m, x0);"
   ]
  },
  {
   "cell_type": "code",
   "execution_count": 13,
   "metadata": {
    "collapsed": false
   },
   "outputs": [
    {
     "name": "stdout",
     "output_type": "stream",
     "text": [
      "\n",
      "******************************************************************************\n",
      "This program contains Ipopt, a library for large-scale nonlinear optimization.\n",
      " Ipopt is released as open source code under the Eclipse Public License (EPL).\n",
      "         For more information visit http://projects.coin-or.org/Ipopt\n",
      "******************************************************************************\n",
      "\n"
     ]
    },
    {
     "data": {
      "text/plain": [
       "DrakeVisualizer.Visualizer(DrakeVisualizer.Robot(DrakeVisualizer.Link[DrakeVisualizer.Link(DrakeVisualizer.GeometryData[DrakeVisualizer.GeometryData{CoordinateTransformations.IdentityTransformation,GeometryTypes.HomogenousMesh{FixedSizeArrays.Point{3,Float64},GeometryTypes.Face{3,Int64,0},Void,Void,Void,Void,Void}}(HomogenousMesh(\n",
       "    vertices: 167015xFixedSizeArrays.Point{3,Float64},     faces: 332384xGeometryTypes.Face{3,Int64,0}, )\n",
       ",CoordinateTransformations.IdentityTransformation(),RGBA{Float64}(1.0,0.0,0.0,0.5))],\"skin_1\")]),1,PyLCM.LCM(PyObject <LCM object at 0x7f016ff7b6c0>))"
      ]
     },
     "execution_count": 13,
     "metadata": {},
     "output_type": "execute_result"
    }
   ],
   "source": [
    "optimize!(m)\n",
    "x = getsolution(m)\n",
    "state = Flash.ManipulatorState(model)\n",
    "Flash.unflatten!(state, x)\n",
    "Flash.draw(state)"
   ]
  },
  {
   "cell_type": "code",
   "execution_count": 14,
   "metadata": {
    "collapsed": true
   },
   "outputs": [],
   "source": []
  }
 ],
 "metadata": {
  "kernelspec": {
   "display_name": "Julia 0.5.0",
   "language": "julia",
   "name": "julia-0.5"
  },
  "language_info": {
   "file_extension": ".jl",
   "mimetype": "application/julia",
   "name": "julia",
   "version": "0.5.0"
  }
 },
 "nbformat": 4,
 "nbformat_minor": 1
}
