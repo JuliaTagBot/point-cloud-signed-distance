{
 "cells": [
  {
   "cell_type": "code",
   "execution_count": 1,
   "metadata": {
    "collapsed": false
   },
   "outputs": [
    {
     "data": {
      "text/plain": [
       "5-element Array{ByteString,1}:\n",
       " \"/Applications/Julia-0.4.5.app/Contents/Resources/julia/local/share/julia/site/v0.4\"\n",
       " \"/Applications/Julia-0.4.5.app/Contents/Resources/julia/share/julia/site/v0.4\"      \n",
       " \"/Users/rdeits/6.338/hw2\"                                                           \n",
       " \"/Users/rdeits/6.338/julia-mindstorms-mapping\"                                      \n",
       " \"submodules\"                                                                        "
      ]
     },
     "execution_count": 1,
     "metadata": {},
     "output_type": "execute_result"
    }
   ],
   "source": [
    "push!(LOAD_PATH, \"submodules\")"
   ]
  },
  {
   "cell_type": "code",
   "execution_count": 2,
   "metadata": {
    "collapsed": false
   },
   "outputs": [
    {
     "data": {
      "text/html": [
       "<script charset=\"utf-8\">(function ($, undefined) {\n",
       "\n",
       "    function createElem(tag, attr, content) {\n",
       "\t// TODO: remove jQuery dependency\n",
       "\tvar el = $(\"<\" + tag + \"/>\").attr(attr);\n",
       "\tif (content) {\n",
       "\t    el.append(content);\n",
       "\t}\n",
       "\treturn el[0];\n",
       "    }\n",
       "\n",
       "    // A widget must expose an id field which identifies it to the backend,\n",
       "    // an elem attribute which is will be added to the DOM, and\n",
       "    // a getState() method which returns the value to be sent to the backend\n",
       "    // a sendUpdate() method which sends its current value to the backend\n",
       "    var Widget = {\n",
       "\tid: undefined,\n",
       "\telem: undefined,\n",
       "\tlabel: undefined,\n",
       "\tgetState: function () {\n",
       "\t    return this.elem.value;\n",
       "\t},\n",
       "\tsendUpdate: undefined\n",
       "    };\n",
       "\n",
       "    var Slider = function (typ, id, init) {\n",
       "\tvar attr = { type:  \"range\",\n",
       "\t\t     value: init.value,\n",
       "\t\t     min:   init.min,\n",
       "\t\t     max:   init.max,\n",
       "\t\t     step:  init.step },\n",
       "\t    elem = createElem(\"input\", attr),\n",
       "\t    self = this;\n",
       "\n",
       "\telem.onchange = function () {\n",
       "\t    self.sendUpdate();\n",
       "\t}\n",
       "\n",
       "\tthis.id = id;\n",
       "\tthis.elem = elem;\n",
       "\tthis.label = init.label;\n",
       "\n",
       "\tInputWidgets.commInitializer(this); // Initialize communication\n",
       "    }\n",
       "    Slider.prototype = Widget;\n",
       "\n",
       "    var Checkbox = function (typ, id, init) {\n",
       "\tvar attr = { type: \"checkbox\",\n",
       "\t\t     checked: init.value },\n",
       "\t    elem = createElem(\"input\", attr),\n",
       "\t    self = this;\n",
       "\n",
       "\tthis.getState = function () {\n",
       "\t    return elem.checked;\n",
       "\t}\n",
       "\telem.onchange = function () {\n",
       "\t    self.sendUpdate();\n",
       "\t}\n",
       "\n",
       "\tthis.id = id;\n",
       "\tthis.elem = elem;\n",
       "\tthis.label = init.label;\n",
       "\n",
       "\tInputWidgets.commInitializer(this);\n",
       "    }\n",
       "    Checkbox.prototype = Widget;\n",
       "\n",
       "    var Button = function (typ, id, init) {\n",
       "\tvar attr = { type:    \"button\",\n",
       "\t\t     value:   init.label },\n",
       "\t    elem = createElem(\"input\", attr),\n",
       "\t    self = this;\n",
       "\tthis.getState = function () {\n",
       "\t    return null;\n",
       "\t}\n",
       "\telem.onclick = function () {\n",
       "\t    self.sendUpdate();\n",
       "\t}\n",
       "\n",
       "\tthis.id = id;\n",
       "\tthis.elem = elem;\n",
       "\tthis.label = init.label;\n",
       "\n",
       "\tInputWidgets.commInitializer(this);\n",
       "    }\n",
       "    Button.prototype = Widget;\n",
       "\n",
       "    var Text = function (typ, id, init) {\n",
       "\tvar attr = { type:  \"text\",\n",
       "\t\t     placeholder: init.label,\n",
       "\t\t     value: init.value },\n",
       "\t    elem = createElem(\"input\", attr),\n",
       "\t    self = this;\n",
       "\tthis.getState = function () {\n",
       "\t    return elem.value;\n",
       "\t}\n",
       "\telem.onkeyup = function () {\n",
       "\t    self.sendUpdate();\n",
       "\t}\n",
       "\n",
       "\tthis.id = id;\n",
       "\tthis.elem = elem;\n",
       "\tthis.label = init.label;\n",
       "\n",
       "\tInputWidgets.commInitializer(this);\n",
       "    }\n",
       "    Text.prototype = Widget;\n",
       "\n",
       "    var Textarea = function (typ, id, init) {\n",
       "\tvar attr = { placeholder: init.label },\n",
       "\t    elem = createElem(\"textarea\", attr, init.value),\n",
       "\t    self = this;\n",
       "\tthis.getState = function () {\n",
       "\t    return elem.value;\n",
       "\t}\n",
       "\telem.onchange = function () {\n",
       "\t    self.sendUpdate();\n",
       "\t}\n",
       "\n",
       "\tthis.id = id;\n",
       "\tthis.elem = elem;\n",
       "\tthis.label = init.label;\n",
       "\n",
       "\tInputWidgets.commInitializer(this);\n",
       "    }\n",
       "    Textarea.prototype = Widget;\n",
       "\n",
       "    // RadioButtons\n",
       "    // Dropdown\n",
       "    // HTML\n",
       "    // Latex\n",
       "\n",
       "    var InputWidgets = {\n",
       "\tSlider: Slider,\n",
       "\tCheckbox: Checkbox,\n",
       "\tButton: Button,\n",
       "\tText: Text,\n",
       "\tTextarea: Textarea,\n",
       "\tdebug: false,\n",
       "\tlog: function () {\n",
       "\t    if (InputWidgets.debug) {\n",
       "\t\tconsole.log.apply(console, arguments);\n",
       "\t    }\n",
       "\t},\n",
       "\t// a central way to initalize communication\n",
       "\t// for widgets.\n",
       "\tcommInitializer: function (widget) {\n",
       "\t    widget.sendUpdate = function () {};\n",
       "\t}\n",
       "    };\n",
       "\n",
       "    window.InputWidgets = InputWidgets;\n",
       "\n",
       "})(jQuery, undefined);\n",
       "</script>"
      ]
     },
     "metadata": {},
     "output_type": "display_data"
    },
    {
     "data": {
      "text/html": [
       "<div id=\"interact-js-shim\">\n",
       "    <script charset=\"utf-8\">\n",
       "(function (IPython, $, _, MathJax, Widgets) {\n",
       "    $.event.special.destroyed = {\n",
       "\tremove: function(o) {\n",
       "\t    if (o.handler) {\n",
       "\t\to.handler.apply(this, arguments)\n",
       "\t    }\n",
       "\t}\n",
       "    }\n",
       "\n",
       "    var OutputArea = IPython.version >= \"4.0.0\" ? require(\"notebook/js/outputarea\").OutputArea : IPython.OutputArea;\n",
       "\n",
       "    var redrawValue = function (container, type, val) {\n",
       "\tvar selector = $(\"<div/>\");\n",
       "\tvar oa = new OutputArea(_.extend(selector, {\n",
       "\t    selector: selector,\n",
       "\t    prompt_area: true,\n",
       "\t    events: IPython.events,\n",
       "\t    keyboard_manager: IPython.keyboard_manager\n",
       "\t})); // Hack to work with IPython 2.1.0\n",
       "\n",
       "\tswitch (type) {\n",
       "\tcase \"image/png\":\n",
       "            var _src = 'data:' + type + ';base64,' + val;\n",
       "\t    $(container).find(\"img\").attr('src', _src);\n",
       "\t    break;\n",
       "\tdefault:\n",
       "\t    var toinsert = OutputArea.append_map[type].apply(\n",
       "\t\toa, [val, {}, selector]\n",
       "\t    );\n",
       "\t    $(container).empty().append(toinsert.contents());\n",
       "\t    selector.remove();\n",
       "\t}\n",
       "\tif (type === \"text/latex\" && MathJax) {\n",
       "\t    MathJax.Hub.Queue([\"Typeset\", MathJax.Hub, toinsert.get(0)]);\n",
       "\t}\n",
       "    }\n",
       "\n",
       "\n",
       "    $(document).ready(function() {\n",
       "\tWidgets.debug = false; // log messages etc in console.\n",
       "\tfunction initComm(evt, data) {\n",
       "\t    var comm_manager = data.kernel.comm_manager;\n",
       "        //_.extend(comm_manager.targets, require(\"widgets/js/widget\"))\n",
       "\t    comm_manager.register_target(\"Signal\", function (comm) {\n",
       "            comm.on_msg(function (msg) {\n",
       "                //Widgets.log(\"message received\", msg);\n",
       "                var val = msg.content.data.value;\n",
       "                $(\".signal-\" + comm.comm_id).each(function() {\n",
       "                var type = $(this).data(\"type\");\n",
       "                if (val[type]) {\n",
       "                    redrawValue(this, type, val[type], type);\n",
       "                }\n",
       "                });\n",
       "                delete val;\n",
       "                delete msg.content.data.value;\n",
       "            });\n",
       "\t    });\n",
       "\n",
       "\t    // coordingate with Comm and redraw Signals\n",
       "\t    // XXX: Test using Reactive here to improve performance\n",
       "\t    $([IPython.events]).on(\n",
       "\t\t'output_appended.OutputArea', function (event, type, value, md, toinsert) {\n",
       "\t\t    if (md && md.reactive) {\n",
       "                // console.log(md.comm_id);\n",
       "                toinsert.addClass(\"signal-\" + md.comm_id);\n",
       "                toinsert.data(\"type\", type);\n",
       "                // Signal back indicating the mimetype required\n",
       "                var comm_manager = IPython.notebook.kernel.comm_manager;\n",
       "                var comm = comm_manager.comms[md.comm_id];\n",
       "                comm.then(function (c) {\n",
       "                    c.send({action: \"subscribe_mime\",\n",
       "                       mime: type});\n",
       "                    toinsert.bind(\"destroyed\", function() {\n",
       "                        c.send({action: \"unsubscribe_mime\",\n",
       "                               mime: type});\n",
       "                    });\n",
       "                })\n",
       "\t\t    }\n",
       "\t    });\n",
       "\t}\n",
       "\n",
       "\ttry {\n",
       "\t    // try to initialize right away. otherwise, wait on the status_started event.\n",
       "\t    initComm(undefined, IPython.notebook);\n",
       "\t} catch (e) {\n",
       "\t    $([IPython.events]).on('kernel_created.Kernel kernel_created.Session', initComm);\n",
       "\t}\n",
       "    });\n",
       "})(IPython, jQuery, _, MathJax, InputWidgets);\n",
       "</script>\n",
       "    <script>\n",
       "        window.interactLoadedFlag = true\n",
       "       $(\"#interact-js-shim\").bind(\"destroyed\", function () {\n",
       "           if (window.interactLoadedFlag) {\n",
       "               console.warn(\"JavaScript required by Interact will be removed if you remove this cell or run using Interact more than once.\")\n",
       "           }\n",
       "       })\n",
       "       $([IPython.events]).on(\"kernel_starting.Kernel kernel_restarting.Kernel\", function () { window.interactLoadedFlag = false })\n",
       "   </script>\n",
       "</div>"
      ]
     },
     "metadata": {},
     "output_type": "display_data"
    }
   ],
   "source": [
    "using RigidBodyDynamics\n",
    "import Quaternions: axis, angle, qrotation\n",
    "using FixedSizeArrays\n",
    "using DrakeVisualizer\n",
    "using AffineTransforms\n",
    "import GeometryTypes\n",
    "import DataStructures: OrderedDict\n",
    "using Interact"
   ]
  },
  {
   "cell_type": "code",
   "execution_count": 12,
   "metadata": {
    "collapsed": false
   },
   "outputs": [
    {
     "data": {
      "text/plain": [
       "Vertex: world (root)\n",
       "  Vertex: body1, Edge: joint1\n",
       "    Vertex: body2, Edge: joint2\n",
       "      Vertex: body3, Edge: joint3"
      ]
     },
     "execution_count": 12,
     "metadata": {},
     "output_type": "execute_result"
    }
   ],
   "source": [
    "mechanism = rand_chain_mechanism(Float64, QuaternionFloating, Revolute{Float64}, Revolute{Float64})"
   ]
  },
  {
   "cell_type": "code",
   "execution_count": 4,
   "metadata": {
    "collapsed": false
   },
   "outputs": [],
   "source": [
    "mechanism = Mechanism{Float64}(\"world\")\n",
    "world = root_body(mechanism)\n",
    "body1 = RigidBody(rand(SpatialInertia{Float64}, CartesianFrame3D(\"body1\")));\n",
    "joint1 = Joint(\"1\", Revolute(Vec(0.,0,1)));\n",
    "jointToWorld = Transform3D{Float64}(joint1.frameBefore, world.frame)\n",
    "bodyToJoint1 = Transform3D{Float64}(body1.frame, joint1.frameAfter)\n",
    "attach!(mechanism, world, joint1, jointToWorld, body1, bodyToJoint1);\n",
    "\n",
    "body2 = RigidBody(rand(SpatialInertia{Float64}, CartesianFrame3D(\"body2\")));\n",
    "joint2 = Joint(\"2\", Revolute(Vec(0.,0,1)));\n",
    "jointToBody1 = Transform3D(joint2.frameBefore, body1.frame, Vec(1.,0,0))\n",
    "bodyToJoint2 = Transform3D{Float64}(body2.frame, joint2.frameAfter)\n",
    "attach!(mechanism, body1, joint2, jointToBody1, body2, bodyToJoint2);"
   ]
  },
  {
   "cell_type": "code",
   "execution_count": 5,
   "metadata": {
    "collapsed": false
   },
   "outputs": [
    {
     "data": {
      "text/plain": [
       "create_geometry (generic function with 2 methods)"
      ]
     },
     "execution_count": 5,
     "metadata": {},
     "output_type": "execute_result"
    }
   ],
   "source": [
    "function rotation_from_x_axis{T}(translation::Vec{3, T})\n",
    "    xhat = Vec{3, T}(1, 0, 0)\n",
    "    v = translation / norm(translation)\n",
    "    costheta = dot(xhat, v)\n",
    "    p = cross(xhat, v)\n",
    "    sintheta = norm(p)\n",
    "    axis = p / sintheta\n",
    "    angle = atan2(sintheta, costheta)\n",
    "    qrotation(convert(Vector, axis), angle)\n",
    "end\n",
    "\n",
    "function create_geometry(mechanism, box_width=0.05)\n",
    "    vis_data = OrderedDict{RigidBody, Link}()\n",
    "    for vertex in mechanism.toposortedTree\n",
    "        if vertex.vertexData == root_body(mechanism)\n",
    "            continue\n",
    "        end\n",
    "        geometries = [GeometryData(GeometryTypes.HyperRectangle(Vec(-0.05, -0.05, -0.05), Vec(0.1, 0.1, 0.1)))]\n",
    "        for child in vertex.children\n",
    "            joint = child.edgeToParentData\n",
    "            joint_to_joint = mechanism.jointToJointTransforms[joint]\n",
    "            @show joint_to_joint\n",
    "            q = rotation_from_x_axis(joint_to_joint.trans)\n",
    "            joint_to_geometry_origin = tformrotate(axis(q), angle(q))\n",
    "            geom_length = norm(joint_to_joint.trans)\n",
    "            push!(geometries, GeometryData(GeometryTypes.HyperRectangle(Vec(0., -box_width/2, -box_width/2), Vec(geom_length, box_width, box_width)), joint_to_geometry_origin))\n",
    "#             push!(geometries, GeometryData(GeometryTypes.HyperRectangle(Vec(0., 0, 0), joint_to_joint.trans)))\n",
    "        end\n",
    "        vis_data[vertex.vertexData] = Link(geometries, vertex.vertexData.frame.name)\n",
    "    end\n",
    "    vis_data\n",
    "end"
   ]
  },
  {
   "cell_type": "code",
   "execution_count": 13,
   "metadata": {
    "collapsed": false
   },
   "outputs": [
    {
     "name": "stdout",
     "output_type": "stream",
     "text": [
      "joint_to_joint = Transform3D from \"before_joint2\" to \"after_joint1\":\n",
      "rotation: 2.604653472356928 rad about [0.7431266539927648,-0.2277234928724935,-0.6292096525955947], translation: Vec(0.2728863088998501,0.37428294740511636,0.9637211878424714)\n",
      "\n",
      "joint_to_joint = Transform3D from \"before_joint3\" to \"after_joint2\":\n",
      "rotation: 5.486617661988928 rad about [-0.7032778183080688,0.5908966546922374,0.3952738971262407], translation: Vec(0.3473329461559027,0.999547767874772,0.1558776686837251)\n",
      "\n"
     ]
    },
    {
     "data": {
      "text/plain": [
       "DataStructures.OrderedDict{RigidBodyDynamics.RigidBody{T<:Real},DrakeVisualizer.Link} with 3 entries:\n",
       "  RigidBody: \"body1\" => DrakeVisualizer.Link(DrakeVisualizer.GeometryData[Drake…\n",
       "  RigidBody: \"body2\" => DrakeVisualizer.Link(DrakeVisualizer.GeometryData[Drake…\n",
       "  RigidBody: \"body3\" => DrakeVisualizer.Link(DrakeVisualizer.GeometryData[Drake…"
      ]
     },
     "execution_count": 13,
     "metadata": {},
     "output_type": "execute_result"
    }
   ],
   "source": [
    "vis_data = create_geometry(mechanism)"
   ]
  },
  {
   "cell_type": "code",
   "execution_count": 14,
   "metadata": {
    "collapsed": false
   },
   "outputs": [],
   "source": [
    "model = load(collect(values(vis_data)));"
   ]
  },
  {
   "cell_type": "code",
   "execution_count": 15,
   "metadata": {
    "collapsed": false
   },
   "outputs": [],
   "source": [
    "state = MechanismState{Float64}(mechanism)\n",
    "zero!(state)\n",
    "cache = MechanismStateCache(mechanism, state);"
   ]
  },
  {
   "cell_type": "code",
   "execution_count": 16,
   "metadata": {
    "collapsed": false
   },
   "outputs": [
    {
     "data": {
      "text/plain": [
       "draw_mechanism (generic function with 1 method)"
      ]
     },
     "execution_count": 16,
     "metadata": {},
     "output_type": "execute_result"
    }
   ],
   "source": [
    "function draw_mechanism(model, vis_data, cache)\n",
    "    origin_transforms = Vector{AffineTransform}()\n",
    "    for body in keys(vis_data)\n",
    "        T = transform_to_root(cache, body.frame)\n",
    "        push!(origin_transforms, tformtranslate(convert(Vector, T.trans)) * tformrotate(axis(T.rot), angle(T.rot)))\n",
    "    end\n",
    "    draw(model, origin_transforms)\n",
    "end\n",
    "        "
   ]
  },
  {
   "cell_type": "code",
   "execution_count": 17,
   "metadata": {
    "collapsed": false
   },
   "outputs": [],
   "source": [
    "draw_mechanism(model, vis_data, cache)"
   ]
  },
  {
   "cell_type": "code",
   "execution_count": 20,
   "metadata": {
    "collapsed": false
   },
   "outputs": [
    {
     "data": {
      "text/html": [],
      "text/plain": [
       "Interact.Slider{Float64}(Signal{Float64}(-0.06411413578754688, nactions=0),\"q2\",-0.06411413578754688,linspace(-3.141592653589793,3.141592653589793,50),true)"
      ]
     },
     "metadata": {},
     "output_type": "display_data"
    },
    {
     "data": {
      "text/plain": [
       "nothing"
      ]
     },
     "execution_count": 20,
     "metadata": {
      "comm_id": "4d9c7064-2b1d-42d8-9cbd-ff6d5282fd64",
      "reactive": true
     },
     "output_type": "execute_result"
    }
   ],
   "source": [
    "state = MechanismState{Float64}(mechanism)\n",
    "zero!(state)\n",
    "\n",
    "joint = mechanism.toposortedTree[4].edgeToParentData\n",
    "@manipulate for q2 in linspace(-pi, pi)\n",
    "    state.q[joint] = [q2]\n",
    "    cache = MechanismStateCache(mechanism, state);\n",
    "    draw_mechanism(model, vis_data, cache)\n",
    "end\n"
   ]
  },
  {
   "cell_type": "code",
   "execution_count": null,
   "metadata": {
    "collapsed": true
   },
   "outputs": [],
   "source": []
  }
 ],
 "metadata": {
  "kernelspec": {
   "display_name": "Julia 0.4.5",
   "language": "julia",
   "name": "julia-0.4"
  },
  "language_info": {
   "file_extension": ".jl",
   "mimetype": "application/julia",
   "name": "julia",
   "version": "0.4.5"
  }
 },
 "nbformat": 4,
 "nbformat_minor": 0
}
