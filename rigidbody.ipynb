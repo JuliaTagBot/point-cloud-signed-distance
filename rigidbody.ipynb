{
 "cells": [
  {
   "cell_type": "code",
   "execution_count": 1,
   "metadata": {
    "collapsed": false
   },
   "outputs": [
    {
     "data": {
      "text/plain": [
       "5-element Array{ByteString,1}:\n",
       " \"/Applications/Julia-0.4.5.app/Contents/Resources/julia/local/share/julia/site/v0.4\"\n",
       " \"/Applications/Julia-0.4.5.app/Contents/Resources/julia/share/julia/site/v0.4\"      \n",
       " \"/Users/rdeits/6.338/hw2\"                                                           \n",
       " \"/Users/rdeits/6.338/julia-mindstorms-mapping\"                                      \n",
       " \"submodules\"                                                                        "
      ]
     },
     "execution_count": 1,
     "metadata": {},
     "output_type": "execute_result"
    }
   ],
   "source": [
    "push!(LOAD_PATH, \"submodules\")"
   ]
  },
  {
   "cell_type": "code",
   "execution_count": 8,
   "metadata": {
    "collapsed": false
   },
   "outputs": [],
   "source": [
    "using RigidBodyDynamics\n",
    "using DrakeVisualizer\n",
    "import Quaternions: axis, angle, qrotation\n",
    "import FixedSizeArrays: Vec\n",
    "import AffineTransforms: AffineTransform, tformrotate, tformtranslate\n",
    "import GeometryTypes: HyperRectangle\n",
    "import DataStructures: OrderedDict\n",
    "using Interact"
   ]
  },
  {
   "cell_type": "code",
   "execution_count": 9,
   "metadata": {
    "collapsed": false
   },
   "outputs": [
    {
     "data": {
      "text/plain": [
       "Vertex: world (root)\n",
       "  Vertex: body1, Edge: joint1\n",
       "    Vertex: body2, Edge: joint2\n",
       "      Vertex: body3, Edge: joint3\n",
       "        Vertex: body4, Edge: joint4"
      ]
     },
     "execution_count": 9,
     "metadata": {},
     "output_type": "execute_result"
    }
   ],
   "source": [
    "mechanism = rand_chain_mechanism(Float64, QuaternionFloating, Revolute{Float64}, Revolute{Float64}, Revolute{Float64})"
   ]
  },
  {
   "cell_type": "code",
   "execution_count": 10,
   "metadata": {
    "collapsed": false
   },
   "outputs": [
    {
     "data": {
      "text/plain": [
       "draw_mechanism (generic function with 1 method)"
      ]
     },
     "execution_count": 10,
     "metadata": {},
     "output_type": "execute_result"
    }
   ],
   "source": [
    "function rotation_from_x_axis{T}(translation::Vec{3, T})\n",
    "    xhat = Vec{3, T}(1, 0, 0)\n",
    "    v = translation / norm(translation)\n",
    "    costheta = dot(xhat, v)\n",
    "    p = cross(xhat, v)\n",
    "    sintheta = norm(p)\n",
    "    axis = p / sintheta\n",
    "    angle = atan2(sintheta, costheta)\n",
    "    qrotation(convert(Vector, axis), angle)\n",
    "end\n",
    "\n",
    "function create_geometry(mechanism, box_width=0.05)\n",
    "    vis_data = OrderedDict{RigidBody, Link}()\n",
    "    for vertex in mechanism.toposortedTree\n",
    "        if vertex.vertexData == root_body(mechanism)\n",
    "            continue\n",
    "        end\n",
    "        geometries = [GeometryData(HyperRectangle(Vec(-0.05, -0.05, -0.05), Vec(0.1, 0.1, 0.1)))]\n",
    "        for child in vertex.children\n",
    "            joint = child.edgeToParentData\n",
    "            joint_to_joint = mechanism.jointToJointTransforms[joint]\n",
    "            q = rotation_from_x_axis(joint_to_joint.trans)\n",
    "            joint_to_geometry_origin = tformrotate(axis(q), angle(q))\n",
    "            geom_length = norm(joint_to_joint.trans)\n",
    "            push!(geometries, GeometryData(HyperRectangle(Vec(0., -box_width/2, -box_width/2), Vec(geom_length, box_width, box_width)), joint_to_geometry_origin))\n",
    "        end\n",
    "        vis_data[vertex.vertexData] = Link(geometries, vertex.vertexData.frame.name)\n",
    "    end\n",
    "    vis_data\n",
    "end\n",
    "\n",
    "function draw_mechanism(model, vis_data, cache)\n",
    "    origin_transforms = Vector{AffineTransform}()\n",
    "    for body in keys(vis_data)\n",
    "        T = transform_to_root(cache, body.frame)\n",
    "        push!(origin_transforms, tformtranslate(convert(Vector, T.trans)) * tformrotate(axis(T.rot), angle(T.rot)))\n",
    "    end\n",
    "    draw(model, origin_transforms)\n",
    "end\n"
   ]
  },
  {
   "cell_type": "code",
   "execution_count": 11,
   "metadata": {
    "collapsed": false
   },
   "outputs": [],
   "source": [
    "vis_data = create_geometry(mechanism)\n",
    "model = Visualizer(collect(values(vis_data)));\n",
    "\n",
    "state = MechanismState{Float64}(mechanism)\n",
    "zero!(state)\n",
    "cache = MechanismStateCache(mechanism, state);"
   ]
  },
  {
   "cell_type": "code",
   "execution_count": 12,
   "metadata": {
    "collapsed": false
   },
   "outputs": [],
   "source": [
    "draw_mechanism(model, vis_data, cache)"
   ]
  },
  {
   "cell_type": "code",
   "execution_count": 13,
   "metadata": {
    "collapsed": false
   },
   "outputs": [
    {
     "data": {
      "text/html": [],
      "text/plain": [
       "Interact.Slider{Float64}(Signal{Float64}(-0.06411413578754688, nactions=0),\"q1\",-0.06411413578754688,linspace(-3.141592653589793,3.141592653589793,50),true)"
      ]
     },
     "metadata": {},
     "output_type": "display_data"
    },
    {
     "data": {
      "text/html": [],
      "text/plain": [
       "Interact.Slider{Float64}(Signal{Float64}(-0.06411413578754688, nactions=0),\"q2\",-0.06411413578754688,linspace(-3.141592653589793,3.141592653589793,50),true)"
      ]
     },
     "metadata": {},
     "output_type": "display_data"
    },
    {
     "data": {
      "text/html": [],
      "text/plain": [
       "Interact.Slider{Float64}(Signal{Float64}(-0.06411413578754688, nactions=0),\"q3\",-0.06411413578754688,linspace(-3.141592653589793,3.141592653589793,50),true)"
      ]
     },
     "metadata": {},
     "output_type": "display_data"
    },
    {
     "data": {
      "text/plain": [
       "nothing"
      ]
     },
     "execution_count": 13,
     "metadata": {
      "comm_id": "3f6d5bb0-d283-45ba-bf9f-6a56a9fda9cc",
      "reactive": true
     },
     "output_type": "execute_result"
    }
   ],
   "source": [
    "state = MechanismState{Float64}(mechanism)\n",
    "zero!(state)\n",
    "\n",
    "@manipulate for q1 in linspace(-pi, pi), q2 in linspace(-pi, pi), q3 in linspace(-pi, pi)\n",
    "    state.q[mechanism.toposortedTree[3].edgeToParentData] = [q1]\n",
    "    state.q[mechanism.toposortedTree[4].edgeToParentData] = [q2]\n",
    "    state.q[mechanism.toposortedTree[5].edgeToParentData] = [q3]\n",
    "    cache = MechanismStateCache(mechanism, state);\n",
    "    draw_mechanism(model, vis_data, cache)\n",
    "end\n"
   ]
  },
  {
   "cell_type": "code",
   "execution_count": null,
   "metadata": {
    "collapsed": true
   },
   "outputs": [],
   "source": []
  }
 ],
 "metadata": {
  "kernelspec": {
   "display_name": "Julia 0.4.5",
   "language": "julia",
   "name": "julia-0.4"
  },
  "language_info": {
   "file_extension": ".jl",
   "mimetype": "application/julia",
   "name": "julia",
   "version": "0.4.5"
  }
 },
 "nbformat": 4,
 "nbformat_minor": 0
}
