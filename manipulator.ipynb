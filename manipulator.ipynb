{
 "cells": [
  {
   "cell_type": "code",
   "execution_count": 26,
   "metadata": {
    "collapsed": false
   },
   "outputs": [
    {
     "data": {
      "text/html": [
       "<script charset=\"utf-8\">(function ($, undefined) {\n",
       "\n",
       "    function createElem(tag, attr, content) {\n",
       "\t// TODO: remove jQuery dependency\n",
       "\tvar el = $(\"<\" + tag + \"/>\").attr(attr);\n",
       "\tif (content) {\n",
       "\t    el.append(content);\n",
       "\t}\n",
       "\treturn el[0];\n",
       "    }\n",
       "\n",
       "    // A widget must expose an id field which identifies it to the backend,\n",
       "    // an elem attribute which is will be added to the DOM, and\n",
       "    // a getState() method which returns the value to be sent to the backend\n",
       "    // a sendUpdate() method which sends its current value to the backend\n",
       "    var Widget = {\n",
       "\tid: undefined,\n",
       "\telem: undefined,\n",
       "\tlabel: undefined,\n",
       "\tgetState: function () {\n",
       "\t    return this.elem.value;\n",
       "\t},\n",
       "\tsendUpdate: undefined\n",
       "    };\n",
       "\n",
       "    var Slider = function (typ, id, init) {\n",
       "\tvar attr = { type:  \"range\",\n",
       "\t\t     value: init.value,\n",
       "\t\t     min:   init.min,\n",
       "\t\t     max:   init.max,\n",
       "\t\t     step:  init.step },\n",
       "\t    elem = createElem(\"input\", attr),\n",
       "\t    self = this;\n",
       "\n",
       "\telem.onchange = function () {\n",
       "\t    self.sendUpdate();\n",
       "\t}\n",
       "\n",
       "\tthis.id = id;\n",
       "\tthis.elem = elem;\n",
       "\tthis.label = init.label;\n",
       "\n",
       "\tInputWidgets.commInitializer(this); // Initialize communication\n",
       "    }\n",
       "    Slider.prototype = Widget;\n",
       "\n",
       "    var Checkbox = function (typ, id, init) {\n",
       "\tvar attr = { type: \"checkbox\",\n",
       "\t\t     checked: init.value },\n",
       "\t    elem = createElem(\"input\", attr),\n",
       "\t    self = this;\n",
       "\n",
       "\tthis.getState = function () {\n",
       "\t    return elem.checked;\n",
       "\t}\n",
       "\telem.onchange = function () {\n",
       "\t    self.sendUpdate();\n",
       "\t}\n",
       "\n",
       "\tthis.id = id;\n",
       "\tthis.elem = elem;\n",
       "\tthis.label = init.label;\n",
       "\n",
       "\tInputWidgets.commInitializer(this);\n",
       "    }\n",
       "    Checkbox.prototype = Widget;\n",
       "\n",
       "    var Button = function (typ, id, init) {\n",
       "\tvar attr = { type:    \"button\",\n",
       "\t\t     value:   init.label },\n",
       "\t    elem = createElem(\"input\", attr),\n",
       "\t    self = this;\n",
       "\tthis.getState = function () {\n",
       "\t    return null;\n",
       "\t}\n",
       "\telem.onclick = function () {\n",
       "\t    self.sendUpdate();\n",
       "\t}\n",
       "\n",
       "\tthis.id = id;\n",
       "\tthis.elem = elem;\n",
       "\tthis.label = init.label;\n",
       "\n",
       "\tInputWidgets.commInitializer(this);\n",
       "    }\n",
       "    Button.prototype = Widget;\n",
       "\n",
       "    var Text = function (typ, id, init) {\n",
       "\tvar attr = { type:  \"text\",\n",
       "\t\t     placeholder: init.label,\n",
       "\t\t     value: init.value },\n",
       "\t    elem = createElem(\"input\", attr),\n",
       "\t    self = this;\n",
       "\tthis.getState = function () {\n",
       "\t    return elem.value;\n",
       "\t}\n",
       "\telem.onkeyup = function () {\n",
       "\t    self.sendUpdate();\n",
       "\t}\n",
       "\n",
       "\tthis.id = id;\n",
       "\tthis.elem = elem;\n",
       "\tthis.label = init.label;\n",
       "\n",
       "\tInputWidgets.commInitializer(this);\n",
       "    }\n",
       "    Text.prototype = Widget;\n",
       "\n",
       "    var Textarea = function (typ, id, init) {\n",
       "\tvar attr = { placeholder: init.label },\n",
       "\t    elem = createElem(\"textarea\", attr, init.value),\n",
       "\t    self = this;\n",
       "\tthis.getState = function () {\n",
       "\t    return elem.value;\n",
       "\t}\n",
       "\telem.onchange = function () {\n",
       "\t    self.sendUpdate();\n",
       "\t}\n",
       "\n",
       "\tthis.id = id;\n",
       "\tthis.elem = elem;\n",
       "\tthis.label = init.label;\n",
       "\n",
       "\tInputWidgets.commInitializer(this);\n",
       "    }\n",
       "    Textarea.prototype = Widget;\n",
       "\n",
       "    // RadioButtons\n",
       "    // Dropdown\n",
       "    // HTML\n",
       "    // Latex\n",
       "\n",
       "    var InputWidgets = {\n",
       "\tSlider: Slider,\n",
       "\tCheckbox: Checkbox,\n",
       "\tButton: Button,\n",
       "\tText: Text,\n",
       "\tTextarea: Textarea,\n",
       "\tdebug: false,\n",
       "\tlog: function () {\n",
       "\t    if (InputWidgets.debug) {\n",
       "\t\tconsole.log.apply(console, arguments);\n",
       "\t    }\n",
       "\t},\n",
       "\t// a central way to initalize communication\n",
       "\t// for widgets.\n",
       "\tcommInitializer: function (widget) {\n",
       "\t    widget.sendUpdate = function () {};\n",
       "\t}\n",
       "    };\n",
       "\n",
       "    window.InputWidgets = InputWidgets;\n",
       "\n",
       "})(jQuery, undefined);\n",
       "</script>"
      ]
     },
     "metadata": {},
     "output_type": "display_data"
    },
    {
     "data": {
      "text/html": [
       "<div id=\"interact-js-shim\">\n",
       "    <script charset=\"utf-8\">\n",
       "(function (IPython, $, _, MathJax, Widgets) {\n",
       "    $.event.special.destroyed = {\n",
       "\tremove: function(o) {\n",
       "\t    if (o.handler) {\n",
       "\t\to.handler.apply(this, arguments)\n",
       "\t    }\n",
       "\t}\n",
       "    }\n",
       "\n",
       "    var OutputArea = IPython.version >= \"4.0.0\" ? require(\"notebook/js/outputarea\").OutputArea : IPython.OutputArea;\n",
       "\n",
       "    var redrawValue = function (container, type, val) {\n",
       "\tvar selector = $(\"<div/>\");\n",
       "\tvar oa = new OutputArea(_.extend(selector, {\n",
       "\t    selector: selector,\n",
       "\t    prompt_area: true,\n",
       "\t    events: IPython.events,\n",
       "\t    keyboard_manager: IPython.keyboard_manager\n",
       "\t})); // Hack to work with IPython 2.1.0\n",
       "\n",
       "\tswitch (type) {\n",
       "\tcase \"image/png\":\n",
       "            var _src = 'data:' + type + ';base64,' + val;\n",
       "\t    $(container).find(\"img\").attr('src', _src);\n",
       "\t    break;\n",
       "\tdefault:\n",
       "\t    var toinsert = OutputArea.append_map[type].apply(\n",
       "\t\toa, [val, {}, selector]\n",
       "\t    );\n",
       "\t    $(container).empty().append(toinsert.contents());\n",
       "\t    selector.remove();\n",
       "\t}\n",
       "\tif (type === \"text/latex\" && MathJax) {\n",
       "\t    MathJax.Hub.Queue([\"Typeset\", MathJax.Hub, toinsert.get(0)]);\n",
       "\t}\n",
       "    }\n",
       "\n",
       "\n",
       "    $(document).ready(function() {\n",
       "\tWidgets.debug = false; // log messages etc in console.\n",
       "\tfunction initComm(evt, data) {\n",
       "\t    var comm_manager = data.kernel.comm_manager;\n",
       "        //_.extend(comm_manager.targets, require(\"widgets/js/widget\"))\n",
       "\t    comm_manager.register_target(\"Signal\", function (comm) {\n",
       "            comm.on_msg(function (msg) {\n",
       "                //Widgets.log(\"message received\", msg);\n",
       "                var val = msg.content.data.value;\n",
       "                $(\".signal-\" + comm.comm_id).each(function() {\n",
       "                var type = $(this).data(\"type\");\n",
       "                if (val[type]) {\n",
       "                    redrawValue(this, type, val[type], type);\n",
       "                }\n",
       "                });\n",
       "                delete val;\n",
       "                delete msg.content.data.value;\n",
       "            });\n",
       "\t    });\n",
       "\n",
       "\t    // coordingate with Comm and redraw Signals\n",
       "\t    // XXX: Test using Reactive here to improve performance\n",
       "\t    $([IPython.events]).on(\n",
       "\t\t'output_appended.OutputArea', function (event, type, value, md, toinsert) {\n",
       "\t\t    if (md && md.reactive) {\n",
       "                // console.log(md.comm_id);\n",
       "                toinsert.addClass(\"signal-\" + md.comm_id);\n",
       "                toinsert.data(\"type\", type);\n",
       "                // Signal back indicating the mimetype required\n",
       "                var comm_manager = IPython.notebook.kernel.comm_manager;\n",
       "                var comm = comm_manager.comms[md.comm_id];\n",
       "                comm.then(function (c) {\n",
       "                    c.send({action: \"subscribe_mime\",\n",
       "                       mime: type});\n",
       "                    toinsert.bind(\"destroyed\", function() {\n",
       "                        c.send({action: \"unsubscribe_mime\",\n",
       "                               mime: type});\n",
       "                    });\n",
       "                })\n",
       "\t\t    }\n",
       "\t    });\n",
       "\t}\n",
       "\n",
       "\ttry {\n",
       "\t    // try to initialize right away. otherwise, wait on the status_started event.\n",
       "\t    initComm(undefined, IPython.notebook);\n",
       "\t} catch (e) {\n",
       "\t    $([IPython.events]).on('kernel_created.Kernel kernel_created.Session', initComm);\n",
       "\t}\n",
       "    });\n",
       "})(IPython, jQuery, _, MathJax, InputWidgets);\n",
       "</script>\n",
       "    <script>\n",
       "        window.interactLoadedFlag = true\n",
       "       $(\"#interact-js-shim\").bind(\"destroyed\", function () {\n",
       "           if (window.interactLoadedFlag) {\n",
       "               console.warn(\"JavaScript required by Interact will be removed if you remove this cell or run using Interact more than once.\")\n",
       "           }\n",
       "       })\n",
       "       $([IPython.events]).on(\"kernel_starting.Kernel kernel_restarting.Kernel\", function () { window.interactLoadedFlag = false })\n",
       "   </script>\n",
       "</div>"
      ]
     },
     "metadata": {},
     "output_type": "display_data"
    }
   ],
   "source": [
    "using Interact"
   ]
  },
  {
   "cell_type": "code",
   "execution_count": 1,
   "metadata": {
    "collapsed": true
   },
   "outputs": [],
   "source": [
    "import DrakeVisualizer"
   ]
  },
  {
   "cell_type": "code",
   "execution_count": 15,
   "metadata": {
    "collapsed": false
   },
   "outputs": [
    {
     "name": "stderr",
     "output_type": "stream",
     "text": [
      "WARNING: replacing module DrakeVisualizer\n",
      "WARNING: Method definition convert(Type{Array{#T<:Any, 1}}, Quaternions.Quaternion) in module DrakeVisualizer at /Users/rdeits/.julia/v0.4/DrakeVisualizer/src/DrakeVisualizer.jl:44 overwritten in module DrakeVisualizer at /Users/rdeits/.julia/v0.4/DrakeVisualizer/src/DrakeVisualizer.jl:44.\n",
      "WARNING: Method definition convert(Type{Array{#T1<:Any, 1}}, ColorTypes.Colorant{#T2<:Any, #N<:Any}) in module DrakeVisualizer at /Users/rdeits/.julia/v0.4/DrakeVisualizer/src/DrakeVisualizer.jl:45 overwritten in module DrakeVisualizer at /Users/rdeits/.julia/v0.4/DrakeVisualizer/src/DrakeVisualizer.jl:45.\n",
      "WARNING: Method definition convert(Type{ColorTypes.RGBA{#T1<:Any}}, Array{#T2<:Any, 1}) in module DrakeVisualizer at /Users/rdeits/.julia/v0.4/DrakeVisualizer/src/DrakeVisualizer.jl:46 overwritten in module DrakeVisualizer at /Users/rdeits/.julia/v0.4/DrakeVisualizer/src/DrakeVisualizer.jl:46.\n",
      "WARNING: Method definition convert(Type{Array{#T<:Any, 2}}, Array{FixedSizeArrays.Point{#N<:Any, #PointType<:Any}, 1}) in module DrakeVisualizer at /Users/rdeits/.julia/v0.4/DrakeVisualizer/src/DrakeVisualizer.jl:49 overwritten in module DrakeVisualizer at /Users/rdeits/.julia/v0.4/DrakeVisualizer/src/DrakeVisualizer.jl:49.\n",
      "WARNING: Method definition convert(Type{Array{#T<:Any, 2}}, Array{GeometryTypes.Face{#N<:Any, #FaceType<:Any, #Offset<:Any}, 1}) in module DrakeVisualizer at /Users/rdeits/.julia/v0.4/DrakeVisualizer/src/DrakeVisualizer.jl:59 overwritten in module DrakeVisualizer at /Users/rdeits/.julia/v0.4/DrakeVisualizer/src/DrakeVisualizer.jl:59.\n"
     ]
    },
    {
     "data": {
      "text/plain": [
       "0-element Array{Any,1}"
      ]
     },
     "execution_count": 15,
     "metadata": {},
     "output_type": "execute_result"
    }
   ],
   "source": [
    "reload(\"DrakeVisualizer\")"
   ]
  },
  {
   "cell_type": "code",
   "execution_count": 16,
   "metadata": {
    "collapsed": false
   },
   "outputs": [
    {
     "name": "stderr",
     "output_type": "stream",
     "text": [
      "WARNING: replacing module Arms\n"
     ]
    },
    {
     "data": {
      "text/plain": [
       "Arms"
      ]
     },
     "execution_count": 16,
     "metadata": {},
     "output_type": "execute_result"
    }
   ],
   "source": [
    "module Arms\n",
    "\n",
    "import DrakeVisualizer\n",
    "import DrakeVisualizer: GeometryData\n",
    "using AffineTransforms\n",
    "using GeometryTypes\n",
    "using PyCall\n",
    "import Base: convert\n",
    "\n",
    "function __init__()\n",
    "    const global spatial = pyimport(\"scipy.spatial\")\n",
    "end\n",
    "\n",
    "function convex_hull{T}(nodes::Vector{Point{3, T}})\n",
    "    hull = spatial[:ConvexHull](hcat(map(x -> convert(Vector, x), nodes)...)')\n",
    "    simplices = hull[:simplices]\n",
    "    simplices += 1\n",
    "\n",
    "    faces = Face{3, Int, 0}[]\n",
    "    # Reorient simplices so that normals always point out from the hull\n",
    "    for i = 1:size(simplices, 1)\n",
    "        v = Vector{T}[nodes[simplices[i, j]] for j in 1:size(simplices, 2)]\n",
    "\n",
    "        # Given a face of a convex hull, all of the points in the body must be on the same side of that face. So in theory, we just need to pick one point not on the face and check which side it's on. But to attempt to be robust to numerical issues, we'll actually sum the dot product with the normal for every point in the body, and check whether that sum is positive or negative. If this becomes a performance bottleneck, we can revisit it later.\n",
    "        n = Point{3, T}(cross(v[2] - v[1], v[3] - v[1]))\n",
    "        b = dot(n, nodes[simplices[i, 1]])\n",
    "        total = zero(T)\n",
    "        for j = 1:length(nodes)\n",
    "            total += dot(n, nodes[j]) - b\n",
    "        end\n",
    "        if total < 0\n",
    "            # Then the normal is pointing the right way\n",
    "            push!(faces, Face{3, Int, 0}((simplices[i,:])...))\n",
    "        else\n",
    "            # Otherwise the normal is pointing the wrong way, so we flip the face\n",
    "            push!(faces, Face{3, Int, 0}((simplices[i,end:-1:1])...))\n",
    "        end\n",
    "    end\n",
    "    return faces\n",
    "end\n",
    "\n",
    "type Link\n",
    "    length\n",
    "    surface_geometry::GeometryData\n",
    "    skeleton_points::Vector{Point{3, Float64}}\n",
    "end\n",
    "\n",
    "type PlanarArm\n",
    "    links::Vector{Link}\n",
    "end\n",
    "function two_link_arm()\n",
    "    links = Array{Link}(2)\n",
    "    \n",
    "    link_length = 1.0\n",
    "    radius = 0.1\n",
    "    for i = 1:2\n",
    "        surface_points = Point{3, Float64}[]\n",
    "        skeleton_points = Point{3, Float64}[]\n",
    "        for x = [0; link_length]\n",
    "            for y = [-radius; radius]\n",
    "                for z = [-radius; radius]\n",
    "                    push!(surface_points, Point{3, Float64}(x, y, z))\n",
    "                end\n",
    "            end\n",
    "        end\n",
    "        surface_geometry = HomogenousMesh(surface_points, convex_hull(surface_points))\n",
    "        surface_geometry_data = GeometryData(surface_geometry, tformeye(3))\n",
    "\n",
    "        for x = linspace(0, link_length, 3)\n",
    "            push!(skeleton_points, Point{3, Float64}(x, 0, 0))\n",
    "        end\n",
    "        links[i] = Link(link_length, surface_geometry_data, skeleton_points)\n",
    "    end\n",
    "    PlanarArm(links)\n",
    "end\n",
    "\n",
    "function link_origins(arm::PlanarArm, joint_angles)\n",
    "    transforms = Array{AffineTransform}(length(arm.links))\n",
    "    transforms[1] = tformrotate([0;0;1], joint_angles[1])\n",
    "    for i = 2:length(arm.links)\n",
    "        transforms[i] = transforms[i-1] * tformtranslate([arm.links[i-1].length; 0; 0]) * tformrotate([0.;0;1], joint_angles[i])\n",
    "    end\n",
    "    transforms\n",
    "end\n",
    "\n",
    "function convert(::Type{DrakeVisualizer.Robot}, arm::PlanarArm)\n",
    "    links = [DrakeVisualizer.Link([link.surface_geometry], \"link_$(i)\") for (i, link) in enumerate(arm.links)]\n",
    "    return DrakeVisualizer.Robot(links)\n",
    "end\n",
    "\n",
    "function skin(arm::PlanarArm)\n",
    "    \n",
    "    \n",
    "\n",
    "end"
   ]
  },
  {
   "cell_type": "code",
   "execution_count": 28,
   "metadata": {
    "collapsed": false
   },
   "outputs": [],
   "source": [
    "arm = Arms.two_link_arm();\n",
    "model = DrakeVisualizer.load(arm);"
   ]
  },
  {
   "cell_type": "code",
   "execution_count": 30,
   "metadata": {
    "collapsed": false
   },
   "outputs": [
    {
     "data": {
      "text/html": [],
      "text/plain": [
       "Interact.Slider{Float64}(Signal{Float64}(0.0, nactions=0),\"x1\",0.0,linspace(-3.141592653589793,3.141592653589793,101),true)"
      ]
     },
     "metadata": {},
     "output_type": "display_data"
    },
    {
     "data": {
      "text/html": [],
      "text/plain": [
       "Interact.Slider{Float64}(Signal{Float64}(0.0, nactions=0),\"x2\",0.0,linspace(-3.141592653589793,3.141592653589793,101),true)"
      ]
     },
     "metadata": {},
     "output_type": "display_data"
    },
    {
     "data": {
      "text/plain": [
       "nothing"
      ]
     },
     "execution_count": 30,
     "metadata": {
      "comm_id": "f18d401e-4e36-40a3-a20f-70cacd543544",
      "reactive": true
     },
     "output_type": "execute_result"
    }
   ],
   "source": [
    "@manipulate for x1 = linspace(-pi, pi, 101), x2 = linspace(-pi, pi, 101)\n",
    "    origins = Arms.link_origins(arm, [x1; x2])\n",
    "    DrakeVisualizer.draw(model, origins)\n",
    "end"
   ]
  },
  {
   "cell_type": "code",
   "execution_count": null,
   "metadata": {
    "collapsed": true
   },
   "outputs": [],
   "source": []
  }
 ],
 "metadata": {
  "kernelspec": {
   "display_name": "Julia 0.4.5",
   "language": "julia",
   "name": "julia-0.4"
  },
  "language_info": {
   "file_extension": ".jl",
   "mimetype": "application/julia",
   "name": "julia",
   "version": "0.4.5"
  }
 },
 "nbformat": 4,
 "nbformat_minor": 0
}
