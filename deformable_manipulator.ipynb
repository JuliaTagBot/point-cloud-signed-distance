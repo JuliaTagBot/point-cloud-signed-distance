{
 "cells": [
  {
   "cell_type": "code",
   "execution_count": 1,
   "metadata": {
    "collapsed": false
   },
   "outputs": [
    {
     "data": {
      "text/html": [
       "<div id=\"interact-js-shim\">\n",
       "    <script charset=\"utf-8\">\n",
       "(function (IPython, $, _, MathJax) {\n",
       "    $.event.special.destroyed = {\n",
       "\tremove: function(o) {\n",
       "\t    if (o.handler) {\n",
       "\t\to.handler.apply(this, arguments)\n",
       "\t    }\n",
       "\t}\n",
       "    }\n",
       "\n",
       "    var OutputArea = IPython.version >= \"4.0.0\" ? require(\"notebook/js/outputarea\").OutputArea : IPython.OutputArea;\n",
       "\n",
       "    var redrawValue = function (container, type, val) {\n",
       "\tvar selector = $(\"<div/>\");\n",
       "\tvar oa = new OutputArea(_.extend(selector, {\n",
       "\t    selector: selector,\n",
       "\t    prompt_area: true,\n",
       "\t    events: IPython.events,\n",
       "\t    keyboard_manager: IPython.keyboard_manager\n",
       "\t})); // Hack to work with IPython 2.1.0\n",
       "\n",
       "\tswitch (type) {\n",
       "\tcase \"image/png\":\n",
       "            var _src = 'data:' + type + ';base64,' + val;\n",
       "\t    $(container).find(\"img\").attr('src', _src);\n",
       "\t    break;\n",
       "\tdefault:\n",
       "\t    var toinsert = OutputArea.append_map[type].apply(\n",
       "\t\toa, [val, {}, selector]\n",
       "\t    );\n",
       "\t    $(container).empty().append(toinsert.contents());\n",
       "\t    selector.remove();\n",
       "\t}\n",
       "\tif (type === \"text/latex\" && MathJax) {\n",
       "\t    MathJax.Hub.Queue([\"Typeset\", MathJax.Hub, toinsert.get(0)]);\n",
       "\t}\n",
       "    }\n",
       "\n",
       "\n",
       "    $(document).ready(function() {\n",
       "\tfunction initComm(evt, data) {\n",
       "\t    var comm_manager = data.kernel.comm_manager;\n",
       "        //_.extend(comm_manager.targets, require(\"widgets/js/widget\"))\n",
       "\t    comm_manager.register_target(\"Signal\", function (comm) {\n",
       "            comm.on_msg(function (msg) {\n",
       "                //Widgets.log(\"message received\", msg);\n",
       "                var val = msg.content.data.value;\n",
       "                $(\".signal-\" + comm.comm_id).each(function() {\n",
       "                var type = $(this).data(\"type\");\n",
       "                if (val[type]) {\n",
       "                    redrawValue(this, type, val[type], type);\n",
       "                }\n",
       "                });\n",
       "                delete val;\n",
       "                delete msg.content.data.value;\n",
       "            });\n",
       "\t    });\n",
       "\n",
       "\t    // coordingate with Comm and redraw Signals\n",
       "\t    // XXX: Test using Reactive here to improve performance\n",
       "\t    $([IPython.events]).on(\n",
       "\t\t'output_appended.OutputArea', function (event, type, value, md, toinsert) {\n",
       "\t\t    if (md && md.reactive) {\n",
       "                // console.log(md.comm_id);\n",
       "                toinsert.addClass(\"signal-\" + md.comm_id);\n",
       "                toinsert.data(\"type\", type);\n",
       "                // Signal back indicating the mimetype required\n",
       "                var comm_manager = IPython.notebook.kernel.comm_manager;\n",
       "                var comm = comm_manager.comms[md.comm_id];\n",
       "                comm.then(function (c) {\n",
       "                    c.send({action: \"subscribe_mime\",\n",
       "                       mime: type});\n",
       "                    toinsert.bind(\"destroyed\", function() {\n",
       "                        c.send({action: \"unsubscribe_mime\",\n",
       "                               mime: type});\n",
       "                    });\n",
       "                })\n",
       "\t\t    }\n",
       "\t    });\n",
       "\t}\n",
       "\n",
       "\ttry {\n",
       "\t    // try to initialize right away. otherwise, wait on the status_started event.\n",
       "\t    initComm(undefined, IPython.notebook);\n",
       "\t} catch (e) {\n",
       "\t    $([IPython.events]).on('kernel_created.Kernel kernel_created.Session', initComm);\n",
       "\t}\n",
       "    });\n",
       "})(IPython, jQuery, _, MathJax);\n",
       "</script>\n",
       "    <script>\n",
       "        window.interactLoadedFlag = true\n",
       "       $(\"#interact-js-shim\").bind(\"destroyed\", function () {\n",
       "           if (window.interactLoadedFlag) {\n",
       "               console.warn(\"JavaScript required by Interact will be removed if you remove this cell or run using Interact more than once.\")\n",
       "           }\n",
       "       })\n",
       "       $([IPython.events]).on(\"kernel_starting.Kernel kernel_restarting.Kernel\", function () { window.interactLoadedFlag = false })\n",
       "   </script>\n",
       "</div>"
      ]
     },
     "metadata": {},
     "output_type": "display_data"
    },
    {
     "name": "stderr",
     "output_type": "stream",
     "text": [
      "WARNING: Base.writemime is deprecated.\n",
      "  likely near /home/rdeits/locomotion/explorations/point-cloud-signed-distance/packages/v0.5/Interact/src/IJulia/setup.jl:116\n",
      "WARNING: Base.writemime is deprecated.\n",
      "  likely near /home/rdeits/locomotion/explorations/point-cloud-signed-distance/packages/v0.5/Interact/src/IJulia/setup.jl:116\n"
     ]
    }
   ],
   "source": [
    "import DataStructures: OrderedDict\n",
    "using RigidBodyDynamics\n",
    "using StaticArrays\n",
    "using CoordinateTransformations\n",
    "using Interact\n",
    "using LCMGL\n",
    "using ForwardDiff\n",
    "using DataFrames, DataArrays"
   ]
  },
  {
   "cell_type": "code",
   "execution_count": 2,
   "metadata": {
    "collapsed": false
   },
   "outputs": [
    {
     "data": {
      "text/plain": [
       "DepthSensors"
      ]
     },
     "execution_count": 2,
     "metadata": {},
     "output_type": "execute_result"
    }
   ],
   "source": [
    "include(\"arms.jl\")\n",
    "include(\"depth_sensors.jl\")"
   ]
  },
  {
   "cell_type": "code",
   "execution_count": 3,
   "metadata": {
    "collapsed": false
   },
   "outputs": [
    {
     "data": {
      "text/plain": [
       "beanbag (generic function with 1 method)"
      ]
     },
     "execution_count": 3,
     "metadata": {},
     "output_type": "execute_result"
    }
   ],
   "source": [
    "function beanbag()\n",
    "    limbs = OrderedDict{RigidBody, Arms.Limb}()\n",
    "    \n",
    "    mechanism = Mechanism(RigidBody{Float64}(\"world\"))\n",
    "    parent = root_body(mechanism)\n",
    "    \n",
    "    joint = Joint(\"joint1\", QuaternionFloating())\n",
    "    joint_to_parent = Transform3D(Float64, joint.frameBefore, parent.frame)\n",
    "    body = RigidBody(rand(SpatialInertia{Float64}, CartesianFrame3D(\"body1\")))\n",
    "    body_to_joint = Transform3D(Float64, body.frame, joint.frameAfter)\n",
    "    attach!(mechanism, parent, joint, joint_to_parent, body, body_to_joint)\n",
    "    \n",
    "    surface_points = Vector{Point3D}()\n",
    "    skeleton_points = [Point3D(body.frame, @SVector [0, 0, 0])]\n",
    "    for axis = 1:3\n",
    "        for s = [-1; 1]\n",
    "            x = [0., 0, 0]\n",
    "            x[axis] = s\n",
    "            push!(surface_points, Point3D(body.frame, SVector(x...)))\n",
    "        end\n",
    "    end\n",
    "    limbs[body] = Arms.Limb(surface_points, skeleton_points)\n",
    "    \n",
    "    Arms.Model(mechanism, limbs)\n",
    "end"
   ]
  },
  {
   "cell_type": "code",
   "execution_count": 4,
   "metadata": {
    "collapsed": false
   },
   "outputs": [
    {
     "data": {
      "text/plain": [
       "Arms.Model(Vertex: world (root)\n",
       "  Vertex: body1, Edge: joint1,DataStructures.OrderedDict{RigidBodyDynamics.RigidBody,Arms.Limb}(RigidBody: \"body1\"=>Arms.Limb(RigidBodyDynamics.Point3D[Point3D in \"body1\": [-1.0,0.0,0.0],Point3D in \"body1\": [1.0,0.0,0.0],Point3D in \"body1\": [0.0,-1.0,0.0],Point3D in \"body1\": [0.0,1.0,0.0],Point3D in \"body1\": [0.0,0.0,-1.0],Point3D in \"body1\": [0.0,0.0,1.0]],RigidBodyDynamics.Point3D[Point3D in \"body1\": [0,0,0]])))"
      ]
     },
     "execution_count": 4,
     "metadata": {},
     "output_type": "execute_result"
    }
   ],
   "source": [
    "model = beanbag()"
   ]
  },
  {
   "cell_type": "code",
   "execution_count": 5,
   "metadata": {
    "collapsed": false
   },
   "outputs": [
    {
     "data": {
      "text/plain": [
       "DrakeVisualizer.Visualizer(DrakeVisualizer.Robot(DrakeVisualizer.Link[DrakeVisualizer.Link(DrakeVisualizer.GeometryData[DrakeVisualizer.GeometryData{CoordinateTransformations.IdentityTransformation,GeometryTypes.HomogenousMesh{FixedSizeArrays.Point{3,Float64},GeometryTypes.Face{3,Int64,0},Void,Void,Void,Void,Void}}(HomogenousMesh(\n",
       "    vertices: 5966xFixedSizeArrays.Point{3,Float64},     faces: 11928xGeometryTypes.Face{3,Int64,0}, )\n",
       ",CoordinateTransformations.IdentityTransformation(),RGBA{Float64}(1.0,0.0,0.0,0.5))],\"skin\")]),1,PyLCM.LCM(PyObject <LCM object at 0x7f43946392d0>))"
      ]
     },
     "execution_count": 5,
     "metadata": {},
     "output_type": "execute_result"
    }
   ],
   "source": [
    "state = Arms.ModelState(model)\n",
    "Arms.draw(model, state)"
   ]
  },
  {
   "cell_type": "code",
   "execution_count": 6,
   "metadata": {
    "collapsed": false
   },
   "outputs": [
    {
     "data": {
      "text/plain": [
       "CartesianFrame3D: \"body1\""
      ]
     },
     "execution_count": 6,
     "metadata": {},
     "output_type": "execute_result"
    }
   ],
   "source": [
    "state.limb_deformations[1][1].frame"
   ]
  },
  {
   "cell_type": "code",
   "execution_count": 7,
   "metadata": {
    "collapsed": false
   },
   "outputs": [
    {
     "data": {
      "text/html": [],
      "text/plain": [
       "Interact.Slider{Float64}(Signal{Float64}(0.0, nactions=0),\"x\",0.0,linspace(-1.0,1.0,51),\".3f\",true)"
      ]
     },
     "metadata": {},
     "output_type": "display_data"
    },
    {
     "data": {
      "text/plain": [
       "DrakeVisualizer.Visualizer(DrakeVisualizer.Robot(DrakeVisualizer.Link[DrakeVisualizer.Link(DrakeVisualizer.GeometryData[DrakeVisualizer.GeometryData{CoordinateTransformations.IdentityTransformation,GeometryTypes.HomogenousMesh{FixedSizeArrays.Point{3,Float64},GeometryTypes.Face{3,Int64,0},Void,Void,Void,Void,Void}}(HomogenousMesh(\n",
       "    vertices: 5966xFixedSizeArrays.Point{3,Float64},     faces: 11928xGeometryTypes.Face{3,Int64,0}, )\n",
       ",CoordinateTransformations.IdentityTransformation(),RGBA{Float64}(1.0,0.0,0.0,0.5))],\"skin\")]),1,PyLCM.LCM(PyObject <LCM object at 0x7f4394639300>))"
      ]
     },
     "execution_count": 7,
     "metadata": {
      "comm_id": "9f38270b-7120-4b36-b325-2ddb49fdd773",
      "reactive": true
     },
     "output_type": "execute_result"
    }
   ],
   "source": [
    "joint_angles, deformations = Arms.zero_configuration(model)\n",
    "state = Arms.ModelState(model, joint_angles, deformations)\n",
    "@manipulate for x = linspace(-1, 1, 51)\n",
    "    state.limb_deformations[1][1] = FreeVector3D(model.mechanism.toposortedTree[2].vertexData.frame, @SVector [x, 0, 0])\n",
    "    Arms.draw(model, state)\n",
    "end"
   ]
  },
  {
   "cell_type": "code",
   "execution_count": 8,
   "metadata": {
    "collapsed": false
   },
   "outputs": [],
   "source": [
    "# Construct the sensor and draw its view rays for debugging\n",
    "sensor = DepthSensors.Kinect(80,80);\n",
    "camera_origin = @SVector [0., 0, 8]\n",
    "camera_tform = compose(Translation(camera_origin), LinearMap(AngleAxis(pi, 1, 0, 0)))\n",
    "# camera_origin = tformtranslate([0;0;8]) * tformrotate([pi;0;0])\n",
    "LCMGLClient(\"sensor_rays\") do lcmgl\n",
    "    LCMGL.color(lcmgl, 0, 1, 0)\n",
    "    begin_mode(lcmgl, LCMGL.LINES)\n",
    "    for ray in DepthSensors.rays_in_world(sensor, camera_tform)\n",
    "        vertex(lcmgl, camera_origin...)\n",
    "        vertex(lcmgl, (camera_origin + ray)...)\n",
    "    end\n",
    "    end_mode(lcmgl)\n",
    "    switch_buffer(lcmgl)\n",
    "end"
   ]
  },
  {
   "cell_type": "code",
   "execution_count": 9,
   "metadata": {
    "collapsed": false
   },
   "outputs": [
    {
     "data": {
      "text/plain": [
       "raycast (generic function with 1 method)"
      ]
     },
     "execution_count": 9,
     "metadata": {},
     "output_type": "execute_result"
    }
   ],
   "source": [
    "function raycast(model::Arms.Model, state::Arms.ModelState)\n",
    "    Arms.draw(model, state, true)\n",
    "    skin = Arms.skin(model, state)\n",
    "    \n",
    "    points = DepthSensors.raycast_points(skin, sensor, camera_tform)\n",
    "    LCMGLClient(\"raycast\") do lcmgl\n",
    "        LCMGL.color(lcmgl, 0, 1, 0)\n",
    "        point_size(lcmgl, 5)\n",
    "        begin_mode(lcmgl, LCMGL.POINTS)\n",
    "        for point in points\n",
    "            vertex(lcmgl, convert(Vector, point)...)\n",
    "        end\n",
    "        end_mode(lcmgl)\n",
    "        switch_buffer(lcmgl)\n",
    "    end\n",
    "    points\n",
    "end"
   ]
  },
  {
   "cell_type": "code",
   "execution_count": 10,
   "metadata": {
    "collapsed": false
   },
   "outputs": [
    {
     "data": {
      "text/plain": [
       "(::InterpolatingSurface) (generic function with 1 method)"
      ]
     },
     "execution_count": 10,
     "metadata": {},
     "output_type": "execute_result"
    }
   ],
   "source": [
    "joint_angles, deformations = Arms.zero_configuration(model)\n",
    "joint_angles[5:7] = 2*rand(3)\n",
    "for (i, limb_deformations) in enumerate(deformations)\n",
    "    for (j, deformation) in enumerate(limb_deformations)\n",
    "        deformations[i][j] = rand(SVector{3, Float64}) - 0.5\n",
    "    end\n",
    "end\n",
    "state = Arms.ModelState(model, joint_angles, deformations)\n",
    "skin = Arms.skin(model, state)"
   ]
  },
  {
   "cell_type": "code",
   "execution_count": 11,
   "metadata": {
    "collapsed": false
   },
   "outputs": [
    {
     "data": {
      "text/plain": [
       "unflatten (generic function with 1 method)"
      ]
     },
     "execution_count": 11,
     "metadata": {},
     "output_type": "execute_result"
    }
   ],
   "source": [
    "function flatten(state::Arms.ModelState)\n",
    "    data = configuration_vector(state.mechanism_state)\n",
    "    for limb_deformation in state.limb_deformations\n",
    "        for d in limb_deformation\n",
    "            for x in d.v\n",
    "                push!(data, x)\n",
    "            end\n",
    "        end\n",
    "    end\n",
    "    data\n",
    "end\n",
    "\n",
    "function unflatten(model::Arms.Model, state::Arms.ModelState, data)\n",
    "    nq = num_positions(state.mechanism_state)\n",
    "    set_configuration!(state.mechanism_state, data[1:nq])\n",
    "    \n",
    "    data_index = nq + 1;\n",
    "    for (i, (body, limb)) in enumerate(model.limbs)\n",
    "        limb_deformation = state.limb_deformations[i]\n",
    "        for (j, deformation) in enumerate(limb_deformation)\n",
    "            state.limb_deformations[i][j] = RigidBodyDynamics.FreeVector3D(body.frame, @SVector [data[data_index + i] for i in 0:2])\n",
    "            data_index += 3\n",
    "        end\n",
    "    end\n",
    "    @assert data_index == length(data) + 1\n",
    "    state\n",
    "end"
   ]
  },
  {
   "cell_type": "code",
   "execution_count": 12,
   "metadata": {
    "collapsed": false
   },
   "outputs": [
    {
     "data": {
      "text/plain": [
       "test_gradient_descent (generic function with 1 method)"
      ]
     },
     "execution_count": 12,
     "metadata": {},
     "output_type": "execute_result"
    }
   ],
   "source": [
    "joint_angles, deformations = Arms.zero_configuration(model)\n",
    "joint_angles[5:7] = rand(3)\n",
    "for (i, limb_deformations) in enumerate(deformations)\n",
    "    for (j, deformation) in enumerate(limb_deformations)\n",
    "        deformations[i][j] = 0.5*(rand(SVector{3, Float64}) - 0.5)\n",
    "    end\n",
    "end\n",
    "\n",
    "true_state = Arms.ModelState(model, joint_angles, deformations)\n",
    "x_true = flatten(true_state)\n",
    "\n",
    "\n",
    "\n",
    "sensed_points = raycast(model, true_state)\n",
    "\n",
    "x_ad = []\n",
    "state_ad = []\n",
    "\n",
    "cost = x -> begin\n",
    "    push!(x_ad, x)\n",
    "    state = Arms.ModelState(model, eltype(x), eltype(x))\n",
    "    unflatten(model, state, x)\n",
    "    push!(state_ad, state)\n",
    "    Arms.draw(model, state, false)\n",
    "    skin = Arms.skin(model, state)\n",
    "    raycast_cost = sum(point -> skin(point)^2, sensed_points)\n",
    "    deformation_cost = zero(eltype(x))\n",
    "    for ld in state.limb_deformations\n",
    "        for d in ld\n",
    "            deformation_cost += sum(d.v .^2)\n",
    "        end\n",
    "    end\n",
    "    return raycast_cost + 10*deformation_cost\n",
    "end\n",
    "\n",
    "# Use autodiff to prepare a function that will evaluate the gradient\n",
    "# of that cost:\n",
    "cost_and_gradient = x -> begin\n",
    "    out = GradientResult(x)\n",
    "    ForwardDiff.gradient!(out, cost, x)\n",
    "    ForwardDiff.value(out), ForwardDiff.gradient(out)\n",
    "end\n",
    "\n",
    "trials = []\n",
    "\n",
    "function test_gradient_descent()\n",
    "    for i = 1:1\n",
    "        xs = []\n",
    "\n",
    "        # We'll initialize our estimate with a uniformly random pair\n",
    "        # of joint angles\n",
    "        x_estimated = flatten(Arms.ModelState(model))\n",
    "\n",
    "        # Now we use gradient descent to recover the joint angles\n",
    "        for i = 1:500\n",
    "            push!(xs, x_estimated)\n",
    "\n",
    "            # Evaluate the gradient of the point values w.r.t. the\n",
    "            # joint angles:\n",
    "            ci, gi = cost_and_gradient(x_estimated)\n",
    "\n",
    "            if any(isnan, gi)\n",
    "                @show x_estimated\n",
    "                error(\"NaN in gradient\")\n",
    "            end\n",
    "\n",
    "            # Descend the gradient\n",
    "            x_estimated -= 0.002 * gi\n",
    "            \n",
    "            # TODO: generalize this\n",
    "            x_estimated[1:4] = x_estimated[1:4] / norm(x_estimated[1:4])\n",
    "        end\n",
    "        push!(trials, DataFrame(x=xs))\n",
    "    end\n",
    "end"
   ]
  },
  {
   "cell_type": "code",
   "execution_count": 13,
   "metadata": {
    "collapsed": false
   },
   "outputs": [
    {
     "data": {
      "text/plain": [
       "DrakeVisualizer.Visualizer(DrakeVisualizer.Robot(DrakeVisualizer.Link[DrakeVisualizer.Link(DrakeVisualizer.GeometryData[DrakeVisualizer.GeometryData{CoordinateTransformations.IdentityTransformation,GeometryTypes.HomogenousMesh{FixedSizeArrays.Point{3,Float64},GeometryTypes.Face{3,Int64,0},Void,Void,Void,Void,Void}}(HomogenousMesh(\n",
       "    vertices: 6040xFixedSizeArrays.Point{3,Float64},     faces: 12076xGeometryTypes.Face{3,Int64,0}, )\n",
       ",CoordinateTransformations.IdentityTransformation(),RGBA{Float64}(1.0,0.0,0.0,0.5))],\"skin\")]),1,PyLCM.LCM(PyObject <LCM object at 0x7f4394639450>))"
      ]
     },
     "execution_count": 13,
     "metadata": {},
     "output_type": "execute_result"
    }
   ],
   "source": [
    "test_gradient_descent()\n",
    "state = unflatten(model, Arms.ModelState(model), trials[1][:x][end])\n",
    "Arms.draw(model, state)"
   ]
  },
  {
   "cell_type": "code",
   "execution_count": null,
   "metadata": {
    "collapsed": true
   },
   "outputs": [],
   "source": []
  },
  {
   "cell_type": "code",
   "execution_count": null,
   "metadata": {
    "collapsed": true
   },
   "outputs": [],
   "source": []
  }
 ],
 "metadata": {
  "kernelspec": {
   "display_name": "Julia 0.5.0-rc3",
   "language": "julia",
   "name": "julia-0.5"
  },
  "language_info": {
   "file_extension": ".jl",
   "mimetype": "application/julia",
   "name": "julia",
   "version": "0.5.0"
  },
  "widgets": {
   "state": {
    "07e3b48e-b078-440c-b688-992374c64d15": {
     "views": [
      {
       "cell_index": 6
      }
     ]
    }
   },
   "version": "1.2.0"
  }
 },
 "nbformat": 4,
 "nbformat_minor": 0
}
