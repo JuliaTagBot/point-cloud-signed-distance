{
 "cells": [
  {
   "cell_type": "code",
   "execution_count": 180,
   "metadata": {
    "collapsed": false
   },
   "outputs": [],
   "source": [
    "using RigidBodyDynamics\n",
    "using GeometryTypes\n",
    "using AffineTransforms\n",
    "using LCMGL\n",
    "using Interact\n",
    "using ForwardDiff\n",
    "using DataFrames\n",
    "using SpatialFields\n",
    "import RigidBodyTreeInspector\n",
    "import DrakeVisualizer: Visualizer, draw\n",
    "import DataStructures: OrderedDict"
   ]
  },
  {
   "cell_type": "code",
   "execution_count": 181,
   "metadata": {
    "collapsed": false
   },
   "outputs": [
    {
     "name": "stderr",
     "output_type": "stream",
     "text": [
      "WARNING: replacing module Arms\n",
      "WARNING: Method definition convert(Type{AffineTransforms.AffineTransform}, RigidBodyDynamics.Transform3D) in module Arms at /home/rdeits/locomotion/explorations/point-cloud-signed-distance/arms.jl:15 overwritten in module Arms at /home/rdeits/locomotion/explorations/point-cloud-signed-distance/arms.jl:15.\n",
      "WARNING: Method definition value(Real) in module Arms at /home/rdeits/locomotion/explorations/point-cloud-signed-distance/arms.jl:17 overwritten in module Arms at /home/rdeits/locomotion/explorations/point-cloud-signed-distance/arms.jl:17.\n",
      "WARNING: Method definition value(AffineTransforms.AffineTransform{Float64, #N<:Any}) in module Arms at /home/rdeits/locomotion/explorations/point-cloud-signed-distance/arms.jl:18 overwritten in module Arms at /home/rdeits/locomotion/explorations/point-cloud-signed-distance/arms.jl:18.\n",
      "WARNING: Method definition value(AffineTransforms.AffineTransform{#T<:Any, #N<:Any}) in module Arms at /home/rdeits/locomotion/explorations/point-cloud-signed-distance/arms.jl:19 overwritten in module Arms at /home/rdeits/locomotion/explorations/point-cloud-signed-distance/arms.jl:19.\n",
      "WARNING: replacing module DepthSensors\n"
     ]
    },
    {
     "data": {
      "text/plain": [
       "DepthSensors"
      ]
     },
     "execution_count": 181,
     "metadata": {},
     "output_type": "execute_result"
    }
   ],
   "source": [
    "include(\"arms.jl\")\n",
    "include(\"depth_sensors.jl\")"
   ]
  },
  {
   "cell_type": "code",
   "execution_count": 209,
   "metadata": {
    "collapsed": false
   },
   "outputs": [
    {
     "data": {
      "text/plain": [
       "beanbag (generic function with 1 method)"
      ]
     },
     "execution_count": 209,
     "metadata": {},
     "output_type": "execute_result"
    }
   ],
   "source": [
    "function beanbag()\n",
    "    limbs = OrderedDict{RigidBody, Arms.Limb}()\n",
    "    \n",
    "    mechanism = Mechanism{Float64}(\"world\")\n",
    "    parent = root_body(mechanism)\n",
    "    \n",
    "    joint = Joint(\"joint1\", QuaternionFloating())\n",
    "    joint_to_parent = Transform3D(Float64, joint.frameBefore, parent.frame)\n",
    "    body = RigidBody(rand(SpatialInertia{Float64}, CartesianFrame3D(\"body1\")))\n",
    "    body_to_joint = Transform3D(Float64, body.frame, joint.frameAfter)\n",
    "    attach!(mechanism, parent, joint, joint_to_parent, body, body_to_joint)\n",
    "    \n",
    "    surface_points = Vector{Point3D}()\n",
    "    skeleton_points = [Point3D(body.frame, Vec(0.,0,0))]\n",
    "    for axis = Any[[1], [2], [3], [1,2], [1,3], [2,3]]\n",
    "        for s = [-1; 1]\n",
    "            x = [0.; 0; 0]\n",
    "            x[axis] = s\n",
    "            push!(surface_points, Point3D(body.frame, Vec(x)))\n",
    "        end\n",
    "    end\n",
    "    limbs[body] = Arms.Limb(surface_points, skeleton_points)\n",
    "    \n",
    "    Arms.Model(mechanism, limbs)\n",
    "end"
   ]
  },
  {
   "cell_type": "code",
   "execution_count": 212,
   "metadata": {
    "collapsed": false
   },
   "outputs": [
    {
     "data": {
      "text/plain": [
       "Arms.Model(Vertex: world (root)\n",
       "  Vertex: body1, Edge: joint1,DataStructures.OrderedDict{RigidBodyDynamics.RigidBody{T<:Real},Arms.Limb}(RigidBody: \"body1\"=>Arms.Limb(RigidBodyDynamics.Point3D[Point3D in \"body1\": Vec(-1.0,0.0,0.0),Point3D in \"body1\": Vec(1.0,0.0,0.0),Point3D in \"body1\": Vec(0.0,-1.0,0.0),Point3D in \"body1\": Vec(0.0,1.0,0.0),Point3D in \"body1\": Vec(0.0,0.0,-1.0),Point3D in \"body1\": Vec(0.0,0.0,1.0),Point3D in \"body1\": Vec(-1.0,-1.0,0.0),Point3D in \"body1\": Vec(1.0,1.0,0.0),Point3D in \"body1\": Vec(-1.0,0.0,-1.0),Point3D in \"body1\": Vec(1.0,0.0,1.0),Point3D in \"body1\": Vec(0.0,-1.0,-1.0),Point3D in \"body1\": Vec(0.0,1.0,1.0)],RigidBodyDynamics.Point3D[Point3D in \"body1\": Vec(0.0,0.0,0.0)])))"
      ]
     },
     "execution_count": 212,
     "metadata": {},
     "output_type": "execute_result"
    }
   ],
   "source": [
    "model = beanbag()"
   ]
  },
  {
   "cell_type": "code",
   "execution_count": 213,
   "metadata": {
    "collapsed": false
   },
   "outputs": [],
   "source": [
    "state = Arms.ModelState(model)\n",
    "draw(model, state)"
   ]
  },
  {
   "cell_type": "code",
   "execution_count": 214,
   "metadata": {
    "collapsed": false
   },
   "outputs": [
    {
     "data": {
      "text/plain": [
       "CartesianFrame3D: \"body1\""
      ]
     },
     "execution_count": 214,
     "metadata": {},
     "output_type": "execute_result"
    }
   ],
   "source": [
    "state.limb_deformations[1][1].frame"
   ]
  },
  {
   "cell_type": "code",
   "execution_count": 215,
   "metadata": {
    "collapsed": false
   },
   "outputs": [
    {
     "data": {
      "text/html": [],
      "text/plain": [
       "Interact.Slider{Float64}(Signal{Float64}(0.0, nactions=0),\"x\",0.0,linspace(-1.0,1.0,51),true)"
      ]
     },
     "metadata": {},
     "output_type": "display_data"
    },
    {
     "data": {
      "text/plain": [
       "nothing"
      ]
     },
     "execution_count": 215,
     "metadata": {
      "comm_id": "17f88ff2-a56f-4357-87ba-6da87d92bd1b",
      "reactive": true
     },
     "output_type": "execute_result"
    }
   ],
   "source": [
    "joint_angles, deformations = Arms.zero_configuration(model)\n",
    "state = Arms.ModelState(model, joint_angles, deformations)\n",
    "@manipulate for x = linspace(-1, 1, 51)\n",
    "    state.limb_deformations[1][1] = FreeVector3D(model.mechanism.toposortedTree[2].vertexData.frame, Vec(x, 0, 0))\n",
    "    draw(model, state)\n",
    "end"
   ]
  },
  {
   "cell_type": "code",
   "execution_count": 216,
   "metadata": {
    "collapsed": false
   },
   "outputs": [],
   "source": [
    "# Construct the sensor and draw its view rays for debugging\n",
    "sensor = DepthSensors.Kinect(80,80);\n",
    "camera_origin = tformtranslate([0;0;10]) * tformrotate([pi;0;0])\n",
    "LCMGLClient(\"sensor_rays\") do lcmgl\n",
    "    LCMGL.color(lcmgl, 0, 1, 0)\n",
    "    begin_mode(lcmgl, LCMGL.LINES)\n",
    "    for ray in sensor.rays\n",
    "        vertex(lcmgl, camera_origin.offset...)\n",
    "        vertex(lcmgl, (camera_origin.offset + camera_origin.scalefwd * convert(Vector, ray))...)\n",
    "    end\n",
    "    end_mode(lcmgl)\n",
    "    switch_buffer(lcmgl)\n",
    "end"
   ]
  },
  {
   "cell_type": "code",
   "execution_count": 217,
   "metadata": {
    "collapsed": false
   },
   "outputs": [
    {
     "data": {
      "text/plain": [
       "raycast (generic function with 10 methods)"
      ]
     },
     "execution_count": 217,
     "metadata": {},
     "output_type": "execute_result"
    }
   ],
   "source": [
    "function raycast(model::Arms.Model, state::Arms.ModelState)\n",
    "    draw(model, state, true)\n",
    "    skin = Arms.skin(model, state)\n",
    "    \n",
    "    points = DepthSensors.raycast_points(skin, sensor, camera_origin)\n",
    "    LCMGLClient(\"raycast\") do lcmgl\n",
    "        LCMGL.color(lcmgl, 0, 1, 0)\n",
    "        point_size(lcmgl, 5)\n",
    "        begin_mode(lcmgl, LCMGL.POINTS)\n",
    "        for point in points\n",
    "            vertex(lcmgl, convert(Vector, point)...)\n",
    "        end\n",
    "        end_mode(lcmgl)\n",
    "        switch_buffer(lcmgl)\n",
    "    end\n",
    "    points\n",
    "end"
   ]
  },
  {
   "cell_type": "code",
   "execution_count": 218,
   "metadata": {
    "collapsed": false
   },
   "outputs": [
    {
     "data": {
      "text/plain": [
       "SpatialFields.InterpolatingSurface{3,Float64,SpatialFields.XSquaredLogX}([0.005735340484620383,0.7041256259276711,0.271796481796155,0.049741618762791553,0.058906109302351774,-0.009606576198673833,0.007407439331499264,-0.12516034806348916,0.08573999890132918,-0.13907763363167897,-0.04683459791125678,0.26576001976313113,-1.1285334784644507],13-elementArray{FixedSizeArrays.Point{3,Float64},1}:\n",
       " Point(-0.3899001554598547,1.1834354367028566,1.1751020772575198)\n",
       " Point(1.8323239556834718,1.1282878703074126,0.8184683885856787)\n",
       " Point(0.973957314721644,0.13659077667214548,1.3621845239961767)\n",
       " Point(1.1323157588315815,2.337113319646515,0.7045512757039893)\n",
       " Point(1.3664864336403832,1.48641895374533,-0.4153327386260126)\n",
       " Point(0.9327613290266719,1.2237547838634606,1.9131257535944675)\n",
       " Point(-0.28244144832183204,0.15829537784093684,0.8122134217684922)\n",
       " Point(2.3014717832124694,1.7861701872737559,0.8168087001985276)\n",
       " Point(0.2620446099608449,0.7896734950290372,-0.5772872430120326)\n",
       " Point(2.4341836965435633,1.4092082593890016,1.465147237420084)\n",
       " Point(1.4512140916119776,-0.37853216119276656,-0.1381088587438175)\n",
       " Point(0.7479182324723128,1.685739241390996,1.5928827636796878)\n",
       " Point(1.0678521873853954,1.0150218999612357,0.9089617848122975)\n",
       ",MultiPoly.MPoly{Float64}(-0.6717611711403161 - 0.15069313550157837x - 0.021095444389207074y + 0.07385115393985281z),SpatialFields.XSquaredLogX())"
      ]
     },
     "execution_count": 218,
     "metadata": {},
     "output_type": "execute_result"
    }
   ],
   "source": [
    "joint_angles, deformations = Arms.zero_configuration(model)\n",
    "joint_angles[5:7] = 2*rand(3)\n",
    "for (i, limb_deformations) in enumerate(deformations)\n",
    "    for (j, deformation) in enumerate(limb_deformations)\n",
    "        deformations[i][j] = rand(Vec{3, Float64}) - 0.5\n",
    "    end\n",
    "end\n",
    "state = Arms.ModelState(model, joint_angles, deformations)\n",
    "skin = Arms.skin(model, state)"
   ]
  },
  {
   "cell_type": "code",
   "execution_count": 219,
   "metadata": {
    "collapsed": false
   },
   "outputs": [
    {
     "data": {
      "text/plain": [
       "448-element Array{FixedSizeArrays.Point{3,Float64},1}:\n",
       " Point(0.5154575469941564,2.2652689662426315,0.8264075153828383)  \n",
       " Point(0.6201021875970781,2.22966676479739,0.9705846936698066)    \n",
       " Point(0.7258162956979488,2.2082729075929564,1.0572227620812118)  \n",
       " Point(0.8317708910158254,2.1932181970324227,1.118189376516085)   \n",
       " Point(0.9377335451325407,2.1817245208565095,1.1647349757183143)  \n",
       " Point(1.0437045847889688,2.172668022063906,1.201410810022697)    \n",
       " Point(1.149859913015401,2.165683665764153,1.2296951503884994)    \n",
       " Point(1.2565120220980006,2.160768272239735,1.2496008736233577)   \n",
       " Point(1.364018918775055,2.1579916869418474,1.2608451286770297)   \n",
       " Point(1.4726217096341232,2.1572318142733913,1.2639223624644949)  \n",
       " Point(1.5822118165637493,2.1579233174596575,1.2611220025394037)  \n",
       " Point(1.6921110770761432,2.15892003535653,1.2570856236615366)    \n",
       " Point(1.8011000022336396,2.158704858317223,1.2579570197297567)   \n",
       " ⋮                                                                \n",
       " Point(0.4100201450061039,-0.3510205977041558,0.6179832200030457) \n",
       " Point(0.5230899487602113,-0.34830468180716795,0.6905737422836662)\n",
       " Point(0.6366983205528021,-0.3468697806278068,0.7289255285618861) \n",
       " Point(0.7512196375825089,-0.346297237009341,0.7442283736680135)  \n",
       " Point(0.8670809055709957,-0.3464127035494842,0.7411422042972191) \n",
       " Point(0.9848788840177964,-0.3471837192870086,0.7205346313103149) \n",
       " Point(1.105626937440896,-0.34872289132959133,0.6793959117443968) \n",
       " Point(1.2312705253636211,-0.3513659194657489,0.6087535207120212) \n",
       " Point(1.3660011449383753,-0.3559169522475896,0.48711431718718323)\n",
       " Point(0.7869256399522102,-0.5078597865384714,0.3042949812359943) \n",
       " Point(0.9063582701169911,-0.506946495310562,0.3217309007097313)  \n",
       " Point(1.0303136084099715,-0.5084801420421761,0.29245158640514113)"
      ]
     },
     "execution_count": 219,
     "metadata": {},
     "output_type": "execute_result"
    }
   ],
   "source": [
    "raycast(model, state)"
   ]
  },
  {
   "cell_type": "code",
   "execution_count": 220,
   "metadata": {
    "collapsed": false
   },
   "outputs": [
    {
     "data": {
      "text/plain": [
       "unflatten (generic function with 10 methods)"
      ]
     },
     "execution_count": 220,
     "metadata": {},
     "output_type": "execute_result"
    }
   ],
   "source": [
    "function flatten(state::Arms.ModelState)\n",
    "    data = vcat(values(state.mechanism_state.q)...)\n",
    "    for limb_deformation in state.limb_deformations\n",
    "        for d in limb_deformation\n",
    "            for x in d.v\n",
    "                push!(data, x)\n",
    "            end\n",
    "        end\n",
    "    end\n",
    "    data\n",
    "end\n",
    "\n",
    "function unflatten(model::Arms.Model, state::Arms.ModelState, data)\n",
    "    data_index = 1\n",
    "    for joint in keys(state.mechanism_state.q)\n",
    "        nq = RigidBodyDynamics.num_positions(joint)\n",
    "        state.mechanism_state.q[joint][:] = data[data_index:(data_index+nq-1)]\n",
    "        data_index += nq\n",
    "    end\n",
    "    for (i, (body, limb)) in enumerate(model.limbs)\n",
    "        limb_deformation = state.limb_deformations[i]\n",
    "        for (j, deformation) in enumerate(limb_deformation)\n",
    "            state.limb_deformations[i][j] = RigidBodyDynamics.FreeVector3D(body.frame, Vec(data[data_index:data_index+2]))\n",
    "            data_index += 3\n",
    "        end\n",
    "    end\n",
    "    @assert data_index == length(data) + 1\n",
    "    RigidBodyDynamics.setdirty!(state.mechanism_state)\n",
    "    state\n",
    "end"
   ]
  },
  {
   "cell_type": "code",
   "execution_count": 240,
   "metadata": {
    "collapsed": false
   },
   "outputs": [
    {
     "data": {
      "text/plain": [
       "test_gradient_descent (generic function with 1 method)"
      ]
     },
     "execution_count": 240,
     "metadata": {},
     "output_type": "execute_result"
    }
   ],
   "source": [
    "joint_angles, deformations = Arms.zero_configuration(model)\n",
    "joint_angles[5:7] = rand(3)\n",
    "for (i, limb_deformations) in enumerate(deformations)\n",
    "    for (j, deformation) in enumerate(limb_deformations)\n",
    "        deformations[i][j] = 0.5*(rand(Vec{3, Float64}) - 0.5)\n",
    "    end\n",
    "end\n",
    "\n",
    "true_state = Arms.ModelState(model, joint_angles, deformations)\n",
    "x_true = flatten(true_state)\n",
    "\n",
    "\n",
    "\n",
    "sensed_points = raycast(model, true_state)\n",
    "\n",
    "x_ad = []\n",
    "state_ad = []\n",
    "\n",
    "function cost{T}(x::Vector{T})\n",
    "    push!(x_ad, x)\n",
    "    state = Arms.ModelState(model, T, T)\n",
    "    unflatten(model, state, x)\n",
    "    push!(state_ad, state)\n",
    "    draw(model, state, false)\n",
    "    skin = Arms.skin(model, state)\n",
    "    raycast_cost = sum(point -> evaluate(skin, point)^2, sensed_points)\n",
    "    deformation_cost = zero(T)\n",
    "    for ld in state.limb_deformations\n",
    "        for d in ld\n",
    "            deformation_cost += sum(d.v .^2)\n",
    "        end\n",
    "    end\n",
    "    return raycast_cost + 100*deformation_cost\n",
    "end\n",
    "\n",
    "# Use autodiff to prepare a function that will evaluate the gradient\n",
    "# of that cost:\n",
    "g_cost = ForwardDiff.gradient(cost)\n",
    "\n",
    "trials = []\n",
    "\n",
    "function test_gradient_descent()\n",
    "    for i = 1:1\n",
    "        xs = []\n",
    "\n",
    "        # We'll initialize our estimate with a uniformly random pair\n",
    "        # of joint angles\n",
    "        x_estimated = flatten(Arms.ModelState(model))\n",
    "\n",
    "        # Now we use gradient descent to recover the joint angles\n",
    "        for i = 1:200\n",
    "            push!(xs, x_estimated)\n",
    "\n",
    "            # Evaluate the gradient of the point values w.r.t. the\n",
    "            # joint angles:\n",
    "            gi = g_cost(x_estimated)\n",
    "\n",
    "            if any(isnan, gi)\n",
    "                @show x_estimated\n",
    "                error(\"NaN in gradient\")\n",
    "            end\n",
    "\n",
    "            # Descend the gradient\n",
    "            x_estimated -= 0.0005 * gi\n",
    "        end\n",
    "        push!(trials, DataFrame(x=xs))\n",
    "    end\n",
    "end"
   ]
  },
  {
   "cell_type": "code",
   "execution_count": 241,
   "metadata": {
    "collapsed": false
   },
   "outputs": [],
   "source": [
    "test_gradient_descent()\n",
    "state = unflatten(model, Arms.ModelState(model), trials[1][:x][end])\n",
    "draw(model, state)"
   ]
  },
  {
   "cell_type": "code",
   "execution_count": null,
   "metadata": {
    "collapsed": true
   },
   "outputs": [],
   "source": []
  }
 ],
 "metadata": {
  "kernelspec": {
   "display_name": "Julia 0.4.5",
   "language": "julia",
   "name": "julia-0.4"
  },
  "language_info": {
   "file_extension": ".jl",
   "mimetype": "application/julia",
   "name": "julia",
   "version": "0.4.5"
  }
 },
 "nbformat": 4,
 "nbformat_minor": 0
}
