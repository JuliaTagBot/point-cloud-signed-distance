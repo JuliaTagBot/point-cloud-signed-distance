{
 "cells": [
  {
   "cell_type": "code",
   "execution_count": 40,
   "metadata": {
    "collapsed": false
   },
   "outputs": [],
   "source": [
    "using RigidBodyDynamics\n",
    "using GeometryTypes\n",
    "using Interact\n",
    "import RigidBodyTreeInspector\n",
    "import DrakeVisualizer: Visualizer, draw\n",
    "import DataStructures: OrderedDict"
   ]
  },
  {
   "cell_type": "code",
   "execution_count": 46,
   "metadata": {
    "collapsed": false
   },
   "outputs": [
    {
     "name": "stderr",
     "output_type": "stream",
     "text": [
      "WARNING: replacing module Arms\n",
      "WARNING: Method definition convert(Type{AffineTransforms.AffineTransform}, RigidBodyDynamics.Transform3D) in module Arms at /home/rdeits/locomotion/explorations/point-cloud-signed-distance/arms.jl:15 overwritten in module Arms at /home/rdeits/locomotion/explorations/point-cloud-signed-distance/arms.jl:15.\n",
      "WARNING: Method definition value(Real) in module Arms at /home/rdeits/locomotion/explorations/point-cloud-signed-distance/arms.jl:17 overwritten in module Arms at /home/rdeits/locomotion/explorations/point-cloud-signed-distance/arms.jl:17.\n",
      "WARNING: replacing module DepthSensors\n"
     ]
    },
    {
     "data": {
      "text/plain": [
       "DepthSensors"
      ]
     },
     "execution_count": 46,
     "metadata": {},
     "output_type": "execute_result"
    }
   ],
   "source": [
    "include(\"arms.jl\")\n",
    "include(\"depth_sensors.jl\")"
   ]
  },
  {
   "cell_type": "code",
   "execution_count": 47,
   "metadata": {
    "collapsed": false
   },
   "outputs": [
    {
     "data": {
      "text/plain": [
       "beanbag (generic function with 1 method)"
      ]
     },
     "execution_count": 47,
     "metadata": {},
     "output_type": "execute_result"
    }
   ],
   "source": [
    "function beanbag()\n",
    "    limbs = OrderedDict{RigidBody, Arms.Limb}()\n",
    "    \n",
    "    mechanism = Mechanism{Float64}(\"world\")\n",
    "    parent = root_body(mechanism)\n",
    "    \n",
    "    joint = Joint(\"joint1\", QuaternionFloating())\n",
    "    joint_to_parent = Transform3D(Float64, joint.frameBefore, parent.frame)\n",
    "    body = RigidBody(rand(SpatialInertia{Float64}, CartesianFrame3D(\"body1\")))\n",
    "    body_to_joint = Transform3D(Float64, body.frame, joint.frameAfter)\n",
    "    attach!(mechanism, parent, joint, joint_to_parent, body, body_to_joint)\n",
    "    \n",
    "    surface_points = Vector{Point3D}()\n",
    "    skeleton_points = [Point3D(body.frame, Vec(0.,0,0))]\n",
    "    for axis = 1:3\n",
    "        for s = [-1; 1]\n",
    "            x = [0.; 0; 0]\n",
    "            x[axis] = s\n",
    "            push!(surface_points, Point3D(body.frame, Vec(x)))\n",
    "        end\n",
    "    end\n",
    "    limbs[body] = Arms.Limb(surface_points, skeleton_points)\n",
    "    \n",
    "    Arms.Model(mechanism, limbs)\n",
    "end"
   ]
  },
  {
   "cell_type": "code",
   "execution_count": 48,
   "metadata": {
    "collapsed": false
   },
   "outputs": [
    {
     "data": {
      "text/plain": [
       "Arms.Model(Vertex: world (root)\n",
       "  Vertex: body1, Edge: joint1,DataStructures.OrderedDict{RigidBodyDynamics.RigidBody{T<:Real},Arms.Limb}(RigidBody: \"body1\"=>Arms.Limb(RigidBodyDynamics.Point3D[Point3D in \"body1\": Vec(-1.0,0.0,0.0),Point3D in \"body1\": Vec(1.0,0.0,0.0),Point3D in \"body1\": Vec(0.0,-1.0,0.0),Point3D in \"body1\": Vec(0.0,1.0,0.0),Point3D in \"body1\": Vec(0.0,0.0,-1.0),Point3D in \"body1\": Vec(0.0,0.0,1.0)],RigidBodyDynamics.Point3D[Point3D in \"body1\": Vec(0.0,0.0,0.0)])))"
      ]
     },
     "execution_count": 48,
     "metadata": {},
     "output_type": "execute_result"
    }
   ],
   "source": [
    "b = beanbag()"
   ]
  },
  {
   "cell_type": "code",
   "execution_count": 49,
   "metadata": {
    "collapsed": false
   },
   "outputs": [],
   "source": [
    "state = Arms.ModelState(b)\n",
    "draw(b, state)"
   ]
  },
  {
   "cell_type": "code",
   "execution_count": 53,
   "metadata": {
    "collapsed": false
   },
   "outputs": [
    {
     "data": {
      "text/html": [],
      "text/plain": [
       "Interact.Slider{Float64}(Signal{Float64}(0.0, nactions=0),\"x\",0.0,linspace(-1.0,1.0,51),true)"
      ]
     },
     "metadata": {},
     "output_type": "display_data"
    },
    {
     "data": {
      "text/plain": [
       "nothing"
      ]
     },
     "execution_count": 53,
     "metadata": {
      "comm_id": "4568500d-ba8c-4adc-9f6f-2e0c58b861ef",
      "reactive": true
     },
     "output_type": "execute_result"
    }
   ],
   "source": [
    "joint_angles, deformations = Arms.zero_configuration(b)\n",
    "state = Arms.ModelState(b, joint_angles, deformations)\n",
    "@manipulate for x = linspace(-1, 1, 51)\n",
    "    state.limb_deformations[1][1] = FreeVector3D(b.mechanism.toposortedTree[2].vertexData.frame, Vec(x, 0, 0))\n",
    "    draw(b, state)\n",
    "end"
   ]
  },
  {
   "cell_type": "code",
   "execution_count": null,
   "metadata": {
    "collapsed": true
   },
   "outputs": [],
   "source": []
  }
 ],
 "metadata": {
  "kernelspec": {
   "display_name": "Julia 0.4.5",
   "language": "julia",
   "name": "julia-0.4"
  },
  "language_info": {
   "file_extension": ".jl",
   "mimetype": "application/julia",
   "name": "julia",
   "version": "0.4.5"
  }
 },
 "nbformat": 4,
 "nbformat_minor": 0
}
