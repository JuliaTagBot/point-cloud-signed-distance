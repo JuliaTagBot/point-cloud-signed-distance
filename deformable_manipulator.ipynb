{
 "cells": [
  {
   "cell_type": "code",
   "execution_count": 341,
   "metadata": {
    "collapsed": false
   },
   "outputs": [],
   "source": [
    "using RigidBodyDynamics\n",
    "using GeometryTypes\n",
    "using AffineTransforms\n",
    "using LCMGL\n",
    "using Interact\n",
    "using ForwardDiff\n",
    "using DataFrames\n",
    "using SpatialFields\n",
    "import RigidBodyTreeInspector\n",
    "import DrakeVisualizer: Visualizer, draw\n",
    "import DataStructures: OrderedDict"
   ]
  },
  {
   "cell_type": "code",
   "execution_count": 342,
   "metadata": {
    "collapsed": false
   },
   "outputs": [
    {
     "name": "stderr",
     "output_type": "stream",
     "text": [
      "WARNING: replacing module Arms\n",
      "WARNING: Method definition convert(Type{AffineTransforms.AffineTransform}, RigidBodyDynamics.Transform3D) in module Arms at /home/rdeits/locomotion/explorations/point-cloud-signed-distance/arms.jl:16 overwritten in module Arms at /home/rdeits/locomotion/explorations/point-cloud-signed-distance/arms.jl:16.\n",
      "WARNING: Method definition value(Real) in module Arms at /home/rdeits/locomotion/explorations/point-cloud-signed-distance/arms.jl:18 overwritten in module Arms at /home/rdeits/locomotion/explorations/point-cloud-signed-distance/arms.jl:18.\n",
      "WARNING: Method definition value(AffineTransforms.AffineTransform{Float64, #N<:Any}) in module Arms at /home/rdeits/locomotion/explorations/point-cloud-signed-distance/arms.jl:19 overwritten in module Arms at /home/rdeits/locomotion/explorations/point-cloud-signed-distance/arms.jl:19.\n",
      "WARNING: Method definition value(AffineTransforms.AffineTransform{#T<:Any, #N<:Any}) in module Arms at /home/rdeits/locomotion/explorations/point-cloud-signed-distance/arms.jl:20 overwritten in module Arms at /home/rdeits/locomotion/explorations/point-cloud-signed-distance/arms.jl:20.\n",
      "WARNING: replacing module DepthSensors\n"
     ]
    },
    {
     "data": {
      "text/plain": [
       "DepthSensors"
      ]
     },
     "execution_count": 342,
     "metadata": {},
     "output_type": "execute_result"
    }
   ],
   "source": [
    "include(\"arms.jl\")\n",
    "include(\"depth_sensors.jl\")"
   ]
  },
  {
   "cell_type": "code",
   "execution_count": 357,
   "metadata": {
    "collapsed": false
   },
   "outputs": [
    {
     "data": {
      "text/plain": [
       "beanbag (generic function with 1 method)"
      ]
     },
     "execution_count": 357,
     "metadata": {},
     "output_type": "execute_result"
    }
   ],
   "source": [
    "function beanbag()\n",
    "    limbs = OrderedDict{RigidBody, Arms.Limb}()\n",
    "    \n",
    "    mechanism = Mechanism{Float64}(\"world\")\n",
    "    parent = root_body(mechanism)\n",
    "    \n",
    "    joint = Joint(\"joint1\", QuaternionFloating())\n",
    "    joint_to_parent = Transform3D(Float64, joint.frameBefore, parent.frame)\n",
    "    body = RigidBody(rand(SpatialInertia{Float64}, CartesianFrame3D(\"body1\")))\n",
    "    body_to_joint = Transform3D(Float64, body.frame, joint.frameAfter)\n",
    "    attach!(mechanism, parent, joint, joint_to_parent, body, body_to_joint)\n",
    "    \n",
    "    surface_points = Vector{Point3D}()\n",
    "    skeleton_points = [Point3D(body.frame, Vec(0.,0,0))]\n",
    "    for axis = 1:3\n",
    "        for s = [-1; 1]\n",
    "            x = [0.; 0; 0]\n",
    "            x[axis] = s\n",
    "            push!(surface_points, Point3D(body.frame, Vec(x)))\n",
    "        end\n",
    "    end\n",
    "    limbs[body] = Arms.Limb(surface_points, skeleton_points)\n",
    "    \n",
    "    Arms.Model(mechanism, limbs)\n",
    "end"
   ]
  },
  {
   "cell_type": "code",
   "execution_count": 358,
   "metadata": {
    "collapsed": false
   },
   "outputs": [
    {
     "data": {
      "text/plain": [
       "Arms.Model(Vertex: world (root)\n",
       "  Vertex: body1, Edge: joint1,DataStructures.OrderedDict{RigidBodyDynamics.RigidBody{T<:Real},Arms.Limb}(RigidBody: \"body1\"=>Arms.Limb(RigidBodyDynamics.Point3D[Point3D in \"body1\": Vec(-1.0,0.0,0.0),Point3D in \"body1\": Vec(1.0,0.0,0.0),Point3D in \"body1\": Vec(0.0,-1.0,0.0),Point3D in \"body1\": Vec(0.0,1.0,0.0),Point3D in \"body1\": Vec(0.0,0.0,-1.0),Point3D in \"body1\": Vec(0.0,0.0,1.0)],RigidBodyDynamics.Point3D[Point3D in \"body1\": Vec(0.0,0.0,0.0)])))"
      ]
     },
     "execution_count": 358,
     "metadata": {},
     "output_type": "execute_result"
    }
   ],
   "source": [
    "model = beanbag()"
   ]
  },
  {
   "cell_type": "code",
   "execution_count": 359,
   "metadata": {
    "collapsed": false
   },
   "outputs": [
    {
     "data": {
      "text/plain": [
       "DrakeVisualizer.Visualizer(DrakeVisualizer.Robot([DrakeVisualizer.Link(DrakeVisualizer.GeometryData[DrakeVisualizer.GeometryData{Float64,GeometryTypes.HomogenousMesh{FixedSizeArrays.Point{3,Float64},GeometryTypes.Face{3,Int64,0},Void,Void,Void,Void,Void}}(HomogenousMesh(\n",
       "    vertices: 5966xFixedSizeArrays.Point{3,Float64},     faces: 11928xGeometryTypes.Face{3,Int64,0}, )\n",
       ",AffineTransforms.AffineTransform{Float64,3}:\n",
       "matrix: 3x3 Array{Float64,2}:\n",
       " 1.0  0.0  0.0\n",
       " 0.0  1.0  0.0\n",
       " 0.0  0.0  1.0\n",
       "translation: [0.0,0.0,0.0]\n",
       ",RGBA{Float64}(1.0,0.0,0.0,0.5))],\"skin\")]),1,PyLCM.LCM(PyObject <LCM object at 0x7effc0a367e0>))"
      ]
     },
     "execution_count": 359,
     "metadata": {},
     "output_type": "execute_result"
    }
   ],
   "source": [
    "state = Arms.ModelState(model)\n",
    "draw(model, state)"
   ]
  },
  {
   "cell_type": "code",
   "execution_count": 360,
   "metadata": {
    "collapsed": false
   },
   "outputs": [
    {
     "data": {
      "text/plain": [
       "CartesianFrame3D: \"body1\""
      ]
     },
     "execution_count": 360,
     "metadata": {},
     "output_type": "execute_result"
    }
   ],
   "source": [
    "state.limb_deformations[1][1].frame"
   ]
  },
  {
   "cell_type": "code",
   "execution_count": 361,
   "metadata": {
    "collapsed": false
   },
   "outputs": [
    {
     "data": {
      "text/html": [],
      "text/plain": [
       "Interact.Slider{Float64}(Signal{Float64}(0.0, nactions=0),\"x\",0.0,linspace(-1.0,1.0,51),true)"
      ]
     },
     "metadata": {},
     "output_type": "display_data"
    },
    {
     "data": {
      "text/plain": [
       "DrakeVisualizer.Visualizer(DrakeVisualizer.Robot([DrakeVisualizer.Link(DrakeVisualizer.GeometryData[DrakeVisualizer.GeometryData{Float64,GeometryTypes.HomogenousMesh{FixedSizeArrays.Point{3,Float64},GeometryTypes.Face{3,Int64,0},Void,Void,Void,Void,Void}}(HomogenousMesh(\n",
       "    vertices: 5966xFixedSizeArrays.Point{3,Float64},     faces: 11928xGeometryTypes.Face{3,Int64,0}, )\n",
       ",AffineTransforms.AffineTransform{Float64,3}:\n",
       "matrix: 3x3 Array{Float64,2}:\n",
       " 1.0  0.0  0.0\n",
       " 0.0  1.0  0.0\n",
       " 0.0  0.0  1.0\n",
       "translation: [0.0,0.0,0.0]\n",
       ",RGBA{Float64}(1.0,0.0,0.0,0.5))],\"skin\")]),1,PyLCM.LCM(PyObject <LCM object at 0x7effc0a36ed0>))"
      ]
     },
     "execution_count": 361,
     "metadata": {
      "comm_id": "1d3432a3-970b-42c4-8431-d900d7bbfd87",
      "reactive": true
     },
     "output_type": "execute_result"
    }
   ],
   "source": [
    "joint_angles, deformations = Arms.zero_configuration(model)\n",
    "state = Arms.ModelState(model, joint_angles, deformations)\n",
    "@manipulate for x = linspace(-1, 1, 51)\n",
    "    state.limb_deformations[1][1] = FreeVector3D(model.mechanism.toposortedTree[2].vertexData.frame, Vec(x, 0, 0))\n",
    "    draw(model, state)\n",
    "end"
   ]
  },
  {
   "cell_type": "code",
   "execution_count": 390,
   "metadata": {
    "collapsed": false
   },
   "outputs": [],
   "source": [
    "# Construct the sensor and draw its view rays for debugging\n",
    "sensor = DepthSensors.Kinect(80,80);\n",
    "camera_origin = tformtranslate([0;0;8]) * tformrotate([pi;0;0])\n",
    "LCMGLClient(\"sensor_rays\") do lcmgl\n",
    "    LCMGL.color(lcmgl, 0, 1, 0)\n",
    "    begin_mode(lcmgl, LCMGL.LINES)\n",
    "    for ray in sensor.rays\n",
    "        vertex(lcmgl, camera_origin.offset...)\n",
    "        vertex(lcmgl, (camera_origin.offset + camera_origin.scalefwd * convert(Vector, ray))...)\n",
    "    end\n",
    "    end_mode(lcmgl)\n",
    "    switch_buffer(lcmgl)\n",
    "end"
   ]
  },
  {
   "cell_type": "code",
   "execution_count": 391,
   "metadata": {
    "collapsed": false
   },
   "outputs": [
    {
     "data": {
      "text/plain": [
       "raycast (generic function with 17 methods)"
      ]
     },
     "execution_count": 391,
     "metadata": {},
     "output_type": "execute_result"
    }
   ],
   "source": [
    "function raycast(model::Arms.Model, state::Arms.ModelState)\n",
    "    draw(model, state, true)\n",
    "    skin = Arms.skin(model, state)\n",
    "    \n",
    "    points = DepthSensors.raycast_points(skin, sensor, camera_origin)\n",
    "    LCMGLClient(\"raycast\") do lcmgl\n",
    "        LCMGL.color(lcmgl, 0, 1, 0)\n",
    "        point_size(lcmgl, 5)\n",
    "        begin_mode(lcmgl, LCMGL.POINTS)\n",
    "        for point in points\n",
    "            vertex(lcmgl, convert(Vector, point)...)\n",
    "        end\n",
    "        end_mode(lcmgl)\n",
    "        switch_buffer(lcmgl)\n",
    "    end\n",
    "    points\n",
    "end"
   ]
  },
  {
   "cell_type": "code",
   "execution_count": 392,
   "metadata": {
    "collapsed": false
   },
   "outputs": [
    {
     "data": {
      "text/plain": [
       "SpatialFields.InterpolatingSurface{3,Float64,SpatialFields.XSquaredLogX}([0.9427934116142082,0.3284196857048755,-0.06615259279209033,-0.11010562795842964,0.5466924016982715,0.08146585244565181,-1.723113130712487],7-elementArray{FixedSizeArrays.Point{3,Float64},1}:\n",
       " Point(0.7554867465565194,0.6094216130960253,1.8864941120228953)\n",
       " Point(2.2237201112892793,0.7179704671413012,1.9239193566112849)\n",
       " Point(1.1310120753903616,-0.7842325461255972,1.5190847551370816)\n",
       " Point(0.7951111597648939,1.6575509303329863,1.918518329905621)\n",
       " Point(1.4848242945363304,0.019659954969980298,1.0915858627808426)\n",
       " Point(1.2121473877175304,0.09931053118296473,2.8585215170654648)\n",
       " Point(1.2713654915136225,0.4054092559189906,1.6994413695236594)\n",
       ",MultiPoly.MPoly{Float64}(-0.46031098629401856 - 0.013326493877439068x - 0.08220929499530905y - 0.10485649752129579z),SpatialFields.XSquaredLogX())"
      ]
     },
     "execution_count": 392,
     "metadata": {},
     "output_type": "execute_result"
    }
   ],
   "source": [
    "joint_angles, deformations = Arms.zero_configuration(model)\n",
    "joint_angles[5:7] = 2*rand(3)\n",
    "for (i, limb_deformations) in enumerate(deformations)\n",
    "    for (j, deformation) in enumerate(limb_deformations)\n",
    "        deformations[i][j] = rand(Vec{3, Float64}) - 0.5\n",
    "    end\n",
    "end\n",
    "state = Arms.ModelState(model, joint_angles, deformations)\n",
    "skin = Arms.skin(model, state)"
   ]
  },
  {
   "cell_type": "code",
   "execution_count": 393,
   "metadata": {
    "collapsed": false
   },
   "outputs": [
    {
     "data": {
      "text/plain": [
       "unflatten (generic function with 17 methods)"
      ]
     },
     "execution_count": 393,
     "metadata": {},
     "output_type": "execute_result"
    }
   ],
   "source": [
    "function flatten(state::Arms.ModelState)\n",
    "    data = vcat(values(state.mechanism_state.q)...)\n",
    "    for limb_deformation in state.limb_deformations\n",
    "        for d in limb_deformation\n",
    "            for x in d.v\n",
    "                push!(data, x)\n",
    "            end\n",
    "        end\n",
    "    end\n",
    "    data\n",
    "end\n",
    "\n",
    "function unflatten(model::Arms.Model, state::Arms.ModelState, data)\n",
    "    data_index = 1\n",
    "    for joint in keys(state.mechanism_state.q)\n",
    "        nq = RigidBodyDynamics.num_positions(joint)\n",
    "        state.mechanism_state.q[joint][:] = data[data_index:(data_index+nq-1)]\n",
    "        data_index += nq\n",
    "    end\n",
    "    for (i, (body, limb)) in enumerate(model.limbs)\n",
    "        limb_deformation = state.limb_deformations[i]\n",
    "        for (j, deformation) in enumerate(limb_deformation)\n",
    "            state.limb_deformations[i][j] = RigidBodyDynamics.FreeVector3D(body.frame, Vec(data[data_index:data_index+2]))\n",
    "            data_index += 3\n",
    "        end\n",
    "    end\n",
    "    @assert data_index == length(data) + 1\n",
    "    RigidBodyDynamics.setdirty!(state.mechanism_state)\n",
    "    state\n",
    "end"
   ]
  },
  {
   "cell_type": "code",
   "execution_count": 428,
   "metadata": {
    "collapsed": false
   },
   "outputs": [
    {
     "data": {
      "text/plain": [
       "test_gradient_descent (generic function with 1 method)"
      ]
     },
     "execution_count": 428,
     "metadata": {},
     "output_type": "execute_result"
    }
   ],
   "source": [
    "joint_angles, deformations = Arms.zero_configuration(model)\n",
    "joint_angles[5:7] = rand(3)\n",
    "for (i, limb_deformations) in enumerate(deformations)\n",
    "    for (j, deformation) in enumerate(limb_deformations)\n",
    "        deformations[i][j] = 0.5*(rand(Vec{3, Float64}) - 0.5)\n",
    "    end\n",
    "end\n",
    "\n",
    "true_state = Arms.ModelState(model, joint_angles, deformations)\n",
    "x_true = flatten(true_state)\n",
    "\n",
    "\n",
    "\n",
    "sensed_points = raycast(model, true_state)\n",
    "\n",
    "x_ad = []\n",
    "state_ad = []\n",
    "\n",
    "function cost{T}(x::Vector{T})\n",
    "    push!(x_ad, x)\n",
    "    state = Arms.ModelState(model, T, T)\n",
    "    unflatten(model, state, x)\n",
    "    push!(state_ad, state)\n",
    "    draw(model, state, false)\n",
    "    skin = Arms.skin(model, state)\n",
    "    raycast_cost = sum(point -> evaluate(skin, point)^2, sensed_points)\n",
    "    deformation_cost = zero(T)\n",
    "    for ld in state.limb_deformations\n",
    "        for d in ld\n",
    "            deformation_cost += sum(d.v .^2)\n",
    "        end\n",
    "    end\n",
    "    return raycast_cost + 10*deformation_cost\n",
    "end\n",
    "\n",
    "# Use autodiff to prepare a function that will evaluate the gradient\n",
    "# of that cost:\n",
    "g_cost = ForwardDiff.gradient(cost)\n",
    "\n",
    "trials = []\n",
    "\n",
    "function test_gradient_descent()\n",
    "    for i = 1:1\n",
    "        xs = []\n",
    "\n",
    "        # We'll initialize our estimate with a uniformly random pair\n",
    "        # of joint angles\n",
    "        x_estimated = flatten(Arms.ModelState(model))\n",
    "\n",
    "        # Now we use gradient descent to recover the joint angles\n",
    "        for i = 1:500\n",
    "            push!(xs, x_estimated)\n",
    "\n",
    "            # Evaluate the gradient of the point values w.r.t. the\n",
    "            # joint angles:\n",
    "            gi = g_cost(x_estimated)\n",
    "\n",
    "            if any(isnan, gi)\n",
    "                @show x_estimated\n",
    "                error(\"NaN in gradient\")\n",
    "            end\n",
    "\n",
    "            # Descend the gradient\n",
    "            x_estimated -= 0.002 * gi\n",
    "            \n",
    "            # TODO: generalize this\n",
    "            x_estimated[1:4] = x_estimated[1:4] / norm(x_estimated[1:4])\n",
    "        end\n",
    "        push!(trials, DataFrame(x=xs))\n",
    "    end\n",
    "end"
   ]
  },
  {
   "cell_type": "code",
   "execution_count": 429,
   "metadata": {
    "collapsed": false
   },
   "outputs": [
    {
     "data": {
      "text/plain": [
       "DrakeVisualizer.Visualizer(DrakeVisualizer.Robot([DrakeVisualizer.Link(DrakeVisualizer.GeometryData[DrakeVisualizer.GeometryData{Float64,GeometryTypes.HomogenousMesh{FixedSizeArrays.Point{3,Float64},GeometryTypes.Face{3,Int64,0},Void,Void,Void,Void,Void}}(HomogenousMesh(\n",
       "    vertices: 5540xFixedSizeArrays.Point{3,Float64},     faces: 11076xGeometryTypes.Face{3,Int64,0}, )\n",
       ",AffineTransforms.AffineTransform{Float64,3}:\n",
       "matrix: 3x3 Array{Float64,2}:\n",
       " 1.0  0.0  0.0\n",
       " 0.0  1.0  0.0\n",
       " 0.0  0.0  1.0\n",
       "translation: [0.0,0.0,0.0]\n",
       ",RGBA{Float64}(1.0,0.0,0.0,0.5))],\"skin\")]),1,PyLCM.LCM(PyObject <LCM object at 0x7effc0a557b0>))"
      ]
     },
     "execution_count": 429,
     "metadata": {},
     "output_type": "execute_result"
    }
   ],
   "source": [
    "test_gradient_descent()\n",
    "state = unflatten(model, Arms.ModelState(model), trials[1][:x][end])\n",
    "draw(model, state)"
   ]
  },
  {
   "cell_type": "code",
   "execution_count": null,
   "metadata": {
    "collapsed": true
   },
   "outputs": [],
   "source": []
  }
 ],
 "metadata": {
  "kernelspec": {
   "display_name": "Julia 0.4.5",
   "language": "julia",
   "name": "julia-0.4"
  },
  "language_info": {
   "file_extension": ".jl",
   "mimetype": "application/julia",
   "name": "julia",
   "version": "0.4.5"
  }
 },
 "nbformat": 4,
 "nbformat_minor": 0
}
