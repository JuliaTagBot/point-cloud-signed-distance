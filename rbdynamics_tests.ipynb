{
 "cells": [
  {
   "cell_type": "code",
   "execution_count": 21,
   "metadata": {
    "collapsed": false
   },
   "outputs": [],
   "source": [
    "using RigidBodyTreeInspector\n",
    "using DrakeVisualizer\n",
    "using GeometryTypes\n",
    "using Interact"
   ]
  },
  {
   "cell_type": "code",
   "execution_count": 15,
   "metadata": {
    "collapsed": false
   },
   "outputs": [
    {
     "name": "stderr",
     "output_type": "stream",
     "text": [
      "WARNING: replacing module Arms\n",
      "WARNING: Method definition convert(Type{AffineTransforms.AffineTransform}, RigidBodyDynamics.Transform3D) in module Arms at /home/rdeits/locomotion/explorations/point-cloud-signed-distance/arms.jl:15 overwritten in module Arms at /home/rdeits/locomotion/explorations/point-cloud-signed-distance/arms.jl:15.\n",
      "WARNING: Method definition value(Real) in module Arms at /home/rdeits/locomotion/explorations/point-cloud-signed-distance/arms.jl:17 overwritten in module Arms at /home/rdeits/locomotion/explorations/point-cloud-signed-distance/arms.jl:17.\n"
     ]
    },
    {
     "data": {
      "text/plain": [
       "Arms"
      ]
     },
     "execution_count": 15,
     "metadata": {},
     "output_type": "execute_result"
    }
   ],
   "source": [
    "include(\"arms.jl\")"
   ]
  },
  {
   "cell_type": "code",
   "execution_count": 16,
   "metadata": {
    "collapsed": false
   },
   "outputs": [
    {
     "data": {
      "text/plain": [
       "Arms.Model(Vertex: world (root)\n",
       "  Vertex: body1, Edge: joint1\n",
       "    Vertex: body2, Edge: joint2,DataStructures.OrderedDict{RigidBodyDynamics.RigidBody{T<:Real},Arms.Limb}(RigidBody: \"body1\"=>Arms.Limb(RigidBodyDynamics.Point3D[Point3D in \"body1\": Vec(0.1,-0.1,-0.1),Point3D in \"body1\": Vec(0.1,-0.1,0.1),Point3D in \"body1\": Vec(0.1,0.1,-0.1),Point3D in \"body1\": Vec(0.1,0.1,0.1),Point3D in \"body1\": Vec(0.5,-0.1,-0.1),Point3D in \"body1\": Vec(0.5,-0.1,0.1),Point3D in \"body1\": Vec(0.5,0.1,-0.1),Point3D in \"body1\": Vec(0.5,0.1,0.1),Point3D in \"body1\": Vec(0.9,-0.1,-0.1),Point3D in \"body1\": Vec(0.9,-0.1,0.1),Point3D in \"body1\": Vec(0.9,0.1,-0.1),Point3D in \"body1\": Vec(0.9,0.1,0.1),Point3D in \"body1\": Vec(0.0,0.0,0.0)],RigidBodyDynamics.Point3D[Point3D in \"body1\": Vec(0.2,0.0,0.0),Point3D in \"body1\": Vec(0.5,0.0,0.0),Point3D in \"body1\": Vec(0.8,0.0,0.0)]),RigidBody: \"body2\"=>Arms.Limb(RigidBodyDynamics.Point3D[Point3D in \"body2\": Vec(0.1,-0.1,-0.1),Point3D in \"body2\": Vec(0.1,-0.1,0.1),Point3D in \"body2\": Vec(0.1,0.1,-0.1),Point3D in \"body2\": Vec(0.1,0.1,0.1),Point3D in \"body2\": Vec(0.5,-0.1,-0.1),Point3D in \"body2\": Vec(0.5,-0.1,0.1),Point3D in \"body2\": Vec(0.5,0.1,-0.1),Point3D in \"body2\": Vec(0.5,0.1,0.1),Point3D in \"body2\": Vec(0.9,-0.1,-0.1),Point3D in \"body2\": Vec(0.9,-0.1,0.1),Point3D in \"body2\": Vec(0.9,0.1,-0.1),Point3D in \"body2\": Vec(0.9,0.1,0.1),Point3D in \"body2\": Vec(1.0,0.0,0.0)],RigidBodyDynamics.Point3D[Point3D in \"body2\": Vec(0.2,0.0,0.0),Point3D in \"body2\": Vec(0.5,0.0,0.0),Point3D in \"body2\": Vec(0.8,0.0,0.0)])))"
      ]
     },
     "execution_count": 16,
     "metadata": {},
     "output_type": "execute_result"
    }
   ],
   "source": [
    "arm = Arms.two_link_arm()"
   ]
  },
  {
   "cell_type": "code",
   "execution_count": 19,
   "metadata": {
    "collapsed": false
   },
   "outputs": [
    {
     "data": {
      "text/html": [],
      "text/plain": [
       "Interact.Slider{Float64}(Signal{Float64}(-0.06411413578754688, nactions=0),\"joint1.1\",-0.06411413578754688,linspace(-3.141592653589793,3.141592653589793,50),true)"
      ]
     },
     "metadata": {},
     "output_type": "display_data"
    },
    {
     "data": {
      "text/html": [],
      "text/plain": [
       "Interact.Slider{Float64}(Signal{Float64}(-0.06411413578754688, nactions=0),\"joint2.1\",-0.06411413578754688,linspace(-3.141592653589793,3.141592653589793,50),true)"
      ]
     },
     "metadata": {},
     "output_type": "display_data"
    },
    {
     "data": {
      "text/plain": [
       "nothing"
      ]
     },
     "execution_count": 19,
     "metadata": {
      "comm_id": "ea436c5e-fde9-40bf-9681-72b0a157a911",
      "reactive": true
     },
     "output_type": "execute_result"
    }
   ],
   "source": [
    "inspect(arm.mechanism)"
   ]
  },
  {
   "cell_type": "code",
   "execution_count": 17,
   "metadata": {
    "collapsed": false
   },
   "outputs": [],
   "source": [
    "arm_state = Arms.ModelState(arm);"
   ]
  },
  {
   "cell_type": "code",
   "execution_count": 18,
   "metadata": {
    "collapsed": false
   },
   "outputs": [],
   "source": [
    "draw(arm, arm_state);"
   ]
  },
  {
   "cell_type": "code",
   "execution_count": 25,
   "metadata": {
    "collapsed": false
   },
   "outputs": [
    {
     "data": {
      "text/html": [],
      "text/plain": [
       "Interact.Slider{Float64}(Signal{Float64}(0.0, nactions=0),\"q1\",0.0,linspace(-3.141592653589793,3.141592653589793,51),true)"
      ]
     },
     "metadata": {},
     "output_type": "display_data"
    },
    {
     "data": {
      "text/html": [],
      "text/plain": [
       "Interact.Slider{Float64}(Signal{Float64}(0.0, nactions=0),\"q2\",0.0,linspace(-3.141592653589793,3.141592653589793,51),true)"
      ]
     },
     "metadata": {},
     "output_type": "display_data"
    },
    {
     "data": {
      "text/html": [],
      "text/plain": [
       "Interact.Slider{Float64}(Signal{Float64}(0.0, nactions=0),\"dx\",0.0,linspace(-0.2,0.2,51),true)"
      ]
     },
     "metadata": {},
     "output_type": "display_data"
    },
    {
     "data": {
      "text/plain": [
       "nothing"
      ]
     },
     "execution_count": 25,
     "metadata": {
      "comm_id": "0a41e2f5-bd96-4031-83b4-e9f750031e9b",
      "reactive": true
     },
     "output_type": "execute_result"
    }
   ],
   "source": [
    "@manipulate for q1 in linspace(-pi,pi, 51), q2 in linspace(-pi, pi, 51), dx in linspace(-0.2, 0.2, 51)\n",
    "    joint_angles = [q1; q2]\n",
    "    deformations = Vector{Vec{3, Float64}}[Vec{3, Float64}[[dx, 0.0, 0.0] for pt in limb.surface_points] for (body, limb) in arm.limbs]\n",
    "    state = Arms.ModelState(arm, joint_angles, deformations)\n",
    "    draw(arm, state)\n",
    "#     draw(vis, Arms.link_origins(arm, [q1; q2]))\n",
    "#     surface = Arms.skin(arm, [q1; q2])\n",
    "#     Visualizer(DrakeVisualizer.GeometryData(convert(GeometryTypes.HomogenousMesh, surface)))\n",
    "end"
   ]
  },
  {
   "cell_type": "code",
   "execution_count": null,
   "metadata": {
    "collapsed": true
   },
   "outputs": [],
   "source": []
  }
 ],
 "metadata": {
  "kernelspec": {
   "display_name": "Julia 0.4.5",
   "language": "julia",
   "name": "julia-0.4"
  },
  "language_info": {
   "file_extension": ".jl",
   "mimetype": "application/julia",
   "name": "julia",
   "version": "0.4.5"
  }
 },
 "nbformat": 4,
 "nbformat_minor": 0
}
