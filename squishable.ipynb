{
 "cells": [
  {
   "cell_type": "code",
   "execution_count": 2,
   "metadata": {
    "collapsed": true
   },
   "outputs": [],
   "source": [
    "using LCMGL\n",
    "using StaticArrays\n",
    "import DataStructures: OrderedDict\n",
    "using RigidBodyDynamics\n",
    "using ForwardDiff\n",
    "using Rotations\n",
    "using DataFrames, DataArrays\n",
    "using MathProgBase\n",
    "using Ipopt"
   ]
  },
  {
   "cell_type": "code",
   "execution_count": 3,
   "metadata": {
    "collapsed": false
   },
   "outputs": [
    {
     "data": {
      "text/plain": [
       "GradientDescent"
      ]
     },
     "execution_count": 3,
     "metadata": {},
     "output_type": "execute_result"
    }
   ],
   "source": [
    "include(\"arms.jl\")\n",
    "include(\"depth_sensors.jl\")\n",
    "include(\"depthdata.jl\")\n",
    "include(\"gradientdescent.jl\")\n",
    "gd = GradientDescent"
   ]
  },
  {
   "cell_type": "code",
   "execution_count": 4,
   "metadata": {
    "collapsed": false
   },
   "outputs": [
    {
     "data": {
      "text/plain": [
       "PointCloud with origin: [1.37689,0.775602,1.4848] containing 25164 points"
      ]
     },
     "execution_count": 4,
     "metadata": {},
     "output_type": "execute_result"
    }
   ],
   "source": [
    "squished = DepthData.read_point_cloud(open(\"data/squishable_squished_xyzrgb.txt\"))"
   ]
  },
  {
   "cell_type": "code",
   "execution_count": 5,
   "metadata": {
    "collapsed": true
   },
   "outputs": [],
   "source": [
    "DepthData.render_lcmgl(squished)"
   ]
  },
  {
   "cell_type": "code",
   "execution_count": 6,
   "metadata": {
    "collapsed": false
   },
   "outputs": [
    {
     "data": {
      "text/plain": [
       "PointCloud with origin: [1.38246,0.768824,1.48581] containing 25571 points"
      ]
     },
     "execution_count": 6,
     "metadata": {},
     "output_type": "execute_result"
    }
   ],
   "source": [
    "unsquished = DepthData.read_point_cloud(open(\"data/squishable_unsquished_xyzrgb.txt\"))"
   ]
  },
  {
   "cell_type": "code",
   "execution_count": 7,
   "metadata": {
    "collapsed": false
   },
   "outputs": [],
   "source": [
    "DepthData.render_lcmgl(unsquished)"
   ]
  },
  {
   "cell_type": "code",
   "execution_count": 8,
   "metadata": {
    "collapsed": false
   },
   "outputs": [
    {
     "data": {
      "text/plain": [
       "squishable (generic function with 1 method)"
      ]
     },
     "execution_count": 8,
     "metadata": {},
     "output_type": "execute_result"
    }
   ],
   "source": [
    "function squishable()\n",
    "    limbs = OrderedDict{RigidBody, Arms.Limb}()\n",
    "    \n",
    "    mechanism = Mechanism(RigidBody{Float64}(\"world\"))\n",
    "    parent = root_body(mechanism)\n",
    "    \n",
    "    joint = Joint(\"joint1\", QuaternionFloating())\n",
    "    joint_to_parent = Transform3D(Float64, joint.frameBefore, parent.frame)\n",
    "    body = RigidBody(rand(SpatialInertia{Float64}, CartesianFrame3D(\"body1\")))\n",
    "    body_to_joint = Transform3D(Float64, body.frame, joint.frameAfter)\n",
    "    attach!(mechanism, parent, joint, joint_to_parent, body, body_to_joint)\n",
    "    \n",
    "    surface_points = Vector{Point3D}()\n",
    "    skeleton_points = [Point3D(body.frame, @SVector [0, 0, 0])]\n",
    "    radii = @SVector [0.44/2, 0.40/2, 0.30/2]\n",
    "    for axis = 1:3\n",
    "        for i_sign = [-1, 1]\n",
    "            for j_sign = [-1, 1]\n",
    "                for theta = [pi/4]\n",
    "                    v = [0., 0, 0]\n",
    "                    v[axis] = 1\n",
    "                    x = [0., 0, 0]\n",
    "                    i = mod(axis, 3) + 1\n",
    "                    j = mod(i, 3) + 1\n",
    "                    a = radii[i] * 1.25\n",
    "                    b = radii[j] * 1.25\n",
    "                    x[i] = i_sign * sqrt(a^2 * b^2 / (a^2 * tan(theta)^2 + b^2))\n",
    "                    x[j] = j_sign * sqrt(b^2 * (1 - b^2 / (a^2 * tan(theta)^2 + b^2)))\n",
    "                    point = SVector(x...)\n",
    "                    push!(surface_points, Point3D(body.frame, point))\n",
    "                end\n",
    "            end\n",
    "        end\n",
    "    end\n",
    "    limbs[body] = Arms.Limb(surface_points, skeleton_points)\n",
    "    @show surface_points\n",
    "    Arms.Model(mechanism, limbs)\n",
    "end"
   ]
  },
  {
   "cell_type": "code",
   "execution_count": 9,
   "metadata": {
    "collapsed": false
   },
   "outputs": [
    {
     "name": "stdout",
     "output_type": "stream",
     "text": [
      "surface_points = RigidBodyDynamics.Point3D[Point3D in \"body1\": [0.0,-0.15,-0.15],Point3D in \"body1\": [0.0,-0.15,0.15],Point3D in \"body1\": [0.0,0.15,-0.15],Point3D in \"body1\": [0.0,0.15,0.15],Point3D in \"body1\": [-0.154918,0.0,-0.154918],Point3D in \"body1\": [0.154918,0.0,-0.154918],Point3D in \"body1\": [-0.154918,0.0,0.154918],Point3D in \"body1\": [0.154918,0.0,0.154918],Point3D in \"body1\": [-0.184985,-0.184985,0.0],Point3D in \"body1\": [-0.184985,0.184985,0.0],Point3D in \"body1\": [0.184985,-0.184985,0.0],Point3D in \"body1\": [0.184985,0.184985,0.0]]\n"
     ]
    },
    {
     "data": {
      "text/plain": [
       "DrakeVisualizer.Visualizer(DrakeVisualizer.Robot(DrakeVisualizer.Link[DrakeVisualizer.Link(DrakeVisualizer.GeometryData[DrakeVisualizer.GeometryData{CoordinateTransformations.IdentityTransformation,GeometryTypes.HomogenousMesh{FixedSizeArrays.Point{3,Float64},GeometryTypes.Face{3,Int64,0},Void,Void,Void,Void,Void}}(HomogenousMesh(\n",
       "    vertices: 2268xFixedSizeArrays.Point{3,Float64},     faces: 4532xGeometryTypes.Face{3,Int64,0}, )\n",
       ",CoordinateTransformations.IdentityTransformation(),RGBA{Float64}(1.0,0.0,0.0,0.5))],\"skin\")]),1,PyLCM.LCM(PyObject <LCM object at 0x7fe53410a2d0>))"
      ]
     },
     "execution_count": 9,
     "metadata": {},
     "output_type": "execute_result"
    }
   ],
   "source": [
    "model = squishable()\n",
    "state = Arms.ModelState(model)\n",
    "Arms.draw(model, state)"
   ]
  },
  {
   "cell_type": "code",
   "execution_count": 10,
   "metadata": {
    "collapsed": false
   },
   "outputs": [
    {
     "data": {
      "text/plain": [
       "unflatten (generic function with 1 method)"
      ]
     },
     "execution_count": 10,
     "metadata": {},
     "output_type": "execute_result"
    }
   ],
   "source": [
    "\n",
    "function flatten(state::Arms.ModelState)\n",
    "    data = configuration_vector(state.mechanism_state)\n",
    "    for limb_deformation in state.limb_deformations\n",
    "        for d in limb_deformation\n",
    "            for x in d.v\n",
    "                push!(data, x)\n",
    "            end\n",
    "        end\n",
    "    end\n",
    "    data\n",
    "end\n",
    "\n",
    "function unflatten(model::Arms.Model, state::Arms.ModelState, data)\n",
    "    nq = num_positions(state.mechanism_state)\n",
    "    set_configuration!(state.mechanism_state, data[1:nq])\n",
    "    \n",
    "    data_index = nq + 1;\n",
    "    for (i, (body, limb)) in enumerate(model.limbs)\n",
    "        limb_deformation = state.limb_deformations[i]\n",
    "        for (j, deformation) in enumerate(limb_deformation)\n",
    "            state.limb_deformations[i][j] = RigidBodyDynamics.FreeVector3D(body.frame, @SVector [data[data_index + i] for i in 0:2])\n",
    "            data_index += 3\n",
    "        end\n",
    "    end\n",
    "    @assert data_index == length(data) + 1\n",
    "    state\n",
    "end"
   ]
  },
  {
   "cell_type": "code",
   "execution_count": 11,
   "metadata": {
    "collapsed": false
   },
   "outputs": [
    {
     "data": {
      "text/plain": [
       "test_gradient_descent (generic function with 1 method)"
      ]
     },
     "execution_count": 11,
     "metadata": {},
     "output_type": "execute_result"
    }
   ],
   "source": [
    "point_cloud = unsquished\n",
    "DepthData.render_lcmgl(point_cloud)\n",
    "sensed_points = [p.position for p in point_cloud.points]\n",
    "\n",
    "x_ad = []\n",
    "state_ad = []\n",
    "\n",
    "cost = x -> begin\n",
    "    push!(x_ad, x)\n",
    "    state = Arms.ModelState(model, eltype(x), eltype(x))\n",
    "    unflatten(model, state, x)\n",
    "    push!(state_ad, state)\n",
    "    Arms.draw(model, state, false)\n",
    "    skin = Arms.skin(model, state)\n",
    "    raycast_cost = sum(point -> skin(point)^2, sensed_points)\n",
    "    deformation_cost = zero(eltype(x))\n",
    "    for ld in state.limb_deformations\n",
    "        for d in ld\n",
    "            deformation_cost += sum(d.v .^2)\n",
    "        end\n",
    "    end\n",
    "    return raycast_cost / length(sensed_points) + 100*deformation_cost\n",
    "end\n",
    "\n",
    "# Use autodiff to prepare a function that will evaluate the gradient\n",
    "# of that cost:\n",
    "cost_and_gradient = x -> begin\n",
    "    out = GradientResult(x)\n",
    "    ForwardDiff.gradient!(out, cost, x)\n",
    "    ForwardDiff.value(out), ForwardDiff.gradient(out)\n",
    "end\n",
    "\n",
    "trials = []\n",
    "\n",
    "\n",
    "function test_gradient_descent()\n",
    "    for i = 1:1\n",
    "        xs = []\n",
    "\n",
    "        # We'll initialize our estimate with a uniformly random pair\n",
    "        # of joint angles\n",
    "        x_estimated = flatten(Arms.ModelState(model))\n",
    "        x_estimated[5:7] = [.5, 0, .5]\n",
    "\n",
    "        # Now we use gradient descent to recover the joint angles\n",
    "        for i = 1:50\n",
    "            push!(xs, x_estimated)\n",
    "\n",
    "            # Evaluate the gradient of the point values w.r.t. the\n",
    "            # joint angles:\n",
    "            ci, gi = cost_and_gradient(x_estimated)\n",
    "\n",
    "            if any(isnan, gi)\n",
    "                @show x_estimated\n",
    "                error(\"NaN in gradient\")\n",
    "            end\n",
    "            \n",
    "            # Descend the gradient\n",
    "            step = -ci ./ gi\n",
    "            step[1:7] = sign(step[1:7]) .* min.(0.01, abs.(gi[1:7]))\n",
    "            step[8:end] = sign(step[8:end]) .* min.(1e-5, abs.(gi[8:end]))\n",
    "            x_estimated += step\n",
    "\n",
    "            # Descend the gradient\n",
    "#             x_estimated -= 0.0000002 * gi\n",
    "            \n",
    "            # TODO: generalize this\n",
    "            x_estimated[1:4] = x_estimated[1:4] / norm(x_estimated[1:4])\n",
    "        end\n",
    "        push!(trials, DataFrame(x=xs))\n",
    "    end\n",
    "end"
   ]
  },
  {
   "cell_type": "code",
   "execution_count": 12,
   "metadata": {
    "collapsed": false
   },
   "outputs": [
    {
     "data": {
      "text/plain": [
       "DrakeVisualizer.Visualizer(DrakeVisualizer.Robot(DrakeVisualizer.Link[DrakeVisualizer.Link(DrakeVisualizer.GeometryData[DrakeVisualizer.GeometryData{CoordinateTransformations.IdentityTransformation,GeometryTypes.HomogenousMesh{FixedSizeArrays.Point{3,Float64},GeometryTypes.Face{3,Int64,0},Void,Void,Void,Void,Void}}(HomogenousMesh(\n",
       "    vertices: 1738xFixedSizeArrays.Point{3,Float64},     faces: 3472xGeometryTypes.Face{3,Int64,0}, )\n",
       ",CoordinateTransformations.IdentityTransformation(),RGBA{Float64}(1.0,0.0,0.0,0.5))],\"skin\")]),1,PyLCM.LCM(PyObject <LCM object at 0x7fe53410a300>))"
      ]
     },
     "execution_count": 12,
     "metadata": {},
     "output_type": "execute_result"
    }
   ],
   "source": [
    "test_gradient_descent()\n",
    "state = unflatten(model, Arms.ModelState(model), trials[1][:x][end])\n",
    "Arms.draw(model, state)"
   ]
  },
  {
   "cell_type": "code",
   "execution_count": 15,
   "metadata": {
    "collapsed": true
   },
   "outputs": [],
   "source": [
    "x0 = flatten(Arms.ModelState(model))\n",
    "num_vars = length(x0)\n",
    "problem = gd.UnconstrainedOptimization(cost)\n",
    "\n",
    "solver = IpoptSolver(print_level=1, max_iter=50)\n",
    "# solver = NLoptSolver(algorithm=:LD_MMA)\n",
    "m = MathProgBase.NonlinearModel(solver)\n",
    "MathProgBase.loadproblem!(m, num_vars, 0, [-Inf for i in 1:num_vars], [Inf for i in 1:num_vars], Float64[], Float64[], :Min, problem)\n",
    "MathProgBase.setwarmstart!(m, x0);"
   ]
  },
  {
   "cell_type": "code",
   "execution_count": 16,
   "metadata": {
    "collapsed": false
   },
   "outputs": [
    {
     "data": {
      "text/plain": [
       "DrakeVisualizer.Visualizer(DrakeVisualizer.Robot(DrakeVisualizer.Link[DrakeVisualizer.Link(DrakeVisualizer.GeometryData[DrakeVisualizer.GeometryData{CoordinateTransformations.IdentityTransformation,GeometryTypes.HomogenousMesh{FixedSizeArrays.Point{3,Float64},GeometryTypes.Face{3,Int64,0},Void,Void,Void,Void,Void}}(HomogenousMesh(\n",
       "    vertices: 1600xFixedSizeArrays.Point{3,Float64},     faces: 3196xGeometryTypes.Face{3,Int64,0}, )\n",
       ",CoordinateTransformations.IdentityTransformation(),RGBA{Float64}(1.0,0.0,0.0,0.5))],\"skin\")]),1,PyLCM.LCM(PyObject <LCM object at 0x7fe53410a450>))"
      ]
     },
     "execution_count": 16,
     "metadata": {},
     "output_type": "execute_result"
    }
   ],
   "source": [
    "MathProgBase.optimize!(m)\n",
    "x = MathProgBase.getsolution(m)\n",
    "state = unflatten(model, Arms.ModelState(model), x)\n",
    "Arms.draw(model, state)"
   ]
  },
  {
   "cell_type": "code",
   "execution_count": null,
   "metadata": {
    "collapsed": true
   },
   "outputs": [],
   "source": []
  }
 ],
 "metadata": {
  "kernelspec": {
   "display_name": "Julia 0.5.0",
   "language": "julia",
   "name": "julia-0.5"
  },
  "language_info": {
   "file_extension": ".jl",
   "mimetype": "application/julia",
   "name": "julia",
   "version": "0.5.0"
  }
 },
 "nbformat": 4,
 "nbformat_minor": 1
}
